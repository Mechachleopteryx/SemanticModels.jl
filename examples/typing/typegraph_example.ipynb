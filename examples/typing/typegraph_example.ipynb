{
 "cells": [
  {
   "cell_type": "code",
   "execution_count": 4,
   "metadata": {
    "lines_to_next_cell": 2
   },
   "outputs": [],
   "source": [
    "using SemanticModels.ModelTools"
   ]
  },
  {
   "cell_type": "code",
   "execution_count": 5,
   "metadata": {},
   "outputs": [
    {
     "data": {
      "text/plain": [
       "@typegraph (macro with 1 method)"
      ]
     },
     "execution_count": 5,
     "metadata": {},
     "output_type": "execute_result"
    }
   ],
   "source": [
    "include(\"../../src/modeltools/typegraph.jl\")"
   ]
  },
  {
   "cell_type": "code",
   "execution_count": 6,
   "metadata": {},
   "outputs": [
    {
     "name": "stdout",
     "output_type": "stream",
     "text": [
      "newsam.agents = Symbol[:I, :S, :I, :R, :S, :R, :I, :I, :I, :R, :I, :R, :S, :I, :I, :I, :S, :S, :R, :I]\n"
     ]
    },
    {
     "data": {
      "text/plain": [
       "376-element Array{Any,1}:\n",
       " Edge{String,Array{DataType,1},DataType}(\"count\", DataType[StateModel, Symbol], Int64)                                \n",
       " Edge{String,Array{DataType,1},DataType}(\"count\", DataType[StateModel], Int64)                                        \n",
       " Edge{String,Array{DataType,1},DataType}(\"stateload\", DataType[StateModel, Symbol], Float64)                          \n",
       " Edge{String,Array{DataType,1},DataType}(\"count\", DataType[StateModel, Symbol], Int64)                                \n",
       " Edge{String,Array{DataType,1},DataType}(\"count\", DataType[StateModel], Int64)                                        \n",
       " Edge{String,Array{DataType,1},DataType}(\"stateload\", DataType[StateModel, Symbol], Float64)                          \n",
       " Edge{String,Array{DataType,1},DataType}(\"count\", DataType[StateModel, Symbol], Int64)                                \n",
       " Edge{String,Array{DataType,1},DataType}(\"count\", DataType[StateModel], Int64)                                        \n",
       " Edge{String,Array{DataType,1},DataType}(\"stateload\", DataType[StateModel, Symbol], Float64)                          \n",
       " Edge{String,Array{DataType,1},DataType}(\"count\", DataType[StateModel, Symbol], Int64)                                \n",
       " Edge{String,Array{DataType,1},DataType}(\"count\", DataType[StateModel], Int64)                                        \n",
       " Edge{String,Array{DataType,1},DataType}(\"stateload\", DataType[StateModel, Symbol], Float64)                          \n",
       " Edge{String,Array{DataType,1},DataType}(\"count\", DataType[StateModel, Symbol], Int64)                                \n",
       " ⋮                                                                                                                    \n",
       " Edge{String,Array{DataType,1},DataType}(\"count\", DataType[StateModel], Int64)                                        \n",
       " Edge{String,Array{DataType,1},DataType}(\"stateload\", DataType[StateModel, Symbol], Float64)                          \n",
       " Edge{String,Array{DataType,1},DataType}(\"count\", DataType[StateModel, Symbol], Int64)                                \n",
       " Edge{String,Array{DataType,1},DataType}(\"count\", DataType[StateModel], Int64)                                        \n",
       " Edge{String,Array{DataType,1},DataType}(\"stateload\", DataType[StateModel, Symbol], Float64)                          \n",
       " Edge{String,Array{DataType,1},DataType}(\"count\", DataType[StateModel, Symbol], Int64)                                \n",
       " Edge{String,Array{DataType,1},DataType}(\"count\", DataType[StateModel], Int64)                                        \n",
       " Edge{String,Array{DataType,1},DataType}(\"stateload\", DataType[StateModel, Symbol], Float64)                          \n",
       " Edge{String,Array{DataType,1},DataType}(\"describe\", DataType[StateModel], Array{Pair{Symbol,Int64},1})               \n",
       " Edge{String,Array{DataType,1},DataType}(\"tick!\", DataType[StateModel], StateModel)                                   \n",
       " Edge{String,Array{DataType,1},DataType}(\"describe\", DataType[StateModel], Array{Pair{Symbol,Int64},1})               \n",
       " Edge{String,Array{DataType,1},DataType}(\"tick!\", DataType[StateModel], Tuple{StateModel,Array{Pair{Symbol,Int64},1}})"
      ]
     },
     "execution_count": 6,
     "metadata": {},
     "output_type": "execute_result"
    }
   ],
   "source": [
    "edgelist = @typegraph begin\n",
    "    import Base: count\n",
    "\n",
    "    \"\"\"    AgentModel\n",
    "\n",
    "    the root type for agent based models.\n",
    "\n",
    "    See also: StateModel\n",
    "    \"\"\"\n",
    "    abstract type AgentModel end\n",
    "\n",
    "    \"\"\"     StateModel\n",
    "\n",
    "    holds the components of an agent based simulation using finite state machines.\n",
    "\n",
    "    - states: a collection of distinct states an agent can occupy\n",
    "    - agents: a collection of states `aᵢ = agents[i] ∈ states` indicating that agent `i` is in state `aᵢ`\n",
    "    - transitions: the functions `f: states -> states`\n",
    "    \"\"\"\n",
    "    mutable struct StateModel <: AgentModel\n",
    "        states\n",
    "        agents\n",
    "        transitions\n",
    "        loads\n",
    "    end\n",
    "\n",
    "    # +\n",
    "    # Determine number of agents in a given state\n",
    "    function count(sm::StateModel, state)\n",
    "        return length(filter(a->(a==state), sm.agents))\n",
    "    end\n",
    "\n",
    "    # counts the number of agents\n",
    "    function count(sm::StateModel)\n",
    "        return length(sm.agents)\n",
    "    end\n",
    "    # -\n",
    "\n",
    "    # stateload computes the fraction of agents in each state\n",
    "    # it is used by tick! to update the statemodel for computing the probability of infection.\n",
    "    function stateload(sm::StateModel, state::Symbol)\n",
    "        return (count(sm, state)+1)/(count(sm)+1)\n",
    "    end\n",
    "\n",
    "    #     tick!(sm::StateModel)\n",
    "    #\n",
    "    # performs the operations that need to happen once per time step. Things like caching values that need to be computed at the beginning of the timestep like the distribution of the agents' states.\n",
    "\n",
    "    function tick!(sm::StateModel)\n",
    "        sm.loads = map(s->stateload(sm, s), sm.states)\n",
    "    end\n",
    "\n",
    "    #     step!(sm::StateModel, n=1)\n",
    "    #\n",
    "    # advance the simulation by `n` ticks of time.\n",
    "    # This is an in-place operation that modifies the current state of the simulation.\n",
    "    #\n",
    "\n",
    "    function step!(sm::StateModel, n)\n",
    "        for s in 1:n\n",
    "          tick!(sm)\n",
    "          for (i, a) in enumerate(sm.agents)\n",
    "              sm.agents[i] = sm.transitions[a](sm, i,a)\n",
    "          end\n",
    "            describe(sm)\n",
    "        end\n",
    "        return sm\n",
    "    end\n",
    "\n",
    "    \"\"\"    describe(sm::StateModel)\n",
    "\n",
    "    summarize the state of the simulation for presentation or analysis.\n",
    "    \"\"\"\n",
    "    function describe(sm::StateModel)\n",
    "        counts = zeros(Int, size(sm.states))\n",
    "        d = Dict{eltype(sm.states), Int}()\n",
    "        for (i,s) in enumerate(sm.states)\n",
    "            d[s] = i\n",
    "        end\n",
    "        for a in sm.agents\n",
    "            i = d[a]\n",
    "            counts[i] += 1\n",
    "        end\n",
    "        return collect(map(x->Pair(x...), zip(sm.states, counts)))\n",
    "    end\n",
    "\n",
    "\n",
    "\n",
    "    # ## Run the model\n",
    "    #\n",
    "    # This script defines a basic agent based model of disease spread called SIRS. Each agent is in one of 3 states\n",
    "    #\n",
    "    # 1. $S$ Susceptible\n",
    "    # 2. $I$ Infected\n",
    "    # 3. $R$ Recovered\n",
    "    #\n",
    "    # <img src=\"https://docs.google.com/drawings/d/e/2PACX-1vSeA7mAQ-795lLVxCWXzbkFQaFOHMpwtB121psFV_2cSUyXPyKMtvDjssia82JvQRXS08p6FAMr1hj1/pub?w=1031&amp;h=309\">\n",
    "    #\n",
    "    # The agents go from `S->I`, `I-R`, and `R->S` based on random numbers. The probability of S-> is dependent on the fraction of agents in state :I. The probability of recovering is a constant ρ, and the disease confers some temporary immunity with probability μ.\n",
    "    #\n",
    "    # This script has an entrypoint to call it so that you can include this file and run as many simulations as you want. The intended use case is to repeatedly call `main` and accumulate the return values into an array for later analysis.\n",
    "\n",
    "    function main(nsteps)\n",
    "        n = 20\n",
    "        a = fill(:S, n)\n",
    "        ρ = 0.5 + randn(Float64)/4 # chance of recovery\n",
    "        μ = 0.5 # chance of immunity\n",
    "        T = Dict(\n",
    "            :S=>(x...)->rand(Float64) < stateload(x[1], :I) ? :I : :S,\n",
    "            :I=>(x...)->rand(Float64) < ρ ? :I : :R,\n",
    "            :R=>(x...)->rand(Float64) < μ ? :R : :S,\n",
    "        )\n",
    "\n",
    "\n",
    "        sam = StateModel([:S, :I, :R], a, T, zeros(Float64,3))\n",
    "        newsam = step!(deepcopy(sam), nsteps)\n",
    "        @show newsam.agents\n",
    "        counts = describe(newsam)\n",
    "        return newsam, counts\n",
    "    end\n",
    "\n",
    "    # +\n",
    "    # # An example of how to run this thing.\n",
    "    main(10)\n",
    "    # -\n",
    "\n",
    "    end"
   ]
  },
  {
   "cell_type": "code",
   "execution_count": 7,
   "metadata": {},
   "outputs": [
    {
     "data": {
      "text/plain": [
       "6-element Array{Tuple{String,Array{DataType,1},DataType},1}:\n",
       " (\"count\", [StateModel, Symbol], Int64)                                \n",
       " (\"count\", [StateModel], Int64)                                        \n",
       " (\"stateload\", [StateModel, Symbol], Float64)                          \n",
       " (\"describe\", [StateModel], Array{Pair{Symbol,Int64},1})               \n",
       " (\"tick!\", [StateModel], StateModel)                                   \n",
       " (\"tick!\", [StateModel], Tuple{StateModel,Array{Pair{Symbol,Int64},1}})"
      ]
     },
     "execution_count": 7,
     "metadata": {},
     "output_type": "execute_result"
    }
   ],
   "source": [
    "E = unique((f.func, f.args, f.ret) for f in edgelist)"
   ]
  },
  {
   "cell_type": "code",
   "execution_count": 9,
   "metadata": {},
   "outputs": [],
   "source": [
    "using MetaGraphs;\n",
    "using LightGraphs;"
   ]
  },
  {
   "cell_type": "code",
   "execution_count": 10,
   "metadata": {},
   "outputs": [],
   "source": [
    "g = MetaDiGraph();\n",
    "set_indexing_prop!(g,:label);"
   ]
  },
  {
   "cell_type": "code",
   "execution_count": 11,
   "metadata": {},
   "outputs": [],
   "source": [
    "for e in E\n",
    "    try\n",
    "        add_vertex!(g,:label,e[2]) # add ags\n",
    "    catch\n",
    "        nothing\n",
    "    end\n",
    "    \n",
    "    try\n",
    "        add_vertex!(g,:label,e[3]) # add rets\n",
    "    catch\n",
    "        nothing\n",
    "    end\n",
    "    \n",
    "    try\n",
    "        add_edge!(g,g[e[2],:label],g[e[3],:label],:label,e[1]) # add func edges\n",
    "    catch\n",
    "        nothing\n",
    "    end\n",
    "end"
   ]
  },
  {
   "cell_type": "code",
   "execution_count": 15,
   "metadata": {},
   "outputs": [],
   "source": [
    "savegraph(\"exampletypegraph.dot\",g,DOTFormat());"
   ]
  },
  {
   "cell_type": "code",
   "execution_count": 16,
   "metadata": {},
   "outputs": [],
   "source": [
    "run(`dot -Tsvg -O exampletypegraph.dot`);"
   ]
  },
  {
   "cell_type": "code",
   "execution_count": 24,
   "metadata": {},
   "outputs": [
    {
     "data": {
      "image/svg+xml": [
       "<?xml version=\"1.0\" encoding=\"UTF-8\" standalone=\"no\"?>\n",
       "<!DOCTYPE svg PUBLIC \"-//W3C//DTD SVG 1.1//EN\"\n",
       " \"http://www.w3.org/Graphics/SVG/1.1/DTD/svg11.dtd\">\n",
       "<!-- Generated by graphviz version 2.40.1 (20161225.0304)\n",
       " -->\n",
       "<!-- Title: G Pages: 1 -->\n",
       "<svg width=\"988pt\" height=\"131pt\"\n",
       " viewBox=\"0.00 0.00 988.08 131.00\" xmlns=\"http://www.w3.org/2000/svg\" xmlns:xlink=\"http://www.w3.org/1999/xlink\">\n",
       "<g id=\"graph0\" class=\"graph\" transform=\"scale(1 1) rotate(0) translate(4 127)\">\n",
       "<title>G</title>\n",
       "<polygon fill=\"#ffffff\" stroke=\"transparent\" points=\"-4,4 -4,-127 984.0784,-127 984.0784,4 -4,4\"/>\n",
       "<!-- 1 -->\n",
       "<g id=\"node1\" class=\"node\">\n",
       "<title>1</title>\n",
       "<ellipse fill=\"none\" stroke=\"#000000\" cx=\"124.7889\" cy=\"-105\" rx=\"124.5782\" ry=\"18\"/>\n",
       "<text text-anchor=\"middle\" x=\"124.7889\" y=\"-101.3\" font-family=\"Times,serif\" font-size=\"14.00\" fill=\"#000000\">DataType[StateModel, Symbol]</text>\n",
       "</g>\n",
       "<!-- 2 -->\n",
       "<g id=\"node2\" class=\"node\">\n",
       "<title>2</title>\n",
       "<ellipse fill=\"none\" stroke=\"#000000\" cx=\"174.7889\" cy=\"-18\" rx=\"29.4969\" ry=\"18\"/>\n",
       "<text text-anchor=\"middle\" x=\"174.7889\" y=\"-14.3\" font-family=\"Times,serif\" font-size=\"14.00\" fill=\"#000000\">Int64</text>\n",
       "</g>\n",
       "<!-- 1&#45;&gt;2 -->\n",
       "<g id=\"edge1\" class=\"edge\">\n",
       "<title>1&#45;&gt;2</title>\n",
       "<path fill=\"none\" stroke=\"#000000\" d=\"M135.149,-86.9735C142.2607,-74.5992 151.8128,-57.9785 159.7582,-44.1534\"/>\n",
       "<polygon fill=\"#000000\" stroke=\"#000000\" points=\"163.0042,-45.5296 164.9525,-35.1154 156.9351,-42.0415 163.0042,-45.5296\"/>\n",
       "<text text-anchor=\"middle\" x=\"168.2889\" y=\"-57.8\" font-family=\"Times,serif\" font-size=\"14.00\" fill=\"#000000\">count</text>\n",
       "</g>\n",
       "<!-- 6 -->\n",
       "<g id=\"node6\" class=\"node\">\n",
       "<title>6</title>\n",
       "<ellipse fill=\"none\" stroke=\"#000000\" cx=\"89.7889\" cy=\"-18\" rx=\"37.8943\" ry=\"18\"/>\n",
       "<text text-anchor=\"middle\" x=\"89.7889\" y=\"-14.3\" font-family=\"Times,serif\" font-size=\"14.00\" fill=\"#000000\">Float64</text>\n",
       "</g>\n",
       "<!-- 1&#45;&gt;6 -->\n",
       "<g id=\"edge2\" class=\"edge\">\n",
       "<title>1&#45;&gt;6</title>\n",
       "<path fill=\"none\" stroke=\"#000000\" d=\"M103.7882,-87.0029C98.9854,-81.7254 94.5004,-75.5856 91.7889,-69 88.8666,-61.9022 87.693,-53.7684 87.4192,-46.1124\"/>\n",
       "<polygon fill=\"#000000\" stroke=\"#000000\" points=\"90.919,-46.1469 87.524,-36.1107 83.9194,-46.0735 90.919,-46.1469\"/>\n",
       "<text text-anchor=\"middle\" x=\"116.2889\" y=\"-57.8\" font-family=\"Times,serif\" font-size=\"14.00\" fill=\"#000000\">stateload</text>\n",
       "</g>\n",
       "<!-- 3 -->\n",
       "<g id=\"node3\" class=\"node\">\n",
       "<title>3</title>\n",
       "<ellipse fill=\"none\" stroke=\"#000000\" cx=\"447.7889\" cy=\"-105\" rx=\"92.0841\" ry=\"18\"/>\n",
       "<text text-anchor=\"middle\" x=\"447.7889\" y=\"-101.3\" font-family=\"Times,serif\" font-size=\"14.00\" fill=\"#000000\">DataType[StateModel]</text>\n",
       "</g>\n",
       "<!-- 3&#45;&gt;2 -->\n",
       "<g id=\"edge3\" class=\"edge\">\n",
       "<title>3&#45;&gt;2</title>\n",
       "<path fill=\"none\" stroke=\"#000000\" d=\"M389.3246,-91.0338C341.1583,-78.7716 271.4833,-59.2826 212.7889,-36 210.9568,-35.2732 209.0885,-34.4996 207.2119,-33.6969\"/>\n",
       "<polygon fill=\"#000000\" stroke=\"#000000\" points=\"208.4478,-30.4156 197.8904,-29.5259 205.5887,-36.8051 208.4478,-30.4156\"/>\n",
       "<text text-anchor=\"middle\" x=\"324.2889\" y=\"-57.8\" font-family=\"Times,serif\" font-size=\"14.00\" fill=\"#000000\">count</text>\n",
       "</g>\n",
       "<!-- 8 -->\n",
       "<g id=\"node8\" class=\"node\">\n",
       "<title>8</title>\n",
       "<ellipse fill=\"none\" stroke=\"#000000\" cx=\"861.7889\" cy=\"-18\" rx=\"118.0794\" ry=\"18\"/>\n",
       "<text text-anchor=\"middle\" x=\"861.7889\" y=\"-14.3\" font-family=\"Times,serif\" font-size=\"14.00\" fill=\"#000000\">Array{Pair{Symbol,Int64},1}</text>\n",
       "</g>\n",
       "<!-- 3&#45;&gt;8 -->\n",
       "<g id=\"edge4\" class=\"edge\">\n",
       "<title>3&#45;&gt;8</title>\n",
       "<path fill=\"none\" stroke=\"#000000\" d=\"M510.6666,-91.7866C583.3361,-76.5155 703.0503,-51.3581 782.1614,-34.7333\"/>\n",
       "<polygon fill=\"#000000\" stroke=\"#000000\" points=\"783.016,-38.1303 792.0824,-32.6485 781.5763,-31.2799 783.016,-38.1303\"/>\n",
       "<text text-anchor=\"middle\" x=\"701.7889\" y=\"-57.8\" font-family=\"Times,serif\" font-size=\"14.00\" fill=\"#000000\">describe</text>\n",
       "</g>\n",
       "<!-- 10 -->\n",
       "<g id=\"node10\" class=\"node\">\n",
       "<title>10</title>\n",
       "<ellipse fill=\"none\" stroke=\"#000000\" cx=\"273.7889\" cy=\"-18\" rx=\"51.9908\" ry=\"18\"/>\n",
       "<text text-anchor=\"middle\" x=\"273.7889\" y=\"-14.3\" font-family=\"Times,serif\" font-size=\"14.00\" fill=\"#000000\">StateModel</text>\n",
       "</g>\n",
       "<!-- 3&#45;&gt;10 -->\n",
       "<g id=\"edge5\" class=\"edge\">\n",
       "<title>3&#45;&gt;10</title>\n",
       "<path fill=\"none\" stroke=\"#000000\" d=\"M414.24,-88.2255C385.1536,-73.6824 343.0535,-52.6323 312.5373,-37.3742\"/>\n",
       "<polygon fill=\"#000000\" stroke=\"#000000\" points=\"313.9754,-34.1802 303.4659,-32.8385 310.8449,-40.4412 313.9754,-34.1802\"/>\n",
       "<text text-anchor=\"middle\" x=\"383.2889\" y=\"-57.8\" font-family=\"Times,serif\" font-size=\"14.00\" fill=\"#000000\">tick!</text>\n",
       "</g>\n",
       "<!-- 12 -->\n",
       "<g id=\"node12\" class=\"node\">\n",
       "<title>12</title>\n",
       "<ellipse fill=\"none\" stroke=\"#000000\" cx=\"534.7889\" cy=\"-18\" rx=\"191.1661\" ry=\"18\"/>\n",
       "<text text-anchor=\"middle\" x=\"534.7889\" y=\"-14.3\" font-family=\"Times,serif\" font-size=\"14.00\" fill=\"#000000\">Tuple{StateModel,Array{Pair{Symbol,Int64},1}}</text>\n",
       "</g>\n",
       "<!-- 3&#45;&gt;12 -->\n",
       "<g id=\"edge6\" class=\"edge\">\n",
       "<title>3&#45;&gt;12</title>\n",
       "<path fill=\"none\" stroke=\"#000000\" d=\"M465.8154,-86.9735C478.4137,-74.3752 495.4135,-57.3755 509.3834,-43.4055\"/>\n",
       "<polygon fill=\"#000000\" stroke=\"#000000\" points=\"512.1894,-45.5493 516.7856,-36.0034 507.2396,-40.5996 512.1894,-45.5493\"/>\n",
       "<text text-anchor=\"middle\" x=\"508.2889\" y=\"-57.8\" font-family=\"Times,serif\" font-size=\"14.00\" fill=\"#000000\">tick!</text>\n",
       "</g>\n",
       "<!-- 4 -->\n",
       "<g id=\"node4\" class=\"node\">\n",
       "<title>4</title>\n",
       "<ellipse fill=\"none\" stroke=\"#000000\" cx=\"584.7889\" cy=\"-105\" rx=\"27\" ry=\"18\"/>\n",
       "<text text-anchor=\"middle\" x=\"584.7889\" y=\"-101.3\" font-family=\"Times,serif\" font-size=\"14.00\" fill=\"#000000\">4</text>\n",
       "</g>\n",
       "<!-- 5 -->\n",
       "<g id=\"node5\" class=\"node\">\n",
       "<title>5</title>\n",
       "<ellipse fill=\"none\" stroke=\"#000000\" cx=\"656.7889\" cy=\"-105\" rx=\"27\" ry=\"18\"/>\n",
       "<text text-anchor=\"middle\" x=\"656.7889\" y=\"-101.3\" font-family=\"Times,serif\" font-size=\"14.00\" fill=\"#000000\">5</text>\n",
       "</g>\n",
       "<!-- 7 -->\n",
       "<g id=\"node7\" class=\"node\">\n",
       "<title>7</title>\n",
       "<ellipse fill=\"none\" stroke=\"#000000\" cx=\"728.7889\" cy=\"-105\" rx=\"27\" ry=\"18\"/>\n",
       "<text text-anchor=\"middle\" x=\"728.7889\" y=\"-101.3\" font-family=\"Times,serif\" font-size=\"14.00\" fill=\"#000000\">7</text>\n",
       "</g>\n",
       "<!-- 9 -->\n",
       "<g id=\"node9\" class=\"node\">\n",
       "<title>9</title>\n",
       "<ellipse fill=\"none\" stroke=\"#000000\" cx=\"800.7889\" cy=\"-105\" rx=\"27\" ry=\"18\"/>\n",
       "<text text-anchor=\"middle\" x=\"800.7889\" y=\"-101.3\" font-family=\"Times,serif\" font-size=\"14.00\" fill=\"#000000\">9</text>\n",
       "</g>\n",
       "<!-- 11 -->\n",
       "<g id=\"node11\" class=\"node\">\n",
       "<title>11</title>\n",
       "<ellipse fill=\"none\" stroke=\"#000000\" cx=\"872.7889\" cy=\"-105\" rx=\"27\" ry=\"18\"/>\n",
       "<text text-anchor=\"middle\" x=\"872.7889\" y=\"-101.3\" font-family=\"Times,serif\" font-size=\"14.00\" fill=\"#000000\">11</text>\n",
       "</g>\n",
       "</g>\n",
       "</svg>\n"
      ]
     },
     "metadata": {},
     "output_type": "display_data"
    }
   ],
   "source": [
    "s = read(\"exampletypegraph.dot.svg\",String);\n",
    "display(\"image/svg+xml\",s)"
   ]
  },
  {
   "cell_type": "code",
   "execution_count": null,
   "metadata": {},
   "outputs": [],
   "source": [
    "# TODO use a different script and repeat, extraction, drawing, and rendering"
   ]
  },
  {
   "cell_type": "code",
   "execution_count": null,
   "metadata": {},
   "outputs": [],
   "source": [
    "# TODO discuss difference in type graphs"
   ]
  }
 ],
 "metadata": {
  "jupytext": {
   "encoding": "# -*- coding: utf-8 -*-",
   "main_language": "julia",
   "text_representation": {
    "extension": ".jl",
    "format_name": "light"
   }
  },
  "kernelspec": {
   "display_name": "Julia 1.0.3",
   "language": "julia",
   "name": "julia-1.0"
  },
  "language_info": {
   "file_extension": ".jl",
   "mimetype": "application/julia",
   "name": "julia",
   "version": "1.0.3"
  }
 },
 "nbformat": 4,
 "nbformat_minor": 2
}
