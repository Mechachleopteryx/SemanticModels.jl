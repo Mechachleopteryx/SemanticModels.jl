{
 "cells": [
  {
   "cell_type": "code",
   "execution_count": 1,
   "metadata": {},
   "outputs": [
    {
     "name": "stderr",
     "output_type": "stream",
     "text": [
      "\n",
      "Bad key \"margins.tight\" on line 7 in\n",
      "/Users/jfairbanks6/.matplotlib/stylelib/presentation.mplstyle.\n",
      "You probably need to get an updated matplotlibrc file from\n",
      "http://github.com/matplotlib/matplotlib/blob/master/matplotlibrc.template\n",
      "or from the matplotlib source distribution\n"
     ]
    }
   ],
   "source": [
    "import os\n",
    "import logging\n",
    "import spacy\n",
    "import subjectVerbObjectExtractUtil as svoExtract\n",
    "import experimentUtil as expUtil\n",
    "import mergeGraphUtil as mergeUtil\n",
    "logging.basicConfig(format='%(asctime)s %(message)s', level=logging.INFO)\n",
    "logging.getLogger().setLevel(logging.INFO)"
   ]
  },
  {
   "cell_type": "code",
   "execution_count": 2,
   "metadata": {},
   "outputs": [],
   "source": [
    "INTRO_MD_DIR = \"introMDFiles\"\n",
    "CLEAN_INTRO_MD_DIR = \"cleanedTexts\"\n",
    "SUBJECT_OBJECT_VERB_CSV = \"svo.csv\""
   ]
  },
  {
   "cell_type": "code",
   "execution_count": 3,
   "metadata": {},
   "outputs": [
    {
     "name": "stderr",
     "output_type": "stream",
     "text": [
      "2019-03-25 10:59:00,490 cleanedTexts/semiparametric.txt file created\n",
      "2019-03-25 10:59:00,492 cleanedTexts/khan.txt file created\n",
      "2019-03-25 10:59:00,501 cleanedTexts/sis_intro.txt file created\n",
      "2019-03-25 10:59:00,507 cleanedTexts/seird_stochastic.txt file created\n",
      "2019-03-25 10:59:00,523 cleanedTexts/karlsson.txt file created\n",
      "2019-03-25 10:59:00,539 cleanedTexts/ross.txt file created\n",
      "2019-03-25 10:59:00,561 cleanedTexts/coalescent.txt file created\n",
      "2019-03-25 10:59:00,571 cleanedTexts/mayanderson.txt file created\n",
      "2019-03-25 10:59:00,575 cleanedTexts/deleo.txt file created\n",
      "2019-03-25 10:59:00,594 cleanedTexts/sir_model_intro.txt file created\n",
      "2019-03-25 10:59:00,615 cleanedTexts/lloydjansen.txt file created\n",
      "2019-03-25 10:59:00,619 cleanedTexts/erlang.txt file created\n",
      "2019-03-25 10:59:00,641 cleanedTexts/blackross.txt file created\n",
      "2019-03-25 10:59:00,650 cleanedTexts/1host1vector.txt file created\n",
      "2019-03-25 10:59:00,663 cleanedTexts/seir_intro.txt file created\n"
     ]
    }
   ],
   "source": [
    "#Clean and Extract Text from Intro.md Files\n",
    "\n",
    "for file in os.listdir(INTRO_MD_DIR):\n",
    "    input_file_string = open(os.path.join(INTRO_MD_DIR, file)).read()\n",
    "    proccessedText = svoExtract.extract(input_file_string)\n",
    "    outputFileName, _ = os.path.splitext(file)\n",
    "    outputFileName = os.path.join(CLEAN_INTRO_MD_DIR, outputFileName)\n",
    "    outputFileName += \".txt\"\n",
    "    \n",
    "    with open(outputFileName, 'w') as filetowrite:\n",
    "        filetowrite.write(proccessedText)\n",
    "        filetowrite.close()\n",
    "        \n",
    "    logging.info(outputFileName + \" file created\")"
   ]
  },
  {
   "cell_type": "code",
   "execution_count": 4,
   "metadata": {},
   "outputs": [
    {
     "name": "stderr",
     "output_type": "stream",
     "text": [
      "2019-03-25 10:59:00,738 writing 4 tuples\n",
      "2019-03-25 10:59:00,786 writing 2 tuples\n",
      "2019-03-25 10:59:00,863 writing 15 tuples\n",
      "2019-03-25 10:59:00,889 writing 1 tuples\n",
      "2019-03-25 10:59:00,911 writing 1 tuples\n",
      "2019-03-25 10:59:00,950 writing 2 tuples\n",
      "2019-03-25 10:59:01,046 writing 14 tuples\n",
      "2019-03-25 10:59:01,101 writing 1 tuples\n",
      "2019-03-25 10:59:01,224 writing 18 tuples\n",
      "2019-03-25 10:59:01,269 writing 5 tuples\n",
      "2019-03-25 10:59:01,306 writing 0 tuples\n",
      "2019-03-25 10:59:01,345 writing 5 tuples\n",
      "2019-03-25 10:59:01,387 writing 5 tuples\n",
      "2019-03-25 10:59:01,458 writing 21 tuples\n",
      "2019-03-25 10:59:01,487 writing 5 tuples\n",
      "2019-03-25 10:59:01,489 File svo.csv created\n"
     ]
    }
   ],
   "source": [
    "#Extract Subject Verb Object\n",
    "#Creates subject verb object csv file\n",
    "svoExtract.extractSVO(CLEAN_INTRO_MD_DIR)"
   ]
  },
  {
   "cell_type": "code",
   "execution_count": 5,
   "metadata": {},
   "outputs": [
    {
     "data": {
      "text/plain": [
       "umap.umap_.UMAP"
      ]
     },
     "execution_count": 5,
     "metadata": {},
     "output_type": "execute_result"
    }
   ],
   "source": [
    "import umap\n",
    "umap.UMAP"
   ]
  },
  {
   "cell_type": "code",
   "execution_count": 6,
   "metadata": {},
   "outputs": [],
   "source": [
    "# Creates CSV of UMAP and DBSCAN Clusters and InSample Vs OutSample Similarities\n",
    "# Outputs clusteringLabels.csv\n",
    "\n",
    "#expUtil.createCluster(SUBJECT_OBJECT_VERB_CSV)"
   ]
  },
  {
   "cell_type": "code",
   "execution_count": 7,
   "metadata": {},
   "outputs": [
    {
     "name": "stdout",
     "output_type": "stream",
     "text": [
      "250\n",
      "<class 'numpy.ndarray'> <class 'int'> <class 'numpy.ndarray'>\n"
     ]
    },
    {
     "ename": "TypingError",
     "evalue": "Failed in nopython mode pipeline (step: nopython frontend)\n\u001b[1m\u001b[1mUnknown attribute 'shape' of type none\n\u001b[1m\nFile \"../../../../../anaconda/lib/python3.6/site-packages/umap/umap_.py\", line 88:\u001b[0m\n\u001b[1mdef smooth_knn_dist(distances, k, n_iter=64, local_connectivity=1.0, bandwidth=1.0):\n    <source elided>\n    target = np.log2(k) * bandwidth\n\u001b[1m    rho = np.zeros(distances.shape[0])\n\u001b[0m    \u001b[1m^\u001b[0m\u001b[0m\n\u001b[0m\n\u001b[0m\u001b[1m[1] During: typing of get attribute at /Users/jfairbanks6/anaconda/lib/python3.6/site-packages/umap/umap_.py (88)\u001b[0m\n\u001b[1m\nFile \"../../../../../anaconda/lib/python3.6/site-packages/umap/umap_.py\", line 88:\u001b[0m\n\u001b[1mdef smooth_knn_dist(distances, k, n_iter=64, local_connectivity=1.0, bandwidth=1.0):\n    <source elided>\n    target = np.log2(k) * bandwidth\n\u001b[1m    rho = np.zeros(distances.shape[0])\n\u001b[0m    \u001b[1m^\u001b[0m\u001b[0m\n\nThis is not usually a problem with Numba itself but instead often caused by\nthe use of unsupported features or an issue in resolving types.\n\nTo see Python/NumPy features supported by the latest release of Numba visit:\nhttp://numba.pydata.org/numba-doc/dev/reference/pysupported.html\nand\nhttp://numba.pydata.org/numba-doc/dev/reference/numpysupported.html\n\nFor more information about typing errors and how to debug them visit:\nhttp://numba.pydata.org/numba-doc/latest/user/troubleshoot.html#my-code-doesn-t-compile\n\nIf you think your code should work with Numba, please report the error message\nand traceback, along with a minimal reproducer at:\nhttps://github.com/numba/numba/issues/new\n",
     "output_type": "error",
     "traceback": [
      "\u001b[0;31m---------------------------------------------------------------------------\u001b[0m",
      "\u001b[0;31mTypingError\u001b[0m                               Traceback (most recent call last)",
      "\u001b[0;32m<ipython-input-7-ca417111cdea>\u001b[0m in \u001b[0;36m<module>\u001b[0;34m()\u001b[0m\n\u001b[1;32m      2\u001b[0m \u001b[0;31m# Assigns Cluster Labels to Variable Inputs to KMeansPredicted.csv and computes accuracy by taking the difference\u001b[0m\u001b[0;34m\u001b[0m\u001b[0;34m\u001b[0m\u001b[0m\n\u001b[1;32m      3\u001b[0m \u001b[0;31m# with the ground truth labels in JuliaDataVariable.csv\u001b[0m\u001b[0;34m\u001b[0m\u001b[0;34m\u001b[0m\u001b[0m\n\u001b[0;32m----> 4\u001b[0;31m \u001b[0mexpUtil\u001b[0m\u001b[0;34m.\u001b[0m\u001b[0mrunKMeansExp\u001b[0m\u001b[0;34m(\u001b[0m\u001b[0;34m)\u001b[0m\u001b[0;34m\u001b[0m\u001b[0m\n\u001b[0m",
      "\u001b[0;32m~/.julia/dev/SemanticModels/examples/semanticClustering/experimentUtil.py\u001b[0m in \u001b[0;36mrunKMeansExp\u001b[0;34m()\u001b[0m\n\u001b[1;32m    314\u001b[0m \u001b[0;34m\u001b[0m\u001b[0m\n\u001b[1;32m    315\u001b[0m \u001b[0;34m\u001b[0m\u001b[0m\n\u001b[0;32m--> 316\u001b[0;31m     \u001b[0mtrainLabels\u001b[0m\u001b[0;34m,\u001b[0m \u001b[0mpredictedLabels\u001b[0m \u001b[0;34m=\u001b[0m \u001b[0museKmeans\u001b[0m\u001b[0;34m(\u001b[0m\u001b[0mtrainTokenList\u001b[0m\u001b[0;34m,\u001b[0m \u001b[0mK_size\u001b[0m\u001b[0;34m,\u001b[0m \u001b[0mvariableTokenList\u001b[0m\u001b[0;34m)\u001b[0m\u001b[0;34m\u001b[0m\u001b[0m\n\u001b[0m\u001b[1;32m    317\u001b[0m     \u001b[0mwriteCSV\u001b[0m\u001b[0;34m(\u001b[0m\u001b[0mkmeansTrainData\u001b[0m\u001b[0;34m,\u001b[0m \u001b[0mtrainLabels\u001b[0m\u001b[0;34m,\u001b[0m \u001b[0mKMEANS_CLUSTER_LABEL_CSV_PATH\u001b[0m\u001b[0;34m)\u001b[0m\u001b[0;34m\u001b[0m\u001b[0m\n\u001b[1;32m    318\u001b[0m     \u001b[0mwriteCSV\u001b[0m\u001b[0;34m(\u001b[0m\u001b[0mvariable_array\u001b[0m\u001b[0;34m,\u001b[0m \u001b[0mpredictedLabels\u001b[0m\u001b[0;34m,\u001b[0m \u001b[0mKMEANS_PREDICTED_CSV_PATH\u001b[0m\u001b[0;34m)\u001b[0m\u001b[0;34m\u001b[0m\u001b[0m\n",
      "\u001b[0;32m~/.julia/dev/SemanticModels/examples/semanticClustering/experimentUtil.py\u001b[0m in \u001b[0;36museKmeans\u001b[0;34m(trainTokenList, K_size, variableTokenList)\u001b[0m\n\u001b[1;32m    191\u001b[0m \u001b[0;32mdef\u001b[0m \u001b[0museKmeans\u001b[0m\u001b[0;34m(\u001b[0m\u001b[0mtrainTokenList\u001b[0m\u001b[0;34m,\u001b[0m \u001b[0mK_size\u001b[0m\u001b[0;34m,\u001b[0m \u001b[0mvariableTokenList\u001b[0m\u001b[0;34m)\u001b[0m\u001b[0;34m:\u001b[0m\u001b[0;34m\u001b[0m\u001b[0m\n\u001b[1;32m    192\u001b[0m     \u001b[0mprint\u001b[0m\u001b[0;34m(\u001b[0m\u001b[0mtype\u001b[0m\u001b[0;34m(\u001b[0m\u001b[0mtrainTokenList\u001b[0m\u001b[0;34m)\u001b[0m\u001b[0;34m,\u001b[0m \u001b[0mtype\u001b[0m\u001b[0;34m(\u001b[0m\u001b[0mK_size\u001b[0m\u001b[0;34m)\u001b[0m\u001b[0;34m,\u001b[0m \u001b[0mtype\u001b[0m\u001b[0;34m(\u001b[0m\u001b[0mvariableTokenList\u001b[0m\u001b[0;34m)\u001b[0m\u001b[0;34m)\u001b[0m\u001b[0;34m\u001b[0m\u001b[0m\n\u001b[0;32m--> 193\u001b[0;31m     \u001b[0mumapModel\u001b[0m \u001b[0;34m=\u001b[0m \u001b[0mumap\u001b[0m\u001b[0;34m.\u001b[0m\u001b[0mUMAP\u001b[0m\u001b[0;34m(\u001b[0m\u001b[0mrandom_state\u001b[0m\u001b[0;34m=\u001b[0m\u001b[0;36m42\u001b[0m\u001b[0;34m)\u001b[0m\u001b[0;34m.\u001b[0m\u001b[0mfit\u001b[0m\u001b[0;34m(\u001b[0m\u001b[0mnp\u001b[0m\u001b[0;34m.\u001b[0m\u001b[0masarray\u001b[0m\u001b[0;34m(\u001b[0m\u001b[0mtrainTokenList\u001b[0m\u001b[0;34m)\u001b[0m\u001b[0;34m)\u001b[0m\u001b[0;34m\u001b[0m\u001b[0m\n\u001b[0m\u001b[1;32m    194\u001b[0m     \u001b[0mtrainEmbedding\u001b[0m \u001b[0;34m=\u001b[0m \u001b[0mumapModel\u001b[0m\u001b[0;34m.\u001b[0m\u001b[0mtransform\u001b[0m\u001b[0;34m(\u001b[0m\u001b[0mtrainTokenList\u001b[0m\u001b[0;34m)\u001b[0m\u001b[0;34m\u001b[0m\u001b[0m\n\u001b[1;32m    195\u001b[0m     \u001b[0mpredictEmbedding\u001b[0m \u001b[0;34m=\u001b[0m \u001b[0mumapModel\u001b[0m\u001b[0;34m.\u001b[0m\u001b[0mtransform\u001b[0m\u001b[0;34m(\u001b[0m\u001b[0mvariableTokenList\u001b[0m\u001b[0;34m)\u001b[0m\u001b[0;34m\u001b[0m\u001b[0m\n",
      "\u001b[0;32m~/anaconda/lib/python3.6/site-packages/umap/umap_.py\u001b[0m in \u001b[0;36mfit\u001b[0;34m(self, X, y)\u001b[0m\n\u001b[1;32m   1396\u001b[0m                 \u001b[0mself\u001b[0m\u001b[0;34m.\u001b[0m\u001b[0mset_op_mix_ratio\u001b[0m\u001b[0;34m,\u001b[0m\u001b[0;34m\u001b[0m\u001b[0m\n\u001b[1;32m   1397\u001b[0m                 \u001b[0mself\u001b[0m\u001b[0;34m.\u001b[0m\u001b[0mlocal_connectivity\u001b[0m\u001b[0;34m,\u001b[0m\u001b[0;34m\u001b[0m\u001b[0m\n\u001b[0;32m-> 1398\u001b[0;31m                 \u001b[0mself\u001b[0m\u001b[0;34m.\u001b[0m\u001b[0mverbose\u001b[0m\u001b[0;34m,\u001b[0m\u001b[0;34m\u001b[0m\u001b[0m\n\u001b[0m\u001b[1;32m   1399\u001b[0m             )\n\u001b[1;32m   1400\u001b[0m         \u001b[0;32melse\u001b[0m\u001b[0;34m:\u001b[0m\u001b[0;34m\u001b[0m\u001b[0m\n",
      "\u001b[0;32m~/anaconda/lib/python3.6/site-packages/numba/dispatcher.py\u001b[0m in \u001b[0;36m_compile_for_args\u001b[0;34m(self, *args, **kws)\u001b[0m\n\u001b[1;32m    348\u001b[0m                 \u001b[0me\u001b[0m\u001b[0;34m.\u001b[0m\u001b[0mpatch_message\u001b[0m\u001b[0;34m(\u001b[0m\u001b[0mmsg\u001b[0m\u001b[0;34m)\u001b[0m\u001b[0;34m\u001b[0m\u001b[0m\n\u001b[1;32m    349\u001b[0m \u001b[0;34m\u001b[0m\u001b[0m\n\u001b[0;32m--> 350\u001b[0;31m             \u001b[0merror_rewrite\u001b[0m\u001b[0;34m(\u001b[0m\u001b[0me\u001b[0m\u001b[0;34m,\u001b[0m \u001b[0;34m'typing'\u001b[0m\u001b[0;34m)\u001b[0m\u001b[0;34m\u001b[0m\u001b[0m\n\u001b[0m\u001b[1;32m    351\u001b[0m         \u001b[0;32mexcept\u001b[0m \u001b[0merrors\u001b[0m\u001b[0;34m.\u001b[0m\u001b[0mUnsupportedError\u001b[0m \u001b[0;32mas\u001b[0m \u001b[0me\u001b[0m\u001b[0;34m:\u001b[0m\u001b[0;34m\u001b[0m\u001b[0m\n\u001b[1;32m    352\u001b[0m             \u001b[0;31m# Something unsupported is present in the user code, add help info\u001b[0m\u001b[0;34m\u001b[0m\u001b[0;34m\u001b[0m\u001b[0m\n",
      "\u001b[0;32m~/anaconda/lib/python3.6/site-packages/numba/dispatcher.py\u001b[0m in \u001b[0;36merror_rewrite\u001b[0;34m(e, issue_type)\u001b[0m\n\u001b[1;32m    315\u001b[0m                 \u001b[0;32mraise\u001b[0m \u001b[0me\u001b[0m\u001b[0;34m\u001b[0m\u001b[0m\n\u001b[1;32m    316\u001b[0m             \u001b[0;32melse\u001b[0m\u001b[0;34m:\u001b[0m\u001b[0;34m\u001b[0m\u001b[0m\n\u001b[0;32m--> 317\u001b[0;31m                 \u001b[0mreraise\u001b[0m\u001b[0;34m(\u001b[0m\u001b[0mtype\u001b[0m\u001b[0;34m(\u001b[0m\u001b[0me\u001b[0m\u001b[0;34m)\u001b[0m\u001b[0;34m,\u001b[0m \u001b[0me\u001b[0m\u001b[0;34m,\u001b[0m \u001b[0;32mNone\u001b[0m\u001b[0;34m)\u001b[0m\u001b[0;34m\u001b[0m\u001b[0m\n\u001b[0m\u001b[1;32m    318\u001b[0m \u001b[0;34m\u001b[0m\u001b[0m\n\u001b[1;32m    319\u001b[0m         \u001b[0margtypes\u001b[0m \u001b[0;34m=\u001b[0m \u001b[0;34m[\u001b[0m\u001b[0;34m]\u001b[0m\u001b[0;34m\u001b[0m\u001b[0m\n",
      "\u001b[0;32m~/anaconda/lib/python3.6/site-packages/numba/six.py\u001b[0m in \u001b[0;36mreraise\u001b[0;34m(tp, value, tb)\u001b[0m\n\u001b[1;32m    656\u001b[0m             \u001b[0mvalue\u001b[0m \u001b[0;34m=\u001b[0m \u001b[0mtp\u001b[0m\u001b[0;34m(\u001b[0m\u001b[0;34m)\u001b[0m\u001b[0;34m\u001b[0m\u001b[0m\n\u001b[1;32m    657\u001b[0m         \u001b[0;32mif\u001b[0m \u001b[0mvalue\u001b[0m\u001b[0;34m.\u001b[0m\u001b[0m__traceback__\u001b[0m \u001b[0;32mis\u001b[0m \u001b[0;32mnot\u001b[0m \u001b[0mtb\u001b[0m\u001b[0;34m:\u001b[0m\u001b[0;34m\u001b[0m\u001b[0m\n\u001b[0;32m--> 658\u001b[0;31m             \u001b[0;32mraise\u001b[0m \u001b[0mvalue\u001b[0m\u001b[0;34m.\u001b[0m\u001b[0mwith_traceback\u001b[0m\u001b[0;34m(\u001b[0m\u001b[0mtb\u001b[0m\u001b[0;34m)\u001b[0m\u001b[0;34m\u001b[0m\u001b[0m\n\u001b[0m\u001b[1;32m    659\u001b[0m         \u001b[0;32mraise\u001b[0m \u001b[0mvalue\u001b[0m\u001b[0;34m\u001b[0m\u001b[0m\n\u001b[1;32m    660\u001b[0m \u001b[0;34m\u001b[0m\u001b[0m\n",
      "\u001b[0;31mTypingError\u001b[0m: Failed in nopython mode pipeline (step: nopython frontend)\n\u001b[1m\u001b[1mUnknown attribute 'shape' of type none\n\u001b[1m\nFile \"../../../../../anaconda/lib/python3.6/site-packages/umap/umap_.py\", line 88:\u001b[0m\n\u001b[1mdef smooth_knn_dist(distances, k, n_iter=64, local_connectivity=1.0, bandwidth=1.0):\n    <source elided>\n    target = np.log2(k) * bandwidth\n\u001b[1m    rho = np.zeros(distances.shape[0])\n\u001b[0m    \u001b[1m^\u001b[0m\u001b[0m\n\u001b[0m\n\u001b[0m\u001b[1m[1] During: typing of get attribute at /Users/jfairbanks6/anaconda/lib/python3.6/site-packages/umap/umap_.py (88)\u001b[0m\n\u001b[1m\nFile \"../../../../../anaconda/lib/python3.6/site-packages/umap/umap_.py\", line 88:\u001b[0m\n\u001b[1mdef smooth_knn_dist(distances, k, n_iter=64, local_connectivity=1.0, bandwidth=1.0):\n    <source elided>\n    target = np.log2(k) * bandwidth\n\u001b[1m    rho = np.zeros(distances.shape[0])\n\u001b[0m    \u001b[1m^\u001b[0m\u001b[0m\n\nThis is not usually a problem with Numba itself but instead often caused by\nthe use of unsupported features or an issue in resolving types.\n\nTo see Python/NumPy features supported by the latest release of Numba visit:\nhttp://numba.pydata.org/numba-doc/dev/reference/pysupported.html\nand\nhttp://numba.pydata.org/numba-doc/dev/reference/numpysupported.html\n\nFor more information about typing errors and how to debug them visit:\nhttp://numba.pydata.org/numba-doc/latest/user/troubleshoot.html#my-code-doesn-t-compile\n\nIf you think your code should work with Numba, please report the error message\nand traceback, along with a minimal reproducer at:\nhttps://github.com/numba/numba/issues/new\n"
     ]
    }
   ],
   "source": [
    "# Get Kmeans Experiment Accuracy\n",
    "# Assigns Cluster Labels to Variable Inputs to KMeansPredicted.csv and computes accuracy by taking the difference\n",
    "# with the ground truth labels in JuliaDataVariable.csv\n",
    "expUtil.runKMeansExp()"
   ]
  },
  {
   "cell_type": "code",
   "execution_count": null,
   "metadata": {},
   "outputs": [],
   "source": [
    "# Uses cluster that is most \"similar\" to the variable for cluster assignment\n",
    "expUtil.runUMapSimilarityExp()"
   ]
  },
  {
   "cell_type": "code",
   "execution_count": null,
   "metadata": {},
   "outputs": [],
   "source": [
    "# Uses KMeans for cluster assignment, computes the similarity of the assignment with nodes\n",
    "# that also belong to the cluster assignment \n",
    "averageSimArray = expUtil.runCombinationExp()"
   ]
  },
  {
   "cell_type": "code",
   "execution_count": null,
   "metadata": {},
   "outputs": [],
   "source": [
    "#Creates Final CSV to create metaGraph\n",
    "\n",
    "#Minimum threshold to merge 2 nodes from extracted subject verb objects\n",
    "ClusterThreshold = .85\n",
    "\n",
    "#Minimum threshold to assign variable to a cluster\n",
    "VariableThreshold = .5\n",
    "\n",
    "mergeUtil.createFinalGraph(ClusterThreshold, VariableThreshold, averageSimArray)"
   ]
  },
  {
   "cell_type": "code",
   "execution_count": null,
   "metadata": {},
   "outputs": [],
   "source": [
    "print 3"
   ]
  },
  {
   "cell_type": "code",
   "execution_count": null,
   "metadata": {},
   "outputs": [],
   "source": []
  }
 ],
 "metadata": {
  "anaconda-cloud": {},
  "kernelspec": {
   "display_name": "Python [conda env:anaconda]",
   "language": "python",
   "name": "conda-env-anaconda-py"
  },
  "language_info": {
   "codemirror_mode": {
    "name": "ipython",
    "version": 3
   },
   "file_extension": ".py",
   "mimetype": "text/x-python",
   "name": "python",
   "nbconvert_exporter": "python",
   "pygments_lexer": "ipython3",
   "version": "3.6.3"
  }
 },
 "nbformat": 4,
 "nbformat_minor": 2
}
