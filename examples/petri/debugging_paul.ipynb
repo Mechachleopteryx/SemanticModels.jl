{
 "cells": [
  {
   "cell_type": "code",
   "execution_count": 8,
   "metadata": {},
   "outputs": [
    {
     "data": {
      "text/plain": [
       "WiringDiagram([:C,:A], [:D], \n",
       "[ 1 => {inputs},\n",
       "  2 => {outputs},\n",
       "  3 => Box(:f, [:A], [:B]),\n",
       "  4 => Box(:h, [:C,:B], [:D]),\n",
       "  5 => Box(:id_c, [:C], [:C]) ],\n",
       "[ Wire((1,2) => (3,1)),\n",
       "  Wire((1,1) => (5,1)),\n",
       "  Wire((3,1) => (4,2)),\n",
       "  Wire((4,1) => (2,1)),\n",
       "  Wire((5,1) => (4,1)) ])"
      ]
     },
     "execution_count": 8,
     "metadata": {},
     "output_type": "execute_result"
    }
   ],
   "source": [
    "using Catlab\n",
    "using Catlab.WiringDiagrams\n",
    "using Catlab.Doctrines\n",
    "using Test\n",
    "import Catlab.Doctrines.⊗\n",
    "⊗(a::WiringDiagram, b::WiringDiagram) = otimes(a,b)\n",
    "import Base: ∘\n",
    "∘(a::WiringDiagram, b::WiringDiagram) = compose(b, a)\n",
    "⊚(a,b) = b ∘ a\n",
    "\n",
    "A, B, C, D = Ob(FreeSymmetricMonoidalCategory, :A, :B, :C, :D)\n",
    "f = WiringDiagram(Hom(:f,A,B))\n",
    "g = WiringDiagram(Hom(:g,B,A))\n",
    "\n",
    "h = WiringDiagram(Hom(:h, C⊗B, D))\n",
    "\n",
    "(WiringDiagram(Hom(:id_c, C, C)) ⊗ f) ⊚ h"
   ]
  },
  {
   "cell_type": "code",
   "execution_count": 9,
   "metadata": {},
   "outputs": [
    {
     "data": {
      "text/plain": [
       ":id_A"
      ]
     },
     "execution_count": 9,
     "metadata": {},
     "output_type": "execute_result"
    }
   ],
   "source": [
    "Symbol(\"id_$A\")"
   ]
  },
  {
   "cell_type": "code",
   "execution_count": 10,
   "metadata": {},
   "outputs": [
    {
     "name": "stdout",
     "output_type": "stream",
     "text": [
      "search: \u001b[0m\u001b[1mP\u001b[22m\u001b[0m\u001b[1mo\u001b[22m\u001b[0m\u001b[1mr\u001b[22m\u001b[0m\u001b[1mt\u001b[22m\u001b[0m\u001b[1ms\u001b[22m validate_\u001b[0m\u001b[1mp\u001b[22m\u001b[0m\u001b[1mo\u001b[22m\u001b[0m\u001b[1mr\u001b[22m\u001b[0m\u001b[1mt\u001b[22m\u001b[0m\u001b[1ms\u001b[22m in\u001b[0m\u001b[1mp\u001b[22mut_p\u001b[0m\u001b[1mo\u001b[22m\u001b[0m\u001b[1mr\u001b[22m\u001b[0m\u001b[1mt\u001b[22m\u001b[0m\u001b[1ms\u001b[22m out\u001b[0m\u001b[1mp\u001b[22mut_p\u001b[0m\u001b[1mo\u001b[22m\u001b[0m\u001b[1mr\u001b[22m\u001b[0m\u001b[1mt\u001b[22m\u001b[0m\u001b[1ms\u001b[22m \u001b[0m\u001b[1mp\u001b[22mr\u001b[0m\u001b[1mo\u001b[22mpe\u001b[0m\u001b[1mr\u001b[22m\u001b[0m\u001b[1mt\u001b[22myname\u001b[0m\u001b[1ms\u001b[22m \u001b[0m\u001b[1mP\u001b[22m\u001b[0m\u001b[1mo\u001b[22m\u001b[0m\u001b[1mr\u001b[22m\u001b[0m\u001b[1mt\u001b[22m\n",
      "\n"
     ]
    },
    {
     "data": {
      "text/latex": [
       "List of ports: object in the category of wiring diagrams.\n",
       "\n"
      ],
      "text/markdown": [
       "List of ports: object in the category of wiring diagrams.\n"
      ],
      "text/plain": [
       "  List of ports: object in the category of wiring diagrams."
      ]
     },
     "execution_count": 10,
     "metadata": {},
     "output_type": "execute_result"
    }
   ],
   "source": [
    "?Ports"
   ]
  },
  {
   "cell_type": "code",
   "execution_count": 14,
   "metadata": {},
   "outputs": [
    {
     "data": {
      "text/plain": [
       "WiringDiagram([], [A], \n",
       "[ 1 => {inputs},\n",
       "  2 => {outputs},\n",
       "   ],\n",
       "[  ])"
      ]
     },
     "execution_count": 14,
     "metadata": {},
     "output_type": "execute_result"
    }
   ],
   "source": [
    "Ports([A]) |> create"
   ]
  },
  {
   "cell_type": "code",
   "execution_count": 16,
   "metadata": {},
   "outputs": [
    {
     "data": {
      "text/plain": [
       "WiringDiagram([:A], [:D], \n",
       "[ 1 => {inputs},\n",
       "  2 => {outputs},\n",
       "  3 => Box(:f, [:A], [:B]),\n",
       "  4 => Box(:h, [:C,:B], [:D]) ],\n",
       "[ Wire((1,1) => (3,1)),\n",
       "  Wire((3,1) => (4,2)),\n",
       "  Wire((4,1) => (2,1)) ])"
      ]
     },
     "execution_count": 16,
     "metadata": {},
     "output_type": "execute_result"
    }
   ],
   "source": [
    "create(Ports([C])) ⊗ f ⊚ h"
   ]
  },
  {
   "cell_type": "code",
   "execution_count": 17,
   "metadata": {},
   "outputs": [
    {
     "data": {
      "text/plain": [
       "WiringDiagram([], [A,B], \n",
       "[ 1 => {inputs},\n",
       "  2 => {outputs},\n",
       "   ],\n",
       "[  ])"
      ]
     },
     "execution_count": 17,
     "metadata": {},
     "output_type": "execute_result"
    }
   ],
   "source": [
    "create(Ports([A, B])) ⊚ (mcopy ⊗ "
   ]
  },
  {
   "cell_type": "code",
   "execution_count": 24,
   "metadata": {},
   "outputs": [
    {
     "data": {
      "text/plain": [
       "WiringDiagram([A], [:B,:C], \n",
       "[ 1 => {inputs},\n",
       "  2 => {outputs},\n",
       "  3 => Box(:f, [:A], [:B]),\n",
       "  4 => Box(:abc, [:A,:B], [:C]) ],\n",
       "[ Wire((1,1) => (3,1)),\n",
       "  Wire((1,1) => (4,1)),\n",
       "  Wire((3,1) => (2,1)),\n",
       "  Wire((4,1) => (2,2)) ])"
      ]
     },
     "execution_count": 24,
     "metadata": {},
     "output_type": "execute_result"
    }
   ],
   "source": [
    "(mcopy((Ports([A]))) ⊗ create(Ports([B]))) ⊚ (f⊗ WiringDiagram(Hom(:abc, A⊗B, C)))"
   ]
  },
  {
   "cell_type": "code",
   "execution_count": 25,
   "metadata": {},
   "outputs": [
    {
     "data": {
      "text/plain": [
       "WiringDiagram([A], [A,A,B], \n",
       "[ 1 => {inputs},\n",
       "  2 => {outputs},\n",
       "   ],\n",
       "[ Wire((1,1) => (2,1)),\n",
       "  Wire((1,1) => (2,2)) ])"
      ]
     },
     "execution_count": 25,
     "metadata": {},
     "output_type": "execute_result"
    }
   ],
   "source": [
    "mcopy((Ports([A]))) ⊗ create(Ports([B]))"
   ]
  },
  {
   "cell_type": "code",
   "execution_count": 26,
   "metadata": {},
   "outputs": [
    {
     "ename": "MethodError",
     "evalue": "MethodError: no method matching braid(::WiringDiagram)\nClosest candidates are:\n  braid(!Matched::NLayer, !Matched::NLayer) at /Users/jpf/.julia/dev/Catlab/src/wiring_diagrams/Layers.jl:174\n  braid(!Matched::Catlab.Algebra.Tree.NFormula, !Matched::Catlab.Algebra.Tree.NFormula) at /Users/jpf/.julia/dev/Catlab/src/algebra/Tree.jl:122\n  braid(!Matched::Catlab.Doctrines.SymmetricMonoidalCategory.Ob, !Matched::Catlab.Doctrines.SymmetricMonoidalCategory.Ob) at none:0\n  ...",
     "output_type": "error",
     "traceback": [
      "MethodError: no method matching braid(::WiringDiagram)\nClosest candidates are:\n  braid(!Matched::NLayer, !Matched::NLayer) at /Users/jpf/.julia/dev/Catlab/src/wiring_diagrams/Layers.jl:174\n  braid(!Matched::Catlab.Algebra.Tree.NFormula, !Matched::Catlab.Algebra.Tree.NFormula) at /Users/jpf/.julia/dev/Catlab/src/algebra/Tree.jl:122\n  braid(!Matched::Catlab.Doctrines.SymmetricMonoidalCategory.Ob, !Matched::Catlab.Doctrines.SymmetricMonoidalCategory.Ob) at none:0\n  ...",
      "",
      "Stacktrace:",
      " [1] top-level scope at In[26]:1"
     ]
    }
   ],
   "source": [
    "braid(mcopy((Ports([A]))) ⊗ create(Ports([B])))"
   ]
  },
  {
   "cell_type": "code",
   "execution_count": 29,
   "metadata": {},
   "outputs": [
    {
     "data": {
      "text/plain": [
       "WiringDiagram([A], [A], \n",
       "[ 1 => {inputs},\n",
       "  2 => {outputs},\n",
       "   ],\n",
       "[ Wire((1,1) => (2,1)),\n",
       "  Wire((1,1) => (2,1)) ])"
      ]
     },
     "execution_count": 29,
     "metadata": {},
     "output_type": "execute_result"
    }
   ],
   "source": [
    "mcopy((Ports([A]))) ⊚ mmerge(Ports([A]))"
   ]
  },
  {
   "cell_type": "code",
   "execution_count": 30,
   "metadata": {},
   "outputs": [
    {
     "data": {
      "text/plain": [
       "WiringDiagram([A], [], \n",
       "[ 1 => {inputs},\n",
       "  2 => {outputs},\n",
       "   ],\n",
       "[  ])"
      ]
     },
     "execution_count": 30,
     "metadata": {},
     "output_type": "execute_result"
    }
   ],
   "source": [
    "delete(Ports([A]))"
   ]
  },
  {
   "cell_type": "code",
   "execution_count": 36,
   "metadata": {},
   "outputs": [
    {
     "data": {
      "text/plain": [
       "WiringDiagram([A,B], [B,A], \n",
       "[ 1 => {inputs},\n",
       "  2 => {outputs},\n",
       "   ],\n",
       "[ Wire((1,1) => (2,2)),\n",
       "  Wire((1,2) => (2,1)) ])"
      ]
     },
     "execution_count": 36,
     "metadata": {},
     "output_type": "execute_result"
    }
   ],
   "source": [
    "braid(Ports([A]), Ports([B]))"
   ]
  },
  {
   "cell_type": "code",
   "execution_count": 39,
   "metadata": {},
   "outputs": [
    {
     "data": {
      "text/plain": [
       "WiringDiagram([A], [A], \n",
       "[ 1 => {inputs},\n",
       "  2 => {outputs},\n",
       "   ],\n",
       "[ Wire((1,1) => (2,1)) ])"
      ]
     },
     "execution_count": 39,
     "metadata": {},
     "output_type": "execute_result"
    }
   ],
   "source": [
    "id(Ports([A]))"
   ]
  },
  {
   "cell_type": "code",
   "execution_count": 41,
   "metadata": {},
   "outputs": [
    {
     "name": "stdout",
     "output_type": "stream",
     "text": [
      "Array{Wire}((1,))\n",
      "  1: Wire{Nothing}\n",
      "    value: Nothing nothing\n",
      "    source: Port\n",
      "      box: Int64 1\n",
      "      kind: PortKind OutputPort::PortKind = 1\n",
      "      port: Int64 1\n",
      "    target: Port\n",
      "      box: Int64 2\n",
      "      kind: PortKind InputPort::PortKind = 0\n",
      "      port: Int64 1\n"
     ]
    }
   ],
   "source": [
    "wires(id(Ports([A]))) |> dump"
   ]
  }
 ],
 "metadata": {
  "kernelspec": {
   "display_name": "Julia 1.0.2",
   "language": "julia",
   "name": "julia-1.0"
  },
  "language_info": {
   "file_extension": ".jl",
   "mimetype": "application/julia",
   "name": "julia",
   "version": "1.0.2"
  }
 },
 "nbformat": 4,
 "nbformat_minor": 2
}
