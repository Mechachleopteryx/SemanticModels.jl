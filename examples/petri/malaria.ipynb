{
 "cells": [
  {
   "cell_type": "code",
   "execution_count": null,
   "metadata": {},
   "outputs": [],
   "source": [
    "using Petri\n",
    "using MacroTools\n",
    "import MacroTools: postwalk, striplines\n",
    "using ModelingToolkit\n",
    "import ModelingToolkit: Constant\n",
    "import Base: ==, ∈, show\n",
    "using Catlab.Doctrines\n",
    "import Catlab.Doctrines: ⊗, compose, otimes\n",
    "using Catlab.WiringDiagrams\n",
    "using Catlab.Graphics\n",
    "using SemanticModels.ModelTools.WiringDiagrams\n",
    "using Catlab.Graphics.Graphviz\n",
    "import Catlab.Graphics.Graphviz: Graph\n",
    "import Base: ^"
   ]
  },
  {
   "cell_type": "code",
   "execution_count": null,
   "metadata": {},
   "outputs": [],
   "source": [
    "using LabelledArrays\n",
    "using OrdinaryDiffEq\n",
    "import OrdinaryDiffEq: solve\n",
    "using Plots\n",
    "Petri.N(s) = 1 #sum(s[1:end-3])"
   ]
  },
  {
   "cell_type": "code",
   "execution_count": null,
   "metadata": {},
   "outputs": [],
   "source": [
    "⊗(f::OpenModel,g::OpenModel) = otimes(f,g)\n",
    "⊚(f::OpenModel,g::OpenModel) = compose(f,g)\n",
    "\n",
    "^(x::Doctrines.FreeSymmetricMonoidalCategory.Ob{:generator}, n::Int) = foldl(⊗, x for i in 1:n)\n",
    "^(f::Doctrines.FreeSymmetricMonoidalCategory.Hom{:id}, n::Int64) = foldl(⊗, f for i in 1:n)\n",
    "\n",
    "conj(a::OpenModel, b::OpenModel) = compose(b,a,b)\n",
    "conj(a, b) = compose(b,a,b) \n",
    "\"\"\" op(f::Model)\n",
    "\n",
    "return the opposite model you get by reversing the direction of all the transitions\n",
    "\"\"\"\n",
    "op(f::Model) = Model(f.S, map(f.Δ) do t reverse(t) end)\n",
    "\n",
    "op(f::OpenModel) = OpenModel(f.dom, op(f.model), f.codom)\n",
    "wd(ex) = to_wiring_diagram(ex)\n",
    "\n",
    "function compile(expr::Doctrines.FreeSymmetricMonoidalCategory.Hom{:compose}, ctx::Dict)\n",
    "#     println(\"∘\")\n",
    "    compose(compile.(expr.args, (ctx,)))\n",
    "end\n",
    "function compile(expr::Doctrines.FreeSymmetricMonoidalCategory.Hom{:otimes}, ctx::Dict)\n",
    "#     println(\"⊗\")\n",
    "    otimes(compile.(expr.args, (ctx,)))\n",
    "end\n",
    "function compile(expr, ctx::Dict)\n",
    "    # @show expr\n",
    "    return ctx[expr]\n",
    "end\n"
   ]
  },
  {
   "cell_type": "code",
   "execution_count": null,
   "metadata": {},
   "outputs": [],
   "source": [
    "function show(io::IO, z::Petri.Model)\n",
    "    X, Y = z.S, z.Δ\n",
    "    compact = get(io, :compact, true)\n",
    "    if compact\n",
    "        x,y = length(X), length(Y)\n",
    "        print(io,\"Model(∣S∣=$x,∣Δ∣=$y)\")\n",
    "    else\n",
    "        print(io,\"Model(S=$X, Δ=$Y)\")\n",
    "    end\n",
    "end\n",
    "function show(io::IO, z::OpenModel)\n",
    "    X,Y = z.dom, z.codom\n",
    "    compact = get(io, :compact, true)\n",
    "    if compact\n",
    "        x,y = length(X), length(Y)\n",
    "        print(io,\"OpenModel:$x→$y with \")\n",
    "        show(io,z.model)\n",
    "    else\n",
    "        print(io,\"Domain: $X\\nCodomain: $Y\\nModel: \")\n",
    "        show(io, z.model)\n",
    "    end\n",
    "end\n",
    "\n",
    "\n",
    "function debug_show(io::IO, f::Model)\n",
    "    X,Y = f.S, f.Δ\n",
    "    print(io,\"Model(S=$X, Δ=\")\n",
    "    if length(Y) == 0\n",
    "        print(\"[])\")\n",
    "    else\n",
    "        for (i,t) in enumerate(Y)\n",
    "            if i == 1\n",
    "                print(io, \"[\")\n",
    "                print(io, \"$(t[1])→$(t[2]),\")\n",
    "            end\n",
    "            if 1 < i < length(Y)\n",
    "                print(io, \" $(t[1])→$(t[2]),\")\n",
    "            end\n",
    "            if i == length(Y)\n",
    "                print(io, \" $(t[1])→$(t[2])])\\n\")\n",
    "            end\n",
    "        end\n",
    "    end\n",
    "end\n",
    "\n",
    "debug_show(io::IO, f::OpenModel) = begin\n",
    "    X,Y = f.dom, f.codom\n",
    "    print(io,\"Domain: $X\\nCodomain: $Y\\nModel: \")\n",
    "    debug_show(io, f.model)\n",
    "    println(io, \"\\n\")\n",
    "    g = Graph(f)\n",
    "end\n",
    "            \n",
    "debug_show(f::OpenModel) = begin\n",
    "    debug_show(stdout, f)\n",
    "end\n",
    "\n",
    "function debug_show(io::IO, f::OpenModel, fname::String)\n",
    "    g = debug_show(io, f)\n",
    "    output = run_graphviz(g, prog=\"dot\", format=\"svg\")\n",
    "    write(fname, output)\n",
    "    return g\n",
    "end\n",
    "\n",
    "debug_show(f::OpenModel, fname::String) = debug_show(stdout, f, fname)\n",
    "odeexpr(m::OpenModel) = symbolic_symplify(Petri.odefunc(m.model, :state)) |> striplines"
   ]
  },
  {
   "cell_type": "code",
   "execution_count": null,
   "metadata": {},
   "outputs": [],
   "source": [
    "Base.show(io::IO, mime::MIME\"text/html\", f::OpenModel) = begin \n",
    "    g = debug_show(io, f)\n",
    "    show(io, mime, g)\n",
    "    g\n",
    "end\n",
    "import Base.display\n",
    "display(f::OpenModel) = debug_show(f)\n",
    "display(f::WiringDiagram) = to_graphviz(f, direction=:horizontal)"
   ]
  },
  {
   "cell_type": "code",
   "execution_count": null,
   "metadata": {},
   "outputs": [],
   "source": [
    "Base.Filesystem.mkpath(\"img\")\n",
    "X = Petri.X;"
   ]
  },
  {
   "cell_type": "markdown",
   "metadata": {},
   "source": [
    "# Primitives of Petri Net Modeling Framework\n",
    "\n",
    "We start by defining some primitive models. First is the spontaneous reaction. It takes $X_1\\rightarrow X_2$"
   ]
  },
  {
   "cell_type": "code",
   "execution_count": null,
   "metadata": {},
   "outputs": [],
   "source": [
    "println(\"\\nSpontaneous reaction: spontaneous = X₁→X₂\")\n",
    "spontaneous = OpenModel([1,2], Model([1,2], [(X[1],X[2])]), [1,2])\n",
    "display(spontaneous)"
   ]
  },
  {
   "cell_type": "markdown",
   "metadata": {},
   "source": [
    "We can compose models by wiring the inputs of one to the outputs of another. We define most of our primitives to have all variables as inputs and outputs."
   ]
  },
  {
   "cell_type": "code",
   "execution_count": null,
   "metadata": {},
   "outputs": [],
   "source": [
    "display(compose(spontaneous,spontaneous))"
   ]
  },
  {
   "cell_type": "markdown",
   "metadata": {},
   "source": [
    "1. TODO: Diagram for teaching how to compose petri nets\n",
    "2. TODO: label the wires with Variable names\n",
    "```julia\n",
    "  label!(g::Grapviz, v::Vector{Symbol})\n",
    "```\n",
    "3. TODO: fix SIIR example\n",
    "4. TODO: don't say SMC\n",
    "5. Give demo without saying categories"
   ]
  },
  {
   "cell_type": "markdown",
   "metadata": {},
   "source": [
    "We can also combine models by stacking them one on top of the other independently"
   ]
  },
  {
   "cell_type": "code",
   "execution_count": null,
   "metadata": {},
   "outputs": [],
   "source": [
    "println(\"\\nParallel reaction: parallel = spontaneous ⊗ spontaneous = X₁→X₂, X₃→X₄\")\n",
    "parallel = spontaneous ⊗ spontaneous\n",
    "display(parallel)"
   ]
  },
  {
   "cell_type": "markdown",
   "metadata": {},
   "source": [
    "In order to introduce new variables, you can use the `eye(1)` model with represents the identity process on 1 variable. This pattern of $a\\otimes I; I \\otimes b$ will be very important. We will use the $f;g$ operator to denote composition of $f$ followed by $g$ because the mathematical symbol $f\\circ g$ is already defined as $g(f)$ which is backwards. "
   ]
  },
  {
   "cell_type": "code",
   "execution_count": null,
   "metadata": {},
   "outputs": [],
   "source": [
    "display(compose(spontaneous ⊗ eye(1), eye(1) ⊗ spontaneous))"
   ]
  },
  {
   "cell_type": "code",
   "execution_count": null,
   "metadata": {},
   "outputs": [],
   "source": [
    "println(\"\\nInfection reaction infect = X₁+X₂→ 2X₂\")\n",
    "infect = OpenModel([1,2], Model([1,2], [(X[1]+X[2], 2*X[2])]), [1,2])\n",
    "display(infect)"
   ]
  },
  {
   "cell_type": "markdown",
   "metadata": {},
   "source": [
    "You can reverse the inputs of a model using a special model called $\\sigma$"
   ]
  },
  {
   "cell_type": "code",
   "execution_count": null,
   "metadata": {},
   "outputs": [],
   "source": [
    "σ() = OpenModel([1,2], NullModel(2), [2,1])\n",
    "spontaneousdag = compose(σ(), spontaneous)\n",
    "display(spontaneousdag)"
   ]
  },
  {
   "cell_type": "markdown",
   "metadata": {},
   "source": [
    "We now have everything we need to make an SIS model. The `odeexpr` function converts a petri net into a program for evaluating the corresponding differential equations. "
   ]
  },
  {
   "cell_type": "code",
   "execution_count": null,
   "metadata": {},
   "outputs": [],
   "source": [
    "sis = compose(infect, spontaneousdag)\n",
    "@show odeexpr(sis)\n",
    "display(sis)"
   ]
  },
  {
   "cell_type": "markdown",
   "metadata": {},
   "source": [
    "The SIR model can be built from these primitives too. We use the $a\\otimes I; I \\otimes b$ pattern to introduce a third variable $X_3=R$"
   ]
  },
  {
   "cell_type": "code",
   "execution_count": null,
   "metadata": {},
   "outputs": [],
   "source": [
    "sir = compose(infect⊗eye(1), eye(1)⊗spontaneous)\n",
    "@show odeexpr(sir)\n",
    "display(sir)"
   ]
  },
  {
   "cell_type": "markdown",
   "metadata": {},
   "source": [
    "Every model you build is a new primitive that you can use to make more complex models. For example $sir\\otimes sir$ is two uncoupled diseases."
   ]
  },
  {
   "cell_type": "code",
   "execution_count": null,
   "metadata": {},
   "outputs": [],
   "source": [
    "display(sir⊗sir)"
   ]
  },
  {
   "cell_type": "markdown",
   "metadata": {},
   "source": [
    "But real world systems don't combine independently all too often, we need a way to couple things. The family of models $m_{i,j}$ combine the $i$th and $j$th input states into one input state, by taking the disjoint union of their transitions. We can use these models to combine systems by \"state sharing\""
   ]
  },
  {
   "cell_type": "code",
   "execution_count": null,
   "metadata": {},
   "outputs": [],
   "source": [
    "m₁₂ = OpenModel([1,2], NullModel(2), [1,1])\n",
    "m₁₃ = OpenModel([1,2,3], NullModel(3), [1,2,1,3])\n",
    "\n",
    "println(\"\\nParallel Infections reactions infect ⊗ infect = X₁+X₂→ 2X₂ && X₃ +X₄ → 2X₄\")\n",
    "# set the codomains to be narrower to help with composition\n",
    "infect′ = OpenModel([1,2], infect.model, [2])\n",
    "spontaneous′ = OpenModel([1], spontaneous.model, [2])\n",
    "parinfect′ = infect′ ⊗ infect′\n",
    "display(parinfect′)"
   ]
  },
  {
   "cell_type": "code",
   "execution_count": null,
   "metadata": {},
   "outputs": [],
   "source": [
    "competing_disease = compose(m₁₃, parinfect′) \n",
    "display(competing_disease)"
   ]
  },
  {
   "cell_type": "code",
   "execution_count": null,
   "metadata": {},
   "outputs": [],
   "source": [
    "display(spontaneous′⊗spontaneous′)"
   ]
  },
  {
   "cell_type": "code",
   "execution_count": null,
   "metadata": {},
   "outputs": [],
   "source": [
    "mutrec = OpenModel([1,2], Model([1,2,3], [(X[1],X[3]), (X[2], X[3])]), [3])\n",
    "display(mutrec)"
   ]
  },
  {
   "cell_type": "code",
   "execution_count": null,
   "metadata": {},
   "outputs": [],
   "source": [
    "siir = compose(competing_disease, spontaneous′⊗spontaneous′, mutrec)\n",
    "display(siir)"
   ]
  },
  {
   "cell_type": "markdown",
   "metadata": {},
   "source": [
    "An interesting lemma is that if you have an OpenModel $f$ and a pair of states $x,y$ with no common transition, such that $x\\notin dom(f)$ and $y \\notin codom(f)$ there is no OpenModel $g$ such that $f;g$ (or $g;f$) has a transition between $x,y$. \n",
    "\n",
    "This is why we prefer to define primitives such that $dom(f) = codom(f) = States(f)$ when convenient."
   ]
  },
  {
   "cell_type": "code",
   "execution_count": null,
   "metadata": {},
   "outputs": [],
   "source": [
    "println(\"\\nTesting the compose and otimes with parallel;(infect ⊗ I₂)\")\n",
    "m1 = compose(parallel, infect ⊗ eye(2))\n",
    "println(m1)\n",
    "debug_show(m1)"
   ]
  },
  {
   "cell_type": "markdown",
   "metadata": {},
   "source": [
    "## Ecological Models"
   ]
  },
  {
   "cell_type": "code",
   "execution_count": null,
   "metadata": {},
   "outputs": [],
   "source": [
    "println(\"\\nCreating food web processes birth, death, predation\")\n",
    "birth   = Model([1], [(X[1], 2X[1])])\n",
    "death   = Model([1, 2], [(X[1], X[2])])\n",
    "pred(α,β,γ) = Model([1, 2], [(α*X[1] + β*X[2], γ*X[2])])\n",
    "\n",
    "b = OpenModel([1], birth, [1])\n",
    "d = OpenModel([1], death, [1])\n",
    "p(α, β, γ) = OpenModel([1,2], pred(α, β, γ), [1,2])\n",
    "println(\"\\nCreating food web processes σ, predation†\")\n",
    "\n",
    "pdag(α,β,γ) = OpenModel([1,2], Model([1, 2], [(α*X[2] + β*X[1], γ*X[1])]), [1,2])\n",
    "\n",
    "# Catlab expressions for our variables\n",
    "Xob = Ob(FreeSymmetricMonoidalCategory, :X)\n",
    "idₓ = id(Xob)\n",
    "σh = braid(Xob, Xob)\n",
    "bh = Hom(:birth, Xob,Xob)\n",
    "dh = Hom(:death, Xob, Xob)\n",
    "ph = Hom(:predation, Xob^2, Xob^2)\n",
    "pdagh = Hom(Symbol(\"p⋆\"), Xob^2, Xob^2)\n",
    "lookuptable = Dict( idₓ=>eye(1), σh=>σ(), bh=>b, dh=>d, ph=>p(1,1,2))\n",
    "compile(x) = compile(x, lookuptable)"
   ]
  },
  {
   "cell_type": "markdown",
   "metadata": {},
   "source": [
    "## The Lotka Volterra Model\n",
    "\n",
    "A simple model of predator-prey dynamics that is widely used in ecology is the Lotka-Volterra model. The prey species grows exponentially, and is eaten by a predator species that suffers from contant probability of death (exponential decay). This model has periodic solutions that are non-trigonometric.\n",
    "\n",
    "\n",
    "<img src=\"./img/lotka_volterra_concept.svg\" width=\"45%\">"
   ]
  },
  {
   "cell_type": "code",
   "execution_count": null,
   "metadata": {},
   "outputs": [],
   "source": [
    "println(\"\\nbd = b⊗d\")\n",
    "bd = b⊗d\n",
    "println(bd.model.Δ)\n",
    "println(\"\\nlv2 = bd⊚p\")\n",
    "lvh = compose(bh⊗dh, ph)\n",
    "display(wd(lvh))"
   ]
  },
  {
   "cell_type": "code",
   "execution_count": null,
   "metadata": {},
   "outputs": [],
   "source": [
    "lv = compile(lvh)\n",
    "println(lv)\n",
    "@show odeexpr(lv)\n",
    "display(lv)"
   ]
  },
  {
   "cell_type": "markdown",
   "metadata": {},
   "source": [
    "\n",
    "### Food Chain\n",
    "\n",
    "The first predator is the second prey\n",
    "\n",
    "<img src=\"./img/foodchain_concept.svg\" width=\"50%\">"
   ]
  },
  {
   "cell_type": "code",
   "execution_count": null,
   "metadata": {},
   "outputs": [],
   "source": [
    "println(\"\\nbdd = b⊗d⊗d\")\n",
    "bdd = bd⊗d\n",
    "println(\"\\nbdb = b⊗d⊗b\")\n",
    "bdb = b⊗(d⊗b)\n",
    "println(\"bipredation is (p⊗I)⊚(I⊗p)\")\n",
    "bipredation = compose(p(1,1,2)⊗eye(1), eye(1)⊗p(1,1,2))\n",
    "println(\"\\nfoodchain is (bipredation)⊚(bdd). A fish, a bigger fish, and biggest fish\")\n",
    "foodchainh = compose(ph⊗idₓ, idₓ⊗ph, bh⊗dh⊗dh)\n",
    "homx = canonical(FreeSymmetricMonoidalCategory, foodchainh)\n",
    "println(\"Cannonical form construction proves:  $foodchainh == $homx\")\n",
    "#drawhom(foodchainh, \"img/foodchain_wd\")\n",
    "display(wd(foodchainh))"
   ]
  },
  {
   "cell_type": "code",
   "execution_count": null,
   "metadata": {},
   "outputs": [],
   "source": [
    "display(compile(foodchainh))"
   ]
  },
  {
   "cell_type": "code",
   "execution_count": null,
   "metadata": {},
   "outputs": [],
   "source": [
    "#compile(foodchainh) == foodchain"
   ]
  },
  {
   "cell_type": "code",
   "execution_count": null,
   "metadata": {},
   "outputs": [],
   "source": [
    "println(\"As an ordinary differential equation:\")\n",
    "odeexpr(foodchain).args[end].args[end].args[end]"
   ]
  },
  {
   "cell_type": "markdown",
   "metadata": {},
   "source": [
    "\n",
    "### Food Star\n",
    "\n",
    "The first predator is the second predator (with two independent prey species)\n",
    "\n",
    "<img src=\"./img/foodstar_concept.svg\" width=\"50%\">"
   ]
  },
  {
   "cell_type": "code",
   "execution_count": null,
   "metadata": {},
   "outputs": [],
   "source": [
    "foodstarh = compose(ph⊗idₓ, idₓ⊗compose(σh,ph, σh), bh⊗dh⊗bh)\n",
    "display(wd(foodstarh))"
   ]
  },
  {
   "cell_type": "code",
   "execution_count": null,
   "metadata": {},
   "outputs": [],
   "source": [
    "foodstar = compile(foodstarh) \n",
    "println(foodstar)\n",
    "\n",
    "homx = canonical(FreeSymmetricMonoidalCategory, foodstarh)\n",
    "println(\"Cannonical form construction proves:  $foodstarh == $homx\")\n",
    "println(\"As an ordinary differential equation:\")\n",
    "@show odeexpr(foodstar)\n",
    "display(foodstar)"
   ]
  },
  {
   "cell_type": "markdown",
   "metadata": {},
   "source": [
    "## Malaria\n",
    "\n",
    "\n",
    "<img src=\"./img/malaria_concept.svg\" width=\"25%\">"
   ]
  },
  {
   "cell_type": "code",
   "execution_count": null,
   "metadata": {},
   "outputs": [],
   "source": [
    "dualinfect = compose(ph⊗idₓ, idₓ⊗pdagh)\n",
    "cur = Hom(:cur, Xob⊗Xob, Xob⊗Xob)\n",
    "curdag = Hom(Symbol(\"cur⋆\"), Xob^2, Xob^2)\n",
    "inf = Hom(Symbol(\"inf¹³₂₃\"), Xob^3, Xob^3)\n",
    "#inf′ = Hom(Symbol(\"inf³¹₂₁\"), Xob^3, Xob^3)\n",
    "#malariah = compose(inf⊗idₓ, idₓ⊗compose(compose(σh⊗idₓ, idₓ⊗σh), inf, compose(idₓ⊗idₓ⊗idₓ, idₓ⊗σh, σh⊗idₓ)),cur⊗conj(cur, σh))\n",
    "malariah = compose(inf⊗idₓ, idₓ⊗compose(σh⊗idₓ, idₓ⊗σh, σh⊗idₓ), idₓ⊗inf, idₓ⊗conj(σh⊗idₓ, idₓ⊗σh), cur⊗compose(σh, cur, σh))\n",
    "#drawhom(malariah, \"img/malaria_wd\")"
   ]
  },
  {
   "cell_type": "code",
   "execution_count": null,
   "metadata": {},
   "outputs": [],
   "source": [
    "display(wd(malariah))"
   ]
  },
  {
   "cell_type": "code",
   "execution_count": null,
   "metadata": {},
   "outputs": [],
   "source": [
    "cure = conj(spontaneous, σ())\n",
    "display(cure)"
   ]
  },
  {
   "cell_type": "code",
   "execution_count": null,
   "metadata": {},
   "outputs": [],
   "source": [
    "curedag = op(cure)\n",
    "curedag == spontaneous"
   ]
  },
  {
   "cell_type": "markdown",
   "metadata": {},
   "source": [
    "In order to build the mosquito borne illness model, we need a new primative. In this case $X_1 + X_3 \\rightarrow X_2 + X_3$ "
   ]
  },
  {
   "cell_type": "code",
   "execution_count": null,
   "metadata": {},
   "outputs": [],
   "source": [
    "trinary  = OpenModel([1,2,3], Model([1,2,3], [(X[1]+X[3], X[2]+X[3])]), [1,2,3])\n",
    "display(trinary)"
   ]
  },
  {
   "cell_type": "code",
   "execution_count": null,
   "metadata": {},
   "outputs": [],
   "source": [
    "inf′ = compose(σh⊗idₓ, idₓ⊗σh, σh⊗idₓ, inf, conj(σh⊗idₓ, idₓ⊗σh))\n",
    "display(wd(inf′))"
   ]
  },
  {
   "cell_type": "code",
   "execution_count": null,
   "metadata": {},
   "outputs": [],
   "source": [
    "dualinfecth = compose(inf⊗idₓ, idₓ⊗inf′)\n",
    "display(wd(dualinfecth))"
   ]
  },
  {
   "cell_type": "code",
   "execution_count": null,
   "metadata": {},
   "outputs": [],
   "source": [
    "dualinfect = compile(dualinfecth)\n",
    "display(dualinfect)"
   ]
  },
  {
   "cell_type": "code",
   "execution_count": null,
   "metadata": {},
   "outputs": [],
   "source": [
    "lookuptable = Dict(bh=>b, dh=>d, σh=>σ(), ph=>p(1,1,1.15), inf=>trinary,idₓ=>eye(1), cur=>cure)\n",
    "malaria = compile(malariah)\n",
    "homx = canonical(FreeSymmetricMonoidalCategory, malariah)\n",
    "println(\"Cannonical form construction proves:\\n\\t  $malariah \\n\\t== \\n\\t  $homx\")\n",
    "println(\"As an ordinary differential equation:\")\n",
    "@show odeexpr(malaria)\n",
    "debug_show(malaria, \"img/malaria.svg\")"
   ]
  },
  {
   "cell_type": "code",
   "execution_count": null,
   "metadata": {},
   "outputs": [],
   "source": [
    "f = Petri.mk_function(malaria.model)"
   ]
  },
  {
   "cell_type": "code",
   "execution_count": null,
   "metadata": {},
   "outputs": [],
   "source": [
    "u0 = @LArray [20,1,0,100.0] (:X₁, :X₂, :X₃, :X₄)\n",
    "varnames = [\"\\$S_p\\$\", \"\\$I_p\\$\", \"\\$I_m\\$\", \"\\$S_m\\$\"];"
   ]
  },
  {
   "cell_type": "markdown",
   "metadata": {},
   "source": [
    "## Endemic Malaria\n",
    "Because we assumed that Malaria is SIS for both People and Mosquitos the only solution is endemic malaria, where there is a constant fraction of infected people at equilibrium."
   ]
  },
  {
   "cell_type": "code",
   "execution_count": null,
   "metadata": {},
   "outputs": [],
   "source": [
    "βpm = 0.0045\n",
    "βmp = 0.0045\n",
    "ρp = 0.5\n",
    "ρm = 0.04\n",
    "νp = 0.006\n",
    "\n",
    "νm = 0.1\n",
    "\n",
    "params = [βpm, βmp,ρp,ρm]\n",
    "prob = ODEProblem(f,u0,(0.0,365.0),params)\n",
    "sol = solve(prob,Tsit5(), tol=1e-5)\n",
    "@show sol[end]\n",
    "\n",
    "varnames = [:Sp, :Ip, :Im, :Sm, :Dp, :Dm]\n",
    "\n",
    "plt = plot(sol, vars =1:length(varnames)-2, labels=varnames)\n",
    "\n",
    "savefig(plt, \"img/malaria_sol_endemic.png\")\n",
    "plt"
   ]
  },
  {
   "cell_type": "markdown",
   "metadata": {},
   "source": [
    "# Malaria Driven Extinction\n",
    "\n",
    "In the case where malaria is fatal to some fraction of the population and you start off with more mosquitos than people:\n",
    "\n",
    "    Blessed are the mosquitos, for they shall inherit the earth"
   ]
  },
  {
   "cell_type": "code",
   "execution_count": null,
   "metadata": {},
   "outputs": [],
   "source": [
    "malvitalh = compose(malariah, bh⊗dh⊗dh⊗bh)\n",
    "#compose(malariah, bh⊗dh⊗dh⊗bh)"
   ]
  },
  {
   "cell_type": "code",
   "execution_count": null,
   "metadata": {},
   "outputs": [],
   "source": [
    "display(wd(malvitalh))"
   ]
  },
  {
   "cell_type": "code",
   "execution_count": null,
   "metadata": {},
   "outputs": [],
   "source": [
    "malvital = compose(malaria, b⊗d⊗d⊗b)\n",
    "display(malvital)"
   ]
  },
  {
   "cell_type": "code",
   "execution_count": null,
   "metadata": {},
   "outputs": [],
   "source": [
    "println(\"As an ordinary differential equation:\")\n",
    "@show fex = odeexpr(malvital)\n",
    "f = Petri.mk_function(malvital.model)"
   ]
  },
  {
   "cell_type": "markdown",
   "metadata": {},
   "source": [
    "## Endemic Malaria with Vital dynamics\n",
    "\n",
    "In the case where malaria is fatal to some fraction of the population and \n",
    "\n",
    "    Blessed are mosquitos for they shall inherit the earth"
   ]
  },
  {
   "cell_type": "code",
   "execution_count": null,
   "metadata": {},
   "outputs": [],
   "source": [
    "u0 = @LArray [20,1,0,100,0.1,0] (:X₁, :X₂, :X₃, :X₄, :X₅, :X₆)\n",
    "varnames = [\"\\$S_p\\$\", \"\\$I_p\\$\", \"\\$I_m\\$\", \"\\$S_m\\$\", \"\\$Dp\\$\", \"\\$Dm\\$\"];"
   ]
  },
  {
   "cell_type": "code",
   "execution_count": null,
   "metadata": {},
   "outputs": [],
   "source": [
    "βpm = 0.045\n",
    "βmp = 0.045\n",
    "ρp = 0.1\n",
    "ρm = 0.1\n",
    "νp = 0.1\n",
    "δp = 0.1\n",
    "δm = 0.1\n",
    "νm = 0.1\n",
    "\n",
    "params = [βpm, βmp,ρp,ρm, νp, δp, δm, νm]\n",
    "prob = ODEProblem(f,u0,(0.0,45.0),params)\n",
    "sol = solve(prob,Tsit5(), tol=1e-5)\n",
    "@show sol[end]\n",
    "\n",
    "varnames = [:Sp, :Ip, :Im, :Sm, :Dp, :Dm]\n",
    "\n",
    "plt = plot(sol, vars =1:length(varnames)-2, labels=varnames)\n",
    "# ylims!(plt, (0,100))\n",
    "# xlims!(plt, (0,50))\n",
    "# yaxis!(\"amount\", :log10)\n",
    "savefig(plt, \"img/malaria_sol_fatal.png\")\n",
    "plt"
   ]
  },
  {
   "cell_type": "code",
   "execution_count": null,
   "metadata": {},
   "outputs": [],
   "source": [
    "u0 = @LArray [20,1,0,100,0.1,0] (:X₁, :X₂, :X₃, :X₄, :X₅, :X₆)\n",
    "varnames = [\"\\$S_p\\$\", \"\\$I_p\\$\", \"\\$I_m\\$\", \"\\$S_m\\$\", \"\\$Dp\\$\", \"\\$Dm\\$\"];"
   ]
  },
  {
   "cell_type": "code",
   "execution_count": null,
   "metadata": {},
   "outputs": [],
   "source": [
    "βpm = 0.024\n",
    "βmp = 0.024\n",
    "ρp = 0.3\n",
    "ρm = 0.3\n",
    "νp = 0.4\n",
    "δp = 0.051\n",
    "δm = 0.02025\n",
    "νm = 0.1\n",
    "\n",
    "params = [βpm, βmp,ρp,ρm, νp, δp, δm, νm]\n",
    "prob = ODEProblem(f,u0,(0.0,150.0),params)\n",
    "sol = solve(prob,Tsit5(), tol=1e-5)\n",
    "@show sol[end]\n",
    "\n",
    "varnames = [:Sp, :Ip, :Im, :Sm, :Dp, :Dm]\n",
    "\n",
    "plt = plot(sol, vars =1:length(varnames)-2, labels=varnames)\n",
    "# ylims!(plt, (0,100))\n",
    "# xlims!(plt, (0,50))\n",
    "# yaxis!(\"amount\", :log10)\n",
    "savefig(plt, \"img/malaria_sol_fatal.png\")\n",
    "plt"
   ]
  },
  {
   "cell_type": "markdown",
   "metadata": {},
   "source": [
    "## Mosquito Hunting Birds\n",
    "\n",
    "\n",
    "<img src=\"./img/birdmal_concept.svg\" width=\"33%\">"
   ]
  },
  {
   "cell_type": "code",
   "execution_count": null,
   "metadata": {},
   "outputs": [],
   "source": [
    "birdsh = compose(σh⊗idₓ,idₓ⊗ph, σh⊗idₓ, idₓ⊗ph)\n",
    "display(wd(birdsh))"
   ]
  },
  {
   "cell_type": "code",
   "execution_count": null,
   "metadata": {},
   "outputs": [],
   "source": [
    "drawhom(birdsh, \"img/birds_wd\")\n",
    "homx = canonical(FreeSymmetricMonoidalCategory, birdsh)\n",
    "println(\"Cannonical form construction proves:  $birdsh == $homx\")\n",
    "# vitals for Sp, Ip, Im, Sm, B are:\n",
    "# born, die (of malaria), die (of malaria), born, die (starvation)\n",
    "vitalsh = bh⊗dh⊗dh⊗bh⊗dh\n",
    "birdmalh = compose(malvitalh⊗idₓ, idₓ^2⊗compose(birdsh, idₓ^2⊗dh))\n",
    "drawhom(birdmalh, \"img/birdmal_wd\")\n",
    "display(wd(birdmalh))"
   ]
  },
  {
   "cell_type": "code",
   "execution_count": null,
   "metadata": {},
   "outputs": [],
   "source": [
    "birds = compose(σ()⊗eye(1), eye(1)⊗p(1,1,1.15), σ()⊗eye(1), eye(1)⊗p(1,1,1.15))\n",
    "debug_show(birds, \"img/birds.svg\")\n",
    "birdmal = compile(birdmalh)\n",
    "debug_show(birdmal, \"img/birdmal.svg\")\n",
    "display(OpenModel([], birdmal.model, []))"
   ]
  },
  {
   "cell_type": "code",
   "execution_count": null,
   "metadata": {},
   "outputs": [],
   "source": [
    "# homx = canonical(FreeSymmetricMonoidalCategory, birdmalh)\n",
    "# println(\"Cannonical form construction proves:\\n\\t$birdmalh\\n\\t  ==\\n\\t$homx\")"
   ]
  },
  {
   "cell_type": "code",
   "execution_count": null,
   "metadata": {},
   "outputs": [],
   "source": [
    "println(\"As an ordinary differential equation:\")\n",
    "fex = @show odeexpr(birdmal)\n",
    "Petri.N(s) = 1 #sum(s[1:end-3])\n",
    "f = Petri.mk_function(birdmal.model)"
   ]
  },
  {
   "cell_type": "code",
   "execution_count": null,
   "metadata": {},
   "outputs": [],
   "source": [
    "#u0 = @LArray [20,1,0,40,0.1,0,0,0.0] (:X₁, :X₂, :X₃, :X₄, :X₅, :X₆, :X₇, :X₈)\n",
    "# βpm = 1\n",
    "# βmp = 1\n",
    "# ρp = 0.005\n",
    "# ρm = 0.004\n",
    "# ηI = 1\n",
    "# ηS = 15\n",
    "# νp = 0.0005\n",
    "# δp = 0.05\n",
    "# δm = 0.01\n",
    "# νm = 0.31\n",
    "# δb = 0.09"
   ]
  },
  {
   "cell_type": "code",
   "execution_count": null,
   "metadata": {},
   "outputs": [],
   "source": [
    "u0 = @LArray [20,1,0,100,0.1,0,0,0.0] (:X₁, :X₂, :X₃, :X₄, :X₅, :X₆, :X₇, :X₈)\n",
    "varnames = [\"\\$S_p\\$\", \"\\$I_p\\$\", \"\\$I_m\\$\", \"\\$S_m\\$\", \"\\$B\\$\", \"\\$Dp\\$\", \"\\$Dm\\$\", \"\\$D_b\\$\"];"
   ]
  },
  {
   "cell_type": "markdown",
   "metadata": {},
   "source": [
    "## Malaria Driven Extinction\n",
    "\n",
    "In the followin setting everyone dies, but then the mosquito population becomes locked in a Lotka-Volterra struggle for the earth."
   ]
  },
  {
   "cell_type": "code",
   "execution_count": null,
   "metadata": {},
   "outputs": [],
   "source": [
    "βpm = 0.045\n",
    "βmp = 0.045\n",
    "ρp = 0.5\n",
    "ρm = 0.04\n",
    "ηI = 0.12\n",
    "ηS = 0.12\n",
    "νp = 0.006\n",
    "δp = 1.0\n",
    "δm = 0.03\n",
    "νm = 0.1\n",
    "δb = 0.85\n",
    "params = [βpm, βmp,ρp,ρm,ηI, ηS, νp, δp, δm, νm, δb]\n",
    "prob = ODEProblem(f,u0,(0.0,365.0),params)\n",
    "sol = solve(prob,Tsit5(), tol=1e-5)\n",
    "@show sol[end]\n",
    "\n",
    "varnames = [:Sp, :Ip, :Im, :Sm, :B, :Dp, :Dm, :Db]\n",
    "\n",
    "plt = plot(sol, vars =1:length(varnames)-3, labels=varnames)\n",
    "ylims!(plt, (0,100))\n",
    "xlims!(plt, (0,50))\n",
    "# yaxis!(\"amount\", :log10)\n",
    "savefig(plt, \"img/birdmal_sol_subcritical.png\")\n",
    "plt"
   ]
  },
  {
   "cell_type": "code",
   "execution_count": null,
   "metadata": {},
   "outputs": [],
   "source": [
    "plt = plot(sol, vars =1:length(varnames)-3, labels=varnames)\n",
    "#yaxis!(plt, (0,30))"
   ]
  },
  {
   "cell_type": "markdown",
   "metadata": {},
   "source": [
    "## Endemic Malaria\n",
    "\n",
    "In the following example, malaria is endemic and cyclical within a population. After a phase of initially wild fluctuation, we settle down into a rythm of cyclic epidemics. The exponential growth and decay cycles are driven by the Lotka Volterra dynamics between the birds and the mosquitos."
   ]
  },
  {
   "cell_type": "code",
   "execution_count": null,
   "metadata": {},
   "outputs": [],
   "source": [
    "βpm = 0.045\n",
    "βmp = 0.045\n",
    "ρp = 1.2\n",
    "ρm = 0.4\n",
    "ηI = 0.05\n",
    "ηS = 0.05\n",
    "νp = 0.600\n",
    "δp = 1.9\n",
    "δm = 0.03\n",
    "νm = 0.6\n",
    "δb = 0.85\n",
    "params = [βpm, βmp,ρp,ρm,ηI, ηS, νp, δp, δm, νm, δb]\n",
    "prob = ODEProblem(f,u0,(0.0,375.0),params)\n",
    "sol = solve(prob,Tsit5(), tol=1e-5)\n",
    "@show sol[end]\n",
    "\n",
    "plt = plot(sol, vars =1:length(varnames)-3, labels=varnames)\n",
    "ylims!(plt, (0,250))\n",
    "xlims!(plt, (0,175))\n",
    "savefig(plt, \"img/birdmal_sol_multiepi.pdf\")\n",
    "plt"
   ]
  },
  {
   "cell_type": "markdown",
   "metadata": {},
   "source": [
    "Zooming in on a cycle you can see that the mosquitos and birds interact with a mixture of Lotka Volterra dynamics and SIS dynamics. The population of birds tracks the population of mosquitos, as the number of birds increases, they drive mosquitos to near extinction. Once there are no birds to eat the mosquitos, the population of mosquitos explodes. At this point the human population has rebounded and is decimated by an epdidemic of malaria. The epidemic ends when the number of human hosts is small enough to all for recovery of the infected mosquitos. Recall that we assumed that Malaria is (SISD) in both people and mosquitos.\n",
    "\n",
    "\n",
    "The coupled model of Malaria (without Vital Dynamics): \n",
    "- $X_1\\rightarrow S_p$\n",
    "- $X_2\\rightarrow I_p$\n",
    "- $X_3\\rightarrow I_m$\n",
    "- $X_4\\rightarrow S_m$\n",
    "\n",
    "![The coupled model of Malaria (without Vital Dynamics)](./img/malaria.svg)\n",
    "\n",
    "You can see from the zoomed in plot that the malaria outbreaks occur approximately half a cycle shifted from the Lotka Volterra cycle in the mosquito population."
   ]
  },
  {
   "cell_type": "code",
   "execution_count": null,
   "metadata": {},
   "outputs": [],
   "source": [
    "plt = plot(sol, vars =1:length(varnames)-3, labels=varnames)\n",
    "ylims!(plt, (0,175))\n",
    "xlims!(plt, (130,175))\n",
    "savefig(plt, \"img/birdmal_sol_multiepi_zoom.pdf\")\n",
    "plt"
   ]
  },
  {
   "cell_type": "markdown",
   "metadata": {},
   "source": [
    "## Unstable System\n",
    "\n",
    "The following choice of parameters exhibits an unstable dynamics, without approaching a periodic equilibrium."
   ]
  },
  {
   "cell_type": "code",
   "execution_count": null,
   "metadata": {},
   "outputs": [],
   "source": [
    "βpm = 0.045\n",
    "βmp = 0.045\n",
    "ρp = 0.5\n",
    "ρm = 0.05\n",
    "ηI = 0.6\n",
    "ηS = 0.12\n",
    "νp = 0.04\n",
    "δp = 1.9\n",
    "δm = 0.03\n",
    "νm = 0.1\n",
    "δb = 0.85\n",
    "params = [βpm, βmp,ρp,ρm,ηI, ηS, νp, δp, δm, νm, δb]\n",
    "prob = ODEProblem(f,u0,(0.0,560.0),params)\n",
    "sol = solve(prob,Tsit5(), tol=1e-5)\n",
    "@show sol[end]\n",
    "\n",
    "varnames = [:Sp, :Ip, :Im, :Sm, :B, :Dp, :Dm, :Db]\n",
    "\n",
    "plt = plot(sol, vars =1:length(varnames)-3, labels=varnames)\n",
    "#ylims!(plt, (0,90))\n",
    "#xlims!(plt, (0,50))\n",
    "# yaxis!(\"amount\", :log10)\n",
    "savefig(plt, \"img/birdmal_sol_subcritical.png\")\n",
    "plt"
   ]
  },
  {
   "cell_type": "markdown",
   "metadata": {},
   "source": [
    "The outbreaks exhibit irregular behavior"
   ]
  },
  {
   "cell_type": "code",
   "execution_count": null,
   "metadata": {},
   "outputs": [],
   "source": [
    "plt = plot(sol, vars =[2,3], labels=varnames)\n",
    "#ylims!(plt, (0,10))\n",
    "#xlims!(plt, (0,450))"
   ]
  },
  {
   "cell_type": "code",
   "execution_count": null,
   "metadata": {},
   "outputs": [],
   "source": [
    "# println(\"Testing Braiding with composition for Petri.OpenModel\")\n",
    "# # these examples show that σ_guess can precompose with a morphism to reverse it's two wires, it cannot post compose with it to renumber its outputs.\n",
    "# # This relates to our implementation that favors f in compose(f,g), and the fact that in a PROP, all objects are natural numbers.\n",
    "# # If all objects are braid(X,X) = X⊗X as objects. You can compose(braid(X,X), f) to get the version of f with the first and second state reversed, but\n",
    "# # you cannot reverse the outputs because our \"renumbering the states\" implementation will renumber that away.\n",
    "# σ_guess = OpenModel([1,2], NullModel(2), [2,1])\n",
    "# f = compose(σ_guess, bd)\n",
    "# debug_show(f, \"img/braid_debug_precomp.svg\")\n",
    "# f = compose(bd, σ_guess)\n",
    "# debug_show(f, \"img/braid_debug_postcomp.svg\")\n",
    "# debug_show(bd, \"img/braid_debug_btimesd.svg\")\n",
    "# debug_show(compose(σ_guess, p(1,2,3)), \"img/braid_debug_pred.svg\")\n",
    "# debug_show(compose(σ_guess, eye(2)), \"img/braid_debug_precompid.svg\")\n",
    "# debug_show(compose(σ_guess, σ_guess, eye(2)), \"img/braid_debug_precomp2id.svg\")\n",
    "# debug_show(compose(compose(σ_guess, p(1,2,3))⊗eye(1), compose(eye(1)⊗σ_guess, eye(1)⊗p(1,2,3))), \"img/braid_debug_pred2.svg\")\n",
    "# debug_show(σ_guess⊗σ_guess, \"img/braid_debug_precomp4.svg\")\n",
    "# debug_show(compose(σ_guess⊗σ_guess, eye(4)), \"img/braid_debug_precomp4id.svg\")\n",
    "# debug_show(compose(σ_guess⊗σ_guess, p(1,2,3)⊗p(2,4,6)), \"img/braid_debug_precomp4psq.svg\")"
   ]
  },
  {
   "cell_type": "markdown",
   "metadata": {},
   "source": [
    "## Prefential predation\n",
    "\n",
    "We can explore the impact of the feeding preferences of the birds. If they prefer to eat infected mosquitos, then they should reduce the epidemics of malaria. If they prefer to eat susceptible mosquitos, then they should bias the population towards infection and increase malaria. We don't model natural selection so these results aren't biologically meaninful, ie. the mosquitos should evolve towards a highly infectious form of malaria to avoid being eaten by birds."
   ]
  },
  {
   "cell_type": "code",
   "execution_count": null,
   "metadata": {},
   "outputs": [],
   "source": [
    "u0 = @LArray [20,1,0,100,0.5,0,0,0.0] (:X₁, :X₂, :X₃, :X₄, :X₅, :X₆, :X₇, :X₈)\n",
    "varnames = [\"\\$S_p\\$\", \"\\$I_p\\$\", \"\\$I_m\\$\", \"\\$S_m\\$\", \"\\$B\\$\", \"\\$Dp\\$\", \"\\$Dm\\$\", \"\\$D_b\\$\"]\n",
    "βpm = 0.045\n",
    "βmp = 0.045\n",
    "ρp = 1.2\n",
    "ρm = 0.4\n",
    "ηI = 0.05\n",
    "ηS = 0.05\n",
    "νp = 0.300\n",
    "δp = 1.9\n",
    "δm = 0.03\n",
    "νm = 0.3\n",
    "δb = 0.85\n",
    "params = [βpm, βmp,ρp,ρm,ηI, ηS, νp, δp, δm, νm, δb]\n",
    "prob = ODEProblem(f,u0,(0.0,25.0),params)\n",
    "sol = solve(prob,Tsit5(), tol=1e-5)\n",
    "@show sol[end]\n",
    "@show minimum(x[3] for x in sol.u[5:end-5])\n",
    "plt = plot(sol, vars =1:length(varnames)-3, labels=varnames)\n",
    "ylims!(plt, (1,40))\n",
    "# xlims!(plt, (0,175))\n",
    "# savefig(plt, \"img/birdmal_sol_multiepi.pdf\")\n",
    "plt"
   ]
  },
  {
   "cell_type": "code",
   "execution_count": null,
   "metadata": {},
   "outputs": [],
   "source": [
    "u0 = @LArray [20,1,0,100,0.5,0,0,0.0] (:X₁, :X₂, :X₃, :X₄, :X₅, :X₆, :X₇, :X₈)\n",
    "varnames = [\"\\$S_p\\$\", \"\\$I_p\\$\", \"\\$I_m\\$\", \"\\$S_m\\$\", \"\\$B\\$\", \"\\$Dp\\$\", \"\\$Dm\\$\", \"\\$D_b\\$\"]\n",
    "βpm = 0.045\n",
    "βmp = 0.045\n",
    "ρp = 1.2\n",
    "ρm = 0.4\n",
    "ηI = 0.5\n",
    "ηS = 0.05\n",
    "νp = 0.600\n",
    "δp = 1.9\n",
    "δm = 0.03\n",
    "νm = 0.3\n",
    "δb = 0.85\n",
    "params = [βpm, βmp,ρp,ρm,ηI, ηS, νp, δp, δm, νm, δb]\n",
    "prob = ODEProblem(f,u0,(0.0,10.0),params)\n",
    "sol = solve(prob,Tsit5(), tol=1e-5)\n",
    "@show sol[end]\n",
    "@show minimum(x[3] for x in sol.u[20:end-20])\n",
    "plt = plot(sol, vars =1:length(varnames)-3, labels=varnames)\n",
    "ylims!(plt, (1,20))\n",
    "# xlims!(plt, (0,175))\n",
    "# savefig(plt, \"img/birdmal_sol_multiepi.pdf\")\n",
    "plt"
   ]
  },
  {
   "cell_type": "code",
   "execution_count": null,
   "metadata": {},
   "outputs": [],
   "source": []
  },
  {
   "cell_type": "code",
   "execution_count": null,
   "metadata": {},
   "outputs": [],
   "source": [
    "#TODO: this doesn't work because of an implementation bug\n",
    "m12dag = OpenModel([1,1], NullModel(1), [1])\n",
    "display(m12dag)\n",
    "compose(spontaneous′⊗spontaneous′, m12dag) |> display"
   ]
  },
  {
   "cell_type": "code",
   "execution_count": null,
   "metadata": {},
   "outputs": [],
   "source": [
    "birdmalh.args "
   ]
  },
  {
   "cell_type": "code",
   "execution_count": null,
   "metadata": {},
   "outputs": [],
   "source": []
  },
  {
   "cell_type": "code",
   "execution_count": null,
   "metadata": {},
   "outputs": [],
   "source": [
    "ppdag = compose(p(1,1,2)⊗eye(1), eye(1) ⊗ pdag(1,1,2))\n",
    "lookuptable = Dict(bh=>b, dh=>d, σh=>σ(), ph=>p(1,1,2), inf=>trinary,idₓ=>eye(1), cur=>cure)\n",
    "@show compile(lvh, lookuptable) == compose(bd, p(1,1, 2))\n",
    "@show compile(foodstarh, lookuptable) == compose(ppdag, bdb)\n",
    "@show compile(foodchainh, lookuptable) == compose(bipredation, bdd)\n",
    "lookuptable = Dict(bh=>b, dh=>d, σh=>σ(), ph=>p(1,1,1.15), inf=>trinary,idₓ=>eye(1), cur=>cure)\n",
    "@show compile(birdsh, lookuptable) == birds\n",
    "@show compile(malariah, lookuptable) == compose(dualinfect, cure ⊗ curedag )\n",
    "@show compile(malvitalh, lookuptable) == malvital\n",
    "vitals = b⊗d⊗d⊗b⊗d#compile(vitalsh)\n",
    "# these aren't equal, but they are isomorphic\n",
    "@show compile(birdmalh) != compose(malaria⊗eye(1), eye(2)⊗birds, vitals)"
   ]
  },
  {
   "cell_type": "code",
   "execution_count": null,
   "metadata": {},
   "outputs": [],
   "source": [
    "display(compile(birdmalh))"
   ]
  },
  {
   "cell_type": "code",
   "execution_count": null,
   "metadata": {},
   "outputs": [],
   "source": [
    "compose(malaria⊗eye(1), eye(2)⊗birds, vitals) |> display"
   ]
  },
  {
   "cell_type": "code",
   "execution_count": null,
   "metadata": {},
   "outputs": [],
   "source": [
    "display(malvital)"
   ]
  },
  {
   "cell_type": "code",
   "execution_count": null,
   "metadata": {},
   "outputs": [],
   "source": [
    "gv = to_graphviz(wd(birdsh), direction=:horizontal, labels=true)"
   ]
  },
  {
   "cell_type": "code",
   "execution_count": null,
   "metadata": {},
   "outputs": [],
   "source": [
    "map(enumerate(gv.stmts)) do (i,s)\n",
    "    if typeof(s) <: Edge\n",
    "        s.attrs[:label=>\"e$i\"]\n",
    "        return s\n",
    "    end\n",
    "    \n",
    "end"
   ]
  },
  {
   "cell_type": "code",
   "execution_count": null,
   "metadata": {},
   "outputs": [],
   "source": [
    "es = gv.stmts[end]"
   ]
  },
  {
   "cell_type": "code",
   "execution_count": null,
   "metadata": {},
   "outputs": [],
   "source": [
    "es.attrs[:label] = \"foo\""
   ]
  },
  {
   "cell_type": "code",
   "execution_count": null,
   "metadata": {},
   "outputs": [],
   "source": [
    "gv\n"
   ]
  },
  {
   "cell_type": "code",
   "execution_count": null,
   "metadata": {},
   "outputs": [],
   "source": []
  }
 ],
 "metadata": {
  "kernelspec": {
   "display_name": "Julia 1.0.3",
   "language": "julia",
   "name": "julia-1.0"
  },
  "language_info": {
   "file_extension": ".jl",
   "mimetype": "application/julia",
   "name": "julia",
   "version": "1.0.3"
  }
 },
 "nbformat": 4,
 "nbformat_minor": 2
}
