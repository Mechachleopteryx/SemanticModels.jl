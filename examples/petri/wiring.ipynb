{
 "cells": [
  {
   "cell_type": "code",
   "execution_count": 41,
   "metadata": {},
   "outputs": [],
   "source": [
    "using Catlab\n",
    "using MacroTools\n",
    "import MacroTools: postwalk, striplines"
   ]
  },
  {
   "cell_type": "code",
   "execution_count": 42,
   "metadata": {},
   "outputs": [
    {
     "data": {
      "text/plain": [
       "⊚ (generic function with 1 method)"
      ]
     },
     "execution_count": 42,
     "metadata": {},
     "output_type": "execute_result"
    }
   ],
   "source": [
    "using Catlab.WiringDiagrams\n",
    "using Catlab.Doctrines\n",
    "using Test\n",
    "import Catlab.Doctrines.⊗\n",
    "⊗(a::WiringDiagram, b::WiringDiagram) = otimes(a,b)\n",
    "import Base: ∘\n",
    "∘(a::WiringDiagram, b::WiringDiagram) = compose(b, a)\n",
    "⊚(a,b) = b ∘ a"
   ]
  },
  {
   "cell_type": "code",
   "execution_count": 43,
   "metadata": {},
   "outputs": [
    {
     "name": "stdout",
     "output_type": "stream",
     "text": [
      "search: \u001b[0m\u001b[1mW\u001b[22m\u001b[0m\u001b[1mi\u001b[22m\u001b[0m\u001b[1mr\u001b[22m\u001b[0m\u001b[1mi\u001b[22m\u001b[0m\u001b[1mn\u001b[22m\u001b[0m\u001b[1mg\u001b[22m\u001b[0m\u001b[1mD\u001b[22m\u001b[0m\u001b[1mi\u001b[22m\u001b[0m\u001b[1ma\u001b[22m\u001b[0m\u001b[1mg\u001b[22m\u001b[0m\u001b[1mr\u001b[22m\u001b[0m\u001b[1ma\u001b[22m\u001b[0m\u001b[1mm\u001b[22m \u001b[0m\u001b[1mW\u001b[22m\u001b[0m\u001b[1mi\u001b[22m\u001b[0m\u001b[1mr\u001b[22m\u001b[0m\u001b[1mi\u001b[22m\u001b[0m\u001b[1mn\u001b[22m\u001b[0m\u001b[1mg\u001b[22m\u001b[0m\u001b[1mD\u001b[22m\u001b[0m\u001b[1mi\u001b[22m\u001b[0m\u001b[1ma\u001b[22m\u001b[0m\u001b[1mg\u001b[22m\u001b[0m\u001b[1mr\u001b[22m\u001b[0m\u001b[1ma\u001b[22m\u001b[0m\u001b[1mm\u001b[22ms \u001b[0m\u001b[1mW\u001b[22m\u001b[0m\u001b[1mi\u001b[22m\u001b[0m\u001b[1mr\u001b[22m\u001b[0m\u001b[1mi\u001b[22m\u001b[0m\u001b[1mn\u001b[22m\u001b[0m\u001b[1mg\u001b[22m\u001b[0m\u001b[1mD\u001b[22m\u001b[0m\u001b[1mi\u001b[22m\u001b[0m\u001b[1ma\u001b[22m\u001b[0m\u001b[1mg\u001b[22m\u001b[0m\u001b[1mr\u001b[22m\u001b[0m\u001b[1ma\u001b[22m\u001b[0m\u001b[1mm\u001b[22mCore \u001b[0m\u001b[1mW\u001b[22m\u001b[0m\u001b[1mi\u001b[22m\u001b[0m\u001b[1mr\u001b[22m\u001b[0m\u001b[1mi\u001b[22m\u001b[0m\u001b[1mn\u001b[22m\u001b[0m\u001b[1mg\u001b[22m\u001b[0m\u001b[1mD\u001b[22m\u001b[0m\u001b[1mi\u001b[22m\u001b[0m\u001b[1ma\u001b[22m\u001b[0m\u001b[1mg\u001b[22m\u001b[0m\u001b[1mr\u001b[22m\u001b[0m\u001b[1ma\u001b[22m\u001b[0m\u001b[1mm\u001b[22mAlgorithms\n",
      "\n"
     ]
    },
    {
     "data": {
      "text/markdown": [
       "Wiring diagram: morphism in the category of wiring diagrams.\n",
       "\n",
       "The wiring diagram is implemented using the following internal data structures. A LightGraphs `DiGraph` stores the \"skeleton\" of the diagram: a simple directed graph with the boxes as vertices and with an edge between two vertices iff there is at least one wire between the corresponding boxes. There are two special vertices, accessible via `input_id` and `output_id`, representing the input and output ports, respectively.\n",
       "\n",
       "The `DiGraph` is wrapped inside a `MetaDiGraph` to attach properties to the vertices and edges. For each edge, an edge property stores the list of wires between the source and target boxes.\n",
       "\n",
       "---\n",
       "\n",
       "Create empty wiring diagram with given domain and codomain objects.\n",
       "\n",
       "---\n",
       "\n",
       "Create wiring diagram with a single box containing a morphism expression.\n"
      ],
      "text/plain": [
       "  Wiring diagram: morphism in the category of wiring diagrams.\n",
       "\n",
       "  The wiring diagram is implemented using the following internal data\n",
       "  structures. A LightGraphs \u001b[36mDiGraph\u001b[39m stores the \"skeleton\" of the diagram: a\n",
       "  simple directed graph with the boxes as vertices and with an edge between\n",
       "  two vertices iff there is at least one wire between the corresponding boxes.\n",
       "  There are two special vertices, accessible via \u001b[36minput_id\u001b[39m and \u001b[36moutput_id\u001b[39m,\n",
       "  representing the input and output ports, respectively.\n",
       "\n",
       "  The \u001b[36mDiGraph\u001b[39m is wrapped inside a \u001b[36mMetaDiGraph\u001b[39m to attach properties to the\n",
       "  vertices and edges. For each edge, an edge property stores the list of wires\n",
       "  between the source and target boxes.\n",
       "\n",
       "  ────────────────────────────────────────────────────────────────────────────\n",
       "\n",
       "  Create empty wiring diagram with given domain and codomain objects.\n",
       "\n",
       "  ────────────────────────────────────────────────────────────────────────────\n",
       "\n",
       "  Create wiring diagram with a single box containing a morphism expression."
      ]
     },
     "execution_count": 43,
     "metadata": {},
     "output_type": "execute_result"
    }
   ],
   "source": [
    "?WiringDiagram"
   ]
  },
  {
   "cell_type": "code",
   "execution_count": 44,
   "metadata": {},
   "outputs": [
    {
     "data": {
      "text/plain": [
       "\u001b[32m\u001b[1mTest Passed\u001b[22m\u001b[39m"
      ]
     },
     "execution_count": 44,
     "metadata": {},
     "output_type": "execute_result"
    }
   ],
   "source": [
    "# Generators\n",
    "A, B, C, D = Ob(FreeSymmetricMonoidalCategory, :A, :B, :C, :D)\n",
    "f = WiringDiagram(Hom(:f,A,B))\n",
    "g = WiringDiagram(Hom(:g,B,A))\n",
    "\n",
    "\n",
    "@test nboxes(f) == 1\n",
    "@test boxes(f) == [ Box(Hom(:f,A,B)) ]\n",
    "@test nwires(f) == 2\n",
    "@test Ports([:A]) == Ports([:A])\n",
    "@test WiringDiagram(Hom(:f,A,B)) == WiringDiagram(Hom(:f,A,B))"
   ]
  },
  {
   "cell_type": "code",
   "execution_count": 45,
   "metadata": {},
   "outputs": [
    {
     "data": {
      "text/latex": [
       "$h : A \\otimes B \\to C$"
      ],
      "text/plain": [
       "h"
      ]
     },
     "execution_count": 45,
     "metadata": {},
     "output_type": "execute_result"
    }
   ],
   "source": [
    "Hom(:h, otimes(A,B), C)"
   ]
  },
  {
   "cell_type": "code",
   "execution_count": 46,
   "metadata": {},
   "outputs": [
    {
     "data": {
      "text/latex": [
       "$f \\otimes g : A \\otimes B \\to B \\otimes C$"
      ],
      "text/plain": [
       "otimes(f,g)"
      ]
     },
     "execution_count": 46,
     "metadata": {},
     "output_type": "execute_result"
    }
   ],
   "source": [
    "Hom(:f, A, B) ⊗ Hom(:g, B, C)"
   ]
  },
  {
   "cell_type": "code",
   "execution_count": 47,
   "metadata": {},
   "outputs": [
    {
     "data": {
      "text/latex": [
       "$f \\cdot g : A \\to C$"
      ],
      "text/plain": [
       "compose(f,g)"
      ]
     },
     "execution_count": 47,
     "metadata": {},
     "output_type": "execute_result"
    }
   ],
   "source": [
    "Hom(:g, B, C) ∘ Hom(:f, A, B)"
   ]
  },
  {
   "cell_type": "code",
   "execution_count": 48,
   "metadata": {},
   "outputs": [
    {
     "data": {
      "text/plain": [
       "\u001b[32m\u001b[1mTest Passed\u001b[22m\u001b[39m\n",
       "      Thrown: SyntaxDomainError"
      ]
     },
     "execution_count": 48,
     "metadata": {},
     "output_type": "execute_result"
    }
   ],
   "source": [
    "@test_throws SyntaxDomainError Hom(:g, B, C) ⊚ Hom(:f, A, B) "
   ]
  },
  {
   "cell_type": "code",
   "execution_count": 49,
   "metadata": {},
   "outputs": [
    {
     "data": {
      "text/plain": [
       "\u001b[32m\u001b[1mTest Passed\u001b[22m\u001b[39m"
      ]
     },
     "execution_count": 49,
     "metadata": {},
     "output_type": "execute_result"
    }
   ],
   "source": [
    "@test compose(Hom(:f, A, B), Hom(:g, B, C)) == ⊚(Hom(:f, A,B), Hom(:g, B, C))"
   ]
  },
  {
   "cell_type": "code",
   "execution_count": 50,
   "metadata": {},
   "outputs": [
    {
     "data": {
      "text/plain": [
       "WiringDiagram([:A,:B], [:C], \n",
       "[ 1 => {inputs},\n",
       "  2 => {outputs},\n",
       "  3 => Box(:h, [:A,:B], [:C]) ],\n",
       "[ Wire((1,1) => (3,1)),\n",
       "  Wire((1,2) => (3,2)),\n",
       "  Wire((3,1) => (2,1)) ])"
      ]
     },
     "execution_count": 50,
     "metadata": {},
     "output_type": "execute_result"
    }
   ],
   "source": [
    "h = WiringDiagram(Hom(:h, otimes(A,B), C)) "
   ]
  },
  {
   "cell_type": "code",
   "execution_count": 51,
   "metadata": {},
   "outputs": [
    {
     "data": {
      "text/plain": [
       "\u001b[32m\u001b[1mTest Passed\u001b[22m\u001b[39m"
      ]
     },
     "execution_count": 51,
     "metadata": {},
     "output_type": "execute_result"
    }
   ],
   "source": [
    "@test compose(otimes(f,g), h) == (f⊗g) ⊚ h"
   ]
  },
  {
   "cell_type": "markdown",
   "metadata": {},
   "source": [
    "Scientists will draw diagrams that capture the behavior of physical systems. These diagrams are often structured according to what category theorist call a *Symmetric Monoidal Category* these diagrams have wires that represent *things* and boxes that represent *events*, and there are rules for composing little diagrams to make big ones.\n",
    "\n",
    "1. If the output wires of A are the same type as the input wires of B, you can combine them in series to make $B \\circ A$.\n",
    "2. If the A and B are diagrams, you can combine them in parallel them to make $A\\otimes B$\n",
    "3. If two wires cross, you can un cross them.\n",
    "\n",
    "Rule 1 is composition, Rule 2 is the monoidal product $\\otimes$ these diagrams arose from Feynman Diagrams where the \"in parallel\" rule is tensor product of vector spaces. And Rule 3 is the symetry condition. These are abbreviated SMC for *Categorie, Monoidal, Symetrique*\n",
    "\n",
    "An SMC is called *finitely generated* if there are a finite number of objects (wires) and events (morphisms) that can be composed freely."
   ]
  },
  {
   "cell_type": "code",
   "execution_count": 52,
   "metadata": {},
   "outputs": [
    {
     "data": {
      "text/plain": [
       "5-element Array{Catlab.Doctrines.FreeSymmetricMonoidalCategory.Ob{:generator},1}:\n",
       " S\n",
       " E\n",
       " I\n",
       " R\n",
       " D"
      ]
     },
     "execution_count": 52,
     "metadata": {},
     "output_type": "execute_result"
    }
   ],
   "source": [
    "# Generators\n",
    "S, E, I, R, D= Ob(FreeSymmetricMonoidalCategory, :S, :E, :I, :R, :D)"
   ]
  },
  {
   "cell_type": "markdown",
   "metadata": {},
   "source": [
    "We are going to model some infectious processes in epidemiology as wiring diagrams and then show how to convert these process models into differential equations and solve them."
   ]
  },
  {
   "cell_type": "code",
   "execution_count": 53,
   "metadata": {},
   "outputs": [
    {
     "data": {
      "text/latex": [
       "$\\mathrm{ensicken} : S \\to I$"
      ],
      "text/plain": [
       "ensicken"
      ]
     },
     "execution_count": 53,
     "metadata": {},
     "output_type": "execute_result"
    }
   ],
   "source": [
    "# A person could get sick spontaniously\n",
    "ens = Hom(:ensicken, S, I)"
   ]
  },
  {
   "cell_type": "code",
   "execution_count": 54,
   "metadata": {},
   "outputs": [
    {
     "data": {
      "text/latex": [
       "$\\mathrm{recover} : I \\to R$"
      ],
      "text/plain": [
       "recover"
      ]
     },
     "execution_count": 54,
     "metadata": {},
     "output_type": "execute_result"
    }
   ],
   "source": [
    "#And sick people recover spontaneously too.\n",
    "recovery = Hom(:recover, I, R)"
   ]
  },
  {
   "cell_type": "code",
   "execution_count": 55,
   "metadata": {},
   "outputs": [
    {
     "data": {
      "text/plain": [
       "WiringDiagram([:S], [:R], \n",
       "[ 1 => {inputs},\n",
       "  2 => {outputs},\n",
       "  3 => Box(:ensicken, [:S], [:I]),\n",
       "  4 => Box(:recover, [:I], [:R]) ],\n",
       "[ Wire((1,1) => (3,1)),\n",
       "  Wire((3,1) => (4,1)),\n",
       "  Wire((4,1) => (2,1)) ])"
      ]
     },
     "execution_count": 55,
     "metadata": {},
     "output_type": "execute_result"
    }
   ],
   "source": [
    "# We can compose these to make a diagram of illness\n",
    "compose(WiringDiagram(ens), WiringDiagram(recovery))"
   ]
  },
  {
   "cell_type": "markdown",
   "metadata": {},
   "source": [
    "But that isn't how people get sick usually, they pick it up from someone else who has already been infected. The monoidal product for our case is going to be $A \\otimes B$ means a person in state A and a person in state B as an unordered collection so that $A\\otimes B = B\\otimes A$ and $A\\otimes B\\otimes C$ is an A, a B, and a C in any order."
   ]
  },
  {
   "cell_type": "code",
   "execution_count": 56,
   "metadata": {},
   "outputs": [
    {
     "data": {
      "text/latex": [
       "$\\mathrm{infection} : S \\otimes I \\to I \\otimes I$"
      ],
      "text/plain": [
       "infection"
      ]
     },
     "execution_count": 56,
     "metadata": {},
     "output_type": "execute_result"
    }
   ],
   "source": [
    "infecting = Hom(:infection,S ⊗ I, I⊗I)"
   ]
  },
  {
   "cell_type": "code",
   "execution_count": 57,
   "metadata": {},
   "outputs": [
    {
     "data": {
      "text/plain": [
       "WiringDiagram([:I], [:R], \n",
       "[ 1 => {inputs},\n",
       "  2 => {outputs},\n",
       "  3 => Box(:recovery, [:I], [:R]) ],\n",
       "[ Wire((1,1) => (3,1)),\n",
       "  Wire((3,1) => (2,1)) ])"
      ]
     },
     "execution_count": 57,
     "metadata": {},
     "output_type": "execute_result"
    }
   ],
   "source": [
    "inf = WiringDiagram(infecting)\n",
    "rec = WiringDiagram(Hom(:recovery,I, R))"
   ]
  },
  {
   "cell_type": "markdown",
   "metadata": {},
   "source": [
    "We are going to use $\\circ$ to mean mathematical composition in the normal ordering $f\\circ g (x)= g(f(x))$ and $f \\circledcirc g = g(f)$ for the ordering that makes more sense \n",
    "\n",
    "If you try to compose these diagrams you will get a domain error because we have $S \\otimes I \\rightarrow I\\otimes I \\circledcirc I\\rightarrow R$ which doesn't satisfy the consistency requirement of function composition that is $A\\rightarrow B \\circledcirc B \\rightarrow C = A\\rightarrow C$.  \n"
   ]
  },
  {
   "cell_type": "code",
   "execution_count": 58,
   "metadata": {},
   "outputs": [
    {
     "ename": "ErrorException",
     "evalue": "Incompatible domains Ports{Symbol}(Symbol[:I, :I]) and Ports{Symbol}(Symbol[:I])",
     "output_type": "error",
     "traceback": [
      "Incompatible domains Ports{Symbol}(Symbol[:I, :I]) and Ports{Symbol}(Symbol[:I])",
      "",
      "Stacktrace:",
      " [1] error(::String) at ./error.jl:33",
      " [2] compose(::WiringDiagram, ::WiringDiagram) at /Users/jpf/.julia/dev/Catlab/src/wiring_diagrams/Core.jl:735",
      " [3] ∘ at ./In[42]:7 [inlined]",
      " [4] ⊚(::WiringDiagram, ::WiringDiagram) at ./In[42]:8",
      " [5] top-level scope at In[58]:1"
     ]
    }
   ],
   "source": [
    "SIR = inf ⊚ rec"
   ]
  },
  {
   "cell_type": "markdown",
   "metadata": {},
   "source": [
    "We can introduce another diagram to our set of generators to fix it."
   ]
  },
  {
   "cell_type": "code",
   "execution_count": 59,
   "metadata": {},
   "outputs": [
    {
     "data": {
      "text/plain": [
       "WiringDiagram([:S,:I], [:R,:R], \n",
       "[ 1 => {inputs},\n",
       "  2 => {outputs},\n",
       "  3 => Box(:infection, [:S,:I], [:I,:I]),\n",
       "  4 => Box(:recover, [:I,:I], [:R,:R]) ],\n",
       "[ Wire((1,1) => (3,1)),\n",
       "  Wire((1,2) => (3,2)),\n",
       "  Wire((3,1) => (4,1)),\n",
       "  Wire((3,2) => (4,2)),\n",
       "  Wire((4,1) => (2,1)),\n",
       "  Wire((4,2) => (2,2)) ])"
      ]
     },
     "execution_count": 59,
     "metadata": {},
     "output_type": "execute_result"
    }
   ],
   "source": [
    "SIR = inf ⊚ WiringDiagram(Hom(:recover, I⊗I, R⊗R))"
   ]
  },
  {
   "cell_type": "markdown",
   "metadata": {},
   "source": [
    "How would you interperet the diagram on the right above?\n",
    "\n",
    "It is a single event that takes to sick people and creates two healthy people. What medical mystery is this? This doesn't correspond to our understanding of the domain. There is no epidemiological meaning to the concept of `Hom(:recover, I⊗I, R⊗R)`. Recovery is an event that happens to individuals, not pairs of individuals, but we if we have two people that need to recover, we can have them recover in parallel."
   ]
  },
  {
   "cell_type": "code",
   "execution_count": 60,
   "metadata": {},
   "outputs": [
    {
     "data": {
      "text/plain": [
       "WiringDiagram([:S,:I], [:R,:R], \n",
       "[ 1 => {inputs},\n",
       "  2 => {outputs},\n",
       "  3 => Box(:recovery, [:I], [:R]),\n",
       "  4 => Box(:recovery, [:I], [:R]),\n",
       "  5 => Box(:infection, [:S,:I], [:I,:I]) ],\n",
       "[ Wire((1,1) => (5,1)),\n",
       "  Wire((1,2) => (5,2)),\n",
       "  Wire((3,1) => (2,1)),\n",
       "  Wire((4,1) => (2,2)),\n",
       "  Wire((5,1) => (3,1)),\n",
       "  Wire((5,2) => (4,1)) ])"
      ]
     },
     "execution_count": 60,
     "metadata": {},
     "output_type": "execute_result"
    }
   ],
   "source": [
    "SIR = inf ⊚ (rec ⊗ rec)"
   ]
  },
  {
   "cell_type": "markdown",
   "metadata": {},
   "source": [
    "What we have seen so far represents a disease where you get catch the disease, becaoming infectious, and then recover. That makes sense for chicken pox. \n",
    "But what about diseases like the common cold, where you can get the disease again? Our example of the SEIR process can be composed with the waning of immunity $wan: R \\rightarrow S$. "
   ]
  },
  {
   "cell_type": "code",
   "execution_count": 61,
   "metadata": {},
   "outputs": [
    {
     "data": {
      "text/plain": [
       "WiringDiagram([:S,:I], [:S,:S], \n",
       "[ 1 => {inputs},\n",
       "  2 => {outputs},\n",
       "  3 => Box(:waning, [:R], [:S]),\n",
       "  4 => Box(:waning, [:R], [:S]),\n",
       "  5 => Box(:recovery, [:I], [:R]),\n",
       "  6 => Box(:recovery, [:I], [:R]),\n",
       "  7 => Box(:infection, [:S,:I], [:I,:I]) ],\n",
       "[ Wire((1,1) => (7,1)),\n",
       "  Wire((1,2) => (7,2)),\n",
       "  Wire((3,1) => (2,1)),\n",
       "  Wire((4,1) => (2,2)),\n",
       "  Wire((5,1) => (3,1)),\n",
       "  Wire((6,1) => (4,1)),\n",
       "  Wire((7,1) => (5,1)),\n",
       "  Wire((7,2) => (6,1)) ])"
      ]
     },
     "execution_count": 61,
     "metadata": {},
     "output_type": "execute_result"
    }
   ],
   "source": [
    "wan = WiringDiagram(Hom(:waning,R, S))\n",
    "SIRS = SIR ⊚ (wan⊗wan)"
   ]
  },
  {
   "cell_type": "markdown",
   "metadata": {},
   "source": [
    "When combining diagrams, composition only checks that that inputs and outputs of the things you are composing match. These are called *Domain* and *Codomain*. We can see that the SIR model is a map from $S\\otimes I \\rightarrow R\\otimes R$. Which means it takes two sucesptible people to two recovered people. The SIRS model is $SIRS: S\\otimes I \\rightarrow S\\otimes S$ Which means we could compose the SIRS model with another model that expected two suceptible people."
   ]
  },
  {
   "cell_type": "code",
   "execution_count": 62,
   "metadata": {},
   "outputs": [
    {
     "data": {
      "text/plain": [
       "(Ports{Symbol}(Symbol[:S, :I]), Ports{Symbol}(Symbol[:R, :R]))"
      ]
     },
     "execution_count": 62,
     "metadata": {},
     "output_type": "execute_result"
    }
   ],
   "source": [
    "dom(SIR), codom(SIR)"
   ]
  },
  {
   "cell_type": "code",
   "execution_count": 63,
   "metadata": {},
   "outputs": [
    {
     "data": {
      "text/plain": [
       "(Ports{Symbol}(Symbol[:S, :I]), Ports{Symbol}(Symbol[:S, :S]))"
      ]
     },
     "execution_count": 63,
     "metadata": {},
     "output_type": "execute_result"
    }
   ],
   "source": [
    "dom(SIRS), codom(SIRS)"
   ]
  },
  {
   "cell_type": "markdown",
   "metadata": {},
   "source": [
    "Lets add a new concept to our SMC representation of the disease. Diseases like the flu have an exposed state, where you can be exposed but not yet infectious."
   ]
  },
  {
   "cell_type": "code",
   "execution_count": 64,
   "metadata": {},
   "outputs": [
    {
     "data": {
      "text/plain": [
       "WiringDiagram([:S,:I], [:R], \n",
       "[ 1 => {inputs},\n",
       "  2 => {outputs},\n",
       "  3 => Box(:progression, [:E,:I], [:I]),\n",
       "  4 => Box(:recovery, [:I], [:R]),\n",
       "  5 => Box(:exposure, [:S,:I], [:E,:I]) ],\n",
       "[ Wire((1,1) => (5,1)),\n",
       "  Wire((1,2) => (5,2)),\n",
       "  Wire((3,1) => (4,1)),\n",
       "  Wire((4,1) => (2,1)),\n",
       "  Wire((5,1) => (3,1)),\n",
       "  Wire((5,2) => (3,2)) ])"
      ]
     },
     "execution_count": 64,
     "metadata": {},
     "output_type": "execute_result"
    }
   ],
   "source": [
    "exposure = WiringDiagram(Hom(:exposure, S⊗I, E⊗I))\n",
    "exposure ⊚ WiringDiagram(Hom(:progression, E⊗I, I)) ⊚ rec "
   ]
  },
  {
   "cell_type": "markdown",
   "metadata": {},
   "source": [
    "The previous string diagram introduces an element $progression$ that represents the progression of an exposed person into the infectious stage of the disease. This progression element that we introduced is not consitant with the domain understanding of the scientist. As defined above, progression  keeps track of the pairs $S\\otimes I \\rightarrow E\\otimes I$ which represents the person who exposed you. In most diseases, the infectious pathogen is homogeneous meaning that it does not matter who infected you. In this case, it is not meaningful to define progression as taking exposure pairs together.\n",
    "\n",
    "We want to draw a diagram that doesn't remember these exposure pairs. \n",
    "\n",
    "Diagramatic reasoning is like static typing in programming languages. To draw a diagram, we need to match up the domains and codomains of the boxes. This is why the rules of SMC are so useful for modeling processes, we need the ingredients to match the products of each component. This gives us a finite number of ways to combine finitely generated systems. A human designer can solve the SMC compositional constraints in their head and thus generate candidate wiring diagrams.\n",
    "\n",
    "(Footnote: If you were studying the evolution of a virus and wanted to track these exposure lineages you would have this concept in your domain ontology.)"
   ]
  },
  {
   "cell_type": "markdown",
   "metadata": {},
   "source": [
    "The Diagram $(E\\rightarrow I) \\otimes (I\\rightarrow R)$ says that the progression from E to I is independent of the recovery from infected to recovered status. This captures our domain ontology concepts that these phenomena are independent, but combine using the tensor product of \"happen independently\" in a compositional way."
   ]
  },
  {
   "cell_type": "markdown",
   "metadata": {},
   "source": [
    "by tensoring the recovery and waning processes and then composing with the exposuring process, we get a model that forgets the pairing between the person who exposed you.\n",
    "\n",
    "$S\\otimes I \\rightarrow E\\otimes I \\rightarrow (E \\otimes I \\rightarrow I \\otimes R)$\n",
    "which is equivalent to \n",
    "\n",
    "$S\\otimes I \\rightarrow I \\otimes R$ or are pair of (suceptible, infected) goes to a pair (infected, recovered). Because the category is monoidal, the order doesn't matter so this model is black-box equivalent to $(S\\rightarrow I) \\otimes (I \\rightarrow R)$. The SMC does not track the identity of the "
   ]
  },
  {
   "cell_type": "code",
   "execution_count": 65,
   "metadata": {},
   "outputs": [
    {
     "data": {
      "text/plain": [
       "WiringDiagram([:S,:I], [:I,:R], \n",
       "[ 1 => {inputs},\n",
       "  2 => {outputs},\n",
       "  3 => Box(:progression, [:E], [:I]),\n",
       "  4 => Box(:recovery, [:I], [:R]),\n",
       "  5 => Box(:exposure, [:S,:I], [:E,:I]) ],\n",
       "[ Wire((1,1) => (5,1)),\n",
       "  Wire((1,2) => (5,2)),\n",
       "  Wire((3,1) => (2,1)),\n",
       "  Wire((4,1) => (2,2)),\n",
       "  Wire((5,1) => (3,1)),\n",
       "  Wire((5,2) => (4,1)) ])"
      ]
     },
     "execution_count": 65,
     "metadata": {},
     "output_type": "execute_result"
    }
   ],
   "source": [
    "seir = exposure ⊚ (WiringDiagram(Hom(:progression, E, I)) ⊗ rec)"
   ]
  },
  {
   "cell_type": "code",
   "execution_count": 66,
   "metadata": {},
   "outputs": [
    {
     "data": {
      "text/plain": [
       "(Ports{Symbol}(Symbol[:S, :I]), Ports{Symbol}(Symbol[:I, :R]))"
      ]
     },
     "execution_count": 66,
     "metadata": {},
     "output_type": "execute_result"
    }
   ],
   "source": [
    "dom(seir), codom(seir)"
   ]
  },
  {
   "cell_type": "markdown",
   "metadata": {},
   "source": [
    "If you compose diagrams in the wrong order, the software tells you about the mistake. These checking rules are easy to understand and easy to implement. Which makes them great for representing models. "
   ]
  },
  {
   "cell_type": "code",
   "execution_count": 67,
   "metadata": {},
   "outputs": [
    {
     "ename": "ErrorException",
     "evalue": "Incompatible domains Ports{Symbol}(Symbol[:I, :R]) and Ports{Symbol}(Symbol[:R])",
     "output_type": "error",
     "traceback": [
      "Incompatible domains Ports{Symbol}(Symbol[:I, :R]) and Ports{Symbol}(Symbol[:R])",
      "",
      "Stacktrace:",
      " [1] error(::String) at ./error.jl:33",
      " [2] compose(::WiringDiagram, ::WiringDiagram) at /Users/jpf/.julia/dev/Catlab/src/wiring_diagrams/Core.jl:735",
      " [3] ∘ at ./In[42]:7 [inlined]",
      " [4] ⊚(::WiringDiagram, ::WiringDiagram) at ./In[42]:8",
      " [5] top-level scope at In[67]:1"
     ]
    }
   ],
   "source": [
    "seir ⊚ wan"
   ]
  },
  {
   "cell_type": "code",
   "execution_count": 68,
   "metadata": {},
   "outputs": [
    {
     "data": {
      "text/plain": [
       "WiringDiagram([:S,:I], [:R,:S], \n",
       "[ 1 => {inputs},\n",
       "  2 => {outputs},\n",
       "  3 => Box(:recovery, [:I], [:R]),\n",
       "  4 => Box(:waning, [:R], [:S]),\n",
       "  5 => Box(:progression, [:E], [:I]),\n",
       "  6 => Box(:recovery, [:I], [:R]),\n",
       "  7 => Box(:exposure, [:S,:I], [:E,:I]) ],\n",
       "[ Wire((1,1) => (7,1)),\n",
       "  Wire((1,2) => (7,2)),\n",
       "  Wire((3,1) => (2,1)),\n",
       "  Wire((4,1) => (2,2)),\n",
       "  Wire((5,1) => (3,1)),\n",
       "  Wire((6,1) => (4,1)),\n",
       "  Wire((7,1) => (5,1)),\n",
       "  Wire((7,2) => (6,1)) ])"
      ]
     },
     "execution_count": 68,
     "metadata": {},
     "output_type": "execute_result"
    }
   ],
   "source": [
    "# the types didn't match, we need to do something with that infected wire\n",
    "seirs = seir ⊚ (rec⊗wan)"
   ]
  },
  {
   "cell_type": "markdown",
   "metadata": {},
   "source": [
    "This process is capturing a determinstic infectious disease where each event happens between a pair of people with certainty in a synchronous way . We are able to describe the process of exposure, progression, recovery, and waning of immunity in a deterministic and chronological language, but then translate this string diagram into a petri net that captures the probabilistic nature of compartmental epidemiology models.\n",
    "\n",
    "String diagrams allow scientists to describe their models in the process model, then functorially map them to categories that capture the dynamics of populations undergoing the process in bulk. We can blackbox those categories into differential equations or stochastic agent based models in order to actually calculate the answers to questions about these systems.\n",
    "\n",
    "(Footnote: SMC categories allow you to slide boxes along wires to deform the temporal ordering so even though the description we gave is synchronous, you can reorder events that don't share wires.)"
   ]
  },
  {
   "cell_type": "markdown",
   "metadata": {},
   "source": [
    "In order to use SMC string diagrams as a modeling framework in the context of SemanticModels, we need to write a lens between string diagrams and Julia programs."
   ]
  },
  {
   "cell_type": "code",
   "execution_count": 69,
   "metadata": {},
   "outputs": [
    {
     "data": {
      "text/plain": [
       "5-element Array{AbstractBox,1}:\n",
       " Box(:recovery, [:I], [:R])      \n",
       " Box(:waning, [:R], [:S])        \n",
       " Box(:progression, [:E], [:I])   \n",
       " Box(:recovery, [:I], [:R])      \n",
       " Box(:exposure, [:S,:I], [:E,:I])"
      ]
     },
     "execution_count": 69,
     "metadata": {},
     "output_type": "execute_result"
    }
   ],
   "source": [
    "#what is a diagram? \n",
    "boxes(seirs)"
   ]
  },
  {
   "cell_type": "code",
   "execution_count": 70,
   "metadata": {},
   "outputs": [
    {
     "data": {
      "text/plain": [
       "fluxes (generic function with 1 method)"
      ]
     },
     "execution_count": 70,
     "metadata": {},
     "output_type": "execute_result"
    }
   ],
   "source": [
    "wirenames(d::WiringDiagram) = foldr(union,\n",
    "    map(box->union(input_ports(box), output_ports(box)),\n",
    "        boxes(d)))\n",
    "function fluxes(d::WiringDiagram)\n",
    "    # TODO design Multiple Dispatch Lens API\n",
    "    # TODO use ModelingToolkit variables\n",
    "    nb = nboxes(d)\n",
    "    vars = wirenames(d)\n",
    "    byvar = Dict{Symbol, Expr}()\n",
    "    homnames = Vector{Symbol}()\n",
    "    for var in vars\n",
    "        byvar[var] = :(+())\n",
    "    end\n",
    "    map(enumerate(boxes(d))) do (i, box)\n",
    "        invars = input_ports(box)\n",
    "        outvars = output_ports(box)\n",
    "        homname = box.value\n",
    "        push!(homnames, homname)\n",
    "        βᵢ = :(p.$(homname))\n",
    "        ϕ =  :(*($βᵢ, $(invars...)))\n",
    "        map(invars) do v\n",
    "            push!(byvar[v].args, :(-$ϕ))\n",
    "        end\n",
    "        map(outvars) do v\n",
    "            push!(byvar[v].args, :($ϕ))\n",
    "        end\n",
    "    end\n",
    "    return byvar, vars, homnames\n",
    "end\n",
    "#end"
   ]
  },
  {
   "cell_type": "code",
   "execution_count": 71,
   "metadata": {},
   "outputs": [
    {
     "data": {
      "text/plain": [
       "Dict{Symbol,Expr} with 3 entries:\n",
       "  :I => :(-(p.recovery * I) + -(p.recovery * I) + -(p.infection * S * I) + p.in…\n",
       "  :R => :(p.recovery * I + p.recovery * I)\n",
       "  :S => :(+(-(p.infection * S * I)))"
      ]
     },
     "execution_count": 71,
     "metadata": {},
     "output_type": "execute_result"
    }
   ],
   "source": [
    "sir = WiringDiagram(Hom(:infection, S⊗I, I⊗I)) ⊚ (rec ⊗ rec)\n",
    "seir = WiringDiagram(Hom(:exposure, S⊗I, E⊗I)) ⊚ (rec ⊗ WiringDiagram(Hom(:progression, E, I)))\n",
    "dudt = fluxes(sir)[1]"
   ]
  },
  {
   "cell_type": "code",
   "execution_count": 72,
   "metadata": {},
   "outputs": [
    {
     "data": {
      "text/plain": [
       "Dict{Symbol,Expr} with 4 entries:\n",
       "  :I => :(-(p.recovery * I) + p.progression * E + -(p.exposure * S * I) + p.exp…\n",
       "  :R => :(+(p.recovery * I))\n",
       "  :S => :(+(-(p.exposure * S * I)))\n",
       "  :E => :(-(p.progression * E) + p.exposure * S * I)"
      ]
     },
     "execution_count": 72,
     "metadata": {},
     "output_type": "execute_result"
    }
   ],
   "source": [
    "fluxes(seir)[1]"
   ]
  },
  {
   "cell_type": "code",
   "execution_count": 73,
   "metadata": {},
   "outputs": [
    {
     "ename": "KeyError",
     "evalue": "KeyError: key 1 not found",
     "output_type": "error",
     "traceback": [
      "KeyError: key 1 not found",
      "",
      "Stacktrace:",
      " [1] getindex(::Dict{Symbol,Expr}, ::Int64) at ./dict.jl:478",
      " [2] top-level scope at show.jl:555",
      " [3] top-level scope at In[73]:1"
     ]
    }
   ],
   "source": [
    "@show dudt[1][:I]\n",
    "map(enumerate(dudt[1])) do (i, ϕ)\n",
    "    :(du.$(ϕ.first) = $(ϕ.second))\n",
    "end"
   ]
  },
  {
   "cell_type": "code",
   "execution_count": 74,
   "metadata": {},
   "outputs": [
    {
     "data": {
      "text/plain": [
       "oderhs"
      ]
     },
     "execution_count": 74,
     "metadata": {},
     "output_type": "execute_result"
    }
   ],
   "source": [
    "function oderhs(dudt::Dict{T, Expr}, vars::Vector{T}, homnames::Any) where {T}\n",
    "    lines = map(enumerate(vars)) do (i, v)\n",
    "        ϕ = dudt[v]\n",
    "        #:(du.$(ϕ.first) = $(ϕ.second))\n",
    "        :(du[$(i)] = $(ϕ))\n",
    "    end\n",
    "    fdef = quote\n",
    "    function f(du, u, p, t)\n",
    "        $(lines...)\n",
    "        return du\n",
    "    end\n",
    "    end\n",
    "    return fdef, vars, homnames\n",
    "end\n",
    "\n",
    "\"\"\"    oderhs(d::WiringDiagram)\n",
    "\n",
    "convert a wiring diagram into a dynamical system described as julia Exprs.\n",
    "We need to keep track of the names we give the variables and the parameters so those are the second and third arguments respectively.\n",
    "\n",
    "Returns an expression that defines a function, a list of symbols representing the variables, and a list of symbols representing the parameter names.\n",
    "\n",
    "see also fluxes(d::WiringDiagram) for implementation details\n",
    "\"\"\"\n",
    "oderhs(d::WiringDiagram) = oderhs(fluxes(d)...)"
   ]
  },
  {
   "cell_type": "code",
   "execution_count": 75,
   "metadata": {},
   "outputs": [
    {
     "data": {
      "text/plain": [
       "(quote\n",
       "    #= In[74]:8 =#\n",
       "    function f(du, u, p, t)\n",
       "        #= In[74]:9 =#\n",
       "        du[1] = -(p.recovery * I) + -(p.recovery * I) + -(p.infection * S * I) + p.infection * S * I + p.infection * S * I\n",
       "        du[2] = p.recovery * I + p.recovery * I\n",
       "        du[3] = +(-(p.infection * S * I))\n",
       "        #= In[74]:10 =#\n",
       "        return du\n",
       "    end\n",
       "end, Symbol[:I, :R, :S], Symbol[:recovery, :recovery, :infection])"
      ]
     },
     "execution_count": 75,
     "metadata": {},
     "output_type": "execute_result"
    }
   ],
   "source": [
    "oderhs(sir)"
   ]
  },
  {
   "cell_type": "code",
   "execution_count": 76,
   "metadata": {},
   "outputs": [
    {
     "data": {
      "text/plain": [
       "odeProblem"
      ]
     },
     "execution_count": 76,
     "metadata": {},
     "output_type": "execute_result"
    }
   ],
   "source": [
    "\"\"\"    odeProblem(d::WiringDiagram, params, initials, tdomain, alg=missing)\n",
    "\n",
    "bind a wiring diagram to a set of paramters, initial conditions, time domain and solver algorithm and generate the code the solves it.\n",
    "\n",
    "see also odetemplate.\n",
    "\"\"\"\n",
    "function odeProblem(d::WiringDiagram, params, initials, tdomain, alg=missing)\n",
    "    quote\n",
    "        using DifferentialEquations\n",
    "        $(oderhs(d)[1])\n",
    "        function main()\n",
    "            params = $params\n",
    "            initials = $initials\n",
    "            tdomain = $tdomain\n",
    "            prob = ODEProblem(f, params, initials, tdomain)\n",
    "            soln = solve(prob, alg=$alg)\n",
    "            return prob, soln\n",
    "        end\n",
    "    end\n",
    "end\n"
   ]
  },
  {
   "cell_type": "code",
   "execution_count": 77,
   "metadata": {},
   "outputs": [
    {
     "data": {
      "text/plain": [
       "quote\n",
       "    #= In[76]:9 =#\n",
       "    using DifferentialEquations\n",
       "    #= In[76]:10 =#\n",
       "    begin\n",
       "        #= In[74]:8 =#\n",
       "        function f(du, u, p, t)\n",
       "            #= In[74]:9 =#\n",
       "            du[1] = -(p.recovery * I) + p.progression * E + -(p.exposure * S * I) + p.exposure * S * I\n",
       "            du[2] = +(p.recovery * I)\n",
       "            du[3] = -(p.progression * E) + p.exposure * S * I\n",
       "            du[4] = +(-(p.exposure * S * I))\n",
       "            #= In[74]:10 =#\n",
       "            return du\n",
       "        end\n",
       "    end\n",
       "    #= In[76]:11 =#\n",
       "    function main()\n",
       "        #= In[76]:12 =#\n",
       "        params = β\n",
       "        #= In[76]:13 =#\n",
       "        initials = i₀\n",
       "        #= In[76]:14 =#\n",
       "        tdomain = (0, 365)\n",
       "        #= In[76]:15 =#\n",
       "        prob = ODEProblem(f, params, initials, tdomain)\n",
       "        #= In[76]:16 =#\n",
       "        soln = solve(prob, alg=Tsit5())\n",
       "        #= In[76]:17 =#\n",
       "        return (prob, soln)\n",
       "    end\n",
       "end"
      ]
     },
     "execution_count": 77,
     "metadata": {},
     "output_type": "execute_result"
    }
   ],
   "source": [
    "odeProblem(seir, :β, :i₀, (0, 365), :(Tsit5()))"
   ]
  },
  {
   "cell_type": "code",
   "execution_count": 78,
   "metadata": {},
   "outputs": [
    {
     "data": {
      "text/plain": [
       "quote\n",
       "    using DifferentialEquations\n",
       "    function f(du, u, p, t)\n",
       "        du[1] = -(p.recovery * I) + p.progression * E + -(p.exposure * S * I) + p.exposure * S * I\n",
       "        du[2] = +(p.recovery * I)\n",
       "        du[3] = -(p.progression * E) + p.exposure * S * I\n",
       "        du[4] = +(-(p.exposure * S * I))\n",
       "        return du\n",
       "    end\n",
       "    function main(β, i₀, tdomain; kwargs...)\n",
       "        params = (recovery = β[1], progression = β[2], exposure = β[3])\n",
       "        initials = [i₀.I, i₀.R, i₀.E, i₀.S]\n",
       "        prob = ODEProblem(f, params, initials, tdomain)\n",
       "        soln = solve(prob; kwargs...)\n",
       "        return (prob, soln)\n",
       "    end\n",
       "end"
      ]
     },
     "execution_count": 78,
     "metadata": {},
     "output_type": "execute_result"
    }
   ],
   "source": [
    "\"\"\"    odetemplate(d::WiringDiagram)\n",
    "\n",
    "create an expression that defines a code that solves the ODE.\n",
    "Given just the wiring diagram, we don't know the paramters, initial conditions, or timedomain, \n",
    "so they are passed in as arguments to the function we generate.\n",
    "\n",
    "These parameters and initial conditions are destructured in the main function so you can\n",
    "see what the code is expecting to receive by reading the generated output.\n",
    "\n",
    "The structure of the timedomain is not implied by the wiring diagram so it is passed directly to the\n",
    "ODEProblem constructor. Any keyword arguments you pass to `main()` are forwarded to `solve()`. \n",
    "\n",
    "\"\"\"\n",
    "function odetemplate(d::WiringDiagram)\n",
    "    f, vars, homnames = oderhs(d)\n",
    "    params = Expr(:tuple, map(enumerate(homnames)) do (i, name)\n",
    "        Expr(:(=), name, :(β[$i]))\n",
    "            end...)\n",
    "    vars = wirenames(d)\n",
    "    initials = Expr(:vect, map(vars) do v\n",
    "            :(i₀.$v)\n",
    "            end...)\n",
    "    quote\n",
    "        using DifferentialEquations\n",
    "        $(f.args[end])\n",
    "        function main(β, i₀, tdomain; kwargs...)\n",
    "            params = $params\n",
    "            initials = $initials\n",
    "            prob = ODEProblem(f, params, initials, tdomain)\n",
    "            soln = solve(prob; kwargs...)\n",
    "            return prob, soln\n",
    "        end\n",
    "    end\n",
    "end\n",
    "\n",
    "odetemplate(seir) |> x -> postwalk(x) do x\n",
    "    return striplines(x)\n",
    "end"
   ]
  },
  {
   "cell_type": "code",
   "execution_count": 79,
   "metadata": {},
   "outputs": [
    {
     "data": {
      "text/plain": [
       "quote\n",
       "    using DifferentialEquations\n",
       "    function f(du, u, p, t)\n",
       "        du[1] = -(p.rest * D) + p.rest * D + p.die * I\n",
       "        du[2] = -(p.waning * R) + -(p.id * R) + p.id * R + p.recovery * I\n",
       "        du[3] = p.waning * R + -(p.exposure * S * I)\n",
       "        du[4] = -(p.die * I) + p.progression * E + -(p.recovery * I) + -(p.exposure * S * I) + p.exposure * S * I\n",
       "        du[5] = -(p.progression * E) + p.exposure * S * I\n",
       "        return du\n",
       "    end\n",
       "    function main(β, i₀, tdomain; kwargs...)\n",
       "        params = (rest = β[1], waning = β[2], die = β[3], id = β[4], progression = β[5], recovery = β[6], exposure = β[7])\n",
       "        initials = [i₀.D, i₀.R, i₀.S, i₀.I, i₀.E]\n",
       "        prob = ODEProblem(f, params, initials, tdomain)\n",
       "        soln = solve(prob; kwargs...)\n",
       "        return (prob, soln)\n",
       "    end\n",
       "end"
      ]
     },
     "execution_count": 79,
     "metadata": {},
     "output_type": "execute_result"
    }
   ],
   "source": [
    "# Generators\n",
    "S, E, I, R, D= Ob(FreeSymmetricMonoidalCategory, :S, :E, :I, :R, :D)\n",
    "\n",
    "infecting = Hom(:infection, S ⊗ I, I⊗I)\n",
    "\n",
    "inf  = WiringDiagram(infecting)\n",
    "expo = WiringDiagram(Hom(:exposure, S⊗I, E⊗I))\n",
    "rec  = WiringDiagram(Hom(:recovery, I,   R))\n",
    "wan  = WiringDiagram(Hom(:waning,   R,   S))\n",
    "\n",
    "si    = WiringDiagram(Hom(:infection,   S⊗I, I⊗I))\n",
    "se    = WiringDiagram(Hom(:exposure,    S⊗I, E⊗I))\n",
    "prog  = WiringDiagram(Hom(:progression, E,   I))\n",
    "fatal = WiringDiagram(Hom(:die,  I, D))\n",
    "rip   = WiringDiagram(Hom(:rest, D, D))\n",
    "\n",
    "sir    = si    ⊚ (rec   ⊗ rec)\n",
    "seir   = se    ⊚ (prog  ⊗ rec)\n",
    "seirs  = seir  ⊚ (wan   ⊗ wan)\n",
    "seird  = seir  ⊚ (fatal ⊗ WiringDiagram(Hom(:id, R, R)))\n",
    "seirds = seird ⊚ (rip   ⊗ wan)\n",
    "\n",
    "odetemplate(seirds) |> x -> postwalk(x) do x\n",
    "    return striplines(x)\n",
    "end"
   ]
  },
  {
   "cell_type": "code",
   "execution_count": null,
   "metadata": {},
   "outputs": [],
   "source": []
  },
  {
   "cell_type": "code",
   "execution_count": null,
   "metadata": {},
   "outputs": [],
   "source": []
  }
 ],
 "metadata": {
  "kernelspec": {
   "display_name": "Julia 1.0.2",
   "language": "julia",
   "name": "julia-1.0"
  },
  "language_info": {
   "file_extension": ".jl",
   "mimetype": "application/julia",
   "name": "julia",
   "version": "1.0.2"
  }
 },
 "nbformat": 4,
 "nbformat_minor": 2
}
