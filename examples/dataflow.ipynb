{
 "cells": [
  {
   "cell_type": "code",
   "execution_count": 7,
   "metadata": {},
   "outputs": [],
   "source": [
    "using SemanticModels\n",
    "#using SemanticModels.ModelTools\n",
    "using Random"
   ]
  },
  {
   "cell_type": "markdown",
   "metadata": {},
   "source": [
    "We want to ingest the main method of a program, and recursively enumerate: (1) the set of subroutines, S = {s | s is called by main} that main calls; (2) the set of variables that main interacts with (as args, or in the form of locally scoped assignment statements), V = {v | v is passed to main, or is a local variable inside of main}; (3) the set of sub-subroutines (e.g., subroutines called by each sub-routine called by main), $S_{sr}$ = {s.sr | s.sr called by s; $s \\in S$}; and (4) the set of variables that the set of methods, $S$, interacts with, which may be global (w/respect to main) or local (w/respect to S) in scope, $V_{sr}$ = {s.sr.v | v is passed to an s.sr $\\in S_{sr}$, or is a local variable inside of an s.sr $\\in S_{sr}$}\n",
    "\n",
    "#### 1. Define Toy Methods\n",
    "To begin, we can define some toy methods with useful properties (e.g., sub-routine calls; recursive calls, empty args). We wrap our method declarations and calls in a `quote` so that we can parse the program (and its component pieces) as `Expr` objects; this allows us to traverse the ASTs."
   ]
  },
  {
   "cell_type": "code",
   "execution_count": 16,
   "metadata": {},
   "outputs": [
    {
     "data": {
      "text/plain": [
       "quote\n",
       "    #= In[16]:4 =#\n",
       "    function fib(n::Int64)\n",
       "        #= In[16]:5 =#\n",
       "        if n <= 2\n",
       "            #= In[16]:6 =#\n",
       "            return 1\n",
       "        else\n",
       "            #= In[16]:8 =#\n",
       "            return fib(n - 1) + fib(n - 2)\n",
       "        end\n",
       "    end\n",
       "    #= In[16]:12 =#\n",
       "    function circumference(r)\n",
       "        #= In[16]:13 =#\n",
       "        circum = 2 * pi * r\n",
       "        #= In[16]:14 =#\n",
       "        return circum\n",
       "    end\n",
       "    #= In[16]:17 =#\n",
       "    function exp_decay(init_value, decay_rate, t)\n",
       "        #= In[16]:18 =#\n",
       "        y = init_value(1 - decay_rate) ^ t\n",
       "        #= In[16]:19 =#\n",
       "        return y\n",
       "    end\n",
       "    #= In[16]:22 =#\n",
       "    function compute_circle_metrics(r)\n",
       "        #= In[16]:23 =#\n",
       "        c = circumference(r)\n",
       "        #= In[16]:24 =#\n",
       "        a = pi * r ^ 2\n",
       "        #= In[16]:25 =#\n",
       "        return (c, a)\n",
       "    end\n",
       "    #= In[16]:28 =#\n",
       "    function add_some_noise(x)\n",
       "        #= In[16]:29 =#\n",
       "        rng = MersenneTwister(1234)\n",
       "        #= In[16]:30 =#\n",
       "        x *= Base.randn(rng, 1)\n",
       "        #= In[16]:31 =#\n",
       "        return x\n",
       "    end\n",
       "    #= In[16]:34 =#\n",
       "    #= In[16]:34 =# @show compute_circle_metrics(5)\n",
       "    #= In[16]:35 =#\n",
       "    #= In[16]:35 =# @show fib(3)\n",
       "    #= In[16]:36 =#\n",
       "    #= In[16]:36 =# @show add_some_noise(357)\n",
       "end"
      ]
     },
     "execution_count": 16,
     "metadata": {},
     "output_type": "execute_result"
    }
   ],
   "source": [
    "# Let's define some toy functions with useful properties (e.g., sub-routine calls; recursive calls, empty args):\n",
    "example_expr = quote \n",
    "    \n",
    "function fib(n::Int64)\n",
    "    if n <= 2\n",
    "        return 1\n",
    "    else \n",
    "        return fib(n-1) + fib(n-2)\n",
    "    end\n",
    "end\n",
    "\n",
    "function circumference(r)\n",
    "    circum = 2*pi*r\n",
    "    return circum\n",
    "end\n",
    "\n",
    "function exp_decay(init_value, decay_rate, t)\n",
    "    y = init_value(1-decay_rate)^t\n",
    "    return y\n",
    "end\n",
    "    \n",
    "function compute_circle_metrics(r)\n",
    "    c = circumference(r)\n",
    "    a = pi*r^2\n",
    "    return c,a\n",
    "end\n",
    "    \n",
    "function add_some_noise(x)\n",
    "    rng = MersenneTwister(1234);\n",
    "    x *= Base.randn(rng,1)\n",
    "    return x\n",
    "end\n",
    "        \n",
    "@show compute_circle_metrics(5)\n",
    "@show fib(3)  \n",
    "@show add_some_noise(357)\n",
    "\n",
    "end"
   ]
  },
  {
   "cell_type": "markdown",
   "metadata": {},
   "source": [
    "\n",
    "#### 2. Define Structs and Code Annotation Methods \n",
    "The data structures and methods defined below are intended to facilitate the annotation of our input \"program\" via injection (e.g., we insert data structures into the toy methods defined above for the purpose of extracting information that we can use to build the dataflow graph, including directed relationships of the types: `method -calls-> method`; `method -interacts_with-> variable`; `method -returns-> variable`; and `variable -takes-> value`)."
   ]
  },
  {
   "cell_type": "code",
   "execution_count": 17,
   "metadata": {},
   "outputs": [],
   "source": [
    "mutable struct Method{name, args, expression, called_by}\n",
    "    name::name\n",
    "    args::args\n",
    "    expression::expression\n",
    "    called_by::called_by\n",
    "end\n",
    "\n",
    "mutable struct DeclaredMethodsCollector{declared_methods}\n",
    "    declared_methods::declared_methods\n",
    "end\n",
    "\n",
    "mutable struct CalledMethodsCollector{called_methods}\n",
    "    called_methods::called_methods\n",
    "end\n",
    "\n",
    "mutable struct Variable{name, cur_val, read_write_by}\n",
    "    name::name\n",
    "    cur_val::cur_val\n",
    "    read_write_by::read_write_by\n",
    "end\n",
    "\n",
    "set_val!(v::Variable, new_val::Any) = (v.cur_val = new_val)\n",
    "\n",
    "mutable struct VariableCollector{vars}\n",
    "    vars::vars\n",
    "end\n",
    "    "
   ]
  },
  {
   "cell_type": "code",
   "execution_count": 18,
   "metadata": {},
   "outputs": [
    {
     "data": {
      "text/plain": [
       "get_all_top_level_signatures"
      ]
     },
     "execution_count": 18,
     "metadata": {},
     "output_type": "execute_result"
    }
   ],
   "source": [
    "\"\"\"\n",
    "Take a Julia program (wrapped in quote), parses the AST, and recover all top level method signatures from declared and called methods.\n",
    "\"\"\"\n",
    "function get_all_top_level_signatures(expr_to_parse::Expr, expr_name::String, decl_methods_col::DeclaredMethodsCollector, called_methods_col::CalledMethodsCollector)\n",
    "    \n",
    "    for ex in expr_to_parse.args\n",
    "        \n",
    "        if isa(ex, LineNumberNode)\n",
    "            continue\n",
    "        end\n",
    "        \n",
    "        if ex.head == :function\n",
    "            \n",
    "            # the first arg of each function expression will be the function call \n",
    "            signature = ex.args[1]\n",
    "            \n",
    "            # the remainder of the expression args will be the args that are passed into the function\n",
    "            args = signature.args[2:length(signature.args)]\n",
    "            \n",
    "            decl_method = Method(signature, args, ex, \"$expr_name\")\n",
    "            push!(decl_methods_col.declared_methods, decl_method)\n",
    "        end\n",
    "        \n",
    "        if (ex.head == :macrocall)\n",
    "            \n",
    "            # arg 1 is the :macrocall head; arg 2 is the line number \n",
    "            signature = ex.args[3]\n",
    "            args = signature.args[2:length(signature.args)]\n",
    "            called_method = Method(signature, args, Expr(:call, signature, args...), \"$expr_name\")\n",
    "            push!(called_methods_col.called_methods, called_method)\n",
    "        end\n",
    "\n",
    "    end\n",
    "\n",
    "    return decl_methods_col, called_methods_col\n",
    "    \n",
    "end"
   ]
  },
  {
   "cell_type": "code",
   "execution_count": 19,
   "metadata": {},
   "outputs": [
    {
     "data": {
      "text/plain": [
       "collect_method_info (generic function with 1 method)"
      ]
     },
     "execution_count": 19,
     "metadata": {},
     "output_type": "execute_result"
    }
   ],
   "source": [
    "\"\"\"\n",
    "Helper function that ingests an expression to parse, and outputs collector structs containing all declared and called methods\n",
    "\"\"\"\n",
    "\n",
    "function collect_method_info(expr_to_parse)\n",
    "    \n",
    "    delc_methods = DeclaredMethodsCollector(Method[])\n",
    "    called_methods = CalledMethodsCollector(Method[])\n",
    "    delc_methods, called_methods = get_all_top_level_signatures(expr_to_parse, \"toy_expr\",\n",
    "        delc_methods, called_methods)\n",
    "end\n",
    "\n"
   ]
  },
  {
   "cell_type": "code",
   "execution_count": 20,
   "metadata": {},
   "outputs": [
    {
     "data": {
      "text/plain": [
       "nametype (generic function with 2 methods)"
      ]
     },
     "execution_count": 20,
     "metadata": {},
     "output_type": "execute_result"
    }
   ],
   "source": [
    "nametype(ex::Expr) = begin\n",
    "    ex.head == :(::) || error(\"$ex is not a type assertion\")\n",
    "    avar = ex.args[1]\n",
    "    atyp = ex.args[2]\n",
    "    return avar, atyp\n",
    "end\n",
    "\n",
    "nametype(s::Symbol) = (s, :Any)"
   ]
  },
  {
   "cell_type": "code",
   "execution_count": 21,
   "metadata": {},
   "outputs": [
    {
     "data": {
      "text/plain": [
       "collect_subroutine_calls (generic function with 1 method)"
      ]
     },
     "execution_count": 21,
     "metadata": {},
     "output_type": "execute_result"
    }
   ],
   "source": [
    "function collect_subroutine_calls(collector, subtree_root, caller_func)\n",
    "    \n",
    "    if subtree_root.head == :call\n",
    "        \n",
    "        subroutine_name = subtree_root.args[1]\n",
    "        sr_args = subtree_root.args[2:end]\n",
    "\n",
    "        subroutine = Method(subroutine_name, sr_args, subtree_root, caller_func)\n",
    "        \n",
    "        #println(subroutine.name, \" \", subroutine.args, \" \", subroutine.expression, \" \", subroutine.called_by)\n",
    "        push!(collector, subroutine)\n",
    "    end\n",
    "\n",
    "    \n",
    "end\n"
   ]
  },
  {
   "cell_type": "code",
   "execution_count": 22,
   "metadata": {},
   "outputs": [
    {
     "data": {
      "text/plain": [
       "describe_args (generic function with 1 method)"
      ]
     },
     "execution_count": 22,
     "metadata": {},
     "output_type": "execute_result"
    }
   ],
   "source": [
    "function describe_args(fu::Expr)\n",
    "    f = fu\n",
    "    @show argl = f.args[1].args[2:end]\n",
    "    @show argl\n",
    "    @show body = f.args[2].args\n",
    "\n",
    "    fname = string(f.args[1])\n",
    "    \n",
    "    for a in reverse(argl)\n",
    "        avar, atyp = nametype(a)\n",
    "        varname = string(avar)\n",
    "        type_avar = typeof(avar)\n",
    "        pushfirst!(body,\n",
    "            :(println(\"F: \", $fname, \"; \",\n",
    "                $varname, \" = \", $avar, \" :: \", $type_avar, \" <: \", $atyp))\n",
    "        )\n",
    "\n",
    "    end\n",
    "    return f\n",
    "end\n",
    "\n"
   ]
  },
  {
   "cell_type": "code",
   "execution_count": 23,
   "metadata": {},
   "outputs": [
    {
     "data": {
      "text/plain": [
       "annotate_program (generic function with 1 method)"
      ]
     },
     "execution_count": 23,
     "metadata": {},
     "output_type": "execute_result"
    }
   ],
   "source": [
    "function annotate_program(input_expr)\n",
    "    \n",
    "    expr_to_annotate = copy(input_expr)\n",
    "    declared, called = collect_method_info(expr_to_annotate)\n",
    "    \n",
    "    first_and_second_order_method_calls = CalledMethodsCollector([]).called_methods\n",
    "    program_level_variables = VariableCollector([]).vars\n",
    "\n",
    "    for method in declared.declared_methods\n",
    "        \n",
    "        f = method.expression\n",
    "        \n",
    "        describe_args(f)\n",
    "        \n",
    "        body = f.args[2].args\n",
    "\n",
    "        fname = string(f.args[1])\n",
    "\n",
    "        for ex in body\n",
    "            \n",
    "            if isa(ex,LineNumberNode)\n",
    "                continue\n",
    "            end\n",
    "            \n",
    "            if ex.head == :push!\n",
    "                continue\n",
    "            end\n",
    "            \n",
    "            if ex.head == :println\n",
    "                continue\n",
    "            end\n",
    "            \n",
    "            if ex.head == :(=) \n",
    "                a = ex.args[1]\n",
    "                b = ex.args[2]\n",
    "                varname = string(a)\n",
    "                \n",
    "                insert!(body, length(body)-1,:(println(\"A: \", $fname, \"; \" , $varname, \" = \", $b)))\n",
    "                insert!(body, length(body)-1,:(push!($program_level_variables, Variable($varname, $b, $fname))))\n",
    "\n",
    "                # Collect second-level method calls\n",
    "                if isa(b, Expr)\n",
    "                    collect_subroutine_calls(first_and_second_order_method_calls, b, f.args[1])\n",
    "                end\n",
    "\n",
    "            end\n",
    "            \n",
    "           if ex.head in (:(*=), :(+=), :(-=), :(/=))\n",
    "                \n",
    "                a = ex.args[1]\n",
    "                varname = string(a)\n",
    "                b = ex.args[2]\n",
    "\n",
    "                # The math op is the symbol right before the equals sign in the ex.head\n",
    "                math_op = string(ex.head)[1] \n",
    "                insert!(body, length(body)-1,:(println(\"A: \", $fname, \"; \" , $varname, \" = \", $varname, \" \", $math_op, \" \", $b, \"; == \", $a)))\n",
    "                insert!(body, length(body)-1,:(push!($program_level_variables, Variable($varname, $a, $fname))))\n",
    "                \n",
    "                # Collect second-level method calls\n",
    "                if isa(b, Expr)\n",
    "                    collect_subroutine_calls(first_and_second_order_method_calls, b, f.args[1])\n",
    "                end\n",
    "\n",
    "            end\n",
    "            \n",
    "            if ex.head == :return && isa(body[length(body)-1],LineNumberNode)\n",
    "                return_vals = ex.args[1:end]\n",
    "                \n",
    "                # can catch all assgmts take lhs and print out values of lhs\n",
    "                insert!(body, length(body), :(println(\"R: \", $fname, \" returns \", $return_vals)))\n",
    "                \n",
    "                for v in program_level_variables                    \n",
    "                    insert!(body, length(body), :(set_val!(v, v.name)))\n",
    "                end\n",
    "            end\n",
    "\n",
    "        end\n",
    "    end    \n",
    "    return expr_to_annotate, first_and_second_order_method_calls, program_level_variables\n",
    "    \n",
    "end\n"
   ]
  },
  {
   "cell_type": "markdown",
   "metadata": {},
   "source": [
    "#### 3. Use code annotation script to collect metadata to build dataflow graph"
   ]
  },
  {
   "cell_type": "code",
   "execution_count": 24,
   "metadata": {},
   "outputs": [
    {
     "name": "stdout",
     "output_type": "stream",
     "text": [
      "Declared Methods\n",
      "fib(n::Int64)\n",
      "circumference(r)\n",
      "exp_decay(init_value, decay_rate, t)\n",
      "compute_circle_metrics(r)\n",
      "add_some_noise(x)\n",
      "\n",
      "Called Methods\n",
      "compute_circle_metrics(5)\n",
      "fib(3)\n",
      "add_some_noise(357)\n"
     ]
    }
   ],
   "source": [
    "# First, let's collect the list of declared and called methods from our example expression, which contains our toy methods\n",
    "declared, called = collect_method_info(example_expr)\n",
    "\n",
    "println(\"Declared Methods\")\n",
    "for method in declared.declared_methods\n",
    "    println(method.name)\n",
    "end\n",
    "\n",
    "println(\"\\nCalled Methods\")\n",
    "for method in called.called_methods  \n",
    "    println(method.name)\n",
    "end"
   ]
  },
  {
   "cell_type": "code",
   "execution_count": 25,
   "metadata": {},
   "outputs": [
    {
     "name": "stdout",
     "output_type": "stream",
     "text": [
      "argl = (f.args[1]).args[2:end] = Any[:(n::Int64)]\n",
      "argl = Any[:(n::Int64)]\n",
      "body = (f.args[2]).args = Any[:(#= In[16]:5 =#), :(if n <= 2\n",
      "      #= In[16]:6 =#\n",
      "      return 1\n",
      "  else\n",
      "      #= In[16]:8 =#\n",
      "      return fib(n - 1) + fib(n - 2)\n",
      "  end)]\n",
      "argl = (f.args[1]).args[2:end] = Any[:r]\n",
      "argl = Any[:r]\n",
      "body = (f.args[2]).args = Any[:(#= In[16]:13 =#), :(circum = 2 * pi * r), :(#= In[16]:14 =#), :(return circum)]\n",
      "argl = (f.args[1]).args[2:end] = Any[:init_value, :decay_rate, :t]\n",
      "argl = Any[:init_value, :decay_rate, :t]\n",
      "body = (f.args[2]).args = Any[:(#= In[16]:18 =#), :(y = init_value(1 - decay_rate) ^ t), :(#= In[16]:19 =#), :(return y)]\n",
      "argl = (f.args[1]).args[2:end] = Any[:r]\n",
      "argl = Any[:r]\n",
      "body = (f.args[2]).args = Any[:(#= In[16]:23 =#), :(c = circumference(r)), :(#= In[16]:24 =#), :(a = pi * r ^ 2), :(#= In[16]:25 =#), :(return (c, a))]\n",
      "argl = (f.args[1]).args[2:end] = Any[:x]\n",
      "argl = Any[:x]\n",
      "body = (f.args[2]).args = Any[:(#= In[16]:29 =#), :(rng = MersenneTwister(1234)), :(#= In[16]:30 =#), :(x *= Base.randn(rng, 1)), :(#= In[16]:31 =#), :(return x)]\n"
     ]
    },
    {
     "data": {
      "text/plain": [
       "(quote\n",
       "    #= In[16]:4 =#\n",
       "    function fib(n::Int64)\n",
       "        println(\"F: \", \"fib(n::Int64)\", \"; \", \"n\", \" = \", n, \" :: \", Symbol, \" <: \", Int64)\n",
       "        #= In[16]:5 =#\n",
       "        if n <= 2\n",
       "            #= In[16]:6 =#\n",
       "            return 1\n",
       "        else\n",
       "            #= In[16]:8 =#\n",
       "            return fib(n - 1) + fib(n - 2)\n",
       "        end\n",
       "    end\n",
       "    #= In[16]:12 =#\n",
       "    function circumference(r)\n",
       "        println(\"F: \", \"circumference(r)\", \"; \", \"r\", \" = \", r, \" :: \", Symbol, \" <: \", Any)\n",
       "        #= In[16]:13 =#\n",
       "        circum = 2 * pi * r\n",
       "        println(\"A: \", \"circumference(r)\", \"; \", \"circum\", \" = \", 2 * pi * r)\n",
       "        push!(Any[], Variable(\"circum\", 2 * pi * r, \"circumference(r)\"))\n",
       "        #= In[16]:14 =#\n",
       "        println(\"R: \", \"circumference(r)\", \" returns \", Any[:circum])\n",
       "        return circum\n",
       "    end\n",
       "    #= In[16]:17 =#\n",
       "    function exp_decay(init_value, decay_rate, t)\n",
       "        println(\"F: \", \"exp_decay(init_value, decay_rate, t)\", \"; \", \"init_value\", \" = \", init_value, \" :: \", Symbol, \" <: \", Any)\n",
       "        println(\"F: \", \"exp_decay(init_value, decay_rate, t)\", \"; \", \"decay_rate\", \" = \", decay_rate, \" :: \", Symbol, \" <: \", Any)\n",
       "        println(\"F: \", \"exp_decay(init_value, decay_rate, t)\", \"; \", \"t\", \" = \", t, \" :: \", Symbol, \" <: \", Any)\n",
       "        #= In[16]:18 =#\n",
       "        y = init_value(1 - decay_rate) ^ t\n",
       "        println(\"A: \", \"exp_decay(init_value, decay_rate, t)\", \"; \", \"y\", \" = \", init_value(1 - decay_rate) ^ t)\n",
       "        push!(Any[], Variable(\"y\", init_value(1 - decay_rate) ^ t, \"exp_decay(init_value, decay_rate, t)\"))\n",
       "        #= In[16]:19 =#\n",
       "        println(\"R: \", \"exp_decay(init_value, decay_rate, t)\", \" returns \", Any[:y])\n",
       "        return y\n",
       "    end\n",
       "    #= In[16]:22 =#\n",
       "    function compute_circle_metrics(r)\n",
       "        println(\"F: \", \"compute_circle_metrics(r)\", \"; \", \"r\", \" = \", r, \" :: \", Symbol, \" <: \", Any)\n",
       "        #= In[16]:23 =#\n",
       "        c = circumference(r)\n",
       "        #= In[16]:24 =#\n",
       "        a = pi * r ^ 2\n",
       "        println(\"A: \", \"compute_circle_metrics(r)\", \"; \", \"c\", \" = \", circumference(r))\n",
       "        push!(Any[], Variable(\"c\", circumference(r), \"compute_circle_metrics(r)\"))\n",
       "        println(\"A: \", \"compute_circle_metrics(r)\", \"; \", \"a\", \" = \", pi * r ^ 2)\n",
       "        push!(Any[], Variable(\"a\", pi * r ^ 2, \"compute_circle_metrics(r)\"))\n",
       "        #= In[16]:25 =#\n",
       "        println(\"R: \", \"compute_circle_metrics(r)\", \" returns \", Any[:((c, a))])\n",
       "        return (c, a)\n",
       "    end\n",
       "    #= In[16]:28 =#\n",
       "    function add_some_noise(x)\n",
       "        println(\"F: \", \"add_some_noise(x)\", \"; \", \"x\", \" = \", x, \" :: \", Symbol, \" <: \", Any)\n",
       "        #= In[16]:29 =#\n",
       "        rng = MersenneTwister(1234)\n",
       "        #= In[16]:30 =#\n",
       "        x *= Base.randn(rng, 1)\n",
       "        println(\"A: \", \"add_some_noise(x)\", \"; \", \"rng\", \" = \", MersenneTwister(1234))\n",
       "        push!(Any[], Variable(\"rng\", MersenneTwister(1234), \"add_some_noise(x)\"))\n",
       "        println(\"A: \", \"add_some_noise(x)\", \"; \", \"x\", \" = \", \"x\", \" \", '*', \" \", Base.randn(rng, 1), \"; == \", x)\n",
       "        push!(Any[], Variable(\"x\", x, \"add_some_noise(x)\"))\n",
       "        #= In[16]:31 =#\n",
       "        println(\"R: \", \"add_some_noise(x)\", \" returns \", Any[:x])\n",
       "        return x\n",
       "    end\n",
       "    #= In[16]:34 =#\n",
       "    #= In[16]:34 =# @show compute_circle_metrics(5)\n",
       "    #= In[16]:35 =#\n",
       "    #= In[16]:35 =# @show fib(3)\n",
       "    #= In[16]:36 =#\n",
       "    #= In[16]:36 =# @show add_some_noise(357)\n",
       "end, Any[Method{Symbol,Array{Any,1},Expr,Expr}(:*, Any[2, :pi, :r], :(2 * pi * r), :(circumference(r))), Method{Symbol,Array{Any,1},Expr,Expr}(:^, Any[:(init_value(1 - decay_rate)), :t], :(init_value(1 - decay_rate) ^ t), :(exp_decay(init_value, decay_rate, t))), Method{Symbol,Array{Any,1},Expr,Expr}(:circumference, Any[:r], :(circumference(r)), :(compute_circle_metrics(r))), Method{Symbol,Array{Any,1},Expr,Expr}(:*, Any[:pi, :(r ^ 2)], :(pi * r ^ 2), :(compute_circle_metrics(r))), Method{Symbol,Array{Any,1},Expr,Expr}(:MersenneTwister, Any[1234], :(MersenneTwister(1234)), :(add_some_noise(x))), Method{Expr,Array{Any,1},Expr,Expr}(:(Base.randn), Any[:rng, 1], :(Base.randn(rng, 1)), :(add_some_noise(x)))], Any[])"
      ]
     },
     "execution_count": 25,
     "metadata": {},
     "output_type": "execute_result"
    }
   ],
   "source": [
    "# Now, let's run our annotation method on the example expression. \n",
    "# When we do this, we'll get back a revised (annotated) expression that can be evaluated to yield the information\n",
    "# we can use to build the dataflow graph.\n",
    "\n",
    "annotated_expr, first_and_second_order_calls, prog_vars = annotate_program(example_expr)"
   ]
  },
  {
   "cell_type": "code",
   "execution_count": 26,
   "metadata": {},
   "outputs": [
    {
     "name": "stdout",
     "output_type": "stream",
     "text": [
      "F: compute_circle_metrics(r); r = 5 :: Symbol <: Any\n",
      "F: circumference(r); r = 5 :: Symbol <: Any\n",
      "A: circumference(r); circum = 31.41592653589793\n",
      "R: circumference(r) returns Any[:circum]\n",
      "F: circumference(r); r = 5 :: Symbol <: Any\n",
      "A: circumference(r); circum = 31.41592653589793\n",
      "R: circumference(r) returns Any[:circum]\n",
      "A: compute_circle_metrics(r); c = 31.41592653589793\n",
      "F: circumference(r); r = 5 :: Symbol <: Any\n",
      "A: circumference(r); circum = 31.41592653589793\n",
      "R: circumference(r) returns Any[:circum]\n",
      "A: compute_circle_metrics(r); a = 78.53981633974483\n",
      "R: compute_circle_metrics(r) returns Any[:((c, a))]\n",
      "compute_circle_metrics(5) = (31.41592653589793, 78.53981633974483)\n",
      "F: fib(n::Int64); n = 3 :: Symbol <: Int64\n",
      "F: fib(n::Int64); n = 2 :: Symbol <: Int64\n",
      "F: fib(n::Int64); n = 1 :: Symbol <: Int64\n",
      "fib(3) = 2\n",
      "F: add_some_noise(x); x = 357 :: Symbol <: Any\n"
     ]
    },
    {
     "name": "stdout",
     "output_type": "stream",
     "text": [
      "A: add_some_noise(x); rng = MersenneTwister(UInt32[0x000004d2], Random.DSFMT.DSFMT_state(Int32[-1393240018, 1073611148, 45497681, 1072875908, 436273599, 1073674613, -2043716458, 1073445557, -254908435, 1072827086, 2046617495, 1072848348, -97210901, 1072807902, 2077484130, 1073238679, -1338580334, 1073709371, -1030512225, 1073184390, -1980806249, 1073166650, -538182568, 1073186473, 389676635, 1073308720, -1796451258, 1073272325, 436637761, 1073055424, 1388165018, 1073431376, -1217066104, 1072912021, 1109506735, 1072719037, 1554729443, 1073043031, 215899888, 1072799862, 1399222867, 1073550525, 379786997, 1073421724, 2090785710, 1072950026, 441691964, 1073565251, 129434264, 1073099577, -126261802, 1073186748, 1143618815, 1073065844, 1150608234, 1072931292, -1119331776, 1072734919, 460600794, 1073689692, 1830837105, 1072772067, 2069748834, 1072722948, 293020050, 1073123338, 1882881498, 1073337265, 1437391187, 1073242875, 991840901, 1072938516, -1755036291, 1072858722, -1497724557, 1073021520, -439319461, 1073701422, -1005966476, 1073585328, -544835162, 1073628449, 530497239, 1073237828, 1230813093, 1073526033, 1822297779, 1072916720, -373046472, 1073376528, 1443538127, 1073640237, -167927494, 1072841585, 483398566, 1073189510, -314155967, 1072750351, 764548340, 1072749924, -1905782475, 1073328803, -1597992877, 1073384047, -148549742, 1072818347, 1055755523, 1072912319, 697145563, 1072816920, 305784521, 1073087409, 1526950994, 1072720321, 722314081, 1073055094, 734232324, 1072930278, 204181712, 1073254127, -1545171790, 1073456973, -1453475209, 1072828010, 1385047605, 1073086148, 1252258326, 1072736263, -1576686773, 1072837960, -1966398056, 1073364506, -206552858, 1073382338, -1879762168, 1073243122, -16753277, 1072923467, -1934697013, 1073203432, -816990409, 1073032173, 976283212, 1072818765, -1529587402, 1073137739, -1966525812, 1072707518, -319469045, 1072915094, 609027915, 1072881236, 1625508514, 1073716887, 74820677, 1073322470, -1617598657, 1073381859, 946765070, 1072844150, -122294633, 1072732058, 448376131, 1073136131, -1683676596, 1073697188, 973253408, 1073041190, 653119270, 1073331143, 1048489401, 1073426193, 116140237, 1073619193, -779070553, 1073660557, -737141052, 1072783456, -288377649, 1073649512, -269968797, 1073379443, 16509234, 1073466234, -333026849, 1072840884, 151592102, 1073434257, 484682940, 1072984431, -810419199, 1073275163, -1523367580, 1072998347, 1642953519, 1073281643, 498825837, 1073076241, 1078711557, 1073420143, 1890611961, 1072812941, 1808423041, 1072982989, -2057461201, 1073111286, 957426971, 1073001636, 1247267179, 1073025168, 1218950953, 1072891310, 1351225056, 1073558371, -350249666, 1073741120, 313835866, 1072910188, -1843447746, 1072942827, -2022338067, 1073069782, 900940331, 1073177950, 183616641, 1073466075, -1175877621, 1073338592, 1624254820, 1073048971, -1078365394, 1073624191, 459208248, 1072822711, 476393875, 1072761026, -1628201055, 1073659778, -428584566, 1073082318, -1972537479, 1073007546, -686076478, 1072767773, 1244762336, 1073370667, -1002865357, 1073171020, 171214630, 1073140039, 1058840487, 1073449714, 2004929502, 1073521737, -3803927, 1073213360, 501376704, 1072765686, 788003227, 1073413466, 130944761, 1073238606, 828954581, 1072838775, -2028465395, 1073378694, 516026716, 1073186702, 326619344, 1072701220, 1158499976, 1072999115, 717215574, 1072826780, 181032521, 1073273754, -846307803, 1073520461, -959175635, 1073366174, -1769709444, 1073661422, 355638886, 1073621316, 482120013, 1072795796, -592611555, 1072947267, -990686494, 1073067818, 969638845, 1073605299, 16069561, 1073306366, -80437813, 1072730669, -997320072, 1073716155, 1399994876, 1073563639, -307262505, 1072918588, 2035048324, 1073543256, -106486317, 1073244199, 1755961575, 1072828655, 1015525477, 1073204233, -1996029160, 1073734675, 1302230610, 1072998891, 162241084, 1073408731, -1397764463, 1072872880, 1791985942, 1073039840, 1058719593, 1073090166, -878469388, 1073421383, 730298294, 1073284733, 493674886, 1073135312, -842223302, 1073032517, 1718807058, 1073210178, 175885534, 1072986785, 2084005614, 1073286147, -1728807528, 1073698668, 504184621, 1072717041, 970230667, 1073402053, -140736001, 1073174157, 1473676569, 1072965938, -934572615, 1073266436, -1191911931, 1073041464, 1959334210, 1072754645, 106407482, 1073669814, -391890350, 1073067946, 624685354, 1073173024, -1389802817, 1073329577, -904909045, 1072926201, 1191129061, 1073736115, 350724182, 1073457488, 1370928754, 1073036684, 1081697014, 1073635613, 73539510, 1073340726, 1688096566, 1072771089, -1612805593, 1072974724, -582279858, 1073313672, 1706589540, 1073098296, -996291385, 1073582894, -455264077, 1072838999, 1614060816, 1072836105, -96062502, 1073095858, -3528377, 1073204608, 2132290909, 1073441194, -248760776, 1073688749, -2055773747, 1073512215, 837468754, 1073007619, 570730273, 1073570923, 1081288210, 1073560085, -808039653, 1073234988, -703153168, 1072729095, -476436891, 1073452172, -1272812424, 1072797456, -838355739, 1072899826, 1566221398, 1073310806, -1467789372, 1073248788, 1681857545, 1073125337, 725697481, 1073194010, 1591686801, 1073583533, 2135680922, 1073632563, -1666593370, 1073404650, -1773156017, 1073098059, 1105988219, 1073696387, 1790139798, 1072994230, 287216644, 1073019429, -1516775772, 1073415451, 1519698271, 1072842995, -502629572, 1072710584, 1829269355, 1073645447, -1007366845, 1072796425, -1624783315, 1073440264, 955118147, 1073550281, -441226644, 1073096002, 1022119470, 1073672221, 652431408, 1073409049, 1888392415, 1073179543, 406963909, 1073348613, 2131418854, 1072970683, 668307867, 1073150381, -2142153650, 1072988321, -113438747, 1072993144, 24983913, 1073320659, 1371028776, 1073001654, -913954266, 1073040334, -1442359415, 1073576109, -979250065, 1073416380, 723250778, 1073419463, -1292281233, 1073384974, -1930668421, 1073152686, 636983760, 1072919246, 1699986659, 1073470929, 659952246, 1072760907, -173919507, 1073239939, -1873428878, 1072811006, -1976102142, 1073204096, 302726515, 1073568570, -962985998, 1072886310, -1836708167, 1073051791, 630855959, 1073654880, 1528724168, 1072928043, 2004464128, 1073139065, 1827205177, 1073246367, -2025198118, 1073178075, 1263034432, 1072810827, -3788788, 1072906499, -934948038, 1072793674, 319043371, 1073062854, 613396062, 1072727378, -302928416, 1072794389, 2074329554, 1072839635, -620510251, 1072890951, 991461744, 1073594794, -1294829392, 1073431799, 2115887447, 1073261948, 183748714, 1073254105, 376949609, 1073636021, 2016378056, 1073177337, 986876791, 1073593560, 48868121, 1072973818, -793898423, 1072929913, -561952674, 1073411562, -1501859929, 1073704008, -1536358949, 1073539231, 725319697, 1072727466, 1744299640, 1073499702, -965681163, 1073435054, 1250829543, 1072742048, 562775459, 1073604803, -1684670342, 1073196176, 1297730270, 1073082014, 1998260341, 1073669321, -211592519, 1073464639, 1486765306, 1072950032, -69286422, 1072711601, -1350511191, 1073356829, 2120440329, 1073154450, -1488466977, 1073706469, 1510527178, 1073153355, -70308204, 1073191546, 347569517, 1073494495, -1201024765, 1073286216, 1099023933, 1072748281, 69669856, 1073254822, 695241870, 1073156275, 362096658, 1073423922, 668857181, 1073600711, 1973170426, 1073741389, -1320843598, 1073267631, 226805858, 1073605692, 944532088, 1073251136, 203827672, 1073474956, -1075985100, 1073668959, -1521443395, 1073180541, -1696295603, 1072787881, -246206149, 1073737306, 1588774676, 1073120857, 323386033, 1072993616, -1773529118, 1072860249, -1722810199, 1073180037, 507078271, 1072739444, 307584322, 1073362836, -36167614, 1073113756, -32080077, 1072891194, -1369044104, 1073041115, -2143447752, 1072788550, 1256283824, 1073535094, -313238161, 1073707527, -1039458802, 1073179418, 932660391, 1072889817, -555977213, 1073384056, -1332289345, 1073464465, 1811065774, 1073611879, -2037291629, 1072748144, 1384523165, 1072733597, 1483508658, 1072725334, 990575666, 1073006039, 1360193473, 1073608407, -1865464230, 1073727285, -1383386936, 1073511284, -915705556, 1073615875, -1576298604, 1072848242, -2046636942, 1073069205, -1507337045, 1073635603, -484786483, 1073336879, -488929054, 1072980160, 837412596, 1073158616, -960036941, 1073377644, -832211128, 1073263484, -402070640, 1073333176, 1467038255, 1072879526, -2109070209, 1072750941, -899435007, 1073526232, -1859739193, 1073169491, 1892870085, 1073139720, -1487389779, 1073619059, -1563449627, 1073484761, -1973710828, 1073139198, -482897657, 1072929234, -250280250, 1073465354, -424154490, 1073701434, 1148072581, 1072720057, -810835207, 1073656181, -1896006706, 1072750998, -1111009294, 1073452253, -777570241, 1072961701, -1376911426, 1073159601, -699053549, 1073424356, -264403720, 1073525373, 780399337, 1073576296, 1136724909, 1072879316, -535461608, 1073304916, 930344877, 1073506659, -1070925496, 1072837795, -1081101917, 1073020813, 1020110318, 1073351197, -261686270, 1073393840, 1991015926, 1072829026, 857487426, 1073000338, -644209431, 1073640458, -1154060312, 1073038465, -179167250, 1073287396, 516949122, 1072725867, -1718616295, 1073060487, -858000384, 1072759988, -1967060704, 1072954650, -1824649570, 1073077431, -1200386037, 1073241535, 1171486027, 1073319275, -599655111, 1073144102, 367655457, 1072985259, -1278750689, 1018350124, -597141475, 249849711, 382, 0]), "
     ]
    },
    {
     "name": "stdout",
     "output_type": "stream",
     "text": [
      "[0.0, 0.0, 0.0, 0.0, 0.0, 0.0, 0.0, 0.0, 0.0, 0.0, 0.0, 0.0, 0.0, 0.0, 0.0, 0.0, 0.0, 0.0, 0.0, 0.0, 0.0, 0.0, 0.0, 0.0, 0.0, 0.0, 0.0, 0.0, 0.0, 0.0, 0.0, 0.0, 0.0, 0.0, 0.0, 0.0, 0.0, 0.0, 0.0, 0.0, 0.0, 0.0, 0.0, 0.0, 0.0, 0.0, 0.0, 0.0, 0.0, 0.0, 0.0, 0.0, 0.0, 0.0, 0.0, 0.0, 0.0, 0.0, 0.0, 0.0, 0.0, 0.0, 0.0, 0.0, 0.0, 0.0, 0.0, 0.0, 0.0, 0.0, 0.0, 0.0, 0.0, 0.0, 0.0, 0.0, 0.0, 0.0, 0.0, 0.0, 0.0, 0.0, 0.0, 0.0, 0.0, 0.0, 0.0, 0.0, 0.0, 0.0, 0.0, 0.0, 0.0, 0.0, 0.0, 0.0, 0.0, 0.0, 0.0, 0.0, 0.0, 0.0, 0.0, 0.0, 0.0, 0.0, 0.0, 0.0, 0.0, 0.0, 0.0, 0.0, 0.0, 0.0, 0.0, 0.0, 0.0, 0.0, 0.0, 0.0, 0.0, 0.0, 0.0, 0.0, 0.0, 0.0, 0.0, 0.0, 0.0, 0.0, 0.0, 0.0, 0.0, 0.0, 0.0, 0.0, 0.0, 0.0, 0.0, 0.0, 0.0, 0.0, 0.0, 0.0, 0.0, 0.0, 0.0, 0.0, 0.0, 0.0, 0.0, 0.0, 0.0, 0.0, 0.0, 0.0, 0.0, 0.0, 0.0, 0.0, 0.0, 0.0, 0.0, 0.0, 0.0, 0.0, 0.0, 0.0, 0.0, 0.0, 0.0, 0.0, 0.0, 0.0, 0.0, 0.0, 0.0, 0.0, 0.0, 0.0, 0.0, 0.0, 0.0, 0.0, 0.0, 0.0, 0.0, 0.0, 0.0, 0.0, 0.0, 0.0, 0.0, 0.0, 0.0, 0.0, 0.0, 0.0, 0.0, 0.0, 0.0, 0.0, 0.0, 0.0, 0.0, 0.0, 0.0, 0.0, 0.0, 0.0, 0.0, 0.0, 0.0, 0.0, 0.0, 0.0, 0.0, 0.0, 0.0, 0.0, 0.0, 0.0, 0.0, 0.0, 0.0, 0.0, 0.0, 0.0, 0.0, 0.0, 0.0, 0.0, 0.0, 0.0, 0.0, 0.0, 0.0, 0.0, 0.0, 0.0, 0.0, 0.0, 0.0, 0.0, 0.0, 0.0, 0.0, 0.0, 0.0, 0.0, 0.0, 0.0, 0.0, 0.0, 0.0, 0.0, 0.0, 0.0, 0.0, 0.0, 0.0, 0.0, 0.0, 0.0, 0.0, 0.0, 0.0, 0.0, 0.0, 0.0, 0.0, 0.0, 0.0, 0.0, 0.0, 0.0, 0.0, 0.0, 0.0, 0.0, 0.0, 0.0, 0.0, 0.0, 0.0, 0.0, 0.0, 0.0, 0.0, 0.0, 0.0, 0.0, 0.0, 0.0, 0.0, 0.0, 0.0, 0.0, 0.0, 0.0, 0.0, 0.0, 0.0, 0.0, 0.0, 0.0, 0.0, 0.0, 0.0, 0.0, 0.0, 0.0, 0.0, 0.0, 0.0, 0.0, 0.0, 0.0, 0.0, 0.0, 0.0, 0.0, 0.0, 0.0, 0.0, 0.0, 0.0, 0.0, 0.0, 0.0, 0.0, 0.0, 0.0, 0.0, 0.0, 0.0, 0.0, 0.0, 0.0, 0.0, 0.0, 0.0, 0.0, 0.0, 0.0, 0.0, 0.0, 0.0, 0.0, 0.0, 0.0, 0.0, 0.0, 0.0, 0.0, 0.0, 0.0, 0.0, 0.0, 0.0, 0.0, 0.0, 0.0, 0.0, 0.0, 0.0, 0.0, 0.0, 0.0, 0.0, 0.0, 0.0, 0.0, 0.0, 0.0, 0.0, 0.0, 0.0, 0.0, 0.0, 0.0, 0.0, 0.0, 0.0, 0.0, 0.0, 0.0, 0.0, 0.0, 0.0, 0.0, 0.0, 0.0, 0.0, 0.0, 0.0, 0.0, 0.0, 0.0, 0.0, 0.0, 0.0, 0.0, 0.0, 0.0, 0.0, 0.0, 0.0, 0.0, 0.0, 0.0, 0.0, 0.0, 0.0, 0.0, 0.0, 0.0, 0.0, 0.0, 0.0, 0.0, 0.0, 0.0, 0.0, 0.0, 0.0, 0.0, 0.0, 0.0, 0.0, 0.0, 0.0, 0.0, 0.0, 0.0, 0.0, 0.0, 0.0, 0.0, 0.0, 0.0, 0.0, 0.0, 0.0, 0.0, 0.0, 0.0, 0.0, 0.0, 0.0, 0.0, 0.0, 0.0, 0.0, 0.0, 0.0, 0.0, 0.0, 0.0, 0.0, 0.0, 0.0, 0.0, 0.0, 0.0, 0.0, 0.0, 0.0, 0.0, 0.0, 0.0, 0.0, 0.0, 0.0, 0.0, 0.0, 0.0, 0.0, 0.0, 0.0, 0.0, 0.0, 0.0, 0.0, 0.0, 0.0, 0.0, 0.0, 0.0, 0.0, 0.0, 0.0, 0.0, 0.0, 0.0, 0.0, 0.0, 0.0, 0.0, 0.0, 0.0, 0.0, 0.0, 0.0, 0.0, 0.0, 0.0, 0.0, 0.0, 0.0, 0.0, 0.0, 0.0, 0.0, 0.0, 0.0, 0.0, 0.0, 0.0, 0.0, 0.0, 0.0, 0.0, 0.0, 0.0, 0.0, 0.0, 0.0, 0.0, 0.0, 0.0, 0.0, 0.0, 0.0, 0.0, 0.0, 0.0, 0.0, 0.0, 0.0, 0.0, 0.0, 0.0, 0.0, 0.0, 0.0, 0.0, 0.0, 0.0, 0.0, 0.0, 0.0, 0.0, 0.0, 0.0, 0.0, 0.0, 0.0, 0.0, 0.0, 0.0, 0.0, 0.0, 0.0, 0.0, 0.0, 0.0, 0.0, 0.0, 0.0, 0.0, 0.0, 0.0, 0.0, 0.0, 0.0, 0.0, 0.0, 0.0, 0.0, 0.0, 0.0, 0.0, 0.0, 0.0, 0.0, 0.0, 0.0, 0.0, 0.0, 0.0, 0.0, 0.0, 0.0, 0.0, 0.0, 0.0, 0.0, 0.0, 0.0, 0.0, 0.0, 0.0, 0.0, 0.0, 0.0, 0.0, 0.0, 0.0, 0.0, 0.0, 0.0, 0.0, 0.0, 0.0, 0.0, 0.0, 0.0, 0.0, 0.0, 0.0, 0.0, 0.0, 0.0, 0.0, 0.0, 0.0, 0.0, 0.0, 0.0, 0.0, 0.0, 0.0, 0.0, 0.0, 0.0, 0.0, 0.0, 0.0, 0.0, 0.0, 0.0, 0.0, 0.0, 0.0, 0.0, 0.0, 0.0, 0.0, 0.0, 0.0, 0.0, 0.0, 0.0, 0.0, 0.0, 0.0, 0.0, 0.0, 0.0, 0.0, 0.0, 0.0, 0.0, 0.0, 0.0, 0.0, 0.0, 0.0, 0.0, 0.0, 0.0, 0.0, 0.0, 0.0, 0.0, 0.0, 0.0, 0.0, 0.0, 0.0, 0.0, 0.0, 0.0, 0.0, 0.0, 0.0, 0.0, 0.0, 0.0, 0.0, 0.0, 0.0, 0.0, 0.0, 0.0, 0.0, 0.0, 0.0, 0.0, 0.0, 0.0, 0.0, 0.0, 0.0, 0.0, 0.0, 0.0, 0.0, 0.0, 0.0, 0.0, 0.0, 0.0, 0.0, 0.0, 0.0, 0.0, 0.0, 0.0, 0.0, 0.0, 0.0, 0.0, 0.0, 0.0, 0.0, 0.0, 0.0, 0.0, 0.0, 0.0, 0.0, 0.0, 0.0, 0.0, 0.0, 0.0, 0.0, 0.0, 0.0, 0.0, 0.0, 0.0, 0.0, 0.0, 0.0, 0.0, 0.0, 0.0, 0.0, 0.0, 0.0, 0.0, 0.0, 0.0, 0.0, 0.0, 0.0, 0.0, 0.0, 0.0, 0.0, 0.0, 0.0, 0.0, 0.0, 0.0, 0.0, 0.0, 0.0, 0.0, 0.0, 0.0, 0.0, 0.0, 0.0, 0.0, 0.0, 0.0, 0.0, 0.0, 0.0, 0.0, 0.0, 0.0, 0.0, 0.0, 0.0, 0.0, 0.0, 0.0, 0.0, 0.0, 0.0, 0.0, 0.0, 0.0, 0.0, 0.0, 0.0, 0.0, 0.0, 0.0, 0.0, 0.0, 0.0, 0.0, 0.0, 0.0, 0.0, 0.0, 0.0, 0.0, 0.0, 0.0, 0.0, 0.0, 0.0, 0.0, 0.0, 0.0, 0.0, 0.0, 0.0, 0.0, 0.0, 0.0, 0.0, 0.0, 0.0, 0.0, 0.0, 0.0, 0.0, 0.0, 0.0, 0.0, 0.0, 0.0, 0.0, 0.0, 0.0, 0.0, 0.0, 0.0, 0.0, 0.0, 0.0, 0.0, 0.0, 0.0, 0.0, 0.0, 0.0, 0.0, 0.0, 0.0, 0.0, 0.0, 0.0, 0.0, 0.0, 0.0, 0.0, 0.0, 0.0, 0.0, 0.0, 0.0, 0.0, 0.0, 0.0, 0.0, 0.0, 0.0, 0.0, 0.0, 0.0, 0.0, 0.0, 0.0, 0.0, 0.0, 0.0, 0.0, 0.0, 0.0, 0.0, 0.0, 0.0, 0.0, 0.0, 0.0, 0.0, 0.0, 0.0, 0.0, 0.0, 0.0, 0.0, 0.0, 0.0, 0.0, 0.0, 0.0, 0.0, 0.0, 0.0, 0.0, 0.0, 0.0, 0.0, 0.0, 0.0, 0.0, 0.0, 0.0, 0.0, 0.0, 0.0, 0.0, 0.0, 0.0, 0.0, 0.0, 0.0, 0.0, 0.0, 0.0, 0.0, 0.0, 0.0, 0.0, 0.0, 0.0, 0.0, 0.0, 0.0, 0.0, 0.0, 0.0, 0.0, 0.0, 0.0, 0.0, 0.0, 0.0, 0.0, 0.0, 0.0, 0.0, 0.0, 0.0, 0.0, 0.0, 0.0, 0.0, 0.0, 0.0, 0.0, 0.0, 0.0, 0.0, 0.0, 0.0, 0.0, 0.0, 0.0, 0.0, 0.0, 0.0, 0.0, 0.0, 0.0, 0.0, 0.0, 0.0, 0.0, 0.0, 0.0, 0.0, 0.0, 0.0, 0.0, 0.0, 0.0, 0.0, 0.0, 0.0, 0.0, 0.0, 0.0, 0.0, 0.0, 0.0, 0.0, 0.0, 0.0, 0.0, 0.0, 0.0], UInt128[0x00000000000000000000000000000000, 0x00000000000000000000000000000000, 0x00000000000000000000000000000000, 0x00000000000000000000000000000000, 0x00000000000000000000000000000000, 0x00000000000000000000000000000000, 0x00000000000000000000000000000000, 0x00000000000000000000000000000000, 0x00000000000000000000000000000000, 0x00000000000000000000000000000000, 0x00000000000000000000000000000000, 0x00000000000000000000000000000000, 0x00000000000000000000000000000000, 0x00000000000000000000000000000000, 0x00000000000000000000000000000000, 0x00000000000000000000000000000000, 0x00000000000000000000000000000000, 0x00000000000000000000000000000000, 0x00000000000000000000000000000000, 0x00000000000000000000000000000000, 0x00000000000000000000000000000000, 0x00000000000000000000000000000000, 0x00000000000000000000000000000000, 0x00000000000000000000000000000000, 0x00000000000000000000000000000000, 0x00000000000000000000000000000000, 0x00000000000000000000000000000000, 0x00000000000000000000000000000000, 0x00000000000000000000000000000000, 0x00000000000000000000000000000000, 0x00000000000000000000000000000000, 0x00000000000000000000000000000000, 0x00000000000000000000000000000000, 0x00000000000000000000000000000000, 0x00000000000000000000000000000000, 0x00000000000000000000000000000000, 0x00000000000000000000000000000000, 0x00000000000000000000000000000000, 0x00000000000000000000000000000000, 0x00000000000000000000000000000000, 0x00000000000000000000000000000000, 0x00000000000000000000000000000000, 0x00000000000000000000000000000000, 0x00000000000000000000000000000000, 0x00000000000000000000000000000000, 0x00000000000000000000000000000000, 0x00000000000000000000000000000000, 0x00000000000000000000000000000000, 0x00000000000000000000000000000000, 0x00000000000000000000000000000000, 0x00000000000000000000000000000000, 0x00000000000000000000000000000000, 0x00000000000000000000000000000000, 0x00000000000000000000000000000000, 0x00000000000000000000000000000000, 0x00000000000000000000000000000000, 0x00000000000000000000000000000000, 0x00000000000000000000000000000000, 0x00000000000000000000000000000000, 0x00000000000000000000000000000000, 0x00000000000000000000000000000000, 0x00000000000000000000000000000000, 0x00000000000000000000000000000000, 0x00000000000000000000000000000000, 0x00000000000000000000000000000000, 0x00000000000000000000000000000000, 0x00000000000000000000000000000000, 0x00000000000000000000000000000000, 0x00000000000000000000000000000000, 0x00000000000000000000000000000000, 0x00000000000000000000000000000000, 0x00000000000000000000000000000000, 0x00000000000000000000000000000000, 0x00000000000000000000000000000000, 0x00000000000000000000000000000000, 0x00000000000000000000000000000000, 0x00000000000000000000000000000000, 0x00000000000000000000000000000000, 0x00000000000000000000000000000000, 0x00000000000000000000000000000000, 0x00000000000000000000000000000000, 0x00000000000000000000000000000000, 0x00000000000000000000000000000000, 0x00000000000000000000000000000000, 0x00000000000000000000000000000000, 0x00000000000000000000000000000000, 0x00000000000000000000000000000000, 0x00000000000000000000000000000000, 0x00000000000000000000000000000000, 0x00000000000000000000000000000000, 0x00000000000000000000000000000000, 0x00000000000000000000000000000000, 0x00000000000000000000000000000000, 0x00000000000000000000000000000000, 0x00000000000000000000000000000000, 0x00000000000000000000000000000000, 0x00000000000000000000000000000000, 0x00000000000000000000000000000000, 0x00000000000000000000000000000000, 0x00000000000000000000000000000000, 0x00000000000000000000000000000000, 0x00000000000000000000000000000000, 0x00000000000000000000000000000000, 0x00000000000000000000000000000000, 0x00000000000000000000000000000000, 0x00000000000000000000000000000000, 0x00000000000000000000000000000000, 0x00000000000000000000000000000000, 0x00000000000000000000000000000000, 0x00000000000000000000000000000000, 0x00000000000000000000000000000000, 0x00000000000000000000000000000000, 0x00000000000000000000000000000000, 0x00000000000000000000000000000000, 0x00000000000000000000000000000000, 0x00000000000000000000000000000000, 0x00000000000000000000000000000000, 0x00000000000000000000000000000000, 0x00000000000000000000000000000000, 0x00000000000000000000000000000000, 0x00000000000000000000000000000000, 0x00000000000000000000000000000000, 0x00000000000000000000000000000000, 0x00000000000000000000000000000000, 0x00000000000000000000000000000000, 0x00000000000000000000000000000000, 0x00000000000000000000000000000000, 0x00000000000000000000000000000000, 0x00000000000000000000000000000000, 0x00000000000000000000000000000000, 0x00000000000000000000000000000000, 0x00000000000000000000000000000000, 0x00000000000000000000000000000000, 0x00000000000000000000000000000000, 0x00000000000000000000000000000000, 0x00000000000000000000000000000000, 0x00000000000000000000000000000000, 0x00000000000000000000000000000000, 0x00000000000000000000000000000000, 0x00000000000000000000000000000000, 0x00000000000000000000000000000000, 0x00000000000000000000000000000000, 0x00000000000000000000000000000000, 0x00000000000000000000000000000000, 0x00000000000000000000000000000000, 0x00000000000000000000000000000000, 0x00000000000000000000000000000000, 0x00000000000000000000000000000000, 0x00000000000000000000000000000000, 0x00000000000000000000000000000000, 0x00000000000000000000000000000000, 0x00000000000000000000000000000000, 0x00000000000000000000000000000000, 0x00000000000000000000000000000000, 0x00000000000000000000000000000000, 0x00000000000000000000000000000000, 0x00000000000000000000000000000000, 0x00000000000000000000000000000000, 0x00000000000000000000000000000000, 0x00000000000000000000000000000000, 0x00000000000000000000000000000000, 0x00000000000000000000000000000000, 0x00000000000000000000000000000000, 0x00000000000000000000000000000000, 0x00000000000000000000000000000000, 0x00000000000000000000000000000000, 0x00000000000000000000000000000000, 0x00000000000000000000000000000000, 0x00000000000000000000000000000000, 0x00000000000000000000000000000000, 0x00000000000000000000000000000000, 0x00000000000000000000000000000000, 0x00000000000000000000000000000000, 0x00000000000000000000000000000000, 0x00000000000000000000000000000000, 0x00000000000000000000000000000000, 0x00000000000000000000000000000000, 0x00000000000000000000000000000000, 0x00000000000000000000000000000000, 0x00000000000000000000000000000000, 0x00000000000000000000000000000000, 0x00000000000000000000000000000000, 0x00000000000000000000000000000000, 0x00000000000000000000000000000000, 0x00000000000000000000000000000000, 0x00000000000000000000000000000000, 0x00000000000000000000000000000000, 0x00000000000000000000000000000000, 0x00000000000000000000000000000000, 0x00000000000000000000000000000000, 0x00000000000000000000000000000000, 0x00000000000000000000000000000000, 0x00000000000000000000000000000000, 0x00000000000000000000000000000000, 0x00000000000000000000000000000000, 0x00000000000000000000000000000000, 0x00000000000000000000000000000000, 0x00000000000000000000000000000000, 0x00000000000000000000000000000000, 0x00000000000000000000000000000000, 0x00000000000000000000000000000000, 0x00000000000000000000000000000000, 0x00000000000000000000000000000000, 0x00000000000000000000000000000000, 0x00000000000000000000000000000000, 0x00000000000000000000000000000000, 0x00000000000000000000000000000000, 0x00000000000000000000000000000000, 0x00000000000000000000000000000000, 0x00000000000000000000000000000000, 0x00000000000000000000000000000000, 0x00000000000000000000000000000000, 0x00000000000000000000000000000000, 0x00000000000000000000000000000000, 0x00000000000000000000000000000000, 0x00000000000000000000000000000000, 0x00000000000000000000000000000000, 0x00000000000000000000000000000000, 0x00000000000000000000000000000000, 0x00000000000000000000000000000000, 0x00000000000000000000000000000000, 0x00000000000000000000000000000000, 0x00000000000000000000000000000000, 0x00000000000000000000000000000000, 0x00000000000000000000000000000000, 0x00000000000000000000000000000000, 0x00000000000000000000000000000000, 0x00000000000000000000000000000000, 0x00000000000000000000000000000000, 0x00000000000000000000000000000000, 0x00000000000000000000000000000000, 0x00000000000000000000000000000000, 0x00000000000000000000000000000000, 0x00000000000000000000000000000000, 0x00000000000000000000000000000000, 0x00000000000000000000000000000000, 0x00000000000000000000000000000000, 0x00000000000000000000000000000000, 0x00000000000000000000000000000000, 0x00000000000000000000000000000000, 0x00000000000000000000000000000000, 0x00000000000000000000000000000000, 0x00000000000000000000000000000000, 0x00000000000000000000000000000000, 0x00000000000000000000000000000000, 0x00000000000000000000000000000000, 0x00000000000000000000000000000000, 0x00000000000000000000000000000000, 0x00000000000000000000000000000000, 0x00000000000000000000000000000000, 0x00000000000000000000000000000000, 0x00000000000000000000000000000000, 0x00000000000000000000000000000000, 0x00000000000000000000000000000000, 0x00000000000000000000000000000000, 0x00000000000000000000000000000000, 0x00000000000000000000000000000000, 0x00000000000000000000000000000000, 0x00000000000000000000000000000000, 0x00000000000000000000000000000000, 0x00000000000000000000000000000000, 0x00000000000000000000000000000000, 0x00000000000000000000000000000000, 0x00000000000000000000000000000000, 0x00000000000000000000000000000000, 0x00000000000000000000000000000000, 0x00000000000000000000000000000000, 0x00000000000000000000000000000000, 0x00000000000000000000000000000000, 0x00000000000000000000000000000000, 0x00000000000000000000000000000000, 0x00000000000000000000000000000000, 0x00000000000000000000000000000000, 0x00000000000000000000000000000000, 0x00000000000000000000000000000000, 0x00000000000000000000000000000000, 0x00000000000000000000000000000000, 0x00000000000000000000000000000000, 0x00000000000000000000000000000000, 0x00000000000000000000000000000000, 0x00000000000000000000000000000000, 0x00000000000000000000000000000000, 0x00000000000000000000000000000000, 0x00000000000000000000000000000000, 0x00000000000000000000000000000000,"
     ]
    },
    {
     "name": "stdout",
     "output_type": "stream",
     "text": [
      " 0x00000000000000000000000000000000, 0x00000000000000000000000000000000, 0x00000000000000000000000000000000, 0x00000000000000000000000000000000, 0x00000000000000000000000000000000, 0x00000000000000000000000000000000, 0x00000000000000000000000000000000, 0x00000000000000000000000000000000, 0x00000000000000000000000000000000, 0x00000000000000000000000000000000, 0x00000000000000000000000000000000, 0x00000000000000000000000000000000, 0x00000000000000000000000000000000, 0x00000000000000000000000000000000, 0x00000000000000000000000000000000, 0x00000000000000000000000000000000, 0x00000000000000000000000000000000, 0x00000000000000000000000000000000, 0x00000000000000000000000000000000, 0x00000000000000000000000000000000, 0x00000000000000000000000000000000, 0x00000000000000000000000000000000, 0x00000000000000000000000000000000, 0x00000000000000000000000000000000, 0x00000000000000000000000000000000, 0x00000000000000000000000000000000, 0x00000000000000000000000000000000, 0x00000000000000000000000000000000, 0x00000000000000000000000000000000, 0x00000000000000000000000000000000, 0x00000000000000000000000000000000, 0x00000000000000000000000000000000, 0x00000000000000000000000000000000, 0x00000000000000000000000000000000, 0x00000000000000000000000000000000, 0x00000000000000000000000000000000, 0x00000000000000000000000000000000, 0x00000000000000000000000000000000, 0x00000000000000000000000000000000, 0x00000000000000000000000000000000, 0x00000000000000000000000000000000, 0x00000000000000000000000000000000, 0x00000000000000000000000000000000, 0x00000000000000000000000000000000, 0x00000000000000000000000000000000, 0x00000000000000000000000000000000, 0x00000000000000000000000000000000, 0x00000000000000000000000000000000, 0x00000000000000000000000000000000, 0x00000000000000000000000000000000, 0x00000000000000000000000000000000, 0x00000000000000000000000000000000, 0x00000000000000000000000000000000, 0x00000000000000000000000000000000, 0x00000000000000000000000000000000, 0x00000000000000000000000000000000, 0x00000000000000000000000000000000, 0x00000000000000000000000000000000, 0x00000000000000000000000000000000, 0x00000000000000000000000000000000, 0x00000000000000000000000000000000, 0x00000000000000000000000000000000, 0x00000000000000000000000000000000, 0x00000000000000000000000000000000, 0x00000000000000000000000000000000, 0x00000000000000000000000000000000, 0x00000000000000000000000000000000, 0x00000000000000000000000000000000, 0x00000000000000000000000000000000, 0x00000000000000000000000000000000, 0x00000000000000000000000000000000, 0x00000000000000000000000000000000, 0x00000000000000000000000000000000, 0x00000000000000000000000000000000, 0x00000000000000000000000000000000, 0x00000000000000000000000000000000, 0x00000000000000000000000000000000, 0x00000000000000000000000000000000, 0x00000000000000000000000000000000, 0x00000000000000000000000000000000, 0x00000000000000000000000000000000, 0x00000000000000000000000000000000, 0x00000000000000000000000000000000, 0x00000000000000000000000000000000, 0x00000000000000000000000000000000, 0x00000000000000000000000000000000, 0x00000000000000000000000000000000, 0x00000000000000000000000000000000, 0x00000000000000000000000000000000, 0x00000000000000000000000000000000, 0x00000000000000000000000000000000, 0x00000000000000000000000000000000, 0x00000000000000000000000000000000, 0x00000000000000000000000000000000, 0x00000000000000000000000000000000, 0x00000000000000000000000000000000, 0x00000000000000000000000000000000, 0x00000000000000000000000000000000, 0x00000000000000000000000000000000, 0x00000000000000000000000000000000, 0x00000000000000000000000000000000, 0x00000000000000000000000000000000, 0x00000000000000000000000000000000, 0x00000000000000000000000000000000, 0x00000000000000000000000000000000, 0x00000000000000000000000000000000, 0x00000000000000000000000000000000, 0x00000000000000000000000000000000, 0x00000000000000000000000000000000, 0x00000000000000000000000000000000, 0x00000000000000000000000000000000, 0x00000000000000000000000000000000, 0x00000000000000000000000000000000, 0x00000000000000000000000000000000, 0x00000000000000000000000000000000, 0x00000000000000000000000000000000, 0x00000000000000000000000000000000, 0x00000000000000000000000000000000, 0x00000000000000000000000000000000, 0x00000000000000000000000000000000, 0x00000000000000000000000000000000, 0x00000000000000000000000000000000, 0x00000000000000000000000000000000, 0x00000000000000000000000000000000, 0x00000000000000000000000000000000, 0x00000000000000000000000000000000, 0x00000000000000000000000000000000, 0x00000000000000000000000000000000, 0x00000000000000000000000000000000, 0x00000000000000000000000000000000, 0x00000000000000000000000000000000, 0x00000000000000000000000000000000, 0x00000000000000000000000000000000, 0x00000000000000000000000000000000, 0x00000000000000000000000000000000, 0x00000000000000000000000000000000, 0x00000000000000000000000000000000, 0x00000000000000000000000000000000, 0x00000000000000000000000000000000, 0x00000000000000000000000000000000, 0x00000000000000000000000000000000, 0x00000000000000000000000000000000, 0x00000000000000000000000000000000, 0x00000000000000000000000000000000, 0x00000000000000000000000000000000, 0x00000000000000000000000000000000, 0x00000000000000000000000000000000, 0x00000000000000000000000000000000, 0x00000000000000000000000000000000, 0x00000000000000000000000000000000, 0x00000000000000000000000000000000, 0x00000000000000000000000000000000, 0x00000000000000000000000000000000, 0x00000000000000000000000000000000, 0x00000000000000000000000000000000, 0x00000000000000000000000000000000, 0x00000000000000000000000000000000, 0x00000000000000000000000000000000, 0x00000000000000000000000000000000, 0x00000000000000000000000000000000, 0x00000000000000000000000000000000, 0x00000000000000000000000000000000, 0x00000000000000000000000000000000, 0x00000000000000000000000000000000, 0x00000000000000000000000000000000, 0x00000000000000000000000000000000, 0x00000000000000000000000000000000, 0x00000000000000000000000000000000, 0x00000000000000000000000000000000, 0x00000000000000000000000000000000, 0x00000000000000000000000000000000, 0x00000000000000000000000000000000, 0x00000000000000000000000000000000, 0x00000000000000000000000000000000, 0x00000000000000000000000000000000, 0x00000000000000000000000000000000, 0x00000000000000000000000000000000, 0x00000000000000000000000000000000, 0x00000000000000000000000000000000, 0x00000000000000000000000000000000, 0x00000000000000000000000000000000, 0x00000000000000000000000000000000, 0x00000000000000000000000000000000, 0x00000000000000000000000000000000, 0x00000000000000000000000000000000, 0x00000000000000000000000000000000, 0x00000000000000000000000000000000, 0x00000000000000000000000000000000, 0x00000000000000000000000000000000, 0x00000000000000000000000000000000, 0x00000000000000000000000000000000, 0x00000000000000000000000000000000, 0x00000000000000000000000000000000, 0x00000000000000000000000000000000, 0x00000000000000000000000000000000, 0x00000000000000000000000000000000, 0x00000000000000000000000000000000, 0x00000000000000000000000000000000, 0x00000000000000000000000000000000, 0x00000000000000000000000000000000, 0x00000000000000000000000000000000, 0x00000000000000000000000000000000, 0x00000000000000000000000000000000, 0x00000000000000000000000000000000, 0x00000000000000000000000000000000, 0x00000000000000000000000000000000, 0x00000000000000000000000000000000, 0x00000000000000000000000000000000, 0x00000000000000000000000000000000, 0x00000000000000000000000000000000, 0x00000000000000000000000000000000, 0x00000000000000000000000000000000, 0x00000000000000000000000000000000, 0x00000000000000000000000000000000, 0x00000000000000000000000000000000, 0x00000000000000000000000000000000], 1002, 0)\n",
      "A: add_some_noise(x); x = x * [-0.901744]; == [309.643]\n",
      "R: add_some_noise(x) returns Any[:x]\n",
      "add_some_noise(357) = [309.643]\n"
     ]
    },
    {
     "data": {
      "text/plain": [
       "1-element Array{Float64,1}:\n",
       " 309.6429510965947"
      ]
     },
     "execution_count": 26,
     "metadata": {},
     "output_type": "execute_result"
    }
   ],
   "source": [
    "eval(annotated_expr)"
   ]
  },
  {
   "cell_type": "code",
   "execution_count": 27,
   "metadata": {},
   "outputs": [
    {
     "name": "stdout",
     "output_type": "stream",
     "text": [
      "2 * pi * r\n",
      "init_value(1 - decay_rate) ^ t\n",
      "circumference(r)\n",
      "pi * r ^ 2\n",
      "MersenneTwister(1234)\n",
      "Base.randn(rng, 1)\n"
     ]
    }
   ],
   "source": [
    "for method in first_and_second_order_calls\n",
    "    println(method.expression)\n",
    "end"
   ]
  },
  {
   "cell_type": "code",
   "execution_count": 28,
   "metadata": {},
   "outputs": [
    {
     "name": "stdout",
     "output_type": "stream",
     "text": [
      "Variable{String,Float64,String}(\"circum\", 31.41592653589793, \"circumference(r)\")\n",
      "Variable{String,Float64,String}(\"circum\", 31.41592653589793, \"circumference(r)\")\n",
      "Variable{String,Float64,String}(\"circum\", 31.41592653589793, \"circumference(r)\")\n",
      "Variable{String,Float64,String}(\"c\", 31.41592653589793, \"compute_circle_metrics(r)\")\n",
      "Variable{String,Float64,String}(\"a\", 78.53981633974483, \"compute_circle_metrics(r)\")\n"
     ]
    },
    {
     "name": "stdout",
     "output_type": "stream",
     "text": [
      "Variable{String,MersenneTwister,String}(\"rng\", MersenneTwister(UInt32[0x000004d2], Random.DSFMT.DSFMT_state(Int32[-1393240018, 1073611148, 45497681, 1072875908, 436273599, 1073674613, -2043716458, 1073445557, -254908435, 1072827086, 2046617495, 1072848348, -97210901, 1072807902, 2077484130, 1073238679, -1338580334, 1073709371, -1030512225, 1073184390, -1980806249, 1073166650, -538182568, 1073186473, 389676635, 1073308720, -1796451258, 1073272325, 436637761, 1073055424, 1388165018, 1073431376, -1217066104, 1072912021, 1109506735, 1072719037, 1554729443, 1073043031, 215899888, 1072799862, 1399222867, 1073550525, 379786997, 1073421724, 2090785710, 1072950026, 441691964, 1073565251, 129434264, 1073099577, -126261802, 1073186748, 1143618815, 1073065844, 1150608234, 1072931292, -1119331776, 1072734919, 460600794, 1073689692, 1830837105, 1072772067, 2069748834, 1072722948, 293020050, 1073123338, 1882881498, 1073337265, 1437391187, 1073242875, 991840901, 1072938516, -1755036291, 1072858722, -1497724557, 1073021520, -439319461, 1073701422, -1005966476, 1073585328, -544835162, 1073628449, 530497239, 1073237828, 1230813093, 1073526033, 1822297779, 1072916720, -373046472, 1073376528, 1443538127, 1073640237, -167927494, 1072841585, 483398566, 1073189510, -314155967, 1072750351, 764548340, 1072749924, -1905782475, 1073328803, -1597992877, 1073384047, -148549742, 1072818347, 1055755523, 1072912319, 697145563, 1072816920, 305784521, 1073087409, 1526950994, 1072720321, 722314081, 1073055094, 734232324, 1072930278, 204181712, 1073254127, -1545171790, 1073456973, -1453475209, 1072828010, 1385047605, 1073086148, 1252258326, 1072736263, -1576686773, 1072837960, -1966398056, 1073364506, -206552858, 1073382338, -1879762168, 1073243122, -16753277, 1072923467, -1934697013, 1073203432, -816990409, 1073032173, 976283212, 1072818765, -1529587402, 1073137739, -1966525812, 1072707518, -319469045, 1072915094, 609027915, 1072881236, 1625508514, 1073716887, 74820677, 1073322470, -1617598657, 1073381859, 946765070, 1072844150, -122294633, 1072732058, 448376131, 1073136131, -1683676596, 1073697188, 973253408, 1073041190, 653119270, 1073331143, 1048489401, 1073426193, 116140237, 1073619193, -779070553, 1073660557, -737141052, 1072783456, -288377649, 1073649512, -269968797, 1073379443, 16509234, 1073466234, -333026849, 1072840884, 151592102, 1073434257, 484682940, 1072984431, -810419199, 1073275163, -1523367580, 1072998347, 1642953519, 1073281643, 498825837, 1073076241, 1078711557, 1073420143, 1890611961, 1072812941, 1808423041, 1072982989, -2057461201, 1073111286, 957426971, 1073001636, 1247267179, 1073025168, 1218950953, 1072891310, 1351225056, 1073558371, -350249666, 1073741120, 313835866, 1072910188, -1843447746, 1072942827, -2022338067, 1073069782, 900940331, 1073177950, 183616641, 1073466075, -1175877621, 1073338592, 1624254820, 1073048971, -1078365394, 1073624191, 459208248, 1072822711, 476393875, 1072761026, -1628201055, 1073659778, -428584566, 1073082318, -1972537479, 1073007546, -686076478, 1072767773, 1244762336, 1073370667, -1002865357, 1073171020, 171214630, 1073140039, 1058840487, 1073449714, 2004929502, 1073521737, -3803927, 1073213360, 501376704, 1072765686, 788003227, 1073413466, 130944761, 1073238606, 828954581, 1072838775, -2028465395, 1073378694, 516026716, 1073186702, 326619344, 1072701220, 1158499976, 1072999115, 717215574, 1072826780, 181032521, 1073273754, -846307803, 1073520461, -959175635, 1073366174, -1769709444, 1073661422, 355638886, 1073621316, 482120013, 1072795796, -592611555, 1072947267, -990686494, 1073067818, 969638845, 1073605299, 16069561, 1073306366, -80437813, 1072730669, -997320072, 1073716155, 1399994876, 1073563639, -307262505, 1072918588, 2035048324, 1073543256, -106486317, 1073244199, 1755961575, 1072828655, 1015525477, 1073204233, -1996029160, 1073734675, 1302230610, 1072998891, 162241084, 1073408731, -1397764463, 1072872880, 1791985942, 1073039840, 1058719593, 1073090166, -878469388, 1073421383, 730298294, 1073284733, 493674886, 1073135312, -842223302, 1073032517, 1718807058, 1073210178, 175885534, 1072986785, 2084005614, 1073286147, -1728807528, 1073698668, 504184621, 1072717041, 970230667, 1073402053, -140736001, 1073174157, 1473676569, 1072965938, -934572615, 1073266436, -1191911931, 1073041464, 1959334210, 1072754645, 106407482, 1073669814, -391890350, 1073067946, 624685354, 1073173024, -1389802817, 1073329577, -904909045, 1072926201, 1191129061, 1073736115, 350724182, 1073457488, 1370928754, 1073036684, 1081697014, 1073635613, 73539510, 1073340726, 1688096566, 1072771089, -1612805593, 1072974724, -582279858, 1073313672, 1706589540, 1073098296, -996291385, 1073582894, -455264077, 1072838999, 1614060816, 1072836105, -96062502, 1073095858, -3528377, 1073204608, 2132290909, 1073441194, -248760776, 1073688749, -2055773747, 1073512215, 837468754, 1073007619, 570730273, 1073570923, 1081288210, 1073560085, -808039653, 1073234988, -703153168, 1072729095, -476436891, 1073452172, -1272812424, 1072797456, -838355739, 1072899826, 1566221398, 1073310806, -1467789372, 1073248788, 1681857545, 1073125337, 725697481, 1073194010, 1591686801, 1073583533, 2135680922, 1073632563, -1666593370, 1073404650, -1773156017, 1073098059, 1105988219, 1073696387, 1790139798, 1072994230, 287216644, 1073019429, -1516775772, 1073415451, 1519698271, 1072842995, -502629572, 1072710584, 1829269355, 1073645447, -1007366845, 1072796425, -1624783315, 1073440264, 955118147, 1073550281, -441226644, 1073096002, 1022119470, 1073672221, 652431408, 1073409049, 1888392415, 1073179543, 406963909, 1073348613, 2131418854, 1072970683, 668307867, 1073150381, -2142153650, 1072988321, -113438747, 1072993144, 24983913, 1073320659, 1371028776, 1073001654, -913954266, 1073040334, -1442359415, 1073576109, -979250065, 1073416380, 723250778, 1073419463, -1292281233, 1073384974, -1930668421, 1073152686, 636983760, 1072919246, 1699986659, 1073470929, 659952246, 1072760907, -173919507, 1073239939, -1873428878, 1072811006, -1976102142, 1073204096, 302726515, 1073568570, -962985998, 1072886310, -1836708167, 1073051791, 630855959, 1073654880, 1528724168, 1072928043, 2004464128, 1073139065, 1827205177, 1073246367, -2025198118, 1073178075, 1263034432, 1072810827, -3788788, 1072906499, -934948038, 1072793674, 319043371, 1073062854, 613396062, 1072727378, -302928416, 1072794389, 2074329554, 1072839635, -620510251, 1072890951, 991461744, 1073594794, -1294829392, 1073431799, 2115887447, 1073261948, 183748714, 1073254105, 376949609, 1073636021, 2016378056, 1073177337, 986876791, 1073593560, 48868121, 1072973818, -793898423, 1072929913, -561952674, 1073411562, -1501859929, 1073704008, -1536358949, 1073539231, 725319697, 1072727466, 1744299640, 1073499702, -965681163, 1073435054, 1250829543, 1072742048, 562775459, 1073604803, -1684670342, 1073196176, 1297730270, 1073082014, 1998260341, 1073669321, -211592519, 1073464639, 1486765306, 1072950032, -69286422, 1072711601, -1350511191, 1073356829, 2120440329, 1073154450, -1488466977, 1073706469, 1510527178, 1073153355, -70308204, 1073191546, 347569517, 1073494495, -1201024765, 1073286216, 1099023933, 1072748281, 69669856, 1073254822, 695241870, 1073156275, 362096658, 1073423922, 668857181, 1073600711, 1973170426, 1073741389, -1320843598, 1073267631, 226805858, 1073605692, 944532088, 1073251136, 203827672, 1073474956, -1075985100, 1073668959, -1521443395, 1073180541, -1696295603, 1072787881, -246206149, 1073737306, 1588774676, 1073120857, 323386033, 1072993616, -1773529118, 1072860249, -1722810199, 1073180037, 507078271, 1072739444, 307584322, 1073362836, -36167614, 1073113756, -32080077, 1072891194, -1369044104, 1073041115, -2143447752, 1072788550, 1256283824, 1073535094, -313238161, 1073707527, -1039458802, 1073179418, 932660391, 1072889817, -555977213, 1073384056, -1332289345, 1073464465, 1811065774, 1073611879, -2037291629, 1072748144, 1384523165, 1072733597, 1483508658, 1072725334, 990575666, 1073006039, 1360193473, 1073608407, -1865464230, 1073727285, -1383386936, 1073511284, -915705556, 1073615875, -1576298604, 1072848242, -2046636942, 1073069205, -1507337045, 1073635603, -484786483, 1073336879, -488929054, 1072980160, 837412596, 1073158616, -960036941, 1073377644, -832211128, 1073263484, -402070640, 1073333176, 1467038255, 1072879526, -2109070209, 1072750941, -899435007, 1073526232, -1859739193, 1073169491, 1892870085, 1073139720, -1487389779, 1073619059, -1563449627, 1073484761, -1973710828, 1073139198, -482897657, 1072929234, -250280250, 1073465354, -424154490, 1073701434, 1148072581, 1072720057, -810835207, 1073656181, -1896006706, 1072750998, -1111009294, 1073452253, -777570241, 1072961701, -1376911426, 1073159601, -699053549, 1073424356, -264403720, 1073525373, 780399337, 1073576296, 1136724909, 1072879316, -535461608, 1073304916, 930344877, 1073506659, -1070925496, 1072837795, -1081101917, 1073020813, 1020110318, 1073351197, -261686270, 1073393840, 1991015926, 1072829026, 857487426, 1073000338, -644209431, 1073640458, -1154060312, 1073038465, -179167250, 1073287396, 516949122, 1072725867, -1718616295, 1073060487, -858000384, 1072759988, -1967060704, 1072954650, -1824649570, 1073077431, -1200386037, 1073241535, 1171486027, 1073319275, -599655111, 1073144102, 367655457, 1072985259, -1278750689, 1018350124, -597141475, 249849711, 382, 0]), [0.0, 0.0, 0.0, 0.0, 0.0, 0.0, 0.0, 0.0, 0.0, 0.0, 0.0, 0.0, 0.0, 0.0, 0.0, 0.0, 0.0, 0.0, 0.0, 0.0, 0.0, 0.0, 0.0, 0.0, 0.0, 0.0, 0.0, 0.0, 0.0, 0.0, 0.0, 0.0, 0.0, 0.0, 0.0, 0.0, 0.0, 0.0, 0.0, 0.0, 0.0, 0.0, 0.0, 0.0, 0.0, 0.0, 0.0, 0.0, 0.0, 0.0, 0.0, 0.0, 0.0, 0.0, 0.0, 0.0, 0.0, 0.0, 0.0, 0.0, 0.0, 0.0, 0.0, 0.0, 0.0, 0.0, 0.0, 0.0, 0.0, 0.0, 0.0, 0.0, 0.0, 0.0, 0.0, 0.0, 0.0, 0.0, 0.0, 0.0, 0.0, 0.0, 0.0, 0.0, 0.0, 0.0, 0.0, 0.0, 0.0, 0.0, 0.0, 0.0, 0.0, 0.0, 0.0, 0.0, 0.0, 0.0, 0.0, 0.0, 0.0, 0.0, 0.0, 0.0, 0.0, 0.0, 0.0, 0.0, 0.0, 0.0, 0.0, 0.0, 0.0, 0.0, 0.0, 0.0, 0.0, 0.0, 0.0, 0.0, 0.0, 0.0, 0.0, 0.0, 0.0, 0.0, 0.0, 0.0, 0.0, 0.0, 0.0, 0.0, 0.0, 0.0, 0.0, 0.0, 0.0, 0.0, 0.0, 0.0, 0.0, 0.0, 0.0, 0.0, 0.0, 0.0, 0.0, 0.0, 0.0, 0.0, 0.0, 0.0, 0.0, 0.0, 0.0, 0.0, 0.0, 0.0, 0.0, 0.0, 0.0, 0.0, 0.0, 0.0, 0.0, 0.0, 0.0, 0.0, 0.0, 0.0, 0.0, 0.0, 0.0, 0.0, 0.0, 0.0, 0.0, 0.0, 0.0, 0.0, 0.0, 0.0, 0.0, 0.0, 0.0, 0.0, 0.0, 0.0, 0.0, 0.0, 0.0, 0.0, 0.0, 0.0, 0.0, 0.0, 0.0, 0.0, 0.0, 0.0, 0.0, 0.0, 0.0, 0.0, 0.0, 0.0, 0.0, 0.0, 0.0, 0.0, 0.0, 0.0, 0.0, 0.0, 0.0, 0.0, 0.0, 0.0, 0.0, 0.0, 0.0, 0.0, 0.0, 0.0, 0.0, 0.0, 0.0, 0.0, 0.0, 0.0, 0.0, 0.0, 0.0, 0.0, 0.0, 0.0, 0.0, 0.0, 0.0, 0.0, 0.0, 0.0, 0.0, 0.0, 0.0, 0.0, 0.0, 0.0, 0.0, 0.0, 0.0, 0.0, 0.0, 0.0, 0.0, 0.0, 0.0, 0.0, 0.0, 0.0, 0.0, 0.0, 0.0, 0.0, 0.0, 0.0, 0.0, 0.0, 0.0, 0.0, 0.0, 0.0, 0.0, 0.0, 0.0, 0.0, 0.0, 0.0, 0.0, 0.0, 0.0, 0.0, 0.0, 0.0, 0.0, 0.0, 0.0, 0.0, 0.0, 0.0, 0.0, 0.0, 0.0, 0.0, 0.0, 0.0, 0.0, 0.0, 0.0, 0.0, 0.0, 0.0, 0.0, 0.0, 0.0, 0.0, 0.0, 0.0, 0.0, 0.0, 0.0, 0.0, 0.0, 0.0, 0.0, 0.0, 0.0, 0.0, 0.0, 0.0, 0.0, 0.0, 0.0, 0.0, 0.0, 0.0, 0.0, 0.0, 0.0, 0.0, 0.0, 0.0, 0.0, 0.0, 0.0, 0.0, 0.0, 0.0, 0.0, 0.0, 0.0, 0.0, 0.0, 0.0, 0.0, 0.0, 0.0, 0.0, 0.0, 0.0, 0.0, 0.0, 0.0, 0.0, 0.0, 0.0, 0.0, 0.0, 0.0, 0.0, 0.0, 0.0, 0.0, 0.0, 0.0, 0.0, 0.0, 0.0, 0.0, 0.0, 0.0, 0.0, 0.0, 0.0, 0.0, 0.0, 0.0, 0.0, 0.0, 0.0, 0.0, 0.0, 0.0, 0.0, 0.0, 0.0, 0.0, 0.0, 0.0, 0.0, 0.0, 0.0, 0.0, 0.0, 0.0, 0.0, 0.0, 0.0, 0.0, 0.0, 0.0, 0.0, 0.0, 0.0, 0.0, 0.0, 0.0, 0.0, 0.0, 0.0, 0.0, 0.0, 0.0, 0.0, 0.0, 0.0, 0.0, 0.0, 0.0, 0.0, 0.0, 0.0, 0.0, 0.0, 0.0, 0.0, 0.0, 0.0, 0.0, 0.0, 0.0, 0.0, 0.0, 0.0, 0.0, 0.0, 0.0, 0.0, 0.0, 0.0, 0.0, 0.0, 0.0, 0.0, 0.0, 0.0, 0.0, 0.0, 0.0, 0.0, 0.0, 0.0, 0.0, 0.0, 0.0, 0.0, 0.0, 0.0, 0.0, 0.0, 0.0, 0.0, 0.0, 0.0, 0.0, 0.0, 0.0, 0.0, 0.0, 0.0, 0.0, 0.0, 0.0, 0.0, 0.0, 0.0, 0.0, 0.0, 0.0, 0.0, 0.0, 0.0, 0.0, 0.0, 0.0, 0.0, 0.0, 0.0, 0.0, 0.0, 0.0, 0.0, 0.0, 0.0, 0.0, 0.0, 0.0, 0.0, 0.0, 0.0, 0.0, 0.0, 0.0, 0.0, 0.0, 0.0, 0.0, 0.0, 0.0, 0.0, 0.0, 0.0, 0.0, 0.0, 0.0, 0.0, 0.0, 0.0, 0.0, 0.0, 0.0, 0.0, 0.0, 0.0, 0.0, 0.0, 0.0, 0.0, 0.0, 0.0, 0.0, 0.0, 0.0, 0.0, 0.0, 0.0, 0.0, 0.0, 0.0, 0.0, 0.0, 0.0, 0.0, 0.0, 0.0, 0.0, 0.0, 0.0, 0.0, 0.0, 0.0, 0.0, 0.0, 0.0, 0.0, 0.0, 0.0, 0.0, 0.0, 0.0, 0.0, 0.0, 0.0, 0.0, 0.0, 0.0, 0.0, 0.0, 0.0, 0.0, 0.0, 0.0, 0.0, 0.0, 0.0, 0.0, 0.0, 0.0, 0.0, 0.0, 0.0, 0.0, 0.0, 0.0, 0.0, 0.0, 0.0, 0.0, 0.0, 0.0, 0.0, 0.0, 0.0, 0.0, 0.0, 0.0, 0.0, 0.0, 0.0, 0.0, 0.0, 0.0, 0.0, 0.0, 0.0, 0.0, 0.0, 0.0, 0.0, 0.0, 0.0, 0.0, 0.0, 0.0, 0.0, 0.0, 0.0, 0.0, 0.0, 0.0, 0.0, 0.0, 0.0, 0.0, 0.0, 0.0, 0.0, 0.0, 0.0, 0.0, 0.0, 0.0, 0.0, 0.0, 0.0, 0.0, 0.0, 0.0, 0.0, 0.0, 0.0, 0.0, 0.0, 0.0, 0.0, 0.0, 0.0, 0.0, 0.0, 0.0, 0.0, 0.0, 0.0, 0.0, 0.0, 0.0, 0.0, 0.0, 0.0, 0.0, 0.0, 0.0, 0.0, 0.0, 0.0, 0.0, 0.0, 0.0, 0.0, 0.0, 0.0, 0.0, 0.0, 0.0, 0.0, 0.0, 0.0, 0.0, 0.0, 0.0, 0.0, 0.0, 0.0, 0.0, 0.0, 0.0, 0.0, 0.0, 0.0, 0.0, 0.0, 0.0, 0.0, 0.0, 0.0, 0.0, 0.0, 0.0, 0.0, 0.0, 0.0, 0.0, 0.0, 0.0, 0.0, 0.0, 0.0, 0.0, 0.0, 0.0, 0.0, 0.0, 0.0, 0.0, 0.0, 0.0, 0.0, 0.0, 0.0, 0.0, 0.0, 0.0, 0.0, 0.0, 0.0, 0.0, 0.0, 0.0, 0.0, 0.0, 0.0, 0.0, 0.0, 0.0, 0.0, 0.0, 0.0, 0.0, 0.0, 0.0, 0.0, 0.0, 0.0, 0.0, 0.0, 0.0, 0.0, 0.0, 0.0, 0.0, 0.0, 0.0, 0.0, 0.0, 0.0, 0.0, 0.0, 0.0, 0.0, 0.0, 0.0, 0.0, 0.0, 0.0, 0.0, 0.0, 0.0, 0.0, 0.0, 0.0, 0.0, 0.0, 0.0, 0.0, 0.0, 0.0, 0.0, 0.0, 0.0, 0.0, 0.0, 0.0, 0.0, 0.0, 0.0, 0.0, 0.0, 0.0, 0.0, 0.0, 0.0, 0.0, 0.0, 0.0, 0.0, 0.0, 0.0, 0.0, 0.0, 0.0, 0.0, 0.0, 0.0, 0.0, 0.0, 0.0, 0.0, 0.0, 0.0, 0.0, 0.0, 0.0, 0.0, 0.0, 0.0, 0.0, 0"
     ]
    },
    {
     "name": "stdout",
     "output_type": "stream",
     "text": [
      ".0, 0.0, 0.0, 0.0, 0.0, 0.0, 0.0, 0.0, 0.0, 0.0, 0.0, 0.0, 0.0, 0.0, 0.0, 0.0, 0.0, 0.0, 0.0, 0.0, 0.0, 0.0, 0.0, 0.0, 0.0, 0.0, 0.0, 0.0, 0.0, 0.0, 0.0, 0.0, 0.0, 0.0, 0.0, 0.0, 0.0, 0.0, 0.0, 0.0, 0.0, 0.0, 0.0, 0.0, 0.0, 0.0, 0.0, 0.0, 0.0, 0.0, 0.0, 0.0, 0.0, 0.0, 0.0, 0.0, 0.0, 0.0, 0.0, 0.0, 0.0, 0.0, 0.0, 0.0, 0.0, 0.0, 0.0, 0.0, 0.0, 0.0, 0.0, 0.0, 0.0, 0.0, 0.0, 0.0, 0.0, 0.0, 0.0, 0.0, 0.0, 0.0, 0.0, 0.0, 0.0, 0.0, 0.0, 0.0, 0.0, 0.0, 0.0, 0.0, 0.0, 0.0, 0.0, 0.0, 0.0, 0.0, 0.0, 0.0, 0.0, 0.0, 0.0, 0.0, 0.0, 0.0, 0.0, 0.0, 0.0, 0.0, 0.0, 0.0, 0.0, 0.0, 0.0, 0.0, 0.0, 0.0, 0.0, 0.0, 0.0, 0.0, 0.0, 0.0, 0.0, 0.0, 0.0, 0.0, 0.0, 0.0, 0.0, 0.0, 0.0, 0.0, 0.0, 0.0, 0.0, 0.0, 0.0, 0.0, 0.0, 0.0, 0.0, 0.0, 0.0, 0.0, 0.0, 0.0, 0.0, 0.0, 0.0, 0.0, 0.0, 0.0, 0.0, 0.0, 0.0, 0.0, 0.0, 0.0, 0.0, 0.0, 0.0, 0.0, 0.0, 0.0, 0.0, 0.0, 0.0, 0.0, 0.0, 0.0, 0.0, 0.0, 0.0, 0.0, 0.0, 0.0, 0.0, 0.0, 0.0, 0.0, 0.0, 0.0, 0.0, 0.0], UInt128[0x00000000000000000000000000000000, 0x00000000000000000000000000000000, 0x00000000000000000000000000000000, 0x00000000000000000000000000000000, 0x00000000000000000000000000000000, 0x00000000000000000000000000000000, 0x00000000000000000000000000000000, 0x00000000000000000000000000000000, 0x00000000000000000000000000000000, 0x00000000000000000000000000000000, 0x00000000000000000000000000000000, 0x00000000000000000000000000000000, 0x00000000000000000000000000000000, 0x00000000000000000000000000000000, 0x00000000000000000000000000000000, 0x00000000000000000000000000000000, 0x00000000000000000000000000000000, 0x00000000000000000000000000000000, 0x00000000000000000000000000000000, 0x00000000000000000000000000000000, 0x00000000000000000000000000000000, 0x00000000000000000000000000000000, 0x00000000000000000000000000000000, 0x00000000000000000000000000000000, 0x00000000000000000000000000000000, 0x00000000000000000000000000000000, 0x00000000000000000000000000000000, 0x00000000000000000000000000000000, 0x00000000000000000000000000000000, 0x00000000000000000000000000000000, 0x00000000000000000000000000000000, 0x00000000000000000000000000000000, 0x00000000000000000000000000000000, 0x00000000000000000000000000000000, 0x00000000000000000000000000000000, 0x00000000000000000000000000000000, 0x00000000000000000000000000000000, 0x00000000000000000000000000000000, 0x00000000000000000000000000000000, 0x00000000000000000000000000000000, 0x00000000000000000000000000000000, 0x00000000000000000000000000000000, 0x00000000000000000000000000000000, 0x00000000000000000000000000000000, 0x00000000000000000000000000000000, 0x00000000000000000000000000000000, 0x00000000000000000000000000000000, 0x00000000000000000000000000000000, 0x00000000000000000000000000000000, 0x00000000000000000000000000000000, 0x00000000000000000000000000000000, 0x00000000000000000000000000000000, 0x00000000000000000000000000000000, 0x00000000000000000000000000000000, 0x00000000000000000000000000000000, 0x00000000000000000000000000000000, 0x00000000000000000000000000000000, 0x00000000000000000000000000000000, 0x00000000000000000000000000000000, 0x00000000000000000000000000000000, 0x00000000000000000000000000000000, 0x00000000000000000000000000000000, 0x00000000000000000000000000000000, 0x00000000000000000000000000000000, 0x00000000000000000000000000000000, 0x00000000000000000000000000000000, 0x00000000000000000000000000000000, 0x00000000000000000000000000000000, 0x00000000000000000000000000000000, 0x00000000000000000000000000000000, 0x00000000000000000000000000000000, 0x00000000000000000000000000000000, 0x00000000000000000000000000000000, 0x00000000000000000000000000000000, 0x00000000000000000000000000000000, 0x00000000000000000000000000000000, 0x00000000000000000000000000000000, 0x00000000000000000000000000000000, 0x00000000000000000000000000000000, 0x00000000000000000000000000000000, 0x00000000000000000000000000000000, 0x00000000000000000000000000000000, 0x00000000000000000000000000000000, 0x00000000000000000000000000000000, 0x00000000000000000000000000000000, 0x00000000000000000000000000000000, 0x00000000000000000000000000000000, 0x00000000000000000000000000000000, 0x00000000000000000000000000000000, 0x00000000000000000000000000000000, 0x00000000000000000000000000000000, 0x00000000000000000000000000000000, 0x00000000000000000000000000000000, 0x00000000000000000000000000000000, 0x00000000000000000000000000000000, 0x00000000000000000000000000000000, 0x00000000000000000000000000000000, 0x00000000000000000000000000000000, 0x00000000000000000000000000000000, 0x00000000000000000000000000000000, 0x00000000000000000000000000000000, 0x00000000000000000000000000000000, 0x00000000000000000000000000000000, 0x00000000000000000000000000000000, 0x00000000000000000000000000000000, 0x00000000000000000000000000000000, 0x00000000000000000000000000000000, 0x00000000000000000000000000000000, 0x00000000000000000000000000000000, 0x00000000000000000000000000000000, 0x00000000000000000000000000000000, 0x00000000000000000000000000000000, 0x00000000000000000000000000000000, 0x00000000000000000000000000000000, 0x00000000000000000000000000000000, 0x00000000000000000000000000000000, 0x00000000000000000000000000000000, 0x00000000000000000000000000000000, 0x00000000000000000000000000000000, 0x00000000000000000000000000000000, 0x00000000000000000000000000000000, 0x00000000000000000000000000000000, 0x00000000000000000000000000000000, 0x00000000000000000000000000000000, 0x00000000000000000000000000000000, 0x00000000000000000000000000000000, 0x00000000000000000000000000000000, 0x00000000000000000000000000000000, 0x00000000000000000000000000000000, 0x00000000000000000000000000000000, 0x00000000000000000000000000000000, 0x00000000000000000000000000000000, 0x00000000000000000000000000000000, 0x00000000000000000000000000000000, 0x00000000000000000000000000000000, 0x00000000000000000000000000000000, 0x00000000000000000000000000000000, 0x00000000000000000000000000000000, 0x00000000000000000000000000000000, 0x00000000000000000000000000000000, 0x00000000000000000000000000000000, 0x00000000000000000000000000000000, 0x00000000000000000000000000000000, 0x00000000000000000000000000000000, 0x00000000000000000000000000000000, 0x00000000000000000000000000000000, 0x00000000000000000000000000000000, 0x00000000000000000000000000000000, 0x00000000000000000000000000000000, 0x00000000000000000000000000000000, 0x00000000000000000000000000000000, 0x00000000000000000000000000000000, 0x00000000000000000000000000000000, 0x00000000000000000000000000000000, 0x00000000000000000000000000000000, 0x00000000000000000000000000000000, 0x00000000000000000000000000000000, 0x00000000000000000000000000000000, 0x00000000000000000000000000000000, 0x00000000000000000000000000000000, 0x00000000000000000000000000000000, 0x00000000000000000000000000000000, 0x00000000000000000000000000000000, 0x00000000000000000000000000000000, 0x00000000000000000000000000000000, 0x00000000000000000000000000000000, 0x00000000000000000000000000000000, 0x00000000000000000000000000000000, 0x00000000000000000000000000000000, 0x00000000000000000000000000000000, 0x00000000000000000000000000000000, 0x00000000000000000000000000000000, 0x00000000000000000000000000000000, 0x00000000000000000000000000000000, 0x00000000000000000000000000000000, 0x00000000000000000000000000000000, 0x00000000000000000000000000000000, 0x00000000000000000000000000000000, 0x00000000000000000000000000000000, 0x00000000000000000000000000000000, 0x00000000000000000000000000000000, 0x00000000000000000000000000000000, 0x00000000000000000000000000000000, 0x00000000000000000000000000000000, 0x00000000000000000000000000000000, 0x00000000000000000000000000000000, 0x00000000000000000000000000000000, 0x00000000000000000000000000000000, 0x00000000000000000000000000000000, 0x00000000000000000000000000000000, 0x00000000000000000000000000000000, 0x00000000000000000000000000000000, 0x00000000000000000000000000000000, 0x00000000000000000000000000000000, 0x00000000000000000000000000000000, 0x00000000000000000000000000000000, 0x00000000000000000000000000000000, 0x00000000000000000000000000000000, 0x00000000000000000000000000000000, 0x00000000000000000000000000000000, 0x00000000000000000000000000000000, 0x00000000000000000000000000000000, 0x00000000000000000000000000000000, 0x00000000000000000000000000000000, 0x00000000000000000000000000000000, 0x00000000000000000000000000000000, 0x00000000000000000000000000000000, 0x00000000000000000000000000000000, 0x00000000000000000000000000000000, 0x00000000000000000000000000000000, 0x00000000000000000000000000000000, 0x00000000000000000000000000000000, 0x00000000000000000000000000000000, 0x00000000000000000000000000000000, 0x00000000000000000000000000000000, 0x00000000000000000000000000000000, 0x00000000000000000000000000000000, 0x00000000000000000000000000000000, 0x00000000000000000000000000000000, 0x00000000000000000000000000000000, 0x00000000000000000000000000000000, 0x00000000000000000000000000000000, 0x00000000000000000000000000000000, 0x00000000000000000000000000000000, 0x00000000000000000000000000000000, 0x00000000000000000000000000000000, 0x00000000000000000000000000000000, 0x00000000000000000000000000000000, 0x00000000000000000000000000000000, 0x00000000000000000000000000000000, 0x00000000000000000000000000000000, 0x00000000000000000000000000000000, 0x00000000000000000000000000000000, 0x00000000000000000000000000000000, 0x00000000000000000000000000000000, 0x00000000000000000000000000000000, 0x00000000000000000000000000000000, 0x00000000000000000000000000000000, 0x00000000000000000000000000000000, 0x00000000000000000000000000000000, 0x00000000000000000000000000000000, 0x00000000000000000000000000000000, 0x00000000000000000000000000000000, 0x00000000000000000000000000000000, 0x00000000000000000000000000000000, 0x00000000000000000000000000000000, 0x00000000000000000000000000000000, 0x00000000000000000000000000000000, 0x00000000000000000000000000000000, 0x00000000000000000000000000000000, 0x00000000000000000000000000000000, 0x00000000000000000000000000000000, 0x00000000000000000000000000000000, 0x00000000000000000000000000000000, 0x00000000000000000000000000000000, 0x00000000000000000000000000000000, 0x00000000000000000000000000000000, 0x00000000000000000000000000000000, 0x00000000000000000000000000000000,"
     ]
    },
    {
     "name": "stdout",
     "output_type": "stream",
     "text": [
      " 0x00000000000000000000000000000000, 0x00000000000000000000000000000000, 0x00000000000000000000000000000000, 0x00000000000000000000000000000000, 0x00000000000000000000000000000000, 0x00000000000000000000000000000000, 0x00000000000000000000000000000000, 0x00000000000000000000000000000000, 0x00000000000000000000000000000000, 0x00000000000000000000000000000000, 0x00000000000000000000000000000000, 0x00000000000000000000000000000000, 0x00000000000000000000000000000000, 0x00000000000000000000000000000000, 0x00000000000000000000000000000000, 0x00000000000000000000000000000000, 0x00000000000000000000000000000000, 0x00000000000000000000000000000000, 0x00000000000000000000000000000000, 0x00000000000000000000000000000000, 0x00000000000000000000000000000000, 0x00000000000000000000000000000000, 0x00000000000000000000000000000000, 0x00000000000000000000000000000000, 0x00000000000000000000000000000000, 0x00000000000000000000000000000000, 0x00000000000000000000000000000000, 0x00000000000000000000000000000000, 0x00000000000000000000000000000000, 0x00000000000000000000000000000000, 0x00000000000000000000000000000000, 0x00000000000000000000000000000000, 0x00000000000000000000000000000000, 0x00000000000000000000000000000000, 0x00000000000000000000000000000000, 0x00000000000000000000000000000000, 0x00000000000000000000000000000000, 0x00000000000000000000000000000000, 0x00000000000000000000000000000000, 0x00000000000000000000000000000000, 0x00000000000000000000000000000000, 0x00000000000000000000000000000000, 0x00000000000000000000000000000000, 0x00000000000000000000000000000000, 0x00000000000000000000000000000000, 0x00000000000000000000000000000000, 0x00000000000000000000000000000000, 0x00000000000000000000000000000000, 0x00000000000000000000000000000000, 0x00000000000000000000000000000000, 0x00000000000000000000000000000000, 0x00000000000000000000000000000000, 0x00000000000000000000000000000000, 0x00000000000000000000000000000000, 0x00000000000000000000000000000000, 0x00000000000000000000000000000000, 0x00000000000000000000000000000000, 0x00000000000000000000000000000000, 0x00000000000000000000000000000000, 0x00000000000000000000000000000000, 0x00000000000000000000000000000000, 0x00000000000000000000000000000000, 0x00000000000000000000000000000000, 0x00000000000000000000000000000000, 0x00000000000000000000000000000000, 0x00000000000000000000000000000000, 0x00000000000000000000000000000000, 0x00000000000000000000000000000000, 0x00000000000000000000000000000000, 0x00000000000000000000000000000000, 0x00000000000000000000000000000000, 0x00000000000000000000000000000000, 0x00000000000000000000000000000000, 0x00000000000000000000000000000000, 0x00000000000000000000000000000000, 0x00000000000000000000000000000000, 0x00000000000000000000000000000000, 0x00000000000000000000000000000000, 0x00000000000000000000000000000000, 0x00000000000000000000000000000000, 0x00000000000000000000000000000000, 0x00000000000000000000000000000000, 0x00000000000000000000000000000000, 0x00000000000000000000000000000000, 0x00000000000000000000000000000000, 0x00000000000000000000000000000000, 0x00000000000000000000000000000000, 0x00000000000000000000000000000000, 0x00000000000000000000000000000000, 0x00000000000000000000000000000000, 0x00000000000000000000000000000000, 0x00000000000000000000000000000000, 0x00000000000000000000000000000000, 0x00000000000000000000000000000000, 0x00000000000000000000000000000000, 0x00000000000000000000000000000000, 0x00000000000000000000000000000000, 0x00000000000000000000000000000000, 0x00000000000000000000000000000000, 0x00000000000000000000000000000000, 0x00000000000000000000000000000000, 0x00000000000000000000000000000000, 0x00000000000000000000000000000000, 0x00000000000000000000000000000000, 0x00000000000000000000000000000000, 0x00000000000000000000000000000000, 0x00000000000000000000000000000000, 0x00000000000000000000000000000000, 0x00000000000000000000000000000000, 0x00000000000000000000000000000000, 0x00000000000000000000000000000000, 0x00000000000000000000000000000000, 0x00000000000000000000000000000000, 0x00000000000000000000000000000000, 0x00000000000000000000000000000000, 0x00000000000000000000000000000000, 0x00000000000000000000000000000000, 0x00000000000000000000000000000000, 0x00000000000000000000000000000000, 0x00000000000000000000000000000000, 0x00000000000000000000000000000000, 0x00000000000000000000000000000000, 0x00000000000000000000000000000000, 0x00000000000000000000000000000000, 0x00000000000000000000000000000000, 0x00000000000000000000000000000000, 0x00000000000000000000000000000000, 0x00000000000000000000000000000000, 0x00000000000000000000000000000000, 0x00000000000000000000000000000000, 0x00000000000000000000000000000000, 0x00000000000000000000000000000000, 0x00000000000000000000000000000000, 0x00000000000000000000000000000000, 0x00000000000000000000000000000000, 0x00000000000000000000000000000000, 0x00000000000000000000000000000000, 0x00000000000000000000000000000000, 0x00000000000000000000000000000000, 0x00000000000000000000000000000000, 0x00000000000000000000000000000000, 0x00000000000000000000000000000000, 0x00000000000000000000000000000000, 0x00000000000000000000000000000000, 0x00000000000000000000000000000000, 0x00000000000000000000000000000000, 0x00000000000000000000000000000000, 0x00000000000000000000000000000000, 0x00000000000000000000000000000000, 0x00000000000000000000000000000000, 0x00000000000000000000000000000000, 0x00000000000000000000000000000000, 0x00000000000000000000000000000000, 0x00000000000000000000000000000000, 0x00000000000000000000000000000000, 0x00000000000000000000000000000000, 0x00000000000000000000000000000000, 0x00000000000000000000000000000000, 0x00000000000000000000000000000000, 0x00000000000000000000000000000000, 0x00000000000000000000000000000000, 0x00000000000000000000000000000000, 0x00000000000000000000000000000000, 0x00000000000000000000000000000000, 0x00000000000000000000000000000000, 0x00000000000000000000000000000000, 0x00000000000000000000000000000000, 0x00000000000000000000000000000000, 0x00000000000000000000000000000000, 0x00000000000000000000000000000000, 0x00000000000000000000000000000000, 0x00000000000000000000000000000000, 0x00000000000000000000000000000000, 0x00000000000000000000000000000000, 0x00000000000000000000000000000000, 0x00000000000000000000000000000000, 0x00000000000000000000000000000000, 0x00000000000000000000000000000000, 0x00000000000000000000000000000000, 0x00000000000000000000000000000000, 0x00000000000000000000000000000000, 0x00000000000000000000000000000000, 0x00000000000000000000000000000000, 0x00000000000000000000000000000000, 0x00000000000000000000000000000000, 0x00000000000000000000000000000000, 0x00000000000000000000000000000000, 0x00000000000000000000000000000000, 0x00000000000000000000000000000000, 0x00000000000000000000000000000000, 0x00000000000000000000000000000000, 0x00000000000000000000000000000000, 0x00000000000000000000000000000000, 0x00000000000000000000000000000000, 0x00000000000000000000000000000000, 0x00000000000000000000000000000000, 0x00000000000000000000000000000000, 0x00000000000000000000000000000000, 0x00000000000000000000000000000000, 0x00000000000000000000000000000000, 0x00000000000000000000000000000000, 0x00000000000000000000000000000000, 0x00000000000000000000000000000000, 0x00000000000000000000000000000000, 0x00000000000000000000000000000000, 0x00000000000000000000000000000000, 0x00000000000000000000000000000000, 0x00000000000000000000000000000000, 0x00000000000000000000000000000000, 0x00000000000000000000000000000000, 0x00000000000000000000000000000000, 0x00000000000000000000000000000000, 0x00000000000000000000000000000000, 0x00000000000000000000000000000000, 0x00000000000000000000000000000000, 0x00000000000000000000000000000000, 0x00000000000000000000000000000000, 0x00000000000000000000000000000000, 0x00000000000000000000000000000000, 0x00000000000000000000000000000000, 0x00000000000000000000000000000000, 0x00000000000000000000000000000000, 0x00000000000000000000000000000000, 0x00000000000000000000000000000000, 0x00000000000000000000000000000000, 0x00000000000000000000000000000000, 0x00000000000000000000000000000000, 0x00000000000000000000000000000000, 0x00000000000000000000000000000000, 0x00000000000000000000000000000000, 0x00000000000000000000000000000000, 0x00000000000000000000000000000000, 0x00000000000000000000000000000000, 0x00000000000000000000000000000000, 0x00000000000000000000000000000000, 0x00000000000000000000000000000000, 0x00000000000000000000000000000000, 0x00000000000000000000000000000000, 0x00000000000000000000000000000000, 0x00000000000000000000000000000000, 0x00000000000000000000000000000000, 0x00000000000000000000000000000000], 1002, 0), \"add_some_noise(x)\")\n"
     ]
    },
    {
     "name": "stdout",
     "output_type": "stream",
     "text": [
      "Variable{String,Array{Float64,1},String}(\"x\", [309.643], \"add_some_noise(x)\")\n"
     ]
    }
   ],
   "source": [
    "for v in prog_vars\n",
    "    println(v)\n",
    "end"
   ]
  },
  {
   "cell_type": "code",
   "execution_count": null,
   "metadata": {},
   "outputs": [],
   "source": []
  },
  {
   "cell_type": "code",
   "execution_count": null,
   "metadata": {},
   "outputs": [],
   "source": []
  },
  {
   "cell_type": "code",
   "execution_count": null,
   "metadata": {},
   "outputs": [],
   "source": []
  }
 ],
 "metadata": {
  "kernelspec": {
   "display_name": "Julia 1.0.2",
   "language": "julia",
   "name": "julia-1.0"
  },
  "language_info": {
   "file_extension": ".jl",
   "mimetype": "application/julia",
   "name": "julia",
   "version": "1.0.2"
  }
 },
 "nbformat": 4,
 "nbformat_minor": 2
}
