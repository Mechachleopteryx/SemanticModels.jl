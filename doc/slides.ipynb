{
 "cells": [
  {
   "cell_type": "raw",
   "metadata": {
    "slideshow": {
     "slide_type": "skip"
    }
   },
   "source": [
    "---\n",
    "author: James Fairbanks\n",
    "title: Semantic Program Analysis for Scientific Model Augmentation\n",
    "date: Apr 25, 2019\n",
    "---"
   ]
  },
  {
   "cell_type": "markdown",
   "metadata": {
    "slideshow": {
     "slide_type": "slide"
    }
   },
   "source": [
    "# Semantic Program Analysis for Scientific Model Augmentation\n",
    "\n",
    "![SemanticModels Logo](src/img/semanticmodels_jl.dot.svg)\n",
    "\n",
    "- Teaching computers to do science\n",
    "- Model Augmentation and Synthesis\n",
    "- Arbitrary models are complex, but transformations are simpler\n",
    "- Project Repo [github.com/jpfairbanks/SemanticModels.jl](github.com/jpfairbanks/SemanticModels.jl)"
   ]
  },
  {
   "cell_type": "markdown",
   "metadata": {
    "slideshow": {
     "slide_type": "slide"
    }
   },
   "source": [
    "## Machine Augmentation of Scientists\n",
    "\n",
    "- Scientists are busy writting papers\n",
    "- Papers are a low bandwidth medium, because of imprecision\n",
    "- We want to build AI scientists\n"
   ]
  },
  {
   "cell_type": "markdown",
   "metadata": {
    "slideshow": {
     "slide_type": "slide"
    }
   },
   "source": [
    "## Science as nested optimization\n",
    "\n",
    "Fitting the data is a regression problem:\n",
    "\n",
    "$$\\ell^* = \\min_{h\\in {H}} \\ell(h(x), y)$$ "
   ]
  },
  {
   "cell_type": "markdown",
   "metadata": {
    "slideshow": {
     "slide_type": "fragment"
    }
   },
   "source": [
    "Institutional process of discovery is\n",
    "\n",
    "$$\\max_{{H}\\in \\mathcal{M}} expl(h^*)$$ where *expl* is the explanatory power of a class of models $H$. \n",
    "\n",
    "- The explanatory power is some combination of \n",
    "    - generalization,\n",
    "    - parsimony,\n",
    "    - and consistency with the fundamental principles of the field."
   ]
  },
  {
   "cell_type": "markdown",
   "metadata": {
    "slideshow": {
     "slide_type": "skip"
    }
   },
   "source": [
    "## Modeling Frameworks\n",
    "\n",
    "Most frameworks are designed before the models are written\n",
    "\n",
    "| Framework | Math | Input Specification  | Description |\n",
    "|-----------|------|----------|-------------|\n",
    "| <img width=\"50px\" src=\"https://www.mathworks.com/content/dam/mathworks/mathworks-dot-com/images/ico_membrane_128.png\"> Matlab/Scipy</img> | x = A\\b | BLAS + scripting | Sci/Eng math is all BLAS| \n",
    "| <img width=\"50px\" src=\"https://upload.wikimedia.org/wikipedia/commons/thumb/2/20/Mathematica_Logo.svg/1920px-Mathematica_Logo.svg.png\"> Mathematica</img> |$p(x)=0$|Symbolic Math Expressions| Computer Algebra Systems|\n",
    "| <img width=\"50px\" src=\"https://mc-stan.org/docs/2_18/stan-users-guide/img/logo-tm.png\" alt=\"Stan Logo\">Stan</img> | $ y \\sim \\mathcal{N}(x \\beta + \\alpha, \\sigma)$ | StanML | Bayesian Inference|\n",
    "| <img src=\"https://camo.githubusercontent.com/31d60f762b44d0c3ea47cc16b785e042104a6e03/68747470733a2f2f7777772e6a756c69616f70742e6f72672f696d616765732f6a756d702d6c6f676f2d776974682d746578742e737667\" alt=\"jump\"></img> | $\\min_{x\\perp C(x)} f(x)$ | AMPL based DSL| Optimization Problems |\n",
    "| ![TensorFlow](https://www.gstatic.com/devrel-devsite/va3a0eb1ff00a004a87e2f93101f27917d794beecfd23556fc6d8627bba2ff3cf/tensorflow/images/lockup.svg) | $y\\approx f(x)$ | TF.Graph| Deep Learning|\n",
    "| <img width=\"75px\" src=\"http://aske.gtri.gatech.edu/docs/latest/img/semanticmodels_jl.dot.svg\">SemanticModels.jl</img> | All Computable Domains| Julia Programs | $Models \\subset Code$|\n",
    "\n",
    "SemanticModels is a post hoc modeling framework"
   ]
  },
  {
   "cell_type": "markdown",
   "metadata": {
    "slideshow": {
     "slide_type": "slide"
    }
   },
   "source": [
    "## Modeling Frameworks\n",
    "\n",
    "Most frameworks are designed before the models are written\n",
    "\n",
    "|Domain | <p></p> | <p></p> |\n",
    "|--|-----------|------|\n",
    "|Algebra | <img width=\"50px\" src=\"https://www.mathworks.com/content/dam/mathworks/mathworks-dot-com/images/ico_membrane_128.png\" alt=\"Matlab/Scipy\"></img>  | <img width=\"50px\" src=\"https://upload.wikimedia.org/wikipedia/commons/thumb/2/20/Mathematica_Logo.svg/1920px-Mathematica_Logo.svg.png\" alt=\"Mathematica\"></img> |\n",
    "|Learning | <img width=\"50px\" src=\"https://mc-stan.org/docs/2_18/stan-users-guide/img/logo-tm.png\" alt=\"Stan\"></img> |  ![TensorFlow](https://www.gstatic.com/devrel-devsite/va3a0eb1ff00a004a87e2f93101f27917d794beecfd23556fc6d8627bba2ff3cf/tensorflow/images/lockup.svg) |\n",
    "|Optimization | <img width=\"75px\" src=\"https://camo.githubusercontent.com/31d60f762b44d0c3ea47cc16b785e042104a6e03/68747470733a2f2f7777772e6a756c69616f70742e6f72672f696d616765732f6a756d702d6c6f676f2d776974682d746578742e737667\" alt=\"jump\"></img> | <img width=\"50px\" src=\"https://pbs.twimg.com/media/C7dmXwGXQAA47XE.jpg:large\" alt=\"CPLEX\"></img> |\n",
    "|Modeling | <img width=\"50px\" src=\"http://docs.juliadiffeq.org/latest/assets/logo.png\" alt=\"JuliaDiffeq\"></img> | <img width=\"75px\" src=\"http://aske.gtri.gatech.edu/docs/latest/img/semanticmodels_jl.dot.svg\"></img> |\n",
    "\n",
    "SemanticModels is a post hoc modeling framework"
   ]
  },
  {
   "cell_type": "markdown",
   "metadata": {
    "slideshow": {
     "slide_type": "subslide"
    }
   },
   "source": [
    "## Statistical / ML models are accurate\n",
    "\n",
    "Fitting curves to data is good, but doesn't explain the data.\n",
    "\n",
    "## Scientific Models are Mechanistic\n",
    "Mechanistic models are more explainable than black box or statistical models. They posit driving forces and natural laws\n",
    "that drive the evolution of systems over time.\n",
    "\n",
    "We call these *simulations* when necessary to distinguish from *model*\n",
    "\n",
    "- Benefits: more explainable, more generalizable\n",
    "- Cons: lower Accuracy, less flexible"
   ]
  },
  {
   "cell_type": "markdown",
   "metadata": {
    "slideshow": {
     "slide_type": "slide"
    }
   },
   "source": [
    "## SIR model of disease\n",
    "\n",
    "<img src=\"https://docs.google.com/drawings/d/e/2PACX-1vSeA7mAQ-795lLVxCWXzbkFQaFOHMpwtB121psFV_2cSUyXPyKMtvDjssia82JvQRXS08p6FAMr1hj1/pub?w=1031&amp;h=309\">"
   ]
  },
  {
   "cell_type": "markdown",
   "metadata": {
    "slideshow": {
     "slide_type": "slide"
    }
   },
   "source": [
    "### ODE based simulation\n",
    "\n",
    "#### A mathematical model of disease spread\n",
    "\n",
    "\\begin{align}\n",
    "\\frac{dS}{dt}&=-\\frac{\\beta IS}{N}\\\\\\\\\n",
    "\\frac{dI}{dt}&=\\frac{\\beta IS}{N}-\\gamma I\\\\\\\\\n",
    "\\frac{dR}{dt}&=\\gamma I\n",
    "\\end{align}"
   ]
  },
  {
   "cell_type": "markdown",
   "metadata": {
    "slideshow": {
     "slide_type": "subslide"
    }
   },
   "source": [
    "#### Predictions\n",
    "\n",
    "![Ebola Outbreak](src/img/srep42594-f1-cropped.png)\n",
    "- (a) Cumulative number of infected individuals as a function of time (day) for the three countries Guinea, Liberia and Sierra Leone. \n",
    "- A Khalequea, and P Senb, \"An empirical analysis of the Ebola outbreak in West Africa\" 2017"
   ]
  },
  {
   "cell_type": "markdown",
   "metadata": {
    "slideshow": {
     "slide_type": "skip"
    }
   },
   "source": [
    "![SIR solution](https://upload.wikimedia.org/wikipedia/commons/thumb/3/32/Sirsys-p9.png/330px-Sirsys-p9.png)"
   ]
  },
  {
   "cell_type": "markdown",
   "metadata": {
    "slideshow": {
     "slide_type": "slide"
    }
   },
   "source": [
    "### Agent based simulation"
   ]
  },
  {
   "cell_type": "code",
   "execution_count": 11,
   "metadata": {
    "slideshow": {
     "slide_type": "fragment"
    }
   },
   "outputs": [],
   "source": [
    "abstract type AgentModel end\n",
    "mutable struct StateModel <: AgentModel\n",
    "    states\n",
    "    agents\n",
    "    transitions\n",
    "end"
   ]
  },
  {
   "cell_type": "code",
   "execution_count": 13,
   "metadata": {
    "slideshow": {
     "slide_type": "subslide"
    }
   },
   "outputs": [
    {
     "data": {
      "text/plain": [
       "main (generic function with 1 method)"
      ]
     },
     "execution_count": 13,
     "metadata": {},
     "output_type": "execute_result"
    }
   ],
   "source": [
    "#using AgentModels <- hypothetical ABM library\n",
    "\n",
    "function main(nsteps)\n",
    "    n = 20\n",
    "    a = fill(:S, n)\n",
    "    ρ = 0.5 + randn(Float64)/4 # chance of recovery\n",
    "    μ = 0.5 # chance of immunity\n",
    "    T = Dict(\n",
    "        :S=>(x...)->rand(Float64) < stateload(x[1], :I) ? :I : :S,\n",
    "        :I=>(x...)->rand(Float64) < ρ ? :I : :R,\n",
    "        :R=>(x...)->rand(Float64) < μ ? :R : :S,\n",
    "    )\n",
    "    sam = StateModel([:S, :I, :R], a, T, zeros(Float64,3))\n",
    "    newsam = step!(sam, nsteps)\n",
    "    counts = describe(newsam)\n",
    "    return newsam, counts\n",
    "end"
   ]
  },
  {
   "cell_type": "markdown",
   "metadata": {
    "slideshow": {
     "slide_type": "slide"
    }
   },
   "source": [
    "## Petrinet Model\n",
    "\n",
    "```julia\n",
    "using Petri\n",
    "\n",
    "function main()\n",
    "    @variables S, I, R, β, γ, μ\n",
    "    N = +(S,I,R)\n",
    "\n",
    "    Δ = [(S~S-1, I~I+1),\n",
    "        (I~I-1, R~R+1),\n",
    "        (R~R-1, S~S+1)]\n",
    "\n",
    "    Λ = [β*S*I/N,\n",
    "        γ*I,\n",
    "        μ*R]\n",
    "\n",
    "    m = Petri.Model(Δ, Λ)\n",
    "    p = Petri.Problem(m, SIRState(100, 1, 0, 0.5, 0.15, 0.05), 50)\n",
    "    soln = Petri.solve(p)\n",
    "    (p, soln)\n",
    "end\n",
    "p, soln = main()\n",
    "```"
   ]
  },
  {
   "cell_type": "markdown",
   "metadata": {
    "slideshow": {
     "slide_type": "slide"
    }
   },
   "source": [
    "## Statistical Models\n",
    "\n",
    "```julia\n",
    "using LsqFit\n",
    "function f(x, β) \n",
    "    return β[1] .* x + β[2]\n",
    "end\n",
    "\n",
    "function main()\n",
    "    X = load_matrix(\"file_X.csv\")\n",
    "    target = load_vector(\"file_y.csv\")\n",
    "    a₀ = [1.0, 1.0]\n",
    "    \n",
    "    fit = curve_fit(f, X, target, a₀)\n",
    "    return fit\n",
    "end\n",
    "\n",
    "main()\n",
    "```"
   ]
  },
  {
   "cell_type": "markdown",
   "metadata": {
    "slideshow": {
     "slide_type": "slide"
    }
   },
   "source": [
    "## Category Theory\n",
    "\n",
    "CT is the mathematics of structure preserving maps. Every field of math has a notion of *homomorphism* where two objects\n",
    "in that category *have similar structure*\n",
    "\n",
    "1. Sets, Groups, Fields, Rings\n",
    "2. Graphs\n",
    "3. Databases\n",
    "\n",
    "CT is the study of structure in its most general form."
   ]
  },
  {
   "cell_type": "markdown",
   "metadata": {
    "slideshow": {
     "slide_type": "subslide"
    }
   },
   "source": [
    "## Categorys as Objects and Morphisms\n",
    "\n",
    "1. Categories have Objects, $ Ob(C) $\n",
    "2. Morphisms are relations between objects $Hom_C(x,y)$\n",
    "3. There is always an identity morphism $id_x \\in Hom_C(x,y)$\n",
    "4. Morphisms Compose $f\\in Hom_C(x,y), g\\in Hom_C(y,z)$ then $g\\circ f \\in Hom_C(x,z)$ \n"
   ]
  },
  {
   "cell_type": "markdown",
   "metadata": {
    "slideshow": {
     "slide_type": "subslide"
    }
   },
   "source": [
    "## Graphs as Categories\n",
    "\n",
    "### Each graph is a category\n",
    "- $ G = (V,E) $\n",
    "- $Ob(G) = V$\n",
    "- $Hom_G(v,u) = \\{(v\\leadsto u) \\in E\\}$\n",
    "\n",
    "<!--\\{e \\mid e\\in E, src(e)=v \\land dst(e)=u\\}$ -->\n",
    "\n",
    "### The category of graphs\n",
    "\n",
    "- Graph Homomorphism $f: G\\to H$ st $(v\\leadsto u) \\in G \\implies (f(v) \\leadsto f(u)) \\in H$\n",
    "- $Ob(Graph)$ is the set of all graphs\n",
    "- $Hom_{Graph}(G,H)$ is the set of all graph homomorphisms $G$ to $H$\n",
    "\n"
   ]
  },
  {
   "cell_type": "markdown",
   "metadata": {
    "slideshow": {
     "slide_type": "subslide"
    }
   },
   "source": [
    "## Models as Categories\n",
    "\n",
    "### Each model is a Category \n",
    "\n",
    "![An SIR model structure](src/img/olog_sir.dot.svg)"
   ]
  },
  {
   "cell_type": "markdown",
   "metadata": {
    "slideshow": {
     "slide_type": "subslide"
    }
   },
   "source": [
    "### Category of Models\n",
    "\n",
    "![The family of compartmental models](src/img/compartmental.dot.svg)"
   ]
  },
  {
   "cell_type": "markdown",
   "metadata": {
    "slideshow": {
     "slide_type": "slide"
    }
   },
   "source": [
    "## Semantic Models applies Category Theory\n",
    "\n",
    "We have built a novel modeling environment that builds and manipulates models in this category theory approach.\n",
    "\n",
    "Contributions: \n",
    "1. We take general code as input\n",
    "2. Highly general and extensible framework\n",
    "3. Goal: Transformations obey the functor laws."
   ]
  },
  {
   "cell_type": "markdown",
   "metadata": {
    "slideshow": {
     "slide_type": "skip"
    }
   },
   "source": [
    "### Example\n",
    "\n",
    "Show the workflow demo"
   ]
  },
  {
   "cell_type": "markdown",
   "metadata": {
    "slideshow": {
     "slide_type": "skip"
    }
   },
   "source": [
    "### Functor between models\n",
    "\n",
    "Define Functor between models"
   ]
  },
  {
   "cell_type": "markdown",
   "metadata": {
    "slideshow": {
     "slide_type": "slide"
    }
   },
   "source": [
    "### The category of models\n",
    "\n",
    "While each model can be represented as a category, there is a category of all models.\n",
    "\n",
    "Functors between models are the morphisms in this category.\n",
    "\n",
    "<img src=\"src/img/cd/modelcat.png\"></img>\n",
    "\n",
    "<!-- <img src=\"src/img/cd/gravity.svg\"></img> -->"
   ]
  },
  {
   "cell_type": "markdown",
   "metadata": {
    "slideshow": {
     "slide_type": "slide"
    }
   },
   "source": [
    "## Model Augmentation yields polynomial regression\n",
    "\n",
    "### Goal\n",
    "\n",
    "Linear regression: $\\min_\\beta \\| y - \\beta x\\|$\n",
    "\n",
    "Polynomial regression: $\\min_\\beta \\| y - f_\\beta(x)\\|$\n",
    "\n",
    "### Augmentations\n",
    "Given transformations\n",
    "\n",
    "- $T_1 = f(x) \\mapsto f(x) + 1$\n",
    "- $T_x = f(x) \\mapsto x\\cdot f(x)$\n",
    "\n",
    "we are able to generate all possible polynomial regression using composition of these transformations."
   ]
  },
  {
   "cell_type": "markdown",
   "metadata": {
    "slideshow": {
     "slide_type": "slide"
    }
   },
   "source": [
    "## Model Selection\n",
    "<img src=\"src/img/cd/poly.png\"></img>"
   ]
  },
  {
   "cell_type": "markdown",
   "metadata": {
    "slideshow": {
     "slide_type": "subslide"
    }
   },
   "source": [
    "## Structural Model Changes\n",
    "The original SIR Model\n",
    "<img src=\"https://docs.google.com/drawings/d/e/2PACX-1vSeA7mAQ-795lLVxCWXzbkFQaFOHMpwtB121psFV_2cSUyXPyKMtvDjssia82JvQRXS08p6FAMr1hj1/pub?w=1031&amp;h=309\">"
   ]
  },
  {
   "cell_type": "markdown",
   "metadata": {
    "slideshow": {
     "slide_type": "slide"
    }
   },
   "source": [
    "## Petrinet Model\n",
    "\n",
    "```julia\n",
    "using Petri\n",
    "\n",
    "function main()\n",
    "    @variables S, I, R, β, γ, μ\n",
    "    N = +(S,I,R)\n",
    "\n",
    "    Δ = [(S~S-1, I~I+1),\n",
    "        (I~I-1, R~R+1),\n",
    "        (R~R-1, S~S+1)]\n",
    "\n",
    "    Λ = [β*S*I/N,\n",
    "        γ*I,\n",
    "        μ*R]\n",
    "\n",
    "    m = Petri.Model(Δ, Λ)\n",
    "    p = Petri.Problem(m, SIRState(100, 1, 0, 0.5, 0.15, 0.05), 50)\n",
    "    soln = Petri.solve(p)\n",
    "    (p, soln)\n",
    "end\n",
    "p, soln = main()\n",
    "```"
   ]
  },
  {
   "cell_type": "markdown",
   "metadata": {
    "slideshow": {
     "slide_type": "subslide"
    }
   },
   "source": [
    "## Structural Model Changes\n",
    "Adding un estado de lo muertos\n",
    "<img src=\"https://docs.google.com/drawings/d/e/2PACX-1vRUhrX6GzMzNRWr0GI3pDp9DvSqJVTDVpy9SNNBIB08b7Hyf9vaHobE2knrGPda4My9f_o9gncG34pF/pub?w=1028&amp;h=309\">"
   ]
  },
  {
   "cell_type": "markdown",
   "metadata": {
    "slideshow": {
     "slide_type": "slide"
    }
   },
   "source": [
    "## SIRD Model\n",
    "\n",
    "```julia\n",
    "using Petri\n",
    "\n",
    "function SEIRDmain()\n",
    "    @variables S, E, I, R, β, γ, μ, D, ψ\n",
    "    N = +(S,E,I,R)\n",
    "\n",
    "    Δ = [(S~S-1, I~I+1),\n",
    "         (I~I-1, R~R+1),\n",
    "         (R~R-1, S~S+1),\n",
    "         (I~I-1, D~D+1) # death process\n",
    "    ]\n",
    "\n",
    "    Λ = [β*S*I/N,\n",
    "         η*E,\n",
    "         γ*I,\n",
    "         μ*R,\n",
    "         ψ*I # death rate\n",
    "    ]\n",
    "\n",
    "    m = Petri.Model(Δ, Λ)\n",
    "    p = Petri.Problem(m, SEIRDState(100, 1, 0, 0.5, 0.15, 0.05, 0, 0.1), 150)\n",
    "    soln = Petri.solve(p)\n",
    "    (p, soln)\n",
    "end\n",
    "p, soln = SEIRDmain()\n",
    "\n",
    "```"
   ]
  },
  {
   "cell_type": "markdown",
   "metadata": {
    "slideshow": {
     "slide_type": "subslide"
    }
   },
   "source": [
    "## Structural Model Changes\n",
    "Adding Population growth\n",
    "<img src=\"https://docs.google.com/drawings/d/e/2PACX-1vRfLcbPPaQq6jmxheWApqidYte8FxK7p0Ebs2EyW2pY3ougNh5YiMjA0NbRMuGAIT5pD02WNEoOfdCd/pub?w=1005&amp;h=247\">"
   ]
  },
  {
   "cell_type": "markdown",
   "metadata": {
    "slideshow": {
     "slide_type": "slide"
    }
   },
   "source": [
    "## SIRD Model with Birth Process\n",
    "\n",
    "```julia\n",
    "using Petri\n",
    "\n",
    "function BSEIRDmain()\n",
    "    @variables S, E, I, R, β, γ, μ, D, ψ\n",
    "    N = +(S,E,I,R)\n",
    "\n",
    "    Δ = [(S~S-1, I~I+1),\n",
    "         (I~I-1, R~R+1),\n",
    "         (R~R-1, S~S+1),\n",
    "         (I~I-1, D~D+1),\n",
    "         (S~S+1,) # birth process\n",
    "     ]\n",
    "\n",
    "    Λ = [β*S*I/N,\n",
    "         γ*I,\n",
    "         μ*R,\n",
    "         ψ*I,\n",
    "         ν*S # birth rate\n",
    "    ]\n",
    "\n",
    "    m = Petri.Model(Δ, Λ)\n",
    "    p = Petri.Problem(m, BSIRDState(100, 1, 0, 0.5, 0.15, 0.05, 0, 0.1, 0.1), 150)\n",
    "    soln = Petri.solve(p)\n",
    "    (p, soln)\n",
    "end\n",
    "p, soln = BSEIRDmain()\n",
    "\n",
    "```"
   ]
  },
  {
   "cell_type": "markdown",
   "metadata": {
    "slideshow": {
     "slide_type": "slide"
    }
   },
   "source": [
    "## Model Augmentation as a Functor Category\n",
    "\n",
    "If $m_1, m_2$ are models (categories) and there is a functor between them $f$ $m_1 \\rightarrow m_2$ then $m_2$ is an augmentation of $m_1$. "
   ]
  },
  {
   "cell_type": "markdown",
   "metadata": {
    "slideshow": {
     "slide_type": "notes"
    }
   },
   "source": [
    "### Free Monoid of Transformations\n",
    "\n",
    "Figure of free monoid over a transformation alphabet acting on a model to produce an orbit.\n",
    "\n",
    "### Polynomial Ring acting on Linear Regression\n",
    "\n",
    "Example "
   ]
  },
  {
   "cell_type": "markdown",
   "metadata": {
    "slideshow": {
     "slide_type": "slide"
    }
   },
   "source": [
    "## Type Graphs\n",
    "1. Computers are good at type checking\n",
    "2. Can we embed our semantics into the type system?\n",
    "\n",
    "![Resolving Type Ambiguities](src/img/type_ambig_resolve.png)"
   ]
  },
  {
   "cell_type": "markdown",
   "metadata": {
    "slideshow": {
     "slide_type": "slide"
    }
   },
   "source": [
    "## Types for our ABM example\n",
    "![An ABM of SIR disease spread](src/img/exampletypegraph.dot.svg)"
   ]
  },
  {
   "cell_type": "markdown",
   "metadata": {
    "slideshow": {
     "slide_type": "subslide"
    }
   },
   "source": [
    "## Refining the model \n",
    "\n",
    "Convert categorical values into singleton types:\n",
    "\n",
    "![An more refined ABM](src/img/typegraphmorphism.dot.svg)"
   ]
  },
  {
   "cell_type": "markdown",
   "metadata": {
    "slideshow": {
     "slide_type": "subslide"
    }
   },
   "source": [
    "## The type system \"understands\" the agents now\n",
    "\n",
    "Convert categorical values into singleton types:\n",
    "\n",
    "![An more refined ABM](src/img/type_DFA.dot.svg)"
   ]
  },
  {
   "cell_type": "markdown",
   "metadata": {
    "slideshow": {
     "slide_type": "slide"
    }
   },
   "source": [
    "## Conclusion\n",
    "\n",
    "1. SemanticModels.jl github.com/jpfairbanks/SemanticModels.jl is a foundational technology for teaching machines to reason about scientific models\n",
    "\n",
    "2. ACT gives two valuable perspectives on modeling, Types and Functions and Compositional Open Systems \n",
    "\n",
    "2. Thinking in terms of transformations on models is easier than thinking of models themselves.\n",
    "\n",
    "3. A good type system can reason over modeling concepts"
   ]
  },
  {
   "cell_type": "markdown",
   "metadata": {
    "slideshow": {
     "slide_type": "slide"
    }
   },
   "source": [
    "# Acknowledgements\n",
    "<table>\n",
    "    <tr>\n",
    "      <td>\n",
    "          <img src=\"src/img/team_large_dc.jpg\" alt=\"the team\" width=50%><td align=left valign=center>The Team: James Fairbanks, Christine Herlihy, Micah Halter, Kun Cao, Sree Reparti.</td>\n",
    "      </td>\n",
    "      <td valign=center align=left>\n",
    "          <img src=\"src/img/DARPA-logo.png\" alt=\"Darpa\" width=75%>\n",
    "      </td>\n",
    "    </tr>\n",
    "</table>"
   ]
  }
 ],
 "metadata": {
  "kernelspec": {
   "display_name": "Julia 1.0.3",
   "language": "julia",
   "name": "julia-1.0"
  },
  "language_info": {
   "file_extension": ".jl",
   "mimetype": "application/julia",
   "name": "julia",
   "version": "1.0.3"
  }
 },
 "nbformat": 4,
 "nbformat_minor": 2
}
