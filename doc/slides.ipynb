{
 "cells": [
  {
   "cell_type": "raw",
   "metadata": {
    "slideshow": {
     "slide_type": "skip"
    }
   },
   "source": [
    "---\n",
    "author: James Fairbanks\n",
    "title: SemanticModels.jl\n",
    "date: Mar 31, 2019\n",
    "---"
   ]
  },
  {
   "cell_type": "markdown",
   "metadata": {
    "slideshow": {
     "slide_type": "slide"
    }
   },
   "source": [
    "![SemanticModels Logo](src/img/semanticmodels_jl.dot.svg)\n",
    "\n",
    "## Introduction\n",
    "\n",
    "- Teaching computers to do science\n",
    "- Model Augmentation and Synthesis\n",
    "- Arbitrary models are complex, but transformations are simpler"
   ]
  },
  {
   "cell_type": "markdown",
   "metadata": {
    "slideshow": {
     "slide_type": "slide"
    }
   },
   "source": [
    "## Modeling Frameworks\n",
    "\n",
    "Most frameworks are designed before the models are written\n",
    "\n",
    "| Framework | Math | Input Specification  | Description |\n",
    "|-----------|------|----------|-------------|\n",
    "| <img width=\"50px\" src=\"https://www.mathworks.com/content/dam/mathworks/mathworks-dot-com/images/ico_membrane_128.png\"> Matlab/Scipy</img> | x = A\\b | BLAS + scripting | Sci/Eng math is all BLAS| \n",
    "| <img src=\"https://camo.githubusercontent.com/31d60f762b44d0c3ea47cc16b785e042104a6e03/68747470733a2f2f7777772e6a756c69616f70742e6f72672f696d616765732f6a756d702d6c6f676f2d776974682d746578742e737667\" alt=\"jump\"></img> | $\\min_{x\\perp C(x)} f(x)$ | AMPL based DSL| Optimization Problems |\n",
    "| <img width=\"50px\" src=\"https://mc-stan.org/docs/2_18/stan-users-guide/img/logo-tm.png\" alt=\"Stan Logo\">Stan</img> | $ y \\sim \\mathcal{N}(x \\beta + \\alpha, \\sigma)$ | StanML | Bayesian Inference|\n",
    "| ![TensorFlow](https://www.gstatic.com/devrel-devsite/v64b99e7856b375caf4161a35932fd71b47bddc412a7c2f9ddea443380406e780/tensorflow/images/lockup.svg) | $y\\approx f(x)$ | TF.Graph| Differentiable Programming|\n",
    "| <img width=\"50px\" src=\"https://upload.wikimedia.org/wikipedia/commons/thumb/2/20/Mathematica_Logo.svg/1920px-Mathematica_Logo.svg.png\"> Mathematica</img> |$p(x)=0$|Symbolic Math Expressions| Computer Algebra Systems|\n",
    "| <img width=\"75px\" src=\"http://aske.gtri.gatech.edu/docs/latest/img/semanticmodels_jl.dot.svg\">SemanticModels.jl<img> | All Computable Domains| Julia Programs | $Models \\subset Code$|\n",
    "\n",
    "SemanticModels is a post hoc modeling framework"
   ]
  },
  {
   "cell_type": "markdown",
   "metadata": {
    "slideshow": {
     "slide_type": "slide"
    }
   },
   "source": [
    "## Science as nested optimization\n",
    "\n",
    "Fitting the data as a regression problem:\n",
    "\n",
    "$$h^* = \\min_{h\\in {H}} \\ell(h(x), y)$$ "
   ]
  },
  {
   "cell_type": "markdown",
   "metadata": {
    "slideshow": {
     "slide_type": "fragment"
    }
   },
   "source": [
    "Institutional process of discovery is\n",
    "\n",
    "$$\\max_{{H}\\in \\mathcal{M}} expl(h^*)$$ where $expl$ is the explanatory power of a class of models $H$. The explanatory power is some combination of generalization, parsimony, and consistency with the fundamental principles of the field."
   ]
  },
  {
   "cell_type": "markdown",
   "metadata": {
    "slideshow": {
     "slide_type": "slide"
    }
   },
   "source": [
    "## Scientific Models are Mechanistic\n",
    "Mechanistic models are more explainable than black box or statistical models. They posit driving forces and natural laws\n",
    "that drive the evolution of systems over time.\n",
    "\n",
    "We call these *simulations* when necessary to distinguish from *model*"
   ]
  },
  {
   "cell_type": "markdown",
   "metadata": {
    "slideshow": {
     "slide_type": "slide"
    }
   },
   "source": [
    "## SIR model of disease\n",
    "\n",
    "<img src=\"https://docs.google.com/drawings/d/e/2PACX-1vSeA7mAQ-795lLVxCWXzbkFQaFOHMpwtB121psFV_2cSUyXPyKMtvDjssia82JvQRXS08p6FAMr1hj1/pub?w=1031&amp;h=309\">"
   ]
  },
  {
   "cell_type": "markdown",
   "metadata": {
    "slideshow": {
     "slide_type": "slide"
    }
   },
   "source": [
    "### ODE based simulation\n",
    "\n",
    "\\begin{align}\n",
    "\\frac{dS}{dt}&=-\\frac{\\beta IS}{N}\\\\\\\\\n",
    "\\frac{dI}{dt}&=\\frac{\\beta IS}{N}-\\gamma I\\\\\\\\\n",
    "\\frac{dR}{dt}&=\\gamma I\n",
    "\\end{align}\n",
    "\n",
    "\n",
    "![SIR solution](https://upload.wikimedia.org/wikipedia/commons/thumb/3/32/Sirsys-p9.png/330px-Sirsys-p9.png)"
   ]
  },
  {
   "cell_type": "markdown",
   "metadata": {
    "slideshow": {
     "slide_type": "slide"
    }
   },
   "source": [
    "### Agent based simulations"
   ]
  },
  {
   "cell_type": "code",
   "execution_count": null,
   "metadata": {
    "slideshow": {
     "slide_type": "subslide"
    }
   },
   "outputs": [],
   "source": [
    "mutable struct StateModel <: AgentModel\n",
    "    states\n",
    "    agents\n",
    "    transitions\n",
    "    loads\n",
    "end"
   ]
  },
  {
   "cell_type": "code",
   "execution_count": null,
   "metadata": {
    "slideshow": {
     "slide_type": "subslide"
    }
   },
   "outputs": [],
   "source": [
    "function main(nsteps)\n",
    "    n = 20\n",
    "    a = fill(:S, n)\n",
    "    ρ = 0.5 + randn(Float64)/4 # chance of recovery\n",
    "    μ = 0.5 # chance of immunity\n",
    "    T = Dict(\n",
    "        :S=>(x...)->rand(Float64) < stateload(x[1], :I) ? :I : :S,\n",
    "        :I=>(x...)->rand(Float64) < ρ ? :I : :R,\n",
    "        :R=>(x...)->rand(Float64) < μ ? :R : :S,\n",
    "    )\n",
    "    sam = StateModel([:S, :I, :R], a, T, zeros(Float64,3))\n",
    "    newsam = step!(deepcopy(sam), nsteps)\n",
    "    counts = describe(newsam)\n",
    "    return newsam, counts\n",
    "end"
   ]
  },
  {
   "cell_type": "markdown",
   "metadata": {
    "slideshow": {
     "slide_type": "slide"
    }
   },
   "source": [
    "## Category Theory\n",
    "\n",
    "CT is the mathematics of structure preserving maps. Every field of math has a notion of *homomorphism* where two objects\n",
    "in that category *have similar structure*\n",
    "\n",
    "1. Sets, Groups, Fields, Rings\n",
    "2. Graphs\n",
    "3. Databases\n",
    "\n",
    "CT is the study of structure in its most general form."
   ]
  },
  {
   "cell_type": "markdown",
   "metadata": {
    "slideshow": {
     "slide_type": "slide"
    }
   },
   "source": [
    "### Example\n",
    "\n",
    "Show the workflow demo"
   ]
  },
  {
   "cell_type": "markdown",
   "metadata": {
    "slideshow": {
     "slide_type": "subslide"
    }
   },
   "source": [
    "### Graphs as Categories\n",
    "\n",
    "Figure of two homomorphic graphs\n",
    "\n",
    "Each graph is a category, and there is a category of graphs."
   ]
  },
  {
   "cell_type": "markdown",
   "metadata": {
    "slideshow": {
     "slide_type": "subslide"
    }
   },
   "source": [
    "### Models as Categories\n",
    "\n",
    "![An SIR model structure](src/img/olog_sir.dot.png)"
   ]
  },
  {
   "cell_type": "markdown",
   "metadata": {
    "slideshow": {
     "slide_type": "subslide"
    }
   },
   "source": [
    "### Functor between models\n",
    "\n",
    "Define Functor between models\n",
    "\n",
    "### The category of models\n",
    "\n",
    "While each model can be represented as a category, there is a category of all models.\n",
    "\n",
    "Functors between models are the morphisms in this category."
   ]
  },
  {
   "cell_type": "markdown",
   "metadata": {
    "slideshow": {
     "slide_type": "slide"
    }
   },
   "source": [
    "## Semantic Models applies Category Theory\n",
    "\n",
    "We have built a novel modeling environment that builds and manipulates models in this category theory approach.\n",
    "\n",
    "Contributions: \n",
    "1. We take general code as input\n",
    "2. Highly general and extensible framework\n",
    "3. Goal: Transformations obey the functor laws."
   ]
  },
  {
   "cell_type": "markdown",
   "metadata": {
    "slideshow": {
     "slide_type": "slide"
    }
   },
   "source": [
    "### Free Monoid of Transformations\n",
    "\n",
    "Figure of free monoid over a transformation alphabet acting on a model to produce an orbit.\n",
    "\n",
    "### Polynomial Ring acting on Linear Regression\n",
    "\n",
    "Example "
   ]
  },
  {
   "cell_type": "markdown",
   "metadata": {
    "slideshow": {
     "slide_type": "slide"
    }
   },
   "source": [
    "## Type Graphs\n",
    "1. Computers are good at type checking\n",
    "2. Can we embed our semantics into the type system?\n",
    "\n",
    "![An ABM of SIR disease spread](src/img/exampletypegraph.dot.svg)"
   ]
  },
  {
   "cell_type": "markdown",
   "metadata": {
    "slideshow": {
     "slide_type": "subslide"
    }
   },
   "source": [
    "## Refining the model \n",
    "\n",
    "Convert categorical values into singleton types:\n",
    "\n",
    "![An more refined ABM](src/img/typegraphmorphism.dot.svg)"
   ]
  },
  {
   "cell_type": "markdown",
   "metadata": {
    "slideshow": {
     "slide_type": "subslide"
    }
   },
   "source": [
    "## The type system \"understands\" the agents now\n",
    "\n",
    "Convert categorical values into singleton types:\n",
    "\n",
    "![An more refined ABM](src/img/type_DFA.dot.svg)"
   ]
  },
  {
   "cell_type": "markdown",
   "metadata": {
    "slideshow": {
     "slide_type": "slide"
    }
   },
   "source": [
    "## Knowledge Graphs\n",
    "\n",
    "To build this system we use\n",
    "1. Call Graphs\n",
    "2. Type Graphs\n",
    "3. Concept Graphs"
   ]
  },
  {
   "cell_type": "markdown",
   "metadata": {
    "slideshow": {
     "slide_type": "subslide"
    }
   },
   "source": [
    "### Graph Construction\n",
    "\n",
    "1. Base.Meta.Parse\n",
    "2. @code_typed\n",
    "3. AllenNLP text models"
   ]
  },
  {
   "cell_type": "markdown",
   "metadata": {
    "slideshow": {
     "slide_type": "subslide"
    }
   },
   "source": [
    "### Graph construction results"
   ]
  },
  {
   "cell_type": "markdown",
   "metadata": {
    "slideshow": {
     "slide_type": "slide"
    }
   },
   "source": [
    "## Conclusion"
   ]
  }
 ],
 "metadata": {
  "kernelspec": {
   "display_name": "Julia 1.0.3",
   "language": "julia",
   "name": "julia-1.0"
  },
  "language_info": {
   "file_extension": ".jl",
   "mimetype": "application/julia",
   "name": "julia",
   "version": "1.0.3"
  }
 },
 "nbformat": 4,
 "nbformat_minor": 2
}
