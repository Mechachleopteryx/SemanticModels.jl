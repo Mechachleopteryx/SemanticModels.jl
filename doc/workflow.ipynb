{
 "cells": [
  {
   "cell_type": "markdown",
   "metadata": {},
   "source": [
    "# Model Augmentation Demo\n",
    "\n",
    "- If models are programs, then metamodeling is metaprograming\n",
    "\n",
    "- A commutative diagram\n",
    "<p><img src=\"src/img/semanticmodels_jl.dot.svg\" alt=\"A diagram showing how pipelining commutes with tranforming models\"></p>\n"
   ]
  },
  {
   "cell_type": "markdown",
   "metadata": {
    "slideshow": {
     "slide_type": "slide"
    }
   },
   "source": [
    "# Augmenting Model Workflows\n",
    "\n",
    "We can apply our model augmentation framework to models that are compositions of component models."
   ]
  },
  {
   "cell_type": "markdown",
   "metadata": {
    "slideshow": {
     "slide_type": "fragment"
    }
   },
   "source": [
    "1. How does the epidemic size depend on the probability of recovering?\n",
    "1. $SIR \\mid y\\approx ax+b$\n",
    "1. What if the disease is fatal?\n",
    "1. What if the population is Growing?\n",
    "1. Is the relationship linear?"
   ]
  },
  {
   "cell_type": "markdown",
   "metadata": {
    "slideshow": {
     "slide_type": "notes"
    }
   },
   "source": [
    "We are going to use the model augmentation presented in `examples/agentgraft.jl` as a baseline simulation and build a workflow to compose that model with the example in `examples/polynomial_regression.jl`. It is strongly recommended that you understand those examples before following this notebook.\n",
    "\n",
    "This example combines an agent based model of SIR diseases with a statistical model of polynomial regression to quantify the response of the agent based model with respect to one of its parameters. The input models have to be composed carefully in order to make the software work.\n",
    "\n",
    "As taught by the scientific computing education group [Software Carpentry](https://swcarpentry.github.io/), the best practice for composing scientific models is to have each component write files to disk and then use a workflow tool such as [Make](https://swcarpentry.github.io/make-novice/) to orchestrate the execution of the modeling scripts.\n",
    "\n",
    "An alternative approach is to design modeling frameworks for representing the models. The problem with this avenue becomes apparent when models are composed. The frameworks must be interoperable in order to make combined models. ModelTools avoids this problem by representing the models as code and manipulating the codes. The interoperation of two models is defined by user supplied functions in a fully featured programming language. \n",
    "\n",
    "If a workflow is a program, t\n",
    "\n",
    "Let $m_1,m_2$ be models, and $t_1,t_2$ be tranformations and define $M_i = t_i(m_i)$. If we denote the creation of pipelines with the function composition symbol $g\\circ f$ then we want to implement everything such that the following diagram commutes.\n",
    "<p><img src=\"../doc/build/img/commutative_pipeline.dot.svg\" alt=\"A diagram showing how pipelining commutes with tranforming models\"></p>\n",
    "\n",
    "This example shows how you can use a pipeline to represent the combination of models and then apply combinations of transformations to that pipeline. Transforming models and composing them into pipelines are two operations that commute, you can transform then compose or compose and then transform."
   ]
  },
  {
   "cell_type": "code",
   "execution_count": 1,
   "metadata": {
    "slideshow": {
     "slide_type": "skip"
    }
   },
   "outputs": [],
   "source": [
    "using SemanticModels.Parsers\n",
    "using SemanticModels.ModelTools\n",
    "using SemanticModels.ModelTools.ExpStateModels\n",
    "import Base: push!\n",
    "import SemanticModels.ModelTools: model, isexpr\n",
    "using Random"
   ]
  },
  {
   "cell_type": "code",
   "execution_count": 2,
   "metadata": {
    "slideshow": {
     "slide_type": "subslide"
    }
   },
   "outputs": [
    {
     "data": {
      "text/plain": [
       "0-element Array{Any,1}"
      ]
     },
     "execution_count": 2,
     "metadata": {},
     "output_type": "execute_result"
    }
   ],
   "source": [
    "samples = 100\n",
    "nsteps = 25\n",
    "finalcounts = Any[]"
   ]
  },
  {
   "cell_type": "code",
   "execution_count": 3,
   "metadata": {
    "lines_to_next_cell": 2,
    "slideshow": {
     "slide_type": "notes"
    }
   },
   "outputs": [
    {
     "name": "stdout",
     "output_type": "stream",
     "text": [
      "Running Agent Based Simulation Augmentation Demo\n",
      "================================================\n",
      "demo parameters:\n",
      "\tsamples=100\n",
      "\tnsteps=25\n"
     ]
    }
   ],
   "source": [
    "println(\"Running Agent Based Simulation Augmentation Demo\")\n",
    "println(\"================================================\")\n",
    "println(\"demo parameters:\\n\\tsamples=$samples\\n\\tnsteps=$nsteps\")"
   ]
  },
  {
   "cell_type": "markdown",
   "metadata": {
    "slideshow": {
     "slide_type": "notes"
    }
   },
   "source": [
    "## Baseline SIRS model\n",
    "\n",
    "Here is the baseline model, which is read in from a text file. You could instead of using `parsefile` use a `quote/end` block to code up the baseline model in this script. \n",
    "\n",
    "<img src=\"https://docs.google.com/drawings/d/e/2PACX-1vSeA7mAQ-795lLVxCWXzbkFQaFOHMpwtB121psFV_2cSUyXPyKMtvDjssia82JvQRXS08p6FAMr1hj1/pub?w=1031&amp;h=309\">"
   ]
  },
  {
   "cell_type": "code",
   "execution_count": 4,
   "metadata": {
    "lines_to_next_cell": 2,
    "slideshow": {
     "slide_type": "skip"
    }
   },
   "outputs": [
    {
     "data": {
      "text/plain": [
       "3-element Array{Any,1}:\n",
       " :newsam                 \n",
       " :counts                 \n",
       " :((ρ = ρ, μ = μ, n = n))"
      ]
     },
     "execution_count": 4,
     "metadata": {},
     "output_type": "execute_result"
    }
   ],
   "source": [
    "expr = parsefile(\"../examples/agentbased.jl\")\n",
    "m = model(ExpStateModel, expr)\n",
    "\n",
    "function returns(block::Vector{Any})\n",
    "    filter(x->(head(x)==:return), block)\n",
    "end\n",
    "returntuples = (bodyblock(filter(x->isa(x, Expr), findfunc(m.expr, :main))[end]) \n",
    "    |> returns \n",
    "    .|> x-> x.args[1].args )\n",
    "push!(returntuples[1], :((ρ=ρ, μ=μ, n=n)))"
   ]
  },
  {
   "cell_type": "code",
   "execution_count": 5,
   "metadata": {},
   "outputs": [
    {
     "data": {
      "text/plain": [
       "ExpStateModel(\n",
       "  states=:([:S, :I, :R]),\n",
       "  agents=Expr[:(a = sm.agents), :(a = fill(:S, n))],\n",
       "  transitions=Expr[:(T = Dict(:S => (x...->begin\n",
       "                      #= none:120 =#\n",
       "                      if rand(Float64) < stateload(x[1], :I)\n",
       "                          :I\n",
       "                      else\n",
       "                          :S\n",
       "                      end\n",
       "                  end), :I => (x...->begin\n",
       "                      #= none:121 =#\n",
       "                      if rand(Float64) < ρ\n",
       "                          :I\n",
       "                      else\n",
       "                          :R\n",
       "                      end\n",
       "                  end), :R => (x...->begin\n",
       "                      #= none:122 =#\n",
       "                      if rand(Float64) < μ\n",
       "                          :R\n",
       "                      else\n",
       "                          :S\n",
       "                      end\n",
       "                  end)))]\n",
       ")"
      ]
     },
     "execution_count": 5,
     "metadata": {},
     "output_type": "execute_result"
    }
   ],
   "source": [
    "m"
   ]
  },
  {
   "cell_type": "code",
   "execution_count": 6,
   "metadata": {
    "lines_to_next_cell": 2,
    "slideshow": {
     "slide_type": "slide"
    }
   },
   "outputs": [
    {
     "name": "stdout",
     "output_type": "stream",
     "text": [
      "\n",
      "Running basic model\n"
     ]
    }
   ],
   "source": [
    "magents = m\n",
    "println(\"\\nRunning basic model\")\n",
    "eval(m.expr)\n",
    "for i in 1:samples\n",
    "    #println((\"=======  Simulation $i  ========\"))\n",
    "    newsam, counts, params = AgentModels.main(nsteps)\n",
    "    push!(finalcounts, (model=:basic, counts=counts, params=params))\n",
    "end"
   ]
  },
  {
   "cell_type": "code",
   "execution_count": 7,
   "metadata": {
    "slideshow": {
     "slide_type": "skip"
    }
   },
   "outputs": [
    {
     "name": "stdout",
     "output_type": "stream",
     "text": [
      "length(finalcounts) = 100\n"
     ]
    },
    {
     "data": {
      "text/plain": [
       "100-element Array{Any,1}:\n",
       " (model = :basic, counts = Pair{Symbol,Int64}[:S=>5, :I=>8, :R=>7], params = (ρ = 0.5044597668576319, μ = 0.5, n = 20))  \n",
       " (model = :basic, counts = Pair{Symbol,Int64}[:S=>17, :I=>1, :R=>2], params = (ρ = 0.3816620127536393, μ = 0.5, n = 20)) \n",
       " (model = :basic, counts = Pair{Symbol,Int64}[:S=>8, :I=>6, :R=>6], params = (ρ = 0.36862644317003945, μ = 0.5, n = 20)) \n",
       " (model = :basic, counts = Pair{Symbol,Int64}[:S=>15, :I=>2, :R=>3], params = (ρ = 0.14121610255839134, μ = 0.5, n = 20))\n",
       " (model = :basic, counts = Pair{Symbol,Int64}[:S=>15, :I=>0, :R=>5], params = (ρ = 0.0, μ = 0.5, n = 20))                \n",
       " (model = :basic, counts = Pair{Symbol,Int64}[:S=>6, :I=>9, :R=>5], params = (ρ = 0.46599559388695944, μ = 0.5, n = 20)) \n",
       " (model = :basic, counts = Pair{Symbol,Int64}[:S=>10, :I=>4, :R=>6], params = (ρ = 0.6669682789732478, μ = 0.5, n = 20)) \n",
       " (model = :basic, counts = Pair{Symbol,Int64}[:S=>6, :I=>10, :R=>4], params = (ρ = 0.5396782020468529, μ = 0.5, n = 20)) \n",
       " (model = :basic, counts = Pair{Symbol,Int64}[:S=>16, :I=>0, :R=>4], params = (ρ = 0.3788704511762581, μ = 0.5, n = 20)) \n",
       " (model = :basic, counts = Pair{Symbol,Int64}[:S=>15, :I=>0, :R=>5], params = (ρ = 0.5077413036359872, μ = 0.5, n = 20)) \n",
       " (model = :basic, counts = Pair{Symbol,Int64}[:S=>7, :I=>5, :R=>8], params = (ρ = 0.10591623392439925, μ = 0.5, n = 20)) \n",
       " (model = :basic, counts = Pair{Symbol,Int64}[:S=>9, :I=>6, :R=>5], params = (ρ = 0.6515982006774457, μ = 0.5, n = 20))  \n",
       " (model = :basic, counts = Pair{Symbol,Int64}[:S=>17, :I=>1, :R=>2], params = (ρ = 0.31569320478019386, μ = 0.5, n = 20))\n",
       " ⋮                                                                                                                       \n",
       " (model = :basic, counts = Pair{Symbol,Int64}[:S=>9, :I=>8, :R=>3], params = (ρ = 0.6632578781175964, μ = 0.5, n = 20))  \n",
       " (model = :basic, counts = Pair{Symbol,Int64}[:S=>18, :I=>1, :R=>1], params = (ρ = 0.43162416987355556, μ = 0.5, n = 20))\n",
       " (model = :basic, counts = Pair{Symbol,Int64}[:S=>13, :I=>1, :R=>6], params = (ρ = 0.17410105040455226, μ = 0.5, n = 20))\n",
       " (model = :basic, counts = Pair{Symbol,Int64}[:S=>14, :I=>3, :R=>3], params = (ρ = 0.43465660880053936, μ = 0.5, n = 20))\n",
       " (model = :basic, counts = Pair{Symbol,Int64}[:S=>10, :I=>3, :R=>7], params = (ρ = 0.1716111786843177, μ = 0.5, n = 20)) \n",
       " (model = :basic, counts = Pair{Symbol,Int64}[:S=>6, :I=>10, :R=>4], params = (ρ = 0.7883243010631609, μ = 0.5, n = 20)) \n",
       " (model = :basic, counts = Pair{Symbol,Int64}[:S=>20, :I=>0, :R=>0], params = (ρ = 0.33191226944540786, μ = 0.5, n = 20))\n",
       " (model = :basic, counts = Pair{Symbol,Int64}[:S=>5, :I=>11, :R=>4], params = (ρ = 0.7936428988218167, μ = 0.5, n = 20)) \n",
       " (model = :basic, counts = Pair{Symbol,Int64}[:S=>7, :I=>8, :R=>5], params = (ρ = 0.754406769012405, μ = 0.5, n = 20))   \n",
       " (model = :basic, counts = Pair{Symbol,Int64}[:S=>9, :I=>4, :R=>7], params = (ρ = 0.49482387643435755, μ = 0.5, n = 20)) \n",
       " (model = :basic, counts = Pair{Symbol,Int64}[:S=>0, :I=>20, :R=>0], params = (ρ = 1.0, μ = 0.5, n = 20))                \n",
       " (model = :basic, counts = Pair{Symbol,Int64}[:S=>4, :I=>9, :R=>7], params = (ρ = 0.6043949611323051, μ = 0.5, n = 20))  "
      ]
     },
     "execution_count": 7,
     "metadata": {},
     "output_type": "execute_result"
    }
   ],
   "source": [
    "@show length(finalcounts)\n",
    "finalcounts"
   ]
  },
  {
   "cell_type": "code",
   "execution_count": 8,
   "metadata": {
    "slideshow": {
     "slide_type": "skip"
    }
   },
   "outputs": [
    {
     "data": {
      "text/plain": [
       "(Pair{Symbol,Int64}[:S=>10, :I=>5, :R=>5], (ρ = 0.638700168810345, μ = 0.5, n = 20))"
      ]
     },
     "execution_count": 8,
     "metadata": {},
     "output_type": "execute_result"
    }
   ],
   "source": [
    "ModelTools.invoke(magents, 10)[2:end]"
   ]
  },
  {
   "cell_type": "markdown",
   "metadata": {
    "slideshow": {
     "slide_type": "skip"
    }
   },
   "source": [
    "## Statistical Regression Model\n",
    "The following expression defines a univariate polynomial regression model of degree 0, which just computes the average of target variable. This model can be augmented to an polynomial regression model using transformations\n",
    "$T_1,T_x$ which will be defined later."
   ]
  },
  {
   "cell_type": "code",
   "execution_count": 9,
   "metadata": {
    "slideshow": {
     "slide_type": "skip"
    }
   },
   "outputs": [
    {
     "data": {
      "text/plain": [
       "Main.Regression"
      ]
     },
     "execution_count": 9,
     "metadata": {},
     "output_type": "execute_result"
    }
   ],
   "source": [
    "\n",
    "expr = quote\n",
    "    module Regression\n",
    "    using Random\n",
    "    using LsqFit\n",
    "    using LinearAlgebra\n",
    "\n",
    "    function f(x, β) \n",
    "        return .+(β[1].* x.^0)\n",
    "    end\n",
    "\n",
    "    function describe(fit)\n",
    "        if !fit.converged\n",
    "            error(\"Did not converge\")\n",
    "        end\n",
    "        return (β = fit.param, r=norm(fit.resid,2), n=length(fit.resid))\n",
    "    end\n",
    "    #setup\n",
    "    a₀ = [1.0]\n",
    "    function main(X, target)\n",
    "        #solving\n",
    "        fit = curve_fit(f, X, target, a₀)#, autodiff=:forwarddiff)\n",
    "        result = describe(fit)\n",
    "        return fit, result\n",
    "    end\n",
    "end\n",
    "end\n",
    "Regression = eval(expr.args[2])"
   ]
  },
  {
   "cell_type": "code",
   "execution_count": 10,
   "metadata": {
    "slideshow": {
     "slide_type": "subslide"
    }
   },
   "outputs": [
    {
     "data": {
      "text/plain": [
       "connector (generic function with 1 method)"
      ]
     },
     "execution_count": 10,
     "metadata": {},
     "output_type": "execute_result"
    }
   ],
   "source": [
    "function connector(finalcounts, i, j)\n",
    "    n = length(finalcounts)\n",
    "    Data = zeros(n,length(finalcounts[1].counts))\n",
    "    params = zeros(n,length(finalcounts[1].params))\n",
    "    @show size(Data)\n",
    "    for i in 1:n\n",
    "        c = finalcounts[i].counts\n",
    "        Data[i, : ] = map(last, c)\n",
    "        params[i,:] = collect(map(float, finalcounts[i].params))\n",
    "    end\n",
    "    X = params[:, i]\n",
    "    Y = Data[:, j]\n",
    "    @show sum(Y)/length(Y)\n",
    "    @assert size(X,1) == size(Y,1)\n",
    "    return X,Y\n",
    "end\n"
   ]
  },
  {
   "cell_type": "code",
   "execution_count": 13,
   "metadata": {
    "slideshow": {
     "slide_type": "subslide"
    }
   },
   "outputs": [
    {
     "name": "stdout",
     "output_type": "stream",
     "text": [
      "size(Data) = (100, 3)\n",
      "sum(Y) / length(Y) = 4.37\n"
     ]
    },
    {
     "data": {
      "text/plain": [
       "5-element Array{Tuple{Float64,Float64},1}:\n",
       " (0.5044597668576319, 7.0) \n",
       " (0.3816620127536393, 2.0) \n",
       " (0.36862644317003945, 6.0)\n",
       " (0.14121610255839134, 3.0)\n",
       " (0.0, 5.0)                "
      ]
     },
     "execution_count": 13,
     "metadata": {},
     "output_type": "execute_result"
    }
   ],
   "source": [
    "X,Y = connector(finalcounts, 1, 3)\n",
    "collect(zip(X,Y))[1:5]"
   ]
  },
  {
   "cell_type": "code",
   "execution_count": 15,
   "metadata": {
    "slideshow": {
     "slide_type": "fragment"
    }
   },
   "outputs": [
    {
     "name": "stdout",
     "output_type": "stream",
     "text": [
      "size(Data) = (100, 3)\n",
      "sum(Y) / length(Y) = 4.37\n"
     ]
    },
    {
     "data": {
      "text/plain": [
       "(β = [4.37], r = 27.987675859206316, n = 100)"
      ]
     },
     "execution_count": 15,
     "metadata": {},
     "output_type": "execute_result"
    }
   ],
   "source": [
    "fit, result = Regression.main(connector(finalcounts, 1,3)...)\n",
    "result"
   ]
  },
  {
   "cell_type": "code",
   "execution_count": 16,
   "metadata": {
    "lines_to_next_cell": 2,
    "slideshow": {
     "slide_type": "skip"
    }
   },
   "outputs": [],
   "source": [
    "if sum(fit.resid)/length(fit.resid) > 1e-8\n",
    "    @warn \"Mean residual is large, regression might have failed\"\n",
    "end"
   ]
  },
  {
   "cell_type": "markdown",
   "metadata": {
    "slideshow": {
     "slide_type": "skip"
    }
   },
   "source": [
    "## Implementation Details\n",
    "The following code is the implementation details for representing the models as an `AbstractProblem` and representing the transformations as `Product{Tuple{Pow{Int}, Pow{Int}}}` and applying the transformations onto the models.\n",
    "\n",
    "See the `examples/polynomial_regression.jl` example for details of what this code does."
   ]
  },
  {
   "cell_type": "code",
   "execution_count": 17,
   "metadata": {
    "slideshow": {
     "slide_type": "skip"
    }
   },
   "outputs": [],
   "source": [
    "using LinearAlgebra\n",
    "using SemanticModels\n",
    "using SemanticModels.ModelTools\n",
    "using SemanticModels.ModelTools.Transformations\n",
    "import SemanticModels.ModelTools: model, AbstractModel, isexpr\n",
    "import SemanticModels.Parsers: findfunc, findassign\n",
    "import Base: show"
   ]
  },
  {
   "cell_type": "code",
   "execution_count": 18,
   "metadata": {
    "slideshow": {
     "slide_type": "notes"
    }
   },
   "outputs": [
    {
     "data": {
      "text/plain": [
       "SemanticModels.ModelTools.Transformations.Pow"
      ]
     },
     "execution_count": 18,
     "metadata": {},
     "output_type": "execute_result"
    }
   ],
   "source": [
    "\"\"\"    Lsq\n",
    "\n",
    "\n",
    "A program that solves min_β || f(X,β) - y ||_2\n",
    "\n",
    "Example:\n",
    "\n",
    "`f(X, β) = β[1].*X.^p .+ β[2].*X.^q`\n",
    "\n",
    "See also [`(t::Pow)(m::MultivariateLsq)`](@ref)\n",
    "\"\"\"\n",
    "struct Lsq <: AbstractModel\n",
    "    expr\n",
    "    f\n",
    "    coefficient\n",
    "    p₀\n",
    "end\n",
    "\n",
    "function show(io::IO, m::Lsq)\n",
    "    write(io, \"Lsq(\\n  f=$(repr(m.f)),\\n  coefficient=$(repr(m.coefficient)),\\n  p₀=$(repr(m.p₀))\\n)\")\n",
    "end\n",
    "\n",
    "function model(::Type{Lsq}, expr::Expr)\n",
    "    if expr.head == :block\n",
    "        return model(Lsq, expr.args[2])\n",
    "    end\n",
    "    objective = :l2norm\n",
    "    f = callsites(expr, :curve_fit)[end].args[2]\n",
    "    coeff = callsites(expr, f)[1].args[end]\n",
    "    p₀ = callsites(expr, :curve_fit)[end].args[end]\n",
    "    return Lsq(expr, f, coeff, p₀)\n",
    "end\n",
    "\n",
    "\"\"\"    poly(m::Lsq)::Expr\n",
    "\n",
    "find the part of the model that implements the polynomial model for regression.\n",
    "\"\"\"\n",
    "function poly(m::Lsq)\n",
    "    func = findfunc(m.expr, m.f)[1]\n",
    "    poly = func.args[2].args[end].args[1]\n",
    "    return poly\n",
    "end\n",
    "\n",
    "\"\"\"    (t::Pow)(m::Lsq)\n",
    "\n",
    "Example:\n",
    "\n",
    "If `m` is a program implementing `f(X, β) = β[1]*X^p + β[2]*X^q`\n",
    "\n",
    "a) and `t = Pow(2)` then `t(m)` is the model implementing\n",
    "`f(X, β) = β[1]*X^p+2 + β[2]*X^q+q`.\n",
    "\n",
    "\"\"\"\n",
    "function (t::Pow)(m::Lsq)\n",
    "    p = poly(m)\n",
    "    for i in 2:length(p.args)\n",
    "        slot = p.args[i]\n",
    "        pow = callsites(slot, :(.^))\n",
    "        pow[end].args[3] += t.inc\n",
    "    end\n",
    "    return m\n",
    "end"
   ]
  },
  {
   "cell_type": "code",
   "execution_count": 19,
   "metadata": {
    "slideshow": {
     "slide_type": "skip"
    }
   },
   "outputs": [],
   "source": [
    "struct AddConst <: Transformations.Transformation end\n",
    "\n",
    "\"\"\"    (c::AddConst)(m::MultivariateLsq)\n",
    "\n",
    "Example:\n",
    "\n",
    "If `m` is a program implementing `f(X, β) = β[1]*X^p + β[2]*X^q`\n",
    "\n",
    "a) and `c = AddConst()` then `c(m)` is the model implementing\n",
    "`f(X, β) = β[1]*X^p + β[2]*X^0`.\n",
    "\n",
    "\"\"\"\n",
    "function (c::AddConst)(m::Lsq)\n",
    "    p = poly(m)\n",
    "    ix = map(t->t.args[2].args[2], p.args[2:end])\n",
    "    i = maximum(ix)+1\n",
    "    push!(p.args, :(β[$i].*x.^0))\n",
    "    assigns = findassign(m.expr, m.p₀)\n",
    "    b = assigns[end].args[2].args\n",
    "    push!(b, 1)\n",
    "    return m\n",
    "end\n",
    "\n",
    "Tₓ = Pow(1)\n",
    "T₁ = AddConst();\n"
   ]
  },
  {
   "cell_type": "markdown",
   "metadata": {
    "slideshow": {
     "slide_type": "skip"
    }
   },
   "source": [
    "# Model workflows\n",
    "\n",
    "Models can be chained together into workflows, the most basic type is a pipeline where the outputs from model $m_i$ are passed to model $m_{i+1}$. One area where traditional modeling frameworks get in trouble is the fact that the connections between the models can be arbitrarily complex. Thus any modeling framework that supports worflows, must embed a programming language for describing the connectors between the steps of the workflow.\n",
    "\n",
    "Since we are already embedded in Julia, we will use regular Julia functions for the connectors.\n",
    "\n",
    "Mathematically, a pipeline is defined as $r_n = P(m_1,\\dots,m_n, c_1,\\dots,c_n)$ based on the recurrence,\n",
    "\n",
    "$r_0 = m_1(c)$ where $c$ is a constant value, and \n",
    "\n",
    "$r_i = m_i(c_i(r_{i-1}))$\n",
    "\n",
    "\n",
    "We store the values of $r_i$ in the field results so that they can be accessed later by visualization and  analysis programs."
   ]
  },
  {
   "cell_type": "markdown",
   "metadata": {
    "slideshow": {
     "slide_type": "slide"
    }
   },
   "source": [
    "## Model Workflows\n",
    "\n",
    "- Pipelines connect models in sequence like a bash script.\n",
    "- $input \\mid m_1 \\mid c_1 \\mid m_2 \\mid c_2 \\mid \\dots \\mid m_n > output$"
   ]
  },
  {
   "cell_type": "code",
   "execution_count": 20,
   "metadata": {
    "slideshow": {
     "slide_type": "skip"
    }
   },
   "outputs": [
    {
     "data": {
      "text/plain": [
       "Main.Pipelines"
      ]
     },
     "execution_count": 20,
     "metadata": {},
     "output_type": "execute_result"
    }
   ],
   "source": [
    "module Pipelines\n",
    "using SemanticModels.ModelTools\n",
    "using Random\n",
    "struct Pipeline <: AbstractModel\n",
    "    steps\n",
    "    connectors\n",
    "    results\n",
    "end\n",
    "\n",
    "function run!(p::Pipeline)\n",
    "    stages = length(p.steps)\n",
    "    connectors = p.connectors\n",
    "    for s in 1:stages\n",
    "        data = p.results[end]\n",
    "        r = connectors[s](p.steps[s], data...)\n",
    "        push!(p.results, r)\n",
    "    end\n",
    "end\n",
    "\n",
    "function reset!(p::Pipeline)\n",
    "    while length(p.results) > 1\n",
    "        pop!(p.results)\n",
    "    end\n",
    "    return p\n",
    "end\n",
    "end"
   ]
  },
  {
   "cell_type": "markdown",
   "metadata": {
    "slideshow": {
     "slide_type": "skip"
    }
   },
   "source": [
    "## Running the baseline workflow\n",
    "\n",
    "This workflow connects the two models so that we simulate the agent based model and then perform a regression on the outputs."
   ]
  },
  {
   "cell_type": "code",
   "execution_count": 22,
   "metadata": {
    "slideshow": {
     "slide_type": "subslide"
    }
   },
   "outputs": [
    {
     "data": {
      "text/plain": [
       "Main.Pipelines.Pipeline(AbstractModel[ExpStateModel(\n",
       "  states=:([:S, :I, :R]),\n",
       "  agents=Expr[:(a = sm.agents), :(a = fill(:S, n))],\n",
       "  transitions=Expr[:(T = Dict(:S => (x...->begin\n",
       "                      #= none:120 =#\n",
       "                      if rand(Float64) < stateload(x[1], :I)\n",
       "                          :I\n",
       "                      else\n",
       "                          :S\n",
       "                      end\n",
       "                  end), :I => (x...->begin\n",
       "                      #= none:121 =#\n",
       "                      if rand(Float64) < ρ\n",
       "                          :I\n",
       "                      else\n",
       "                          :R\n",
       "                      end\n",
       "                  end), :R => (x...->begin\n",
       "                      #= none:122 =#\n",
       "                      if rand(Float64) < μ\n",
       "                          :R\n",
       "                      else\n",
       "                          :S\n",
       "                      end\n",
       "                  end)))]\n",
       "), Lsq(\n",
       "  f=:f,\n",
       "  coefficient=:β,\n",
       "  p₀=:a₀\n",
       ")], Function[##15#17(), ##16#18()], Any[10])"
      ]
     },
     "execution_count": 22,
     "metadata": {},
     "output_type": "execute_result"
    }
   ],
   "source": [
    "m = model(Lsq, deepcopy(expr))\n",
    "mstats = deepcopy(m)\n",
    "P = Pipelines.Pipeline(deepcopy.([magents, mstats]),\n",
    "    [(m, args...) -> begin \n",
    "            Random.seed!(42)\n",
    "            results = Any[]\n",
    "            Mod = eval(m.expr)\n",
    "            for i in 1:samples\n",
    "                r = Base.invokelatest(Mod.main, args...)\n",
    "                push!(results, (model=:basic, counts=r[2], params=r[3]))\n",
    "                #push!(results, r)\n",
    "            end\n",
    "            return [results]\n",
    "                end,\n",
    "        (m, results...) -> begin\n",
    "            data = connector(results..., 1, 3)\n",
    "            Mod = eval(m.expr)\n",
    "            Base.invokelatest(Mod.main, data...) end\n",
    "        ],\n",
    "        Any[(10)]\n",
    "        )    "
   ]
  },
  {
   "cell_type": "markdown",
   "metadata": {
    "slideshow": {
     "slide_type": "skip"
    }
   },
   "source": [
    "Warning: Pipelines can only be run once. Recreate the pipeline and run it again if necessary."
   ]
  },
  {
   "cell_type": "code",
   "execution_count": 23,
   "metadata": {
    "slideshow": {
     "slide_type": "skip"
    }
   },
   "outputs": [
    {
     "name": "stdout",
     "output_type": "stream",
     "text": [
      "size(Data) = (100, 3)\n",
      "sum(Y) / length(Y) = 3.98\n"
     ]
    },
    {
     "name": "stderr",
     "output_type": "stream",
     "text": [
      "WARNING: replacing module AgentModels.\n",
      "WARNING: replacing module Regression.\n"
     ]
    }
   ],
   "source": [
    "Pipelines.run!(P)"
   ]
  },
  {
   "cell_type": "code",
   "execution_count": 24,
   "metadata": {
    "slideshow": {
     "slide_type": "subslide"
    }
   },
   "outputs": [
    {
     "data": {
      "text/plain": [
       "(β = [3.98], r = 22.93381782433967, n = 100)"
      ]
     },
     "execution_count": 24,
     "metadata": {},
     "output_type": "execute_result"
    }
   ],
   "source": [
    "#Pipelines.run!(P)\n",
    "r =  P.results[end][end]"
   ]
  },
  {
   "cell_type": "code",
   "execution_count": 25,
   "metadata": {},
   "outputs": [
    {
     "data": {
      "text/plain": [
       "3.98"
      ]
     },
     "execution_count": 25,
     "metadata": {},
     "output_type": "execute_result"
    }
   ],
   "source": [
    "map(P.results[2][1]) do s\n",
    "    last(s.counts[end])\n",
    "    end |> sum |> x-> x/length(P.results[2][1])\n",
    "\n",
    "#P.connectors[1](P.steps[3], P.results[2])"
   ]
  },
  {
   "cell_type": "code",
   "execution_count": 26,
   "metadata": {},
   "outputs": [
    {
     "name": "stdout",
     "output_type": "stream",
     "text": [
      "ρ\tf(ρ,β)\n",
      "==============\n",
      "β: [3.98]\n",
      "(.+)(β[1] .* x .^ 0)\n"
     ]
    },
    {
     "data": {
      "image/svg+xml": [
       "<?xml version=\"1.0\" encoding=\"utf-8\"?>\n",
       "<svg xmlns=\"http://www.w3.org/2000/svg\" xmlns:xlink=\"http://www.w3.org/1999/xlink\" width=\"600\" height=\"400\" viewBox=\"0 0 2400 1600\">\n",
       "<defs>\n",
       "  <clipPath id=\"clip4700\">\n",
       "    <rect x=\"0\" y=\"0\" width=\"2400\" height=\"1600\"/>\n",
       "  </clipPath>\n",
       "</defs>\n",
       "<polygon clip-path=\"url(#clip4700)\" points=\"\n",
       "0,1600 2400,1600 2400,0 0,0 \n",
       "  \" fill=\"#ffffff\" fill-rule=\"evenodd\" fill-opacity=\"1\"/>\n",
       "<defs>\n",
       "  <clipPath id=\"clip4701\">\n",
       "    <rect x=\"480\" y=\"0\" width=\"1681\" height=\"1600\"/>\n",
       "  </clipPath>\n",
       "</defs>\n",
       "<polygon clip-path=\"url(#clip4700)\" points=\"\n",
       "184.243,1440.48 2321.26,1440.48 2321.26,47.2441 184.243,47.2441 \n",
       "  \" fill=\"#ffffff\" fill-rule=\"evenodd\" fill-opacity=\"1\"/>\n",
       "<defs>\n",
       "  <clipPath id=\"clip4702\">\n",
       "    <rect x=\"184\" y=\"47\" width=\"2138\" height=\"1394\"/>\n",
       "  </clipPath>\n",
       "</defs>\n",
       "<polyline clip-path=\"url(#clip4702)\" style=\"stroke:#000000; stroke-width:2; stroke-opacity:0.1; fill:none\" points=\"\n",
       "  244.724,1440.48 244.724,47.2441 \n",
       "  \"/>\n",
       "<polyline clip-path=\"url(#clip4702)\" style=\"stroke:#000000; stroke-width:2; stroke-opacity:0.1; fill:none\" points=\"\n",
       "  748.738,1440.48 748.738,47.2441 \n",
       "  \"/>\n",
       "<polyline clip-path=\"url(#clip4702)\" style=\"stroke:#000000; stroke-width:2; stroke-opacity:0.1; fill:none\" points=\"\n",
       "  1252.75,1440.48 1252.75,47.2441 \n",
       "  \"/>\n",
       "<polyline clip-path=\"url(#clip4702)\" style=\"stroke:#000000; stroke-width:2; stroke-opacity:0.1; fill:none\" points=\"\n",
       "  1756.76,1440.48 1756.76,47.2441 \n",
       "  \"/>\n",
       "<polyline clip-path=\"url(#clip4702)\" style=\"stroke:#000000; stroke-width:2; stroke-opacity:0.1; fill:none\" points=\"\n",
       "  2260.78,1440.48 2260.78,47.2441 \n",
       "  \"/>\n",
       "<polyline clip-path=\"url(#clip4702)\" style=\"stroke:#000000; stroke-width:2; stroke-opacity:0.1; fill:none\" points=\"\n",
       "  184.243,1401.05 2321.26,1401.05 \n",
       "  \"/>\n",
       "<polyline clip-path=\"url(#clip4702)\" style=\"stroke:#000000; stroke-width:2; stroke-opacity:0.1; fill:none\" points=\"\n",
       "  184.243,1108.97 2321.26,1108.97 \n",
       "  \"/>\n",
       "<polyline clip-path=\"url(#clip4702)\" style=\"stroke:#000000; stroke-width:2; stroke-opacity:0.1; fill:none\" points=\"\n",
       "  184.243,816.884 2321.26,816.884 \n",
       "  \"/>\n",
       "<polyline clip-path=\"url(#clip4702)\" style=\"stroke:#000000; stroke-width:2; stroke-opacity:0.1; fill:none\" points=\"\n",
       "  184.243,524.801 2321.26,524.801 \n",
       "  \"/>\n",
       "<polyline clip-path=\"url(#clip4702)\" style=\"stroke:#000000; stroke-width:2; stroke-opacity:0.1; fill:none\" points=\"\n",
       "  184.243,232.717 2321.26,232.717 \n",
       "  \"/>\n",
       "<polyline clip-path=\"url(#clip4700)\" style=\"stroke:#000000; stroke-width:4; stroke-opacity:1; fill:none\" points=\"\n",
       "  184.243,1440.48 2321.26,1440.48 \n",
       "  \"/>\n",
       "<polyline clip-path=\"url(#clip4700)\" style=\"stroke:#000000; stroke-width:4; stroke-opacity:1; fill:none\" points=\"\n",
       "  184.243,1440.48 184.243,47.2441 \n",
       "  \"/>\n",
       "<polyline clip-path=\"url(#clip4700)\" style=\"stroke:#000000; stroke-width:4; stroke-opacity:1; fill:none\" points=\"\n",
       "  244.724,1440.48 244.724,1419.58 \n",
       "  \"/>\n",
       "<polyline clip-path=\"url(#clip4700)\" style=\"stroke:#000000; stroke-width:4; stroke-opacity:1; fill:none\" points=\"\n",
       "  748.738,1440.48 748.738,1419.58 \n",
       "  \"/>\n",
       "<polyline clip-path=\"url(#clip4700)\" style=\"stroke:#000000; stroke-width:4; stroke-opacity:1; fill:none\" points=\"\n",
       "  1252.75,1440.48 1252.75,1419.58 \n",
       "  \"/>\n",
       "<polyline clip-path=\"url(#clip4700)\" style=\"stroke:#000000; stroke-width:4; stroke-opacity:1; fill:none\" points=\"\n",
       "  1756.76,1440.48 1756.76,1419.58 \n",
       "  \"/>\n",
       "<polyline clip-path=\"url(#clip4700)\" style=\"stroke:#000000; stroke-width:4; stroke-opacity:1; fill:none\" points=\"\n",
       "  2260.78,1440.48 2260.78,1419.58 \n",
       "  \"/>\n",
       "<polyline clip-path=\"url(#clip4700)\" style=\"stroke:#000000; stroke-width:4; stroke-opacity:1; fill:none\" points=\"\n",
       "  184.243,1401.05 216.298,1401.05 \n",
       "  \"/>\n",
       "<polyline clip-path=\"url(#clip4700)\" style=\"stroke:#000000; stroke-width:4; stroke-opacity:1; fill:none\" points=\"\n",
       "  184.243,1108.97 216.298,1108.97 \n",
       "  \"/>\n",
       "<polyline clip-path=\"url(#clip4700)\" style=\"stroke:#000000; stroke-width:4; stroke-opacity:1; fill:none\" points=\"\n",
       "  184.243,816.884 216.298,816.884 \n",
       "  \"/>\n",
       "<polyline clip-path=\"url(#clip4700)\" style=\"stroke:#000000; stroke-width:4; stroke-opacity:1; fill:none\" points=\"\n",
       "  184.243,524.801 216.298,524.801 \n",
       "  \"/>\n",
       "<polyline clip-path=\"url(#clip4700)\" style=\"stroke:#000000; stroke-width:4; stroke-opacity:1; fill:none\" points=\"\n",
       "  184.243,232.717 216.298,232.717 \n",
       "  \"/>\n",
       "<g clip-path=\"url(#clip4700)\">\n",
       "<text style=\"fill:#000000; fill-opacity:1; font-family:Arial,Helvetica Neue,Helvetica,sans-serif; font-size:48px; text-anchor:middle;\" transform=\"rotate(0, 244.724, 1494.48)\" x=\"244.724\" y=\"1494.48\">0.00</text>\n",
       "</g>\n",
       "<g clip-path=\"url(#clip4700)\">\n",
       "<text style=\"fill:#000000; fill-opacity:1; font-family:Arial,Helvetica Neue,Helvetica,sans-serif; font-size:48px; text-anchor:middle;\" transform=\"rotate(0, 748.738, 1494.48)\" x=\"748.738\" y=\"1494.48\">0.25</text>\n",
       "</g>\n",
       "<g clip-path=\"url(#clip4700)\">\n",
       "<text style=\"fill:#000000; fill-opacity:1; font-family:Arial,Helvetica Neue,Helvetica,sans-serif; font-size:48px; text-anchor:middle;\" transform=\"rotate(0, 1252.75, 1494.48)\" x=\"1252.75\" y=\"1494.48\">0.50</text>\n",
       "</g>\n",
       "<g clip-path=\"url(#clip4700)\">\n",
       "<text style=\"fill:#000000; fill-opacity:1; font-family:Arial,Helvetica Neue,Helvetica,sans-serif; font-size:48px; text-anchor:middle;\" transform=\"rotate(0, 1756.76, 1494.48)\" x=\"1756.76\" y=\"1494.48\">0.75</text>\n",
       "</g>\n",
       "<g clip-path=\"url(#clip4700)\">\n",
       "<text style=\"fill:#000000; fill-opacity:1; font-family:Arial,Helvetica Neue,Helvetica,sans-serif; font-size:48px; text-anchor:middle;\" transform=\"rotate(0, 2260.78, 1494.48)\" x=\"2260.78\" y=\"1494.48\">1.00</text>\n",
       "</g>\n",
       "<g clip-path=\"url(#clip4700)\">\n",
       "<text style=\"fill:#000000; fill-opacity:1; font-family:Arial,Helvetica Neue,Helvetica,sans-serif; font-size:48px; text-anchor:end;\" transform=\"rotate(0, 160.243, 1418.55)\" x=\"160.243\" y=\"1418.55\">0</text>\n",
       "</g>\n",
       "<g clip-path=\"url(#clip4700)\">\n",
       "<text style=\"fill:#000000; fill-opacity:1; font-family:Arial,Helvetica Neue,Helvetica,sans-serif; font-size:48px; text-anchor:end;\" transform=\"rotate(0, 160.243, 1126.47)\" x=\"160.243\" y=\"1126.47\">2</text>\n",
       "</g>\n",
       "<g clip-path=\"url(#clip4700)\">\n",
       "<text style=\"fill:#000000; fill-opacity:1; font-family:Arial,Helvetica Neue,Helvetica,sans-serif; font-size:48px; text-anchor:end;\" transform=\"rotate(0, 160.243, 834.384)\" x=\"160.243\" y=\"834.384\">4</text>\n",
       "</g>\n",
       "<g clip-path=\"url(#clip4700)\">\n",
       "<text style=\"fill:#000000; fill-opacity:1; font-family:Arial,Helvetica Neue,Helvetica,sans-serif; font-size:48px; text-anchor:end;\" transform=\"rotate(0, 160.243, 542.301)\" x=\"160.243\" y=\"542.301\">6</text>\n",
       "</g>\n",
       "<g clip-path=\"url(#clip4700)\">\n",
       "<text style=\"fill:#000000; fill-opacity:1; font-family:Arial,Helvetica Neue,Helvetica,sans-serif; font-size:48px; text-anchor:end;\" transform=\"rotate(0, 160.243, 250.217)\" x=\"160.243\" y=\"250.217\">8</text>\n",
       "</g>\n",
       "<g clip-path=\"url(#clip4700)\">\n",
       "<text style=\"fill:#000000; fill-opacity:1; font-family:Arial,Helvetica Neue,Helvetica,sans-serif; font-size:66px; text-anchor:middle;\" transform=\"rotate(0, 1252.75, 1590.4)\" x=\"1252.75\" y=\"1590.4\">Probability of Recovery</text>\n",
       "</g>\n",
       "<g clip-path=\"url(#clip4700)\">\n",
       "<text style=\"fill:#000000; fill-opacity:1; font-family:Arial,Helvetica Neue,Helvetica,sans-serif; font-size:66px; text-anchor:middle;\" transform=\"rotate(-90, 57.6, 743.863)\" x=\"57.6\" y=\"743.863\">Recovered Population</text>\n",
       "</g>\n",
       "<circle clip-path=\"url(#clip4702)\" style=\"fill:#000000; stroke:none; fill-opacity:0.3\" cx=\"244.724\" cy=\"1255.01\" r=\"18\"/>\n",
       "<circle clip-path=\"url(#clip4702)\" style=\"fill:#009af9; stroke:none; fill-opacity:0.3\" cx=\"244.724\" cy=\"1255.01\" r=\"14\"/>\n",
       "<circle clip-path=\"url(#clip4702)\" style=\"fill:#000000; stroke:none; fill-opacity:0.3\" cx=\"244.724\" cy=\"670.842\" r=\"18\"/>\n",
       "<circle clip-path=\"url(#clip4702)\" style=\"fill:#009af9; stroke:none; fill-opacity:0.3\" cx=\"244.724\" cy=\"670.842\" r=\"14\"/>\n",
       "<circle clip-path=\"url(#clip4702)\" style=\"fill:#000000; stroke:none; fill-opacity:0.3\" cx=\"244.724\" cy=\"670.842\" r=\"18\"/>\n",
       "<circle clip-path=\"url(#clip4702)\" style=\"fill:#009af9; stroke:none; fill-opacity:0.3\" cx=\"244.724\" cy=\"670.842\" r=\"14\"/>\n",
       "<circle clip-path=\"url(#clip4702)\" style=\"fill:#000000; stroke:none; fill-opacity:0.3\" cx=\"311.052\" cy=\"816.884\" r=\"18\"/>\n",
       "<circle clip-path=\"url(#clip4702)\" style=\"fill:#009af9; stroke:none; fill-opacity:0.3\" cx=\"311.052\" cy=\"816.884\" r=\"14\"/>\n",
       "<circle clip-path=\"url(#clip4702)\" style=\"fill:#000000; stroke:none; fill-opacity:0.3\" cx=\"325.366\" cy=\"1108.97\" r=\"18\"/>\n",
       "<circle clip-path=\"url(#clip4702)\" style=\"fill:#009af9; stroke:none; fill-opacity:0.3\" cx=\"325.366\" cy=\"1108.97\" r=\"14\"/>\n",
       "<circle clip-path=\"url(#clip4702)\" style=\"fill:#000000; stroke:none; fill-opacity:0.3\" cx=\"432.217\" cy=\"1108.97\" r=\"18\"/>\n",
       "<circle clip-path=\"url(#clip4702)\" style=\"fill:#009af9; stroke:none; fill-opacity:0.3\" cx=\"432.217\" cy=\"1108.97\" r=\"14\"/>\n",
       "<circle clip-path=\"url(#clip4702)\" style=\"fill:#000000; stroke:none; fill-opacity:0.3\" cx=\"455.805\" cy=\"232.717\" r=\"18\"/>\n",
       "<circle clip-path=\"url(#clip4702)\" style=\"fill:#009af9; stroke:none; fill-opacity:0.3\" cx=\"455.805\" cy=\"232.717\" r=\"14\"/>\n",
       "<circle clip-path=\"url(#clip4702)\" style=\"fill:#000000; stroke:none; fill-opacity:0.3\" cx=\"471.732\" cy=\"962.926\" r=\"18\"/>\n",
       "<circle clip-path=\"url(#clip4702)\" style=\"fill:#009af9; stroke:none; fill-opacity:0.3\" cx=\"471.732\" cy=\"962.926\" r=\"14\"/>\n",
       "<circle clip-path=\"url(#clip4702)\" style=\"fill:#000000; stroke:none; fill-opacity:0.3\" cx=\"489.07\" cy=\"1255.01\" r=\"18\"/>\n",
       "<circle clip-path=\"url(#clip4702)\" style=\"fill:#009af9; stroke:none; fill-opacity:0.3\" cx=\"489.07\" cy=\"1255.01\" r=\"14\"/>\n",
       "<circle clip-path=\"url(#clip4702)\" style=\"fill:#000000; stroke:none; fill-opacity:0.3\" cx=\"515.48\" cy=\"524.801\" r=\"18\"/>\n",
       "<circle clip-path=\"url(#clip4702)\" style=\"fill:#009af9; stroke:none; fill-opacity:0.3\" cx=\"515.48\" cy=\"524.801\" r=\"14\"/>\n",
       "<circle clip-path=\"url(#clip4702)\" style=\"fill:#000000; stroke:none; fill-opacity:0.3\" cx=\"622.734\" cy=\"378.759\" r=\"18\"/>\n",
       "<circle clip-path=\"url(#clip4702)\" style=\"fill:#009af9; stroke:none; fill-opacity:0.3\" cx=\"622.734\" cy=\"378.759\" r=\"14\"/>\n",
       "<circle clip-path=\"url(#clip4702)\" style=\"fill:#000000; stroke:none; fill-opacity:0.3\" cx=\"683.619\" cy=\"962.926\" r=\"18\"/>\n",
       "<circle clip-path=\"url(#clip4702)\" style=\"fill:#009af9; stroke:none; fill-opacity:0.3\" cx=\"683.619\" cy=\"962.926\" r=\"14\"/>\n",
       "<circle clip-path=\"url(#clip4702)\" style=\"fill:#000000; stroke:none; fill-opacity:0.3\" cx=\"687.45\" cy=\"816.884\" r=\"18\"/>\n",
       "<circle clip-path=\"url(#clip4702)\" style=\"fill:#009af9; stroke:none; fill-opacity:0.3\" cx=\"687.45\" cy=\"816.884\" r=\"14\"/>\n",
       "<circle clip-path=\"url(#clip4702)\" style=\"fill:#000000; stroke:none; fill-opacity:0.3\" cx=\"694.909\" cy=\"670.842\" r=\"18\"/>\n",
       "<circle clip-path=\"url(#clip4702)\" style=\"fill:#009af9; stroke:none; fill-opacity:0.3\" cx=\"694.909\" cy=\"670.842\" r=\"14\"/>\n",
       "<circle clip-path=\"url(#clip4702)\" style=\"fill:#000000; stroke:none; fill-opacity:0.3\" cx=\"705.393\" cy=\"378.759\" r=\"18\"/>\n",
       "<circle clip-path=\"url(#clip4702)\" style=\"fill:#009af9; stroke:none; fill-opacity:0.3\" cx=\"705.393\" cy=\"378.759\" r=\"14\"/>\n",
       "<circle clip-path=\"url(#clip4702)\" style=\"fill:#000000; stroke:none; fill-opacity:0.3\" cx=\"711.441\" cy=\"232.717\" r=\"18\"/>\n",
       "<circle clip-path=\"url(#clip4702)\" style=\"fill:#009af9; stroke:none; fill-opacity:0.3\" cx=\"711.441\" cy=\"232.717\" r=\"14\"/>\n",
       "<circle clip-path=\"url(#clip4702)\" style=\"fill:#000000; stroke:none; fill-opacity:0.3\" cx=\"721.723\" cy=\"670.842\" r=\"18\"/>\n",
       "<circle clip-path=\"url(#clip4702)\" style=\"fill:#009af9; stroke:none; fill-opacity:0.3\" cx=\"721.723\" cy=\"670.842\" r=\"14\"/>\n",
       "<circle clip-path=\"url(#clip4702)\" style=\"fill:#000000; stroke:none; fill-opacity:0.3\" cx=\"740.27\" cy=\"1108.97\" r=\"18\"/>\n",
       "<circle clip-path=\"url(#clip4702)\" style=\"fill:#009af9; stroke:none; fill-opacity:0.3\" cx=\"740.27\" cy=\"1108.97\" r=\"14\"/>\n",
       "<circle clip-path=\"url(#clip4702)\" style=\"fill:#000000; stroke:none; fill-opacity:0.3\" cx=\"762.85\" cy=\"378.759\" r=\"18\"/>\n",
       "<circle clip-path=\"url(#clip4702)\" style=\"fill:#009af9; stroke:none; fill-opacity:0.3\" cx=\"762.85\" cy=\"378.759\" r=\"14\"/>\n",
       "<circle clip-path=\"url(#clip4702)\" style=\"fill:#000000; stroke:none; fill-opacity:0.3\" cx=\"779.987\" cy=\"816.884\" r=\"18\"/>\n",
       "<circle clip-path=\"url(#clip4702)\" style=\"fill:#009af9; stroke:none; fill-opacity:0.3\" cx=\"779.987\" cy=\"816.884\" r=\"14\"/>\n",
       "<circle clip-path=\"url(#clip4702)\" style=\"fill:#000000; stroke:none; fill-opacity:0.3\" cx=\"785.027\" cy=\"232.717\" r=\"18\"/>\n",
       "<circle clip-path=\"url(#clip4702)\" style=\"fill:#009af9; stroke:none; fill-opacity:0.3\" cx=\"785.027\" cy=\"232.717\" r=\"14\"/>\n",
       "<circle clip-path=\"url(#clip4702)\" style=\"fill:#000000; stroke:none; fill-opacity:0.3\" cx=\"836.839\" cy=\"670.842\" r=\"18\"/>\n",
       "<circle clip-path=\"url(#clip4702)\" style=\"fill:#009af9; stroke:none; fill-opacity:0.3\" cx=\"836.839\" cy=\"670.842\" r=\"14\"/>\n",
       "<circle clip-path=\"url(#clip4702)\" style=\"fill:#000000; stroke:none; fill-opacity:0.3\" cx=\"875.346\" cy=\"1255.01\" r=\"18\"/>\n",
       "<circle clip-path=\"url(#clip4702)\" style=\"fill:#009af9; stroke:none; fill-opacity:0.3\" cx=\"875.346\" cy=\"1255.01\" r=\"14\"/>\n",
       "<circle clip-path=\"url(#clip4702)\" style=\"fill:#000000; stroke:none; fill-opacity:0.3\" cx=\"881.394\" cy=\"670.842\" r=\"18\"/>\n",
       "<circle clip-path=\"url(#clip4702)\" style=\"fill:#009af9; stroke:none; fill-opacity:0.3\" cx=\"881.394\" cy=\"670.842\" r=\"14\"/>\n",
       "<circle clip-path=\"url(#clip4702)\" style=\"fill:#000000; stroke:none; fill-opacity:0.3\" cx=\"903.369\" cy=\"670.842\" r=\"18\"/>\n",
       "<circle clip-path=\"url(#clip4702)\" style=\"fill:#009af9; stroke:none; fill-opacity:0.3\" cx=\"903.369\" cy=\"670.842\" r=\"14\"/>\n",
       "<circle clip-path=\"url(#clip4702)\" style=\"fill:#000000; stroke:none; fill-opacity:0.3\" cx=\"908.409\" cy=\"524.801\" r=\"18\"/>\n",
       "<circle clip-path=\"url(#clip4702)\" style=\"fill:#009af9; stroke:none; fill-opacity:0.3\" cx=\"908.409\" cy=\"524.801\" r=\"14\"/>\n",
       "<circle clip-path=\"url(#clip4702)\" style=\"fill:#000000; stroke:none; fill-opacity:0.3\" cx=\"926.554\" cy=\"378.759\" r=\"18\"/>\n",
       "<circle clip-path=\"url(#clip4702)\" style=\"fill:#009af9; stroke:none; fill-opacity:0.3\" cx=\"926.554\" cy=\"378.759\" r=\"14\"/>\n",
       "<circle clip-path=\"url(#clip4702)\" style=\"fill:#000000; stroke:none; fill-opacity:0.3\" cx=\"939.053\" cy=\"1401.05\" r=\"18\"/>\n",
       "<circle clip-path=\"url(#clip4702)\" style=\"fill:#009af9; stroke:none; fill-opacity:0.3\" cx=\"939.053\" cy=\"1401.05\" r=\"14\"/>\n",
       "<circle clip-path=\"url(#clip4702)\" style=\"fill:#000000; stroke:none; fill-opacity:0.3\" cx=\"956.795\" cy=\"378.759\" r=\"18\"/>\n",
       "<circle clip-path=\"url(#clip4702)\" style=\"fill:#009af9; stroke:none; fill-opacity:0.3\" cx=\"956.795\" cy=\"378.759\" r=\"14\"/>\n",
       "<circle clip-path=\"url(#clip4702)\" style=\"fill:#000000; stroke:none; fill-opacity:0.3\" cx=\"966.068\" cy=\"670.842\" r=\"18\"/>\n",
       "<circle clip-path=\"url(#clip4702)\" style=\"fill:#009af9; stroke:none; fill-opacity:0.3\" cx=\"966.068\" cy=\"670.842\" r=\"14\"/>\n",
       "<circle clip-path=\"url(#clip4702)\" style=\"fill:#000000; stroke:none; fill-opacity:0.3\" cx=\"968.891\" cy=\"670.842\" r=\"18\"/>\n",
       "<circle clip-path=\"url(#clip4702)\" style=\"fill:#009af9; stroke:none; fill-opacity:0.3\" cx=\"968.891\" cy=\"670.842\" r=\"14\"/>\n",
       "<circle clip-path=\"url(#clip4702)\" style=\"fill:#000000; stroke:none; fill-opacity:0.3\" cx=\"972.52\" cy=\"1255.01\" r=\"18\"/>\n",
       "<circle clip-path=\"url(#clip4702)\" style=\"fill:#009af9; stroke:none; fill-opacity:0.3\" cx=\"972.52\" cy=\"1255.01\" r=\"14\"/>\n",
       "<circle clip-path=\"url(#clip4702)\" style=\"fill:#000000; stroke:none; fill-opacity:0.3\" cx=\"974.939\" cy=\"524.801\" r=\"18\"/>\n",
       "<circle clip-path=\"url(#clip4702)\" style=\"fill:#009af9; stroke:none; fill-opacity:0.3\" cx=\"974.939\" cy=\"524.801\" r=\"14\"/>\n",
       "<circle clip-path=\"url(#clip4702)\" style=\"fill:#000000; stroke:none; fill-opacity:0.3\" cx=\"989.858\" cy=\"816.884\" r=\"18\"/>\n",
       "<circle clip-path=\"url(#clip4702)\" style=\"fill:#009af9; stroke:none; fill-opacity:0.3\" cx=\"989.858\" cy=\"816.884\" r=\"14\"/>\n",
       "<circle clip-path=\"url(#clip4702)\" style=\"fill:#000000; stroke:none; fill-opacity:0.3\" cx=\"992.277\" cy=\"1255.01\" r=\"18\"/>\n",
       "<circle clip-path=\"url(#clip4702)\" style=\"fill:#009af9; stroke:none; fill-opacity:0.3\" cx=\"992.277\" cy=\"1255.01\" r=\"14\"/>\n",
       "<circle clip-path=\"url(#clip4702)\" style=\"fill:#000000; stroke:none; fill-opacity:0.3\" cx=\"997.922\" cy=\"1108.97\" r=\"18\"/>\n",
       "<circle clip-path=\"url(#clip4702)\" style=\"fill:#009af9; stroke:none; fill-opacity:0.3\" cx=\"997.922\" cy=\"1108.97\" r=\"14\"/>\n",
       "<circle clip-path=\"url(#clip4702)\" style=\"fill:#000000; stroke:none; fill-opacity:0.3\" cx=\"1032.6\" cy=\"524.801\" r=\"18\"/>\n",
       "<circle clip-path=\"url(#clip4702)\" style=\"fill:#009af9; stroke:none; fill-opacity:0.3\" cx=\"1032.6\" cy=\"524.801\" r=\"14\"/>\n",
       "<circle clip-path=\"url(#clip4702)\" style=\"fill:#000000; stroke:none; fill-opacity:0.3\" cx=\"1036.83\" cy=\"1255.01\" r=\"18\"/>\n",
       "<circle clip-path=\"url(#clip4702)\" style=\"fill:#009af9; stroke:none; fill-opacity:0.3\" cx=\"1036.83\" cy=\"1255.01\" r=\"14\"/>\n",
       "<circle clip-path=\"url(#clip4702)\" style=\"fill:#000000; stroke:none; fill-opacity:0.3\" cx=\"1036.83\" cy=\"1255.01\" r=\"18\"/>\n",
       "<circle clip-path=\"url(#clip4702)\" style=\"fill:#009af9; stroke:none; fill-opacity:0.3\" cx=\"1036.83\" cy=\"1255.01\" r=\"14\"/>\n",
       "<circle clip-path=\"url(#clip4702)\" style=\"fill:#000000; stroke:none; fill-opacity:0.3\" cx=\"1038.04\" cy=\"1108.97\" r=\"18\"/>\n",
       "<circle clip-path=\"url(#clip4702)\" style=\"fill:#009af9; stroke:none; fill-opacity:0.3\" cx=\"1038.04\" cy=\"1108.97\" r=\"14\"/>\n",
       "<circle clip-path=\"url(#clip4702)\" style=\"fill:#000000; stroke:none; fill-opacity:0.3\" cx=\"1062.44\" cy=\"86.6754\" r=\"18\"/>\n",
       "<circle clip-path=\"url(#clip4702)\" style=\"fill:#009af9; stroke:none; fill-opacity:0.3\" cx=\"1062.44\" cy=\"86.6754\" r=\"14\"/>\n",
       "<circle clip-path=\"url(#clip4702)\" style=\"fill:#000000; stroke:none; fill-opacity:0.3\" cx=\"1064.65\" cy=\"524.801\" r=\"18\"/>\n",
       "<circle clip-path=\"url(#clip4702)\" style=\"fill:#009af9; stroke:none; fill-opacity:0.3\" cx=\"1064.65\" cy=\"524.801\" r=\"14\"/>\n",
       "<circle clip-path=\"url(#clip4702)\" style=\"fill:#000000; stroke:none; fill-opacity:0.3\" cx=\"1066.27\" cy=\"670.842\" r=\"18\"/>\n",
       "<circle clip-path=\"url(#clip4702)\" style=\"fill:#009af9; stroke:none; fill-opacity:0.3\" cx=\"1066.27\" cy=\"670.842\" r=\"14\"/>\n",
       "<circle clip-path=\"url(#clip4702)\" style=\"fill:#000000; stroke:none; fill-opacity:0.3\" cx=\"1076.95\" cy=\"1401.05\" r=\"18\"/>\n",
       "<circle clip-path=\"url(#clip4702)\" style=\"fill:#009af9; stroke:none; fill-opacity:0.3\" cx=\"1076.95\" cy=\"1401.05\" r=\"14\"/>\n",
       "<circle clip-path=\"url(#clip4702)\" style=\"fill:#000000; stroke:none; fill-opacity:0.3\" cx=\"1095.7\" cy=\"816.884\" r=\"18\"/>\n",
       "<circle clip-path=\"url(#clip4702)\" style=\"fill:#009af9; stroke:none; fill-opacity:0.3\" cx=\"1095.7\" cy=\"816.884\" r=\"14\"/>\n",
       "<circle clip-path=\"url(#clip4702)\" style=\"fill:#000000; stroke:none; fill-opacity:0.3\" cx=\"1103.76\" cy=\"816.884\" r=\"18\"/>\n",
       "<circle clip-path=\"url(#clip4702)\" style=\"fill:#009af9; stroke:none; fill-opacity:0.3\" cx=\"1103.76\" cy=\"816.884\" r=\"14\"/>\n",
       "<circle clip-path=\"url(#clip4702)\" style=\"fill:#000000; stroke:none; fill-opacity:0.3\" cx=\"1108.2\" cy=\"962.926\" r=\"18\"/>\n",
       "<circle clip-path=\"url(#clip4702)\" style=\"fill:#009af9; stroke:none; fill-opacity:0.3\" cx=\"1108.2\" cy=\"962.926\" r=\"14\"/>\n",
       "<circle clip-path=\"url(#clip4702)\" style=\"fill:#000000; stroke:none; fill-opacity:0.3\" cx=\"1125.74\" cy=\"524.801\" r=\"18\"/>\n",
       "<circle clip-path=\"url(#clip4702)\" style=\"fill:#009af9; stroke:none; fill-opacity:0.3\" cx=\"1125.74\" cy=\"524.801\" r=\"14\"/>\n",
       "<circle clip-path=\"url(#clip4702)\" style=\"fill:#000000; stroke:none; fill-opacity:0.3\" cx=\"1128.97\" cy=\"1108.97\" r=\"18\"/>\n",
       "<circle clip-path=\"url(#clip4702)\" style=\"fill:#009af9; stroke:none; fill-opacity:0.3\" cx=\"1128.97\" cy=\"1108.97\" r=\"14\"/>\n",
       "<circle clip-path=\"url(#clip4702)\" style=\"fill:#000000; stroke:none; fill-opacity:0.3\" cx=\"1183.2\" cy=\"378.759\" r=\"18\"/>\n",
       "<circle clip-path=\"url(#clip4702)\" style=\"fill:#009af9; stroke:none; fill-opacity:0.3\" cx=\"1183.2\" cy=\"378.759\" r=\"14\"/>\n",
       "<circle clip-path=\"url(#clip4702)\" style=\"fill:#000000; stroke:none; fill-opacity:0.3\" cx=\"1202.55\" cy=\"1108.97\" r=\"18\"/>\n",
       "<circle clip-path=\"url(#clip4702)\" style=\"fill:#009af9; stroke:none; fill-opacity:0.3\" cx=\"1202.55\" cy=\"1108.97\" r=\"14\"/>\n",
       "<circle clip-path=\"url(#clip4702)\" style=\"fill:#000000; stroke:none; fill-opacity:0.3\" cx=\"1213.24\" cy=\"962.926\" r=\"18\"/>\n",
       "<circle clip-path=\"url(#clip4702)\" style=\"fill:#009af9; stroke:none; fill-opacity:0.3\" cx=\"1213.24\" cy=\"962.926\" r=\"14\"/>\n",
       "<circle clip-path=\"url(#clip4702)\" style=\"fill:#000000; stroke:none; fill-opacity:0.3\" cx=\"1216.46\" cy=\"816.884\" r=\"18\"/>\n",
       "<circle clip-path=\"url(#clip4702)\" style=\"fill:#009af9; stroke:none; fill-opacity:0.3\" cx=\"1216.46\" cy=\"816.884\" r=\"14\"/>\n",
       "<circle clip-path=\"url(#clip4702)\" style=\"fill:#000000; stroke:none; fill-opacity:0.3\" cx=\"1225.53\" cy=\"816.884\" r=\"18\"/>\n",
       "<circle clip-path=\"url(#clip4702)\" style=\"fill:#009af9; stroke:none; fill-opacity:0.3\" cx=\"1225.53\" cy=\"816.884\" r=\"14\"/>\n",
       "<circle clip-path=\"url(#clip4702)\" style=\"fill:#000000; stroke:none; fill-opacity:0.3\" cx=\"1246.5\" cy=\"670.842\" r=\"18\"/>\n",
       "<circle clip-path=\"url(#clip4702)\" style=\"fill:#009af9; stroke:none; fill-opacity:0.3\" cx=\"1246.5\" cy=\"670.842\" r=\"14\"/>\n",
       "<circle clip-path=\"url(#clip4702)\" style=\"fill:#000000; stroke:none; fill-opacity:0.3\" cx=\"1270.09\" cy=\"1108.97\" r=\"18\"/>\n",
       "<circle clip-path=\"url(#clip4702)\" style=\"fill:#009af9; stroke:none; fill-opacity:0.3\" cx=\"1270.09\" cy=\"1108.97\" r=\"14\"/>\n",
       "<circle clip-path=\"url(#clip4702)\" style=\"fill:#000000; stroke:none; fill-opacity:0.3\" cx=\"1310.81\" cy=\"670.842\" r=\"18\"/>\n",
       "<circle clip-path=\"url(#clip4702)\" style=\"fill:#009af9; stroke:none; fill-opacity:0.3\" cx=\"1310.81\" cy=\"670.842\" r=\"14\"/>\n",
       "<circle clip-path=\"url(#clip4702)\" style=\"fill:#000000; stroke:none; fill-opacity:0.3\" cx=\"1340.25\" cy=\"378.759\" r=\"18\"/>\n",
       "<circle clip-path=\"url(#clip4702)\" style=\"fill:#009af9; stroke:none; fill-opacity:0.3\" cx=\"1340.25\" cy=\"378.759\" r=\"14\"/>\n",
       "<circle clip-path=\"url(#clip4702)\" style=\"fill:#000000; stroke:none; fill-opacity:0.3\" cx=\"1353.35\" cy=\"1108.97\" r=\"18\"/>\n",
       "<circle clip-path=\"url(#clip4702)\" style=\"fill:#009af9; stroke:none; fill-opacity:0.3\" cx=\"1353.35\" cy=\"1108.97\" r=\"14\"/>\n",
       "<circle clip-path=\"url(#clip4702)\" style=\"fill:#000000; stroke:none; fill-opacity:0.3\" cx=\"1357.59\" cy=\"670.842\" r=\"18\"/>\n",
       "<circle clip-path=\"url(#clip4702)\" style=\"fill:#009af9; stroke:none; fill-opacity:0.3\" cx=\"1357.59\" cy=\"670.842\" r=\"14\"/>\n",
       "<circle clip-path=\"url(#clip4702)\" style=\"fill:#000000; stroke:none; fill-opacity:0.3\" cx=\"1359.4\" cy=\"378.759\" r=\"18\"/>\n",
       "<circle clip-path=\"url(#clip4702)\" style=\"fill:#009af9; stroke:none; fill-opacity:0.3\" cx=\"1359.4\" cy=\"378.759\" r=\"14\"/>\n",
       "<circle clip-path=\"url(#clip4702)\" style=\"fill:#000000; stroke:none; fill-opacity:0.3\" cx=\"1370.09\" cy=\"1255.01\" r=\"18\"/>\n",
       "<circle clip-path=\"url(#clip4702)\" style=\"fill:#009af9; stroke:none; fill-opacity:0.3\" cx=\"1370.09\" cy=\"1255.01\" r=\"14\"/>\n",
       "<circle clip-path=\"url(#clip4702)\" style=\"fill:#000000; stroke:none; fill-opacity:0.3\" cx=\"1388.63\" cy=\"670.842\" r=\"18\"/>\n",
       "<circle clip-path=\"url(#clip4702)\" style=\"fill:#009af9; stroke:none; fill-opacity:0.3\" cx=\"1388.63\" cy=\"670.842\" r=\"14\"/>\n",
       "<circle clip-path=\"url(#clip4702)\" style=\"fill:#000000; stroke:none; fill-opacity:0.3\" cx=\"1398.31\" cy=\"232.717\" r=\"18\"/>\n",
       "<circle clip-path=\"url(#clip4702)\" style=\"fill:#009af9; stroke:none; fill-opacity:0.3\" cx=\"1398.31\" cy=\"232.717\" r=\"14\"/>\n",
       "<circle clip-path=\"url(#clip4702)\" style=\"fill:#000000; stroke:none; fill-opacity:0.3\" cx=\"1420.08\" cy=\"670.842\" r=\"18\"/>\n",
       "<circle clip-path=\"url(#clip4702)\" style=\"fill:#009af9; stroke:none; fill-opacity:0.3\" cx=\"1420.08\" cy=\"670.842\" r=\"14\"/>\n",
       "<circle clip-path=\"url(#clip4702)\" style=\"fill:#000000; stroke:none; fill-opacity:0.3\" cx=\"1471.29\" cy=\"524.801\" r=\"18\"/>\n",
       "<circle clip-path=\"url(#clip4702)\" style=\"fill:#009af9; stroke:none; fill-opacity:0.3\" cx=\"1471.29\" cy=\"524.801\" r=\"14\"/>\n",
       "<circle clip-path=\"url(#clip4702)\" style=\"fill:#000000; stroke:none; fill-opacity:0.3\" cx=\"1518.27\" cy=\"816.884\" r=\"18\"/>\n",
       "<circle clip-path=\"url(#clip4702)\" style=\"fill:#009af9; stroke:none; fill-opacity:0.3\" cx=\"1518.27\" cy=\"816.884\" r=\"14\"/>\n",
       "<circle clip-path=\"url(#clip4702)\" style=\"fill:#000000; stroke:none; fill-opacity:0.3\" cx=\"1538.83\" cy=\"524.801\" r=\"18\"/>\n",
       "<circle clip-path=\"url(#clip4702)\" style=\"fill:#009af9; stroke:none; fill-opacity:0.3\" cx=\"1538.83\" cy=\"524.801\" r=\"14\"/>\n",
       "<circle clip-path=\"url(#clip4702)\" style=\"fill:#000000; stroke:none; fill-opacity:0.3\" cx=\"1539.23\" cy=\"670.842\" r=\"18\"/>\n",
       "<circle clip-path=\"url(#clip4702)\" style=\"fill:#009af9; stroke:none; fill-opacity:0.3\" cx=\"1539.23\" cy=\"670.842\" r=\"14\"/>\n",
       "<circle clip-path=\"url(#clip4702)\" style=\"fill:#000000; stroke:none; fill-opacity:0.3\" cx=\"1572.7\" cy=\"670.842\" r=\"18\"/>\n",
       "<circle clip-path=\"url(#clip4702)\" style=\"fill:#009af9; stroke:none; fill-opacity:0.3\" cx=\"1572.7\" cy=\"670.842\" r=\"14\"/>\n",
       "<circle clip-path=\"url(#clip4702)\" style=\"fill:#000000; stroke:none; fill-opacity:0.3\" cx=\"1593.06\" cy=\"1255.01\" r=\"18\"/>\n",
       "<circle clip-path=\"url(#clip4702)\" style=\"fill:#009af9; stroke:none; fill-opacity:0.3\" cx=\"1593.06\" cy=\"1255.01\" r=\"14\"/>\n",
       "<circle clip-path=\"url(#clip4702)\" style=\"fill:#000000; stroke:none; fill-opacity:0.3\" cx=\"1600.92\" cy=\"524.801\" r=\"18\"/>\n",
       "<circle clip-path=\"url(#clip4702)\" style=\"fill:#009af9; stroke:none; fill-opacity:0.3\" cx=\"1600.92\" cy=\"524.801\" r=\"14\"/>\n",
       "<circle clip-path=\"url(#clip4702)\" style=\"fill:#000000; stroke:none; fill-opacity:0.3\" cx=\"1633.38\" cy=\"816.884\" r=\"18\"/>\n",
       "<circle clip-path=\"url(#clip4702)\" style=\"fill:#009af9; stroke:none; fill-opacity:0.3\" cx=\"1633.38\" cy=\"816.884\" r=\"14\"/>\n",
       "<circle clip-path=\"url(#clip4702)\" style=\"fill:#000000; stroke:none; fill-opacity:0.3\" cx=\"1638.02\" cy=\"378.759\" r=\"18\"/>\n",
       "<circle clip-path=\"url(#clip4702)\" style=\"fill:#009af9; stroke:none; fill-opacity:0.3\" cx=\"1638.02\" cy=\"378.759\" r=\"14\"/>\n",
       "<circle clip-path=\"url(#clip4702)\" style=\"fill:#000000; stroke:none; fill-opacity:0.3\" cx=\"1652.33\" cy=\"962.926\" r=\"18\"/>\n",
       "<circle clip-path=\"url(#clip4702)\" style=\"fill:#009af9; stroke:none; fill-opacity:0.3\" cx=\"1652.33\" cy=\"962.926\" r=\"14\"/>\n",
       "<circle clip-path=\"url(#clip4702)\" style=\"fill:#000000; stroke:none; fill-opacity:0.3\" cx=\"1670.48\" cy=\"670.842\" r=\"18\"/>\n",
       "<circle clip-path=\"url(#clip4702)\" style=\"fill:#009af9; stroke:none; fill-opacity:0.3\" cx=\"1670.48\" cy=\"670.842\" r=\"14\"/>\n",
       "<circle clip-path=\"url(#clip4702)\" style=\"fill:#000000; stroke:none; fill-opacity:0.3\" cx=\"1692.65\" cy=\"962.926\" r=\"18\"/>\n",
       "<circle clip-path=\"url(#clip4702)\" style=\"fill:#009af9; stroke:none; fill-opacity:0.3\" cx=\"1692.65\" cy=\"962.926\" r=\"14\"/>\n",
       "<circle clip-path=\"url(#clip4702)\" style=\"fill:#000000; stroke:none; fill-opacity:0.3\" cx=\"1697.29\" cy=\"524.801\" r=\"18\"/>\n",
       "<circle clip-path=\"url(#clip4702)\" style=\"fill:#009af9; stroke:none; fill-opacity:0.3\" cx=\"1697.29\" cy=\"524.801\" r=\"14\"/>\n",
       "<circle clip-path=\"url(#clip4702)\" style=\"fill:#000000; stroke:none; fill-opacity:0.3\" cx=\"1698.7\" cy=\"1108.97\" r=\"18\"/>\n",
       "<circle clip-path=\"url(#clip4702)\" style=\"fill:#009af9; stroke:none; fill-opacity:0.3\" cx=\"1698.7\" cy=\"1108.97\" r=\"14\"/>\n",
       "<circle clip-path=\"url(#clip4702)\" style=\"fill:#000000; stroke:none; fill-opacity:0.3\" cx=\"1701.32\" cy=\"524.801\" r=\"18\"/>\n",
       "<circle clip-path=\"url(#clip4702)\" style=\"fill:#009af9; stroke:none; fill-opacity:0.3\" cx=\"1701.32\" cy=\"524.801\" r=\"14\"/>\n",
       "<circle clip-path=\"url(#clip4702)\" style=\"fill:#000000; stroke:none; fill-opacity:0.3\" cx=\"1712.81\" cy=\"232.717\" r=\"18\"/>\n",
       "<circle clip-path=\"url(#clip4702)\" style=\"fill:#009af9; stroke:none; fill-opacity:0.3\" cx=\"1712.81\" cy=\"232.717\" r=\"14\"/>\n",
       "<circle clip-path=\"url(#clip4702)\" style=\"fill:#000000; stroke:none; fill-opacity:0.3\" cx=\"1728.14\" cy=\"1108.97\" r=\"18\"/>\n",
       "<circle clip-path=\"url(#clip4702)\" style=\"fill:#009af9; stroke:none; fill-opacity:0.3\" cx=\"1728.14\" cy=\"1108.97\" r=\"14\"/>\n",
       "<circle clip-path=\"url(#clip4702)\" style=\"fill:#000000; stroke:none; fill-opacity:0.3\" cx=\"1764.02\" cy=\"1401.05\" r=\"18\"/>\n",
       "<circle clip-path=\"url(#clip4702)\" style=\"fill:#009af9; stroke:none; fill-opacity:0.3\" cx=\"1764.02\" cy=\"1401.05\" r=\"14\"/>\n",
       "<circle clip-path=\"url(#clip4702)\" style=\"fill:#000000; stroke:none; fill-opacity:0.3\" cx=\"1804.55\" cy=\"1108.97\" r=\"18\"/>\n",
       "<circle clip-path=\"url(#clip4702)\" style=\"fill:#009af9; stroke:none; fill-opacity:0.3\" cx=\"1804.55\" cy=\"1108.97\" r=\"14\"/>\n",
       "<circle clip-path=\"url(#clip4702)\" style=\"fill:#000000; stroke:none; fill-opacity:0.3\" cx=\"1862.2\" cy=\"670.842\" r=\"18\"/>\n",
       "<circle clip-path=\"url(#clip4702)\" style=\"fill:#009af9; stroke:none; fill-opacity:0.3\" cx=\"1862.2\" cy=\"670.842\" r=\"14\"/>\n",
       "<circle clip-path=\"url(#clip4702)\" style=\"fill:#000000; stroke:none; fill-opacity:0.3\" cx=\"1901.11\" cy=\"962.926\" r=\"18\"/>\n",
       "<circle clip-path=\"url(#clip4702)\" style=\"fill:#009af9; stroke:none; fill-opacity:0.3\" cx=\"1901.11\" cy=\"962.926\" r=\"14\"/>\n",
       "<circle clip-path=\"url(#clip4702)\" style=\"fill:#000000; stroke:none; fill-opacity:0.3\" cx=\"1929.74\" cy=\"524.801\" r=\"18\"/>\n",
       "<circle clip-path=\"url(#clip4702)\" style=\"fill:#009af9; stroke:none; fill-opacity:0.3\" cx=\"1929.74\" cy=\"524.801\" r=\"14\"/>\n",
       "<circle clip-path=\"url(#clip4702)\" style=\"fill:#000000; stroke:none; fill-opacity:0.3\" cx=\"1962.81\" cy=\"1108.97\" r=\"18\"/>\n",
       "<circle clip-path=\"url(#clip4702)\" style=\"fill:#009af9; stroke:none; fill-opacity:0.3\" cx=\"1962.81\" cy=\"1108.97\" r=\"14\"/>\n",
       "<circle clip-path=\"url(#clip4702)\" style=\"fill:#000000; stroke:none; fill-opacity:0.3\" cx=\"1971.88\" cy=\"816.884\" r=\"18\"/>\n",
       "<circle clip-path=\"url(#clip4702)\" style=\"fill:#009af9; stroke:none; fill-opacity:0.3\" cx=\"1971.88\" cy=\"816.884\" r=\"14\"/>\n",
       "<circle clip-path=\"url(#clip4702)\" style=\"fill:#000000; stroke:none; fill-opacity:0.3\" cx=\"2004.34\" cy=\"962.926\" r=\"18\"/>\n",
       "<circle clip-path=\"url(#clip4702)\" style=\"fill:#009af9; stroke:none; fill-opacity:0.3\" cx=\"2004.34\" cy=\"962.926\" r=\"14\"/>\n",
       "<circle clip-path=\"url(#clip4702)\" style=\"fill:#000000; stroke:none; fill-opacity:0.3\" cx=\"2036.79\" cy=\"670.842\" r=\"18\"/>\n",
       "<circle clip-path=\"url(#clip4702)\" style=\"fill:#009af9; stroke:none; fill-opacity:0.3\" cx=\"2036.79\" cy=\"670.842\" r=\"14\"/>\n",
       "<circle clip-path=\"url(#clip4702)\" style=\"fill:#000000; stroke:none; fill-opacity:0.3\" cx=\"2044.66\" cy=\"1108.97\" r=\"18\"/>\n",
       "<circle clip-path=\"url(#clip4702)\" style=\"fill:#009af9; stroke:none; fill-opacity:0.3\" cx=\"2044.66\" cy=\"1108.97\" r=\"14\"/>\n",
       "<circle clip-path=\"url(#clip4702)\" style=\"fill:#000000; stroke:none; fill-opacity:0.3\" cx=\"2076.51\" cy=\"962.926\" r=\"18\"/>\n",
       "<circle clip-path=\"url(#clip4702)\" style=\"fill:#009af9; stroke:none; fill-opacity:0.3\" cx=\"2076.51\" cy=\"962.926\" r=\"14\"/>\n",
       "<circle clip-path=\"url(#clip4702)\" style=\"fill:#000000; stroke:none; fill-opacity:0.3\" cx=\"2097.48\" cy=\"1108.97\" r=\"18\"/>\n",
       "<circle clip-path=\"url(#clip4702)\" style=\"fill:#009af9; stroke:none; fill-opacity:0.3\" cx=\"2097.48\" cy=\"1108.97\" r=\"14\"/>\n",
       "<circle clip-path=\"url(#clip4702)\" style=\"fill:#000000; stroke:none; fill-opacity:0.3\" cx=\"2098.08\" cy=\"1255.01\" r=\"18\"/>\n",
       "<circle clip-path=\"url(#clip4702)\" style=\"fill:#009af9; stroke:none; fill-opacity:0.3\" cx=\"2098.08\" cy=\"1255.01\" r=\"14\"/>\n",
       "<circle clip-path=\"url(#clip4702)\" style=\"fill:#000000; stroke:none; fill-opacity:0.3\" cx=\"2156.15\" cy=\"962.926\" r=\"18\"/>\n",
       "<circle clip-path=\"url(#clip4702)\" style=\"fill:#009af9; stroke:none; fill-opacity:0.3\" cx=\"2156.15\" cy=\"962.926\" r=\"14\"/>\n",
       "<circle clip-path=\"url(#clip4702)\" style=\"fill:#000000; stroke:none; fill-opacity:0.3\" cx=\"2190.22\" cy=\"1401.05\" r=\"18\"/>\n",
       "<circle clip-path=\"url(#clip4702)\" style=\"fill:#009af9; stroke:none; fill-opacity:0.3\" cx=\"2190.22\" cy=\"1401.05\" r=\"14\"/>\n",
       "<circle clip-path=\"url(#clip4702)\" style=\"fill:#000000; stroke:none; fill-opacity:0.3\" cx=\"2260.78\" cy=\"1401.05\" r=\"18\"/>\n",
       "<circle clip-path=\"url(#clip4702)\" style=\"fill:#009af9; stroke:none; fill-opacity:0.3\" cx=\"2260.78\" cy=\"1401.05\" r=\"14\"/>\n",
       "<circle clip-path=\"url(#clip4702)\" style=\"fill:#000000; stroke:none; fill-opacity:0.3\" cx=\"2260.78\" cy=\"1401.05\" r=\"18\"/>\n",
       "<circle clip-path=\"url(#clip4702)\" style=\"fill:#009af9; stroke:none; fill-opacity:0.3\" cx=\"2260.78\" cy=\"1401.05\" r=\"14\"/>\n",
       "<circle clip-path=\"url(#clip4702)\" style=\"fill:#000000; stroke:none; fill-opacity:0.3\" cx=\"2260.78\" cy=\"1401.05\" r=\"18\"/>\n",
       "<circle clip-path=\"url(#clip4702)\" style=\"fill:#009af9; stroke:none; fill-opacity:0.3\" cx=\"2260.78\" cy=\"1401.05\" r=\"14\"/>\n",
       "<polyline clip-path=\"url(#clip4702)\" style=\"stroke:#e26f46; stroke-width:4; stroke-opacity:1; fill:none\" points=\"\n",
       "  244.724,819.805 345.527,819.805 446.33,819.805 547.132,819.805 647.935,819.805 748.738,819.805 849.54,819.805 950.343,819.805 1051.15,819.805 1151.95,819.805 \n",
       "  1252.75,819.805 1353.55,819.805 1454.36,819.805 1555.16,819.805 1655.96,819.805 1756.76,819.805 1857.57,819.805 1958.37,819.805 2059.17,819.805 2159.98,819.805 \n",
       "  2260.78,819.805 \n",
       "  \"/>\n",
       "<polygon clip-path=\"url(#clip4700)\" points=\"\n",
       "1931.67,312.204 2249.26,312.204 2249.26,130.764 1931.67,130.764 \n",
       "  \" fill=\"#ffffff\" fill-rule=\"evenodd\" fill-opacity=\"1\"/>\n",
       "<polyline clip-path=\"url(#clip4700)\" style=\"stroke:#000000; stroke-width:4; stroke-opacity:1; fill:none\" points=\"\n",
       "  1931.67,312.204 2249.26,312.204 2249.26,130.764 1931.67,130.764 1931.67,312.204 \n",
       "  \"/>\n",
       "<circle clip-path=\"url(#clip4700)\" style=\"fill:#000000; stroke:none; fill-opacity:0.3\" cx=\"2039.67\" cy=\"191.244\" r=\"25\"/>\n",
       "<circle clip-path=\"url(#clip4700)\" style=\"fill:#009af9; stroke:none; fill-opacity:0.3\" cx=\"2039.67\" cy=\"191.244\" r=\"21\"/>\n",
       "<g clip-path=\"url(#clip4700)\">\n",
       "<text style=\"fill:#000000; fill-opacity:1; font-family:Arial,Helvetica Neue,Helvetica,sans-serif; font-size:48px; text-anchor:start;\" transform=\"rotate(0, 2123.67, 208.744)\" x=\"2123.67\" y=\"208.744\">obs</text>\n",
       "</g>\n",
       "<polyline clip-path=\"url(#clip4700)\" style=\"stroke:#e26f46; stroke-width:4; stroke-opacity:1; fill:none\" points=\"\n",
       "  1955.67,251.724 2099.67,251.724 \n",
       "  \"/>\n",
       "<g clip-path=\"url(#clip4700)\">\n",
       "<text style=\"fill:#000000; fill-opacity:1; font-family:Arial,Helvetica Neue,Helvetica,sans-serif; font-size:48px; text-anchor:start;\" transform=\"rotate(0, 2123.67, 269.224)\" x=\"2123.67\" y=\"269.224\">fit</text>\n",
       "</g>\n",
       "</svg>\n"
      ]
     },
     "execution_count": 26,
     "metadata": {},
     "output_type": "execute_result"
    }
   ],
   "source": [
    "using Printf\n",
    "eval(:(f(x,β) = $(poly(P.steps[2]))))\n",
    "xdomain = (0.0:0.05:1.0)\n",
    "println(\"ρ\\tf(ρ,β)\\n==============\")\n",
    "xŷ = zip(xdomain, f(xdomain, P.results[end][2].β))\n",
    "z = collect(map(x->(@sprintf(\"%0.2f\", x[1]),\n",
    "                    @sprintf(\"%7.3f\", x[2])),\n",
    "        xŷ))\n",
    "\n",
    "using Plots\n",
    "table = map(x->(round(x.params.ρ, digits=4), last(x.counts[end])), P.results[2][1]) |> sort\n",
    "p = scatter(first.(table), last.(table), label=\"obs\",alpha=0.3)\n",
    "plot!(first.(xŷ), last.(xŷ), label=\"fit\")\n",
    "xlabel!(p, \"Probability of Recovery\")\n",
    "ylabel!(p, \"Recovered Population\")\n",
    "println(\"β: \", P.results[end][2].β, \"\\n\", string(poly(P.steps[2])))\n",
    "p"
   ]
  },
  {
   "cell_type": "markdown",
   "metadata": {
    "slideshow": {
     "slide_type": "subslide"
    }
   },
   "source": [
    "## Transforming the Pipeline\n",
    "\n",
    "- Define $\\times$ so that $T_1\\times T_2$ acts on a pipeline by creating $P(T_1(m_1),T_2(m_2), c_1,c_2)$.\n",
    "\n",
    "- The following diagram commutes\n",
    "<p><img src=\"src/img/commutative_pipeline.dot.svg\" alt=\"A diagram showing how pipelining commutes with tranforming models\"></p>"
   ]
  },
  {
   "cell_type": "code",
   "execution_count": 27,
   "metadata": {
    "lines_to_next_cell": 2,
    "slideshow": {
     "slide_type": "skip"
    }
   },
   "outputs": [
    {
     "data": {
      "text/plain": [
       "cross (generic function with 3 methods)"
      ]
     },
     "execution_count": 27,
     "metadata": {},
     "output_type": "execute_result"
    }
   ],
   "source": [
    "# Product = ModelTools.Transformations.Product\n",
    "# Apply the i-th transformation to the i-th step of the pipeline\n",
    "function (t::Product)(m::Pipelines.Pipeline)\n",
    "    for (i, s) in enumerate(m.steps)\n",
    "        t.dims[i](s)\n",
    "    end\n",
    "end\n",
    "import LinearAlgebra: ×\n",
    "×(f,g) = Product((f,g))"
   ]
  },
  {
   "cell_type": "code",
   "execution_count": 28,
   "metadata": {},
   "outputs": [
    {
     "data": {
      "text/plain": [
       "Lsq(\n",
       "  f=:f,\n",
       "  coefficient=:β,\n",
       "  p₀=:a₀\n",
       ")"
      ]
     },
     "execution_count": 28,
     "metadata": {},
     "output_type": "execute_result"
    }
   ],
   "source": [
    "P.steps[2]"
   ]
  },
  {
   "cell_type": "code",
   "execution_count": 29,
   "metadata": {
    "slideshow": {
     "slide_type": "skip"
    }
   },
   "outputs": [
    {
     "name": "stdout",
     "output_type": "stream",
     "text": [
      "size(Data) = (100, 3)\n",
      "sum(Y) / length(Y) = 3.98\n"
     ]
    },
    {
     "name": "stderr",
     "output_type": "stream",
     "text": [
      "WARNING: replacing module AgentModels.\n",
      "WARNING: replacing module Regression.\n"
     ]
    }
   ],
   "source": [
    "# Transforming the second step\n",
    "(identity × Tₓ)(P)\n",
    "(identity × T₁)(P)\n",
    "(identity × Tₓ)(P)\n",
    "(identity × T₁)(P)\n",
    "\n",
    "Pipelines.reset!(P)\n",
    "Pipelines.run!(P);"
   ]
  },
  {
   "cell_type": "code",
   "execution_count": 30,
   "metadata": {
    "slideshow": {
     "slide_type": "skip"
    }
   },
   "outputs": [
    {
     "data": {
      "text/plain": [
       "(β = [-8.38778, 6.57654, 3.34351], r = 21.461856101484337, n = 100)"
      ]
     },
     "execution_count": 30,
     "metadata": {},
     "output_type": "execute_result"
    }
   ],
   "source": [
    "P.results[end][2]"
   ]
  },
  {
   "cell_type": "markdown",
   "metadata": {
    "slideshow": {
     "slide_type": "slide"
    }
   },
   "source": [
    "## Adding the Dead State\n",
    "\n",
    "<img src=\"https://docs.google.com/drawings/d/e/2PACX-1vRUhrX6GzMzNRWr0GI3pDp9DvSqJVTDVpy9SNNBIB08b7Hyf9vaHobE2knrGPda4My9f_o9gncG34pF/pub?w=1028&amp;h=309\">\n",
    "\n",
    "We are going to add an additional state to the model to represent the infectious disease fatalities. The user must specify what that concept means in terms of the name for the new state and the behavior of that state. `D` is a terminal state for a finite automata."
   ]
  },
  {
   "cell_type": "code",
   "execution_count": 31,
   "metadata": {
    "lines_to_next_cell": 2,
    "slideshow": {
     "slide_type": "skip"
    }
   },
   "outputs": [
    {
     "data": {
      "text/plain": [
       "addstate! (generic function with 1 method)"
      ]
     },
     "execution_count": 31,
     "metadata": {},
     "output_type": "execute_result"
    }
   ],
   "source": [
    "function addstate!(m::ExpStateModel)\n",
    "    println(\"\\nThe system states are $(m.states.args)\")\n",
    "    println(\"\\nAdding un estado de los muertos\")\n",
    "\n",
    "    put!(m, ExpStateTransition(:D, :((x...)->:D)))\n",
    "\n",
    "    println(\"\\nThe system states are $(m.states.args)\")\n",
    "    # once you are dead, you are dead forever\n",
    "    println(\"\\nThere is no resurrection in this model\")\n",
    "    println(\"\\nInfected individuals recover or die in one step\")\n",
    "\n",
    "    # replace!(m, ExpStateTransition(:I, :((x...)->rand(Bool) ? :D : :I)))\n",
    "    m[:I] = :((x...)->begin\n",
    "            roll = rand()\n",
    "            if roll < ρ\n",
    "                return :R\n",
    "            elseif rand(Bool)\n",
    "                return :D\n",
    "            else\n",
    "                return :I\n",
    "            end\n",
    "        end\n",
    "    )\n",
    "    @show m[:I]\n",
    "    return m\n",
    "end"
   ]
  },
  {
   "cell_type": "markdown",
   "metadata": {},
   "source": [
    "Some utilities for manipulating functions at a higher level than expressions."
   ]
  },
  {
   "cell_type": "code",
   "execution_count": 32,
   "metadata": {
    "slideshow": {
     "slide_type": "notes"
    }
   },
   "outputs": [
    {
     "data": {
      "text/plain": [
       "push! (generic function with 84 methods)"
      ]
     },
     "execution_count": 32,
     "metadata": {},
     "output_type": "execute_result"
    }
   ],
   "source": [
    "\n",
    "struct Func end\n",
    "\n",
    "function push!(::Func, func::Expr, ex::Expr)\n",
    "    push!(bodyblock(func), ex)\n",
    "end"
   ]
  },
  {
   "cell_type": "markdown",
   "metadata": {
    "slideshow": {
     "slide_type": "slide"
    }
   },
   "source": [
    "## Population Growth\n",
    "\n",
    "Another change we can make to our model is the introduction of population growth. Our model for population is that on each timestep, one new suceptible person will be added to the list of agents. We use the `tick!` function as an anchor point for this transformation.\n",
    "\n",
    "<img src=\"https://docs.google.com/drawings/d/e/2PACX-1vRfLcbPPaQq6jmxheWApqidYte8FxK7p0Ebs2EyW2pY3ougNh5YiMjA0NbRMuGAIT5pD02WNEoOfdCd/pub?w=1005&amp;h=247\">"
   ]
  },
  {
   "cell_type": "code",
   "execution_count": 33,
   "metadata": {
    "slideshow": {
     "slide_type": "skip"
    }
   },
   "outputs": [
    {
     "data": {
      "text/plain": [
       "addgrowth! (generic function with 1 method)"
      ]
     },
     "execution_count": 33,
     "metadata": {},
     "output_type": "execute_result"
    }
   ],
   "source": [
    "function addgrowth!(m::ExpStateModel)\n",
    "    println(\"\\nAdding population growth to this model\")\n",
    "    stepr = filter(x->isa(x,Expr), findfunc(m.expr, :tick!))[1]\n",
    "    @show stepr\n",
    "    push!(Func(), stepr, :(push!(sm.agents, :S)))\n",
    "    println(\"------------------------\")\n",
    "    @show stepr;\n",
    "    return m\n",
    "end"
   ]
  },
  {
   "cell_type": "markdown",
   "metadata": {
    "slideshow": {
     "slide_type": "slide"
    }
   },
   "source": [
    "## Model Augmentation yields polynomial regression\n",
    "Given transformations\n",
    "\n",
    "1. `f(x) -> xf(x)` \n",
    "2. `f(x) -> f(x) + beta`\n",
    "\n",
    "we are able to generate all possible polynomial regression using composition of these transformations."
   ]
  },
  {
   "cell_type": "code",
   "execution_count": 34,
   "metadata": {
    "slideshow": {
     "slide_type": "slide"
    }
   },
   "outputs": [
    {
     "name": "stdout",
     "output_type": "stream",
     "text": [
      "m = Lsq(\n",
      "  f=:f,\n",
      "  coefficient=:β,\n",
      "  p₀=:a₀\n",
      ")\n"
     ]
    },
    {
     "data": {
      "text/plain": [
       ":((.+)(β[1] .* x .^ 0))"
      ]
     },
     "execution_count": 34,
     "metadata": {},
     "output_type": "execute_result"
    }
   ],
   "source": [
    "# Let's build an instance of the model object from the code snippet expr\n",
    "m = model(Lsq, deepcopy(expr))\n",
    "mstats = deepcopy(m)\n",
    "@show m\n",
    "poly(m)"
   ]
  },
  {
   "cell_type": "markdown",
   "metadata": {
    "slideshow": {
     "slide_type": "slide"
    }
   },
   "source": [
    "### Generating the Transformation Monoid\n",
    "\n",
    "1. $T_x,T_1$ are *generators* for our monoid of transformations $T = \\langle T_x, T_1 \\rangle$.\n",
    "2. $T_x$ multiplies by $x$\n",
    "3. $T_1$ adds a constant to our polynomial \n",
    "4. Any polynomial can be generated by these two operations cf. Horner's rule."
   ]
  },
  {
   "cell_type": "code",
   "execution_count": 35,
   "metadata": {
    "slideshow": {
     "slide_type": "subslide"
    }
   },
   "outputs": [
    {
     "name": "stdout",
     "output_type": "stream",
     "text": [
      "poly(m) = :((.+)(β[1] .* x .^ 0))\n",
      "poly(m′) = :(β[1] .* x .^ 1 .+ β[2] .* x .^ 0)\n"
     ]
    },
    {
     "name": "stderr",
     "output_type": "stream",
     "text": [
      "WARNING: replacing module Regression.\n"
     ]
    },
    {
     "ename": "MethodError",
     "evalue": "MethodError: no method matching connector(::Array{Any,1})\nClosest candidates are:\n  connector(::Any, !Matched::Any, !Matched::Any) at In[10]:14",
     "output_type": "error",
     "traceback": [
      "MethodError: no method matching connector(::Array{Any,1})\nClosest candidates are:\n  connector(::Any, !Matched::Any, !Matched::Any) at In[10]:14",
      "",
      "Stacktrace:",
      " [1] top-level scope at In[35]:11"
     ]
    }
   ],
   "source": [
    "Tₓ = Pow(1)\n",
    "T₁ = AddConst();\n",
    "\n",
    "m′ = deepcopy(m)\n",
    "Tₓ(m′)\n",
    "T₁(m′)\n",
    "@show poly(m)\n",
    "Regression = eval(m′.expr)\n",
    "\n",
    "@show poly(m′)\n",
    "fit′, result′ = Regression.main(connector(finalcounts)...)\n",
    "result′"
   ]
  },
  {
   "cell_type": "code",
   "execution_count": 36,
   "metadata": {
    "slideshow": {
     "slide_type": "subslide"
    }
   },
   "outputs": [
    {
     "name": "stdout",
     "output_type": "stream",
     "text": [
      "poly(m) = :((.+)(β[1] .* x .^ 0))\n",
      "poly(m′) = :(.+(β[1] .* x .^ 11, β[2] .* x .^ 10, β[3] .* x .^ 9, β[4] .* x .^ 8, β[5] .* x .^ 7, β[6] .* x .^ 6, β[7] .* x .^ 5, β[8] .* x .^ 4, β[9] .* x .^ 3, β[10] .* x .^ 2, β[11] .* x .^ 1, β[12] .* x .^ 0))\n"
     ]
    },
    {
     "name": "stderr",
     "output_type": "stream",
     "text": [
      "WARNING: replacing module Regression.\n"
     ]
    },
    {
     "ename": "MethodError",
     "evalue": "MethodError: no method matching connector(::Array{Any,1})\nClosest candidates are:\n  connector(::Any, !Matched::Any, !Matched::Any) at In[10]:14",
     "output_type": "error",
     "traceback": [
      "MethodError: no method matching connector(::Array{Any,1})\nClosest candidates are:\n  connector(::Any, !Matched::Any, !Matched::Any) at In[10]:14",
      "",
      "Stacktrace:",
      " [1] top-level scope at In[36]:11"
     ]
    }
   ],
   "source": [
    "for i in 1:10\n",
    "    Tₓ(m′)\n",
    "#    Tₓ(m′)\n",
    "    T₁(m′)\n",
    "end\n",
    "\n",
    "@show poly(m)\n",
    "Regression = eval(m′.expr)\n",
    "\n",
    "@show poly(m′)\n",
    "fit′, result′ = Regression.main(connector(finalcounts)...)\n",
    "result′"
   ]
  },
  {
   "cell_type": "code",
   "execution_count": 37,
   "metadata": {
    "lines_to_next_cell": 2,
    "slideshow": {
     "slide_type": "skip"
    }
   },
   "outputs": [
    {
     "data": {
      "text/plain": [
       "connector (generic function with 1 method)"
      ]
     },
     "execution_count": 37,
     "metadata": {},
     "output_type": "execute_result"
    }
   ],
   "source": [
    "function connector(finalcounts, i, j)\n",
    "    n = length(finalcounts)\n",
    "    Data = zeros(n,length(finalcounts[1].counts))\n",
    "    params = zeros(n,length(finalcounts[1].params))\n",
    "    @show size(Data)\n",
    "    for i in 1:n\n",
    "        c = finalcounts[i].counts\n",
    "        Data[i, : ] = map(last, c)\n",
    "        params[i,:] = collect(map(float, finalcounts[i].params))\n",
    "    end\n",
    "    X = params[:, i]\n",
    "    Y = Data[:, j]\n",
    "    @assert size(X,1) == size(Y,1)\n",
    "    return X,Y\n",
    "end"
   ]
  },
  {
   "cell_type": "code",
   "execution_count": 38,
   "metadata": {
    "lines_to_next_cell": 2,
    "slideshow": {
     "slide_type": "skip"
    }
   },
   "outputs": [
    {
     "data": {
      "text/plain": [
       "Main.Pipelines.Pipeline(AbstractModel[ExpStateModel(\n",
       "  states=:([:S, :I, :R]),\n",
       "  agents=Expr[:(a = sm.agents), :(a = fill(:S, n))],\n",
       "  transitions=Expr[:(T = Dict(:S => (x...->begin\n",
       "                      #= none:120 =#\n",
       "                      if rand(Float64) < stateload(x[1], :I)\n",
       "                          :I\n",
       "                      else\n",
       "                          :S\n",
       "                      end\n",
       "                  end), :I => (x...->begin\n",
       "                      #= none:121 =#\n",
       "                      if rand(Float64) < ρ\n",
       "                          :I\n",
       "                      else\n",
       "                          :R\n",
       "                      end\n",
       "                  end), :R => (x...->begin\n",
       "                      #= none:122 =#\n",
       "                      if rand(Float64) < μ\n",
       "                          :R\n",
       "                      else\n",
       "                          :S\n",
       "                      end\n",
       "                  end)))]\n",
       "), Lsq(\n",
       "  f=:f,\n",
       "  coefficient=:β,\n",
       "  p₀=:a₀\n",
       ")], Function[##29#31(), ##30#32()], Any[10])"
      ]
     },
     "execution_count": 38,
     "metadata": {},
     "output_type": "execute_result"
    }
   ],
   "source": [
    "P = Pipelines.Pipeline(deepcopy.([magents, mstats]),\n",
    "    [(m, args...) -> begin \n",
    "            Random.seed!(42)\n",
    "            results = Any[]\n",
    "            Mod = eval(m.expr)\n",
    "            @show Mod\n",
    "            for i in 1:samples\n",
    "                r = Base.invokelatest(Mod.main, args...)\n",
    "                push!(results, (model=:basic, counts=r[2],params=r[3]))\n",
    "                #push!(results, r)\n",
    "            end\n",
    "            return [results]\n",
    "                end,\n",
    "        (m, results...) -> begin\n",
    "            data = connector(results..., 1, 4)\n",
    "            Mod = eval(m.expr)\n",
    "            Base.invokelatest(Mod.main, data...) \n",
    "        end\n",
    "        ],\n",
    "        Any[(10)]\n",
    "        )"
   ]
  },
  {
   "cell_type": "code",
   "execution_count": 39,
   "metadata": {
    "lines_to_next_cell": 2,
    "slideshow": {
     "slide_type": "subslide"
    }
   },
   "outputs": [
    {
     "name": "stdout",
     "output_type": "stream",
     "text": [
      "\n",
      "Initial Pipeline\n",
      "----------------\n"
     ]
    },
    {
     "data": {
      "text/plain": [
       "(:([:S, :I, :R]), :((.+)(β[1] .* x .^ 0)))"
      ]
     },
     "execution_count": 39,
     "metadata": {},
     "output_type": "execute_result"
    }
   ],
   "source": [
    "println(\"\\nInitial Pipeline\")\n",
    "println(\"----------------\")\n",
    "P.steps[1].states, poly(P.steps[2])"
   ]
  },
  {
   "cell_type": "code",
   "execution_count": 40,
   "metadata": {
    "lines_to_next_cell": 2,
    "slideshow": {
     "slide_type": "subslide"
    }
   },
   "outputs": [
    {
     "name": "stdout",
     "output_type": "stream",
     "text": [
      "\n",
      "\n",
      "Applying the first pair of transformations\n",
      "------------------------------------------\n",
      "\n",
      "The system states are Any[:(:S), :(:I), :(:R)]\n",
      "\n",
      "Adding un estado de los muertos\n",
      "\n",
      "The system states are Any[:(:S), :(:I), :(:R), :(:D)]\n",
      "\n",
      "There is no resurrection in this model\n",
      "\n",
      "Infected individuals recover or die in one step\n",
      "m[:I] = :(x...->begin\n",
      "          #= In[31]:13 =#\n",
      "          #= In[31]:14 =#\n",
      "          roll = rand()\n",
      "          #= In[31]:15 =#\n",
      "          if roll < ρ\n",
      "              #= In[31]:16 =#\n",
      "              return :R\n",
      "          elseif #= In[31]:17 =# rand(Bool)\n",
      "              #= In[31]:18 =#\n",
      "              return :D\n",
      "          else\n",
      "              #= In[31]:20 =#\n",
      "              return :I\n",
      "          end\n",
      "      end)\n"
     ]
    }
   ],
   "source": [
    "println(\"\\n\\nApplying the first pair of transformations\")\n",
    "println(     \"------------------------------------------\")\n",
    "(addstate! × one(Pow))(P)"
   ]
  },
  {
   "cell_type": "code",
   "execution_count": 41,
   "metadata": {
    "lines_to_next_cell": 2,
    "slideshow": {
     "slide_type": "subslide"
    }
   },
   "outputs": [
    {
     "data": {
      "text/plain": [
       "(:([:S, :I, :R, :D]), :((.+)(β[1] .* x .^ 1)))"
      ]
     },
     "execution_count": 41,
     "metadata": {},
     "output_type": "execute_result"
    }
   ],
   "source": [
    "P.steps[1].states, poly(P.steps[2])"
   ]
  },
  {
   "cell_type": "code",
   "execution_count": 42,
   "metadata": {
    "lines_to_next_cell": 2,
    "slideshow": {
     "slide_type": "subslide"
    }
   },
   "outputs": [
    {
     "name": "stdout",
     "output_type": "stream",
     "text": [
      "\n",
      "\n",
      "Applying the second pair of transformations\n",
      "-------------------------------------------\n",
      "\n",
      "Adding population growth to this model\n",
      "stepr = :(function tick!(sm::StateModel)\n",
      "      #= none:59 =#\n",
      "      sm.loads = map((s->begin\n",
      "                      #= none:59 =#\n",
      "                      stateload(sm, s)\n",
      "                  end), sm.states)\n",
      "      #= none:60 =#\n",
      "      return sm.loads\n",
      "  end)\n",
      "------------------------\n",
      "stepr = :(function tick!(sm::StateModel)\n",
      "      #= none:59 =#\n",
      "      sm.loads = map((s->begin\n",
      "                      #= none:59 =#\n",
      "                      stateload(sm, s)\n",
      "                  end), sm.states)\n",
      "      #= none:60 =#\n",
      "      return sm.loads\n",
      "      push!(sm.agents, :S)\n",
      "  end)\n"
     ]
    }
   ],
   "source": [
    "println(\"\\n\\nApplying the second pair of transformations\")\n",
    "println(    \"-------------------------------------------\")\n",
    "(addgrowth! × T₁)(P)\n",
    "(identity   × Tₓ)(P)\n",
    "(identity   × T₁)(P)\n",
    "(identity   × Tₓ)(P)\n",
    "(identity   × Tₓ)(P)\n",
    "(identity   × T₁)(P)"
   ]
  },
  {
   "cell_type": "code",
   "execution_count": 43,
   "metadata": {
    "lines_to_next_cell": 2,
    "slideshow": {
     "slide_type": "subslide"
    }
   },
   "outputs": [
    {
     "name": "stdout",
     "output_type": "stream",
     "text": [
      "\n",
      "\n",
      "The final model state\n",
      "---------------------\n",
      "function tick!(sm::StateModel)\n",
      "    #= none:59 =#\n",
      "    sm.loads = map((s->begin\n",
      "                    #= none:59 =#\n",
      "                    stateload(sm, s)\n",
      "                end), sm.states)\n",
      "    #= none:60 =#\n",
      "    return sm.loads\n",
      "    push!(sm.agents, :S)\n",
      "end\n"
     ]
    },
    {
     "data": {
      "text/plain": [
       "(:([:S, :I, :R, :D]), :(.+(β[1] .* x .^ 4, β[2] .* x .^ 3, β[3] .* x .^ 2, β[4] .* x .^ 0)))"
      ]
     },
     "execution_count": 43,
     "metadata": {},
     "output_type": "execute_result"
    }
   ],
   "source": [
    "println(\"\\n\\nThe final model state\")\n",
    "println(     \"---------------------\")\n",
    "println(filter(isexpr, findfunc(P.steps[1].expr, :tick!))[end])\n",
    "P.steps[1].states, poly(P.steps[2])"
   ]
  },
  {
   "cell_type": "markdown",
   "metadata": {
    "slideshow": {
     "slide_type": "skip"
    }
   },
   "source": [
    "## Running the new pipeline\n",
    "\n",
    "now that we have transformed the pipeline we run it to build the results"
   ]
  },
  {
   "cell_type": "code",
   "execution_count": 44,
   "metadata": {
    "slideshow": {
     "slide_type": "skip"
    }
   },
   "outputs": [
    {
     "name": "stdout",
     "output_type": "stream",
     "text": [
      "Mod = Main.AgentModels\n",
      "size(Data) = "
     ]
    },
    {
     "name": "stderr",
     "output_type": "stream",
     "text": [
      "WARNING: replacing module AgentModels.\n"
     ]
    },
    {
     "name": "stdout",
     "output_type": "stream",
     "text": [
      "(100, 4)\n"
     ]
    },
    {
     "name": "stderr",
     "output_type": "stream",
     "text": [
      "WARNING: replacing module Regression.\n"
     ]
    }
   ],
   "source": [
    "Pipelines.run!(P)"
   ]
  },
  {
   "cell_type": "code",
   "execution_count": 45,
   "metadata": {
    "slideshow": {
     "slide_type": "skip"
    }
   },
   "outputs": [
    {
     "data": {
      "text/plain": [
       "(β = [-65.4064, 142.05, -91.1202, 14.3129], r = 25.54426623549937, n = 100)"
      ]
     },
     "execution_count": 45,
     "metadata": {},
     "output_type": "execute_result"
    }
   ],
   "source": [
    "#Pipelines.run!(P)\n",
    "P.results[end][2]"
   ]
  },
  {
   "cell_type": "markdown",
   "metadata": {
    "slideshow": {
     "slide_type": "skip"
    }
   },
   "source": [
    "Here is the data we observed when running the first stage of the pipeline, stage two fits a polynomial to these observations"
   ]
  },
  {
   "cell_type": "code",
   "execution_count": 46,
   "metadata": {
    "lines_to_next_cell": 2,
    "slideshow": {
     "slide_type": "skip"
    }
   },
   "outputs": [],
   "source": [
    "table = map(x->(round(x.params.ρ, digits=4), last(x.counts[end])), P.results[2][1]) |> sort\n",
    "try \n",
    "    using Plots\n",
    "catch\n",
    "    @warn \"Plotting is not available, make a table\"\n",
    "    for t in table\n",
    "        println(join(t, \"\\t\"))\n",
    "    end\n",
    "end"
   ]
  },
  {
   "cell_type": "markdown",
   "metadata": {
    "slideshow": {
     "slide_type": "skip"
    }
   },
   "source": [
    "## Results\n",
    "\n",
    "The regression model that we have trained based on the simulated data from the SIRD model with population growth can be presented as a polynomial sampled over the domain. We construct this table to show the nonlinear dependence of the model on the recovery parameter $\\rho$. The best fitting polynomial is shown below."
   ]
  },
  {
   "cell_type": "markdown",
   "metadata": {
    "slideshow": {
     "slide_type": "slide"
    }
   },
   "source": [
    "## Results\n",
    "\n",
    "- The pipeline produces a regression polynomial\n",
    "- This shows the nonlinear dependence of the model on the recovery rate $\\rho$"
   ]
  },
  {
   "cell_type": "code",
   "execution_count": 47,
   "metadata": {
    "slideshow": {
     "slide_type": "skip"
    }
   },
   "outputs": [
    {
     "name": "stdout",
     "output_type": "stream",
     "text": [
      "ρ\tf(ρ,β)\n",
      "==============\n",
      "0.00\t 14.313\n",
      "0.05\t 14.102\n",
      "0.10\t 13.537\n",
      "0.15\t 12.709\n",
      "0.20\t 11.700\n",
      "0.25\t 10.582\n",
      "0.30\t  9.418\n",
      "0.35\t  8.260\n",
      "0.40\t  7.150\n",
      "0.45\t  6.123\n",
      "0.50\t  5.201\n",
      "0.55\t  4.398\n",
      "0.60\t  3.716\n",
      "0.65\t  3.150\n",
      "0.70\t  2.683\n",
      "0.75\t  2.290\n",
      "0.80\t  1.935\n",
      "0.85\t  1.572\n",
      "0.90\t  1.147\n",
      "0.95\t  0.593\n",
      "1.00\t -0.164\n",
      "β: [-65.4064, 142.05, -91.1202, 14.3129]\n",
      ".+(β[1] .* x .^ 4, β[2] .* x .^ 3, β[3] .* x .^ 2, β[4] .* x .^ 0)\n"
     ]
    },
    {
     "data": {
      "image/svg+xml": [
       "<?xml version=\"1.0\" encoding=\"utf-8\"?>\n",
       "<svg xmlns=\"http://www.w3.org/2000/svg\" xmlns:xlink=\"http://www.w3.org/1999/xlink\" width=\"600\" height=\"400\" viewBox=\"0 0 2400 1600\">\n",
       "<defs>\n",
       "  <clipPath id=\"clip5100\">\n",
       "    <rect x=\"0\" y=\"0\" width=\"2400\" height=\"1600\"/>\n",
       "  </clipPath>\n",
       "</defs>\n",
       "<polygon clip-path=\"url(#clip5100)\" points=\"\n",
       "0,1600 2400,1600 2400,0 0,0 \n",
       "  \" fill=\"#ffffff\" fill-rule=\"evenodd\" fill-opacity=\"1\"/>\n",
       "<defs>\n",
       "  <clipPath id=\"clip5101\">\n",
       "    <rect x=\"480\" y=\"0\" width=\"1681\" height=\"1600\"/>\n",
       "  </clipPath>\n",
       "</defs>\n",
       "<polygon clip-path=\"url(#clip5100)\" points=\"\n",
       "211.005,1440.48 2321.26,1440.48 2321.26,47.2441 211.005,47.2441 \n",
       "  \" fill=\"#ffffff\" fill-rule=\"evenodd\" fill-opacity=\"1\"/>\n",
       "<defs>\n",
       "  <clipPath id=\"clip5102\">\n",
       "    <rect x=\"211\" y=\"47\" width=\"2111\" height=\"1394\"/>\n",
       "  </clipPath>\n",
       "</defs>\n",
       "<polyline clip-path=\"url(#clip5102)\" style=\"stroke:#000000; stroke-width:2; stroke-opacity:0.1; fill:none\" points=\"\n",
       "  270.729,1440.48 270.729,47.2441 \n",
       "  \"/>\n",
       "<polyline clip-path=\"url(#clip5102)\" style=\"stroke:#000000; stroke-width:2; stroke-opacity:0.1; fill:none\" points=\"\n",
       "  768.431,1440.48 768.431,47.2441 \n",
       "  \"/>\n",
       "<polyline clip-path=\"url(#clip5102)\" style=\"stroke:#000000; stroke-width:2; stroke-opacity:0.1; fill:none\" points=\"\n",
       "  1266.13,1440.48 1266.13,47.2441 \n",
       "  \"/>\n",
       "<polyline clip-path=\"url(#clip5102)\" style=\"stroke:#000000; stroke-width:2; stroke-opacity:0.1; fill:none\" points=\"\n",
       "  1763.83,1440.48 1763.83,47.2441 \n",
       "  \"/>\n",
       "<polyline clip-path=\"url(#clip5102)\" style=\"stroke:#000000; stroke-width:2; stroke-opacity:0.1; fill:none\" points=\"\n",
       "  2261.54,1440.48 2261.54,47.2441 \n",
       "  \"/>\n",
       "<polyline clip-path=\"url(#clip5102)\" style=\"stroke:#000000; stroke-width:2; stroke-opacity:0.1; fill:none\" points=\"\n",
       "  211.005,1390.36 2321.26,1390.36 \n",
       "  \"/>\n",
       "<polyline clip-path=\"url(#clip5102)\" style=\"stroke:#000000; stroke-width:2; stroke-opacity:0.1; fill:none\" points=\"\n",
       "  211.005,1064.44 2321.26,1064.44 \n",
       "  \"/>\n",
       "<polyline clip-path=\"url(#clip5102)\" style=\"stroke:#000000; stroke-width:2; stroke-opacity:0.1; fill:none\" points=\"\n",
       "  211.005,738.519 2321.26,738.519 \n",
       "  \"/>\n",
       "<polyline clip-path=\"url(#clip5102)\" style=\"stroke:#000000; stroke-width:2; stroke-opacity:0.1; fill:none\" points=\"\n",
       "  211.005,412.597 2321.26,412.597 \n",
       "  \"/>\n",
       "<polyline clip-path=\"url(#clip5102)\" style=\"stroke:#000000; stroke-width:2; stroke-opacity:0.1; fill:none\" points=\"\n",
       "  211.005,86.6754 2321.26,86.6754 \n",
       "  \"/>\n",
       "<polyline clip-path=\"url(#clip5100)\" style=\"stroke:#000000; stroke-width:4; stroke-opacity:1; fill:none\" points=\"\n",
       "  211.005,1440.48 2321.26,1440.48 \n",
       "  \"/>\n",
       "<polyline clip-path=\"url(#clip5100)\" style=\"stroke:#000000; stroke-width:4; stroke-opacity:1; fill:none\" points=\"\n",
       "  211.005,1440.48 211.005,47.2441 \n",
       "  \"/>\n",
       "<polyline clip-path=\"url(#clip5100)\" style=\"stroke:#000000; stroke-width:4; stroke-opacity:1; fill:none\" points=\"\n",
       "  270.729,1440.48 270.729,1419.58 \n",
       "  \"/>\n",
       "<polyline clip-path=\"url(#clip5100)\" style=\"stroke:#000000; stroke-width:4; stroke-opacity:1; fill:none\" points=\"\n",
       "  768.431,1440.48 768.431,1419.58 \n",
       "  \"/>\n",
       "<polyline clip-path=\"url(#clip5100)\" style=\"stroke:#000000; stroke-width:4; stroke-opacity:1; fill:none\" points=\"\n",
       "  1266.13,1440.48 1266.13,1419.58 \n",
       "  \"/>\n",
       "<polyline clip-path=\"url(#clip5100)\" style=\"stroke:#000000; stroke-width:4; stroke-opacity:1; fill:none\" points=\"\n",
       "  1763.83,1440.48 1763.83,1419.58 \n",
       "  \"/>\n",
       "<polyline clip-path=\"url(#clip5100)\" style=\"stroke:#000000; stroke-width:4; stroke-opacity:1; fill:none\" points=\"\n",
       "  2261.54,1440.48 2261.54,1419.58 \n",
       "  \"/>\n",
       "<polyline clip-path=\"url(#clip5100)\" style=\"stroke:#000000; stroke-width:4; stroke-opacity:1; fill:none\" points=\"\n",
       "  211.005,1390.36 242.659,1390.36 \n",
       "  \"/>\n",
       "<polyline clip-path=\"url(#clip5100)\" style=\"stroke:#000000; stroke-width:4; stroke-opacity:1; fill:none\" points=\"\n",
       "  211.005,1064.44 242.659,1064.44 \n",
       "  \"/>\n",
       "<polyline clip-path=\"url(#clip5100)\" style=\"stroke:#000000; stroke-width:4; stroke-opacity:1; fill:none\" points=\"\n",
       "  211.005,738.519 242.659,738.519 \n",
       "  \"/>\n",
       "<polyline clip-path=\"url(#clip5100)\" style=\"stroke:#000000; stroke-width:4; stroke-opacity:1; fill:none\" points=\"\n",
       "  211.005,412.597 242.659,412.597 \n",
       "  \"/>\n",
       "<polyline clip-path=\"url(#clip5100)\" style=\"stroke:#000000; stroke-width:4; stroke-opacity:1; fill:none\" points=\"\n",
       "  211.005,86.6754 242.659,86.6754 \n",
       "  \"/>\n",
       "<g clip-path=\"url(#clip5100)\">\n",
       "<text style=\"fill:#000000; fill-opacity:1; font-family:Arial,Helvetica Neue,Helvetica,sans-serif; font-size:48px; text-anchor:middle;\" transform=\"rotate(0, 270.729, 1494.48)\" x=\"270.729\" y=\"1494.48\">0.00</text>\n",
       "</g>\n",
       "<g clip-path=\"url(#clip5100)\">\n",
       "<text style=\"fill:#000000; fill-opacity:1; font-family:Arial,Helvetica Neue,Helvetica,sans-serif; font-size:48px; text-anchor:middle;\" transform=\"rotate(0, 768.431, 1494.48)\" x=\"768.431\" y=\"1494.48\">0.25</text>\n",
       "</g>\n",
       "<g clip-path=\"url(#clip5100)\">\n",
       "<text style=\"fill:#000000; fill-opacity:1; font-family:Arial,Helvetica Neue,Helvetica,sans-serif; font-size:48px; text-anchor:middle;\" transform=\"rotate(0, 1266.13, 1494.48)\" x=\"1266.13\" y=\"1494.48\">0.50</text>\n",
       "</g>\n",
       "<g clip-path=\"url(#clip5100)\">\n",
       "<text style=\"fill:#000000; fill-opacity:1; font-family:Arial,Helvetica Neue,Helvetica,sans-serif; font-size:48px; text-anchor:middle;\" transform=\"rotate(0, 1763.83, 1494.48)\" x=\"1763.83\" y=\"1494.48\">0.75</text>\n",
       "</g>\n",
       "<g clip-path=\"url(#clip5100)\">\n",
       "<text style=\"fill:#000000; fill-opacity:1; font-family:Arial,Helvetica Neue,Helvetica,sans-serif; font-size:48px; text-anchor:middle;\" transform=\"rotate(0, 2261.54, 1494.48)\" x=\"2261.54\" y=\"1494.48\">1.00</text>\n",
       "</g>\n",
       "<g clip-path=\"url(#clip5100)\">\n",
       "<text style=\"fill:#000000; fill-opacity:1; font-family:Arial,Helvetica Neue,Helvetica,sans-serif; font-size:48px; text-anchor:end;\" transform=\"rotate(0, 187.005, 1407.86)\" x=\"187.005\" y=\"1407.86\">0</text>\n",
       "</g>\n",
       "<g clip-path=\"url(#clip5100)\">\n",
       "<text style=\"fill:#000000; fill-opacity:1; font-family:Arial,Helvetica Neue,Helvetica,sans-serif; font-size:48px; text-anchor:end;\" transform=\"rotate(0, 187.005, 1081.94)\" x=\"187.005\" y=\"1081.94\">5</text>\n",
       "</g>\n",
       "<g clip-path=\"url(#clip5100)\">\n",
       "<text style=\"fill:#000000; fill-opacity:1; font-family:Arial,Helvetica Neue,Helvetica,sans-serif; font-size:48px; text-anchor:end;\" transform=\"rotate(0, 187.005, 756.019)\" x=\"187.005\" y=\"756.019\">10</text>\n",
       "</g>\n",
       "<g clip-path=\"url(#clip5100)\">\n",
       "<text style=\"fill:#000000; fill-opacity:1; font-family:Arial,Helvetica Neue,Helvetica,sans-serif; font-size:48px; text-anchor:end;\" transform=\"rotate(0, 187.005, 430.097)\" x=\"187.005\" y=\"430.097\">15</text>\n",
       "</g>\n",
       "<g clip-path=\"url(#clip5100)\">\n",
       "<text style=\"fill:#000000; fill-opacity:1; font-family:Arial,Helvetica Neue,Helvetica,sans-serif; font-size:48px; text-anchor:end;\" transform=\"rotate(0, 187.005, 104.175)\" x=\"187.005\" y=\"104.175\">20</text>\n",
       "</g>\n",
       "<g clip-path=\"url(#clip5100)\">\n",
       "<text style=\"fill:#000000; fill-opacity:1; font-family:Arial,Helvetica Neue,Helvetica,sans-serif; font-size:66px; text-anchor:middle;\" transform=\"rotate(0, 1266.13, 1590.4)\" x=\"1266.13\" y=\"1590.4\">Probability of Recovery</text>\n",
       "</g>\n",
       "<g clip-path=\"url(#clip5100)\">\n",
       "<text style=\"fill:#000000; fill-opacity:1; font-family:Arial,Helvetica Neue,Helvetica,sans-serif; font-size:66px; text-anchor:middle;\" transform=\"rotate(-90, 57.6, 743.863)\" x=\"57.6\" y=\"743.863\">Deaths</text>\n",
       "</g>\n",
       "<circle clip-path=\"url(#clip5102)\" style=\"fill:#000000; stroke:none; fill-opacity:1\" cx=\"270.729\" cy=\"1064.44\" r=\"18\"/>\n",
       "<circle clip-path=\"url(#clip5102)\" style=\"fill:#009af9; stroke:none; fill-opacity:1\" cx=\"270.729\" cy=\"1064.44\" r=\"14\"/>\n",
       "<circle clip-path=\"url(#clip5102)\" style=\"fill:#000000; stroke:none; fill-opacity:1\" cx=\"270.729\" cy=\"86.6754\" r=\"18\"/>\n",
       "<circle clip-path=\"url(#clip5102)\" style=\"fill:#009af9; stroke:none; fill-opacity:1\" cx=\"270.729\" cy=\"86.6754\" r=\"14\"/>\n",
       "<circle clip-path=\"url(#clip5102)\" style=\"fill:#000000; stroke:none; fill-opacity:1\" cx=\"317.911\" cy=\"151.86\" r=\"18\"/>\n",
       "<circle clip-path=\"url(#clip5102)\" style=\"fill:#009af9; stroke:none; fill-opacity:1\" cx=\"317.911\" cy=\"151.86\" r=\"14\"/>\n",
       "<circle clip-path=\"url(#clip5102)\" style=\"fill:#000000; stroke:none; fill-opacity:1\" cx=\"457.069\" cy=\"999.257\" r=\"18\"/>\n",
       "<circle clip-path=\"url(#clip5102)\" style=\"fill:#009af9; stroke:none; fill-opacity:1\" cx=\"457.069\" cy=\"999.257\" r=\"14\"/>\n",
       "<circle clip-path=\"url(#clip5102)\" style=\"fill:#000000; stroke:none; fill-opacity:1\" cx=\"465.032\" cy=\"477.782\" r=\"18\"/>\n",
       "<circle clip-path=\"url(#clip5102)\" style=\"fill:#009af9; stroke:none; fill-opacity:1\" cx=\"465.032\" cy=\"477.782\" r=\"14\"/>\n",
       "<circle clip-path=\"url(#clip5102)\" style=\"fill:#000000; stroke:none; fill-opacity:1\" cx=\"469.014\" cy=\"151.86\" r=\"18\"/>\n",
       "<circle clip-path=\"url(#clip5102)\" style=\"fill:#009af9; stroke:none; fill-opacity:1\" cx=\"469.014\" cy=\"151.86\" r=\"14\"/>\n",
       "<circle clip-path=\"url(#clip5102)\" style=\"fill:#000000; stroke:none; fill-opacity:1\" cx=\"547.65\" cy=\"542.966\" r=\"18\"/>\n",
       "<circle clip-path=\"url(#clip5102)\" style=\"fill:#009af9; stroke:none; fill-opacity:1\" cx=\"547.65\" cy=\"542.966\" r=\"14\"/>\n",
       "<circle clip-path=\"url(#clip5102)\" style=\"fill:#000000; stroke:none; fill-opacity:1\" cx=\"570.545\" cy=\"477.782\" r=\"18\"/>\n",
       "<circle clip-path=\"url(#clip5102)\" style=\"fill:#009af9; stroke:none; fill-opacity:1\" cx=\"570.545\" cy=\"477.782\" r=\"14\"/>\n",
       "<circle clip-path=\"url(#clip5102)\" style=\"fill:#000000; stroke:none; fill-opacity:1\" cx=\"572.535\" cy=\"477.782\" r=\"18\"/>\n",
       "<circle clip-path=\"url(#clip5102)\" style=\"fill:#009af9; stroke:none; fill-opacity:1\" cx=\"572.535\" cy=\"477.782\" r=\"14\"/>\n",
       "<circle clip-path=\"url(#clip5102)\" style=\"fill:#000000; stroke:none; fill-opacity:1\" cx=\"595.629\" cy=\"282.229\" r=\"18\"/>\n",
       "<circle clip-path=\"url(#clip5102)\" style=\"fill:#009af9; stroke:none; fill-opacity:1\" cx=\"595.629\" cy=\"282.229\" r=\"14\"/>\n",
       "<circle clip-path=\"url(#clip5102)\" style=\"fill:#000000; stroke:none; fill-opacity:1\" cx=\"613.745\" cy=\"1129.63\" r=\"18\"/>\n",
       "<circle clip-path=\"url(#clip5102)\" style=\"fill:#009af9; stroke:none; fill-opacity:1\" cx=\"613.745\" cy=\"1129.63\" r=\"14\"/>\n",
       "<circle clip-path=\"url(#clip5102)\" style=\"fill:#000000; stroke:none; fill-opacity:1\" cx=\"619.518\" cy=\"673.335\" r=\"18\"/>\n",
       "<circle clip-path=\"url(#clip5102)\" style=\"fill:#009af9; stroke:none; fill-opacity:1\" cx=\"619.518\" cy=\"673.335\" r=\"14\"/>\n",
       "<circle clip-path=\"url(#clip5102)\" style=\"fill:#000000; stroke:none; fill-opacity:1\" cx=\"690.789\" cy=\"542.966\" r=\"18\"/>\n",
       "<circle clip-path=\"url(#clip5102)\" style=\"fill:#009af9; stroke:none; fill-opacity:1\" cx=\"690.789\" cy=\"542.966\" r=\"14\"/>\n",
       "<circle clip-path=\"url(#clip5102)\" style=\"fill:#000000; stroke:none; fill-opacity:1\" cx=\"718.86\" cy=\"608.151\" r=\"18\"/>\n",
       "<circle clip-path=\"url(#clip5102)\" style=\"fill:#009af9; stroke:none; fill-opacity:1\" cx=\"718.86\" cy=\"608.151\" r=\"14\"/>\n",
       "<circle clip-path=\"url(#clip5102)\" style=\"fill:#000000; stroke:none; fill-opacity:1\" cx=\"730.008\" cy=\"608.151\" r=\"18\"/>\n",
       "<circle clip-path=\"url(#clip5102)\" style=\"fill:#009af9; stroke:none; fill-opacity:1\" cx=\"730.008\" cy=\"608.151\" r=\"14\"/>\n",
       "<circle clip-path=\"url(#clip5102)\" style=\"fill:#000000; stroke:none; fill-opacity:1\" cx=\"743.745\" cy=\"673.335\" r=\"18\"/>\n",
       "<circle clip-path=\"url(#clip5102)\" style=\"fill:#009af9; stroke:none; fill-opacity:1\" cx=\"743.745\" cy=\"673.335\" r=\"14\"/>\n",
       "<circle clip-path=\"url(#clip5102)\" style=\"fill:#000000; stroke:none; fill-opacity:1\" cx=\"811.233\" cy=\"477.782\" r=\"18\"/>\n",
       "<circle clip-path=\"url(#clip5102)\" style=\"fill:#009af9; stroke:none; fill-opacity:1\" cx=\"811.233\" cy=\"477.782\" r=\"14\"/>\n",
       "<circle clip-path=\"url(#clip5102)\" style=\"fill:#000000; stroke:none; fill-opacity:1\" cx=\"813.224\" cy=\"738.519\" r=\"18\"/>\n",
       "<circle clip-path=\"url(#clip5102)\" style=\"fill:#009af9; stroke:none; fill-opacity:1\" cx=\"813.224\" cy=\"738.519\" r=\"14\"/>\n",
       "<circle clip-path=\"url(#clip5102)\" style=\"fill:#000000; stroke:none; fill-opacity:1\" cx=\"825.766\" cy=\"868.888\" r=\"18\"/>\n",
       "<circle clip-path=\"url(#clip5102)\" style=\"fill:#009af9; stroke:none; fill-opacity:1\" cx=\"825.766\" cy=\"868.888\" r=\"14\"/>\n",
       "<circle clip-path=\"url(#clip5102)\" style=\"fill:#000000; stroke:none; fill-opacity:1\" cx=\"831.34\" cy=\"868.888\" r=\"18\"/>\n",
       "<circle clip-path=\"url(#clip5102)\" style=\"fill:#009af9; stroke:none; fill-opacity:1\" cx=\"831.34\" cy=\"868.888\" r=\"14\"/>\n",
       "<circle clip-path=\"url(#clip5102)\" style=\"fill:#000000; stroke:none; fill-opacity:1\" cx=\"840.697\" cy=\"477.782\" r=\"18\"/>\n",
       "<circle clip-path=\"url(#clip5102)\" style=\"fill:#009af9; stroke:none; fill-opacity:1\" cx=\"840.697\" cy=\"477.782\" r=\"14\"/>\n",
       "<circle clip-path=\"url(#clip5102)\" style=\"fill:#000000; stroke:none; fill-opacity:1\" cx=\"842.091\" cy=\"803.704\" r=\"18\"/>\n",
       "<circle clip-path=\"url(#clip5102)\" style=\"fill:#009af9; stroke:none; fill-opacity:1\" cx=\"842.091\" cy=\"803.704\" r=\"14\"/>\n",
       "<circle clip-path=\"url(#clip5102)\" style=\"fill:#000000; stroke:none; fill-opacity:1\" cx=\"847.665\" cy=\"673.335\" r=\"18\"/>\n",
       "<circle clip-path=\"url(#clip5102)\" style=\"fill:#009af9; stroke:none; fill-opacity:1\" cx=\"847.665\" cy=\"673.335\" r=\"14\"/>\n",
       "<circle clip-path=\"url(#clip5102)\" style=\"fill:#000000; stroke:none; fill-opacity:1\" cx=\"861.999\" cy=\"673.335\" r=\"18\"/>\n",
       "<circle clip-path=\"url(#clip5102)\" style=\"fill:#009af9; stroke:none; fill-opacity:1\" cx=\"861.999\" cy=\"673.335\" r=\"14\"/>\n",
       "<circle clip-path=\"url(#clip5102)\" style=\"fill:#000000; stroke:none; fill-opacity:1\" cx=\"867.573\" cy=\"868.888\" r=\"18\"/>\n",
       "<circle clip-path=\"url(#clip5102)\" style=\"fill:#009af9; stroke:none; fill-opacity:1\" cx=\"867.573\" cy=\"868.888\" r=\"14\"/>\n",
       "<circle clip-path=\"url(#clip5102)\" style=\"fill:#000000; stroke:none; fill-opacity:1\" cx=\"871.754\" cy=\"608.151\" r=\"18\"/>\n",
       "<circle clip-path=\"url(#clip5102)\" style=\"fill:#009af9; stroke:none; fill-opacity:1\" cx=\"871.754\" cy=\"608.151\" r=\"14\"/>\n",
       "<circle clip-path=\"url(#clip5102)\" style=\"fill:#000000; stroke:none; fill-opacity:1\" cx=\"876.133\" cy=\"868.888\" r=\"18\"/>\n",
       "<circle clip-path=\"url(#clip5102)\" style=\"fill:#009af9; stroke:none; fill-opacity:1\" cx=\"876.133\" cy=\"868.888\" r=\"14\"/>\n",
       "<circle clip-path=\"url(#clip5102)\" style=\"fill:#000000; stroke:none; fill-opacity:1\" cx=\"882.902\" cy=\"803.704\" r=\"18\"/>\n",
       "<circle clip-path=\"url(#clip5102)\" style=\"fill:#009af9; stroke:none; fill-opacity:1\" cx=\"882.902\" cy=\"803.704\" r=\"14\"/>\n",
       "<circle clip-path=\"url(#clip5102)\" style=\"fill:#000000; stroke:none; fill-opacity:1\" cx=\"928.492\" cy=\"738.519\" r=\"18\"/>\n",
       "<circle clip-path=\"url(#clip5102)\" style=\"fill:#009af9; stroke:none; fill-opacity:1\" cx=\"928.492\" cy=\"738.519\" r=\"14\"/>\n",
       "<circle clip-path=\"url(#clip5102)\" style=\"fill:#000000; stroke:none; fill-opacity:1\" cx=\"948.997\" cy=\"1064.44\" r=\"18\"/>\n",
       "<circle clip-path=\"url(#clip5102)\" style=\"fill:#009af9; stroke:none; fill-opacity:1\" cx=\"948.997\" cy=\"1064.44\" r=\"14\"/>\n",
       "<circle clip-path=\"url(#clip5102)\" style=\"fill:#000000; stroke:none; fill-opacity:1\" cx=\"963.928\" cy=\"934.073\" r=\"18\"/>\n",
       "<circle clip-path=\"url(#clip5102)\" style=\"fill:#009af9; stroke:none; fill-opacity:1\" cx=\"963.928\" cy=\"934.073\" r=\"14\"/>\n",
       "<circle clip-path=\"url(#clip5102)\" style=\"fill:#000000; stroke:none; fill-opacity:1\" cx=\"978.66\" cy=\"1129.63\" r=\"18\"/>\n",
       "<circle clip-path=\"url(#clip5102)\" style=\"fill:#009af9; stroke:none; fill-opacity:1\" cx=\"978.66\" cy=\"1129.63\" r=\"14\"/>\n",
       "<circle clip-path=\"url(#clip5102)\" style=\"fill:#000000; stroke:none; fill-opacity:1\" cx=\"980.452\" cy=\"803.704\" r=\"18\"/>\n",
       "<circle clip-path=\"url(#clip5102)\" style=\"fill:#009af9; stroke:none; fill-opacity:1\" cx=\"980.452\" cy=\"803.704\" r=\"14\"/>\n",
       "<circle clip-path=\"url(#clip5102)\" style=\"fill:#000000; stroke:none; fill-opacity:1\" cx=\"989.41\" cy=\"803.704\" r=\"18\"/>\n",
       "<circle clip-path=\"url(#clip5102)\" style=\"fill:#009af9; stroke:none; fill-opacity:1\" cx=\"989.41\" cy=\"803.704\" r=\"14\"/>\n",
       "<circle clip-path=\"url(#clip5102)\" style=\"fill:#000000; stroke:none; fill-opacity:1\" cx=\"1005.14\" cy=\"1259.99\" r=\"18\"/>\n",
       "<circle clip-path=\"url(#clip5102)\" style=\"fill:#009af9; stroke:none; fill-opacity:1\" cx=\"1005.14\" cy=\"1259.99\" r=\"14\"/>\n",
       "<circle clip-path=\"url(#clip5102)\" style=\"fill:#000000; stroke:none; fill-opacity:1\" cx=\"1007.73\" cy=\"999.257\" r=\"18\"/>\n",
       "<circle clip-path=\"url(#clip5102)\" style=\"fill:#009af9; stroke:none; fill-opacity:1\" cx=\"1007.73\" cy=\"999.257\" r=\"14\"/>\n",
       "<circle clip-path=\"url(#clip5102)\" style=\"fill:#000000; stroke:none; fill-opacity:1\" cx=\"1011.31\" cy=\"999.257\" r=\"18\"/>\n",
       "<circle clip-path=\"url(#clip5102)\" style=\"fill:#009af9; stroke:none; fill-opacity:1\" cx=\"1011.31\" cy=\"999.257\" r=\"14\"/>\n",
       "<circle clip-path=\"url(#clip5102)\" style=\"fill:#000000; stroke:none; fill-opacity:1\" cx=\"1017.68\" cy=\"999.257\" r=\"18\"/>\n",
       "<circle clip-path=\"url(#clip5102)\" style=\"fill:#009af9; stroke:none; fill-opacity:1\" cx=\"1017.68\" cy=\"999.257\" r=\"14\"/>\n",
       "<circle clip-path=\"url(#clip5102)\" style=\"fill:#000000; stroke:none; fill-opacity:1\" cx=\"1033.21\" cy=\"803.704\" r=\"18\"/>\n",
       "<circle clip-path=\"url(#clip5102)\" style=\"fill:#009af9; stroke:none; fill-opacity:1\" cx=\"1033.21\" cy=\"803.704\" r=\"14\"/>\n",
       "<circle clip-path=\"url(#clip5102)\" style=\"fill:#000000; stroke:none; fill-opacity:1\" cx=\"1070.44\" cy=\"1064.44\" r=\"18\"/>\n",
       "<circle clip-path=\"url(#clip5102)\" style=\"fill:#009af9; stroke:none; fill-opacity:1\" cx=\"1070.44\" cy=\"1064.44\" r=\"14\"/>\n",
       "<circle clip-path=\"url(#clip5102)\" style=\"fill:#000000; stroke:none; fill-opacity:1\" cx=\"1129.76\" cy=\"738.519\" r=\"18\"/>\n",
       "<circle clip-path=\"url(#clip5102)\" style=\"fill:#009af9; stroke:none; fill-opacity:1\" cx=\"1129.76\" cy=\"738.519\" r=\"14\"/>\n",
       "<circle clip-path=\"url(#clip5102)\" style=\"fill:#000000; stroke:none; fill-opacity:1\" cx=\"1140.91\" cy=\"934.073\" r=\"18\"/>\n",
       "<circle clip-path=\"url(#clip5102)\" style=\"fill:#009af9; stroke:none; fill-opacity:1\" cx=\"1140.91\" cy=\"934.073\" r=\"14\"/>\n",
       "<circle clip-path=\"url(#clip5102)\" style=\"fill:#000000; stroke:none; fill-opacity:1\" cx=\"1141.91\" cy=\"934.073\" r=\"18\"/>\n",
       "<circle clip-path=\"url(#clip5102)\" style=\"fill:#009af9; stroke:none; fill-opacity:1\" cx=\"1141.91\" cy=\"934.073\" r=\"14\"/>\n",
       "<circle clip-path=\"url(#clip5102)\" style=\"fill:#000000; stroke:none; fill-opacity:1\" cx=\"1165.2\" cy=\"934.073\" r=\"18\"/>\n",
       "<circle clip-path=\"url(#clip5102)\" style=\"fill:#009af9; stroke:none; fill-opacity:1\" cx=\"1165.2\" cy=\"934.073\" r=\"14\"/>\n",
       "<circle clip-path=\"url(#clip5102)\" style=\"fill:#000000; stroke:none; fill-opacity:1\" cx=\"1170.97\" cy=\"738.519\" r=\"18\"/>\n",
       "<circle clip-path=\"url(#clip5102)\" style=\"fill:#009af9; stroke:none; fill-opacity:1\" cx=\"1170.97\" cy=\"738.519\" r=\"14\"/>\n",
       "<circle clip-path=\"url(#clip5102)\" style=\"fill:#000000; stroke:none; fill-opacity:1\" cx=\"1181.12\" cy=\"934.073\" r=\"18\"/>\n",
       "<circle clip-path=\"url(#clip5102)\" style=\"fill:#009af9; stroke:none; fill-opacity:1\" cx=\"1181.12\" cy=\"934.073\" r=\"14\"/>\n",
       "<circle clip-path=\"url(#clip5102)\" style=\"fill:#000000; stroke:none; fill-opacity:1\" cx=\"1183.31\" cy=\"999.257\" r=\"18\"/>\n",
       "<circle clip-path=\"url(#clip5102)\" style=\"fill:#009af9; stroke:none; fill-opacity:1\" cx=\"1183.31\" cy=\"999.257\" r=\"14\"/>\n",
       "<circle clip-path=\"url(#clip5102)\" style=\"fill:#000000; stroke:none; fill-opacity:1\" cx=\"1184.31\" cy=\"999.257\" r=\"18\"/>\n",
       "<circle clip-path=\"url(#clip5102)\" style=\"fill:#009af9; stroke:none; fill-opacity:1\" cx=\"1184.31\" cy=\"999.257\" r=\"14\"/>\n",
       "<circle clip-path=\"url(#clip5102)\" style=\"fill:#000000; stroke:none; fill-opacity:1\" cx=\"1257.77\" cy=\"999.257\" r=\"18\"/>\n",
       "<circle clip-path=\"url(#clip5102)\" style=\"fill:#009af9; stroke:none; fill-opacity:1\" cx=\"1257.77\" cy=\"999.257\" r=\"14\"/>\n",
       "<circle clip-path=\"url(#clip5102)\" style=\"fill:#000000; stroke:none; fill-opacity:1\" cx=\"1272.7\" cy=\"999.257\" r=\"18\"/>\n",
       "<circle clip-path=\"url(#clip5102)\" style=\"fill:#009af9; stroke:none; fill-opacity:1\" cx=\"1272.7\" cy=\"999.257\" r=\"14\"/>\n",
       "<circle clip-path=\"url(#clip5102)\" style=\"fill:#000000; stroke:none; fill-opacity:1\" cx=\"1278.08\" cy=\"999.257\" r=\"18\"/>\n",
       "<circle clip-path=\"url(#clip5102)\" style=\"fill:#009af9; stroke:none; fill-opacity:1\" cx=\"1278.08\" cy=\"999.257\" r=\"14\"/>\n",
       "<circle clip-path=\"url(#clip5102)\" style=\"fill:#000000; stroke:none; fill-opacity:1\" cx=\"1292.21\" cy=\"1259.99\" r=\"18\"/>\n",
       "<circle clip-path=\"url(#clip5102)\" style=\"fill:#009af9; stroke:none; fill-opacity:1\" cx=\"1292.21\" cy=\"1259.99\" r=\"14\"/>\n",
       "<circle clip-path=\"url(#clip5102)\" style=\"fill:#000000; stroke:none; fill-opacity:1\" cx=\"1293.41\" cy=\"1129.63\" r=\"18\"/>\n",
       "<circle clip-path=\"url(#clip5102)\" style=\"fill:#009af9; stroke:none; fill-opacity:1\" cx=\"1293.41\" cy=\"1129.63\" r=\"14\"/>\n",
       "<circle clip-path=\"url(#clip5102)\" style=\"fill:#000000; stroke:none; fill-opacity:1\" cx=\"1296.79\" cy=\"999.257\" r=\"18\"/>\n",
       "<circle clip-path=\"url(#clip5102)\" style=\"fill:#009af9; stroke:none; fill-opacity:1\" cx=\"1296.79\" cy=\"999.257\" r=\"14\"/>\n",
       "<circle clip-path=\"url(#clip5102)\" style=\"fill:#000000; stroke:none; fill-opacity:1\" cx=\"1300.37\" cy=\"934.073\" r=\"18\"/>\n",
       "<circle clip-path=\"url(#clip5102)\" style=\"fill:#009af9; stroke:none; fill-opacity:1\" cx=\"1300.37\" cy=\"934.073\" r=\"14\"/>\n",
       "<circle clip-path=\"url(#clip5102)\" style=\"fill:#000000; stroke:none; fill-opacity:1\" cx=\"1300.77\" cy=\"934.073\" r=\"18\"/>\n",
       "<circle clip-path=\"url(#clip5102)\" style=\"fill:#009af9; stroke:none; fill-opacity:1\" cx=\"1300.77\" cy=\"934.073\" r=\"14\"/>\n",
       "<circle clip-path=\"url(#clip5102)\" style=\"fill:#000000; stroke:none; fill-opacity:1\" cx=\"1323.07\" cy=\"1194.81\" r=\"18\"/>\n",
       "<circle clip-path=\"url(#clip5102)\" style=\"fill:#009af9; stroke:none; fill-opacity:1\" cx=\"1323.07\" cy=\"1194.81\" r=\"14\"/>\n",
       "<circle clip-path=\"url(#clip5102)\" style=\"fill:#000000; stroke:none; fill-opacity:1\" cx=\"1326.85\" cy=\"999.257\" r=\"18\"/>\n",
       "<circle clip-path=\"url(#clip5102)\" style=\"fill:#009af9; stroke:none; fill-opacity:1\" cx=\"1326.85\" cy=\"999.257\" r=\"14\"/>\n",
       "<circle clip-path=\"url(#clip5102)\" style=\"fill:#000000; stroke:none; fill-opacity:1\" cx=\"1335.01\" cy=\"738.519\" r=\"18\"/>\n",
       "<circle clip-path=\"url(#clip5102)\" style=\"fill:#009af9; stroke:none; fill-opacity:1\" cx=\"1335.01\" cy=\"738.519\" r=\"14\"/>\n",
       "<circle clip-path=\"url(#clip5102)\" style=\"fill:#000000; stroke:none; fill-opacity:1\" cx=\"1359.3\" cy=\"1194.81\" r=\"18\"/>\n",
       "<circle clip-path=\"url(#clip5102)\" style=\"fill:#009af9; stroke:none; fill-opacity:1\" cx=\"1359.3\" cy=\"1194.81\" r=\"14\"/>\n",
       "<circle clip-path=\"url(#clip5102)\" style=\"fill:#000000; stroke:none; fill-opacity:1\" cx=\"1365.27\" cy=\"1064.44\" r=\"18\"/>\n",
       "<circle clip-path=\"url(#clip5102)\" style=\"fill:#009af9; stroke:none; fill-opacity:1\" cx=\"1365.27\" cy=\"1064.44\" r=\"14\"/>\n",
       "<circle clip-path=\"url(#clip5102)\" style=\"fill:#000000; stroke:none; fill-opacity:1\" cx=\"1384.59\" cy=\"1194.81\" r=\"18\"/>\n",
       "<circle clip-path=\"url(#clip5102)\" style=\"fill:#009af9; stroke:none; fill-opacity:1\" cx=\"1384.59\" cy=\"1194.81\" r=\"14\"/>\n",
       "<circle clip-path=\"url(#clip5102)\" style=\"fill:#000000; stroke:none; fill-opacity:1\" cx=\"1401.11\" cy=\"1259.99\" r=\"18\"/>\n",
       "<circle clip-path=\"url(#clip5102)\" style=\"fill:#009af9; stroke:none; fill-opacity:1\" cx=\"1401.11\" cy=\"1259.99\" r=\"14\"/>\n",
       "<circle clip-path=\"url(#clip5102)\" style=\"fill:#000000; stroke:none; fill-opacity:1\" cx=\"1409.27\" cy=\"1194.81\" r=\"18\"/>\n",
       "<circle clip-path=\"url(#clip5102)\" style=\"fill:#009af9; stroke:none; fill-opacity:1\" cx=\"1409.27\" cy=\"1194.81\" r=\"14\"/>\n",
       "<circle clip-path=\"url(#clip5102)\" style=\"fill:#000000; stroke:none; fill-opacity:1\" cx=\"1410.66\" cy=\"1129.63\" r=\"18\"/>\n",
       "<circle clip-path=\"url(#clip5102)\" style=\"fill:#009af9; stroke:none; fill-opacity:1\" cx=\"1410.66\" cy=\"1129.63\" r=\"14\"/>\n",
       "<circle clip-path=\"url(#clip5102)\" style=\"fill:#000000; stroke:none; fill-opacity:1\" cx=\"1460.24\" cy=\"999.257\" r=\"18\"/>\n",
       "<circle clip-path=\"url(#clip5102)\" style=\"fill:#009af9; stroke:none; fill-opacity:1\" cx=\"1460.24\" cy=\"999.257\" r=\"14\"/>\n",
       "<circle clip-path=\"url(#clip5102)\" style=\"fill:#000000; stroke:none; fill-opacity:1\" cx=\"1491.49\" cy=\"1194.81\" r=\"18\"/>\n",
       "<circle clip-path=\"url(#clip5102)\" style=\"fill:#009af9; stroke:none; fill-opacity:1\" cx=\"1491.49\" cy=\"1194.81\" r=\"14\"/>\n",
       "<circle clip-path=\"url(#clip5102)\" style=\"fill:#000000; stroke:none; fill-opacity:1\" cx=\"1500.05\" cy=\"1390.36\" r=\"18\"/>\n",
       "<circle clip-path=\"url(#clip5102)\" style=\"fill:#009af9; stroke:none; fill-opacity:1\" cx=\"1500.05\" cy=\"1390.36\" r=\"14\"/>\n",
       "<circle clip-path=\"url(#clip5102)\" style=\"fill:#000000; stroke:none; fill-opacity:1\" cx=\"1509.61\" cy=\"1194.81\" r=\"18\"/>\n",
       "<circle clip-path=\"url(#clip5102)\" style=\"fill:#009af9; stroke:none; fill-opacity:1\" cx=\"1509.61\" cy=\"1194.81\" r=\"14\"/>\n",
       "<circle clip-path=\"url(#clip5102)\" style=\"fill:#000000; stroke:none; fill-opacity:1\" cx=\"1517.17\" cy=\"1259.99\" r=\"18\"/>\n",
       "<circle clip-path=\"url(#clip5102)\" style=\"fill:#009af9; stroke:none; fill-opacity:1\" cx=\"1517.17\" cy=\"1259.99\" r=\"14\"/>\n",
       "<circle clip-path=\"url(#clip5102)\" style=\"fill:#000000; stroke:none; fill-opacity:1\" cx=\"1517.77\" cy=\"1129.63\" r=\"18\"/>\n",
       "<circle clip-path=\"url(#clip5102)\" style=\"fill:#009af9; stroke:none; fill-opacity:1\" cx=\"1517.77\" cy=\"1129.63\" r=\"14\"/>\n",
       "<circle clip-path=\"url(#clip5102)\" style=\"fill:#000000; stroke:none; fill-opacity:1\" cx=\"1531.11\" cy=\"1259.99\" r=\"18\"/>\n",
       "<circle clip-path=\"url(#clip5102)\" style=\"fill:#009af9; stroke:none; fill-opacity:1\" cx=\"1531.11\" cy=\"1259.99\" r=\"14\"/>\n",
       "<circle clip-path=\"url(#clip5102)\" style=\"fill:#000000; stroke:none; fill-opacity:1\" cx=\"1547.63\" cy=\"1259.99\" r=\"18\"/>\n",
       "<circle clip-path=\"url(#clip5102)\" style=\"fill:#009af9; stroke:none; fill-opacity:1\" cx=\"1547.63\" cy=\"1259.99\" r=\"14\"/>\n",
       "<circle clip-path=\"url(#clip5102)\" style=\"fill:#000000; stroke:none; fill-opacity:1\" cx=\"1565.35\" cy=\"1129.63\" r=\"18\"/>\n",
       "<circle clip-path=\"url(#clip5102)\" style=\"fill:#009af9; stroke:none; fill-opacity:1\" cx=\"1565.35\" cy=\"1129.63\" r=\"14\"/>\n",
       "<circle clip-path=\"url(#clip5102)\" style=\"fill:#000000; stroke:none; fill-opacity:1\" cx=\"1567.34\" cy=\"1259.99\" r=\"18\"/>\n",
       "<circle clip-path=\"url(#clip5102)\" style=\"fill:#009af9; stroke:none; fill-opacity:1\" cx=\"1567.34\" cy=\"1259.99\" r=\"14\"/>\n",
       "<circle clip-path=\"url(#clip5102)\" style=\"fill:#000000; stroke:none; fill-opacity:1\" cx=\"1598.4\" cy=\"1259.99\" r=\"18\"/>\n",
       "<circle clip-path=\"url(#clip5102)\" style=\"fill:#009af9; stroke:none; fill-opacity:1\" cx=\"1598.4\" cy=\"1259.99\" r=\"14\"/>\n",
       "<circle clip-path=\"url(#clip5102)\" style=\"fill:#000000; stroke:none; fill-opacity:1\" cx=\"1649.16\" cy=\"1325.18\" r=\"18\"/>\n",
       "<circle clip-path=\"url(#clip5102)\" style=\"fill:#009af9; stroke:none; fill-opacity:1\" cx=\"1649.16\" cy=\"1325.18\" r=\"14\"/>\n",
       "<circle clip-path=\"url(#clip5102)\" style=\"fill:#000000; stroke:none; fill-opacity:1\" cx=\"1657.13\" cy=\"1390.36\" r=\"18\"/>\n",
       "<circle clip-path=\"url(#clip5102)\" style=\"fill:#009af9; stroke:none; fill-opacity:1\" cx=\"1657.13\" cy=\"1390.36\" r=\"14\"/>\n",
       "<circle clip-path=\"url(#clip5102)\" style=\"fill:#000000; stroke:none; fill-opacity:1\" cx=\"1658.52\" cy=\"934.073\" r=\"18\"/>\n",
       "<circle clip-path=\"url(#clip5102)\" style=\"fill:#009af9; stroke:none; fill-opacity:1\" cx=\"1658.52\" cy=\"934.073\" r=\"14\"/>\n",
       "<circle clip-path=\"url(#clip5102)\" style=\"fill:#000000; stroke:none; fill-opacity:1\" cx=\"1666.28\" cy=\"1129.63\" r=\"18\"/>\n",
       "<circle clip-path=\"url(#clip5102)\" style=\"fill:#009af9; stroke:none; fill-opacity:1\" cx=\"1666.28\" cy=\"1129.63\" r=\"14\"/>\n",
       "<circle clip-path=\"url(#clip5102)\" style=\"fill:#000000; stroke:none; fill-opacity:1\" cx=\"1670.27\" cy=\"1259.99\" r=\"18\"/>\n",
       "<circle clip-path=\"url(#clip5102)\" style=\"fill:#009af9; stroke:none; fill-opacity:1\" cx=\"1670.27\" cy=\"1259.99\" r=\"14\"/>\n",
       "<circle clip-path=\"url(#clip5102)\" style=\"fill:#000000; stroke:none; fill-opacity:1\" cx=\"1695.55\" cy=\"1194.81\" r=\"18\"/>\n",
       "<circle clip-path=\"url(#clip5102)\" style=\"fill:#009af9; stroke:none; fill-opacity:1\" cx=\"1695.55\" cy=\"1194.81\" r=\"14\"/>\n",
       "<circle clip-path=\"url(#clip5102)\" style=\"fill:#000000; stroke:none; fill-opacity:1\" cx=\"1750.69\" cy=\"1194.81\" r=\"18\"/>\n",
       "<circle clip-path=\"url(#clip5102)\" style=\"fill:#009af9; stroke:none; fill-opacity:1\" cx=\"1750.69\" cy=\"1194.81\" r=\"14\"/>\n",
       "<circle clip-path=\"url(#clip5102)\" style=\"fill:#000000; stroke:none; fill-opacity:1\" cx=\"1775.58\" cy=\"1064.44\" r=\"18\"/>\n",
       "<circle clip-path=\"url(#clip5102)\" style=\"fill:#009af9; stroke:none; fill-opacity:1\" cx=\"1775.58\" cy=\"1064.44\" r=\"14\"/>\n",
       "<circle clip-path=\"url(#clip5102)\" style=\"fill:#000000; stroke:none; fill-opacity:1\" cx=\"1787.52\" cy=\"1259.99\" r=\"18\"/>\n",
       "<circle clip-path=\"url(#clip5102)\" style=\"fill:#009af9; stroke:none; fill-opacity:1\" cx=\"1787.52\" cy=\"1259.99\" r=\"14\"/>\n",
       "<circle clip-path=\"url(#clip5102)\" style=\"fill:#000000; stroke:none; fill-opacity:1\" cx=\"1805.64\" cy=\"1325.18\" r=\"18\"/>\n",
       "<circle clip-path=\"url(#clip5102)\" style=\"fill:#009af9; stroke:none; fill-opacity:1\" cx=\"1805.64\" cy=\"1325.18\" r=\"14\"/>\n",
       "<circle clip-path=\"url(#clip5102)\" style=\"fill:#000000; stroke:none; fill-opacity:1\" cx=\"1818.18\" cy=\"1259.99\" r=\"18\"/>\n",
       "<circle clip-path=\"url(#clip5102)\" style=\"fill:#009af9; stroke:none; fill-opacity:1\" cx=\"1818.18\" cy=\"1259.99\" r=\"14\"/>\n",
       "<circle clip-path=\"url(#clip5102)\" style=\"fill:#000000; stroke:none; fill-opacity:1\" cx=\"1818.58\" cy=\"1259.99\" r=\"18\"/>\n",
       "<circle clip-path=\"url(#clip5102)\" style=\"fill:#009af9; stroke:none; fill-opacity:1\" cx=\"1818.58\" cy=\"1259.99\" r=\"14\"/>\n",
       "<circle clip-path=\"url(#clip5102)\" style=\"fill:#000000; stroke:none; fill-opacity:1\" cx=\"1823.96\" cy=\"999.257\" r=\"18\"/>\n",
       "<circle clip-path=\"url(#clip5102)\" style=\"fill:#009af9; stroke:none; fill-opacity:1\" cx=\"1823.96\" cy=\"999.257\" r=\"14\"/>\n",
       "<circle clip-path=\"url(#clip5102)\" style=\"fill:#000000; stroke:none; fill-opacity:1\" cx=\"1829.93\" cy=\"1390.36\" r=\"18\"/>\n",
       "<circle clip-path=\"url(#clip5102)\" style=\"fill:#009af9; stroke:none; fill-opacity:1\" cx=\"1829.93\" cy=\"1390.36\" r=\"14\"/>\n",
       "<circle clip-path=\"url(#clip5102)\" style=\"fill:#000000; stroke:none; fill-opacity:1\" cx=\"1839.88\" cy=\"1259.99\" r=\"18\"/>\n",
       "<circle clip-path=\"url(#clip5102)\" style=\"fill:#009af9; stroke:none; fill-opacity:1\" cx=\"1839.88\" cy=\"1259.99\" r=\"14\"/>\n",
       "<circle clip-path=\"url(#clip5102)\" style=\"fill:#000000; stroke:none; fill-opacity:1\" cx=\"1942.81\" cy=\"1259.99\" r=\"18\"/>\n",
       "<circle clip-path=\"url(#clip5102)\" style=\"fill:#009af9; stroke:none; fill-opacity:1\" cx=\"1942.81\" cy=\"1259.99\" r=\"14\"/>\n",
       "<circle clip-path=\"url(#clip5102)\" style=\"fill:#000000; stroke:none; fill-opacity:1\" cx=\"2035.98\" cy=\"1325.18\" r=\"18\"/>\n",
       "<circle clip-path=\"url(#clip5102)\" style=\"fill:#009af9; stroke:none; fill-opacity:1\" cx=\"2035.98\" cy=\"1325.18\" r=\"14\"/>\n",
       "<circle clip-path=\"url(#clip5102)\" style=\"fill:#000000; stroke:none; fill-opacity:1\" cx=\"2055.89\" cy=\"1390.36\" r=\"18\"/>\n",
       "<circle clip-path=\"url(#clip5102)\" style=\"fill:#009af9; stroke:none; fill-opacity:1\" cx=\"2055.89\" cy=\"1390.36\" r=\"14\"/>\n",
       "<circle clip-path=\"url(#clip5102)\" style=\"fill:#000000; stroke:none; fill-opacity:1\" cx=\"2126.76\" cy=\"1390.36\" r=\"18\"/>\n",
       "<circle clip-path=\"url(#clip5102)\" style=\"fill:#009af9; stroke:none; fill-opacity:1\" cx=\"2126.76\" cy=\"1390.36\" r=\"14\"/>\n",
       "<circle clip-path=\"url(#clip5102)\" style=\"fill:#000000; stroke:none; fill-opacity:1\" cx=\"2180.11\" cy=\"1325.18\" r=\"18\"/>\n",
       "<circle clip-path=\"url(#clip5102)\" style=\"fill:#009af9; stroke:none; fill-opacity:1\" cx=\"2180.11\" cy=\"1325.18\" r=\"14\"/>\n",
       "<circle clip-path=\"url(#clip5102)\" style=\"fill:#000000; stroke:none; fill-opacity:1\" cx=\"2220.72\" cy=\"1390.36\" r=\"18\"/>\n",
       "<circle clip-path=\"url(#clip5102)\" style=\"fill:#009af9; stroke:none; fill-opacity:1\" cx=\"2220.72\" cy=\"1390.36\" r=\"14\"/>\n",
       "<circle clip-path=\"url(#clip5102)\" style=\"fill:#000000; stroke:none; fill-opacity:1\" cx=\"2261.54\" cy=\"1390.36\" r=\"18\"/>\n",
       "<circle clip-path=\"url(#clip5102)\" style=\"fill:#009af9; stroke:none; fill-opacity:1\" cx=\"2261.54\" cy=\"1390.36\" r=\"14\"/>\n",
       "<circle clip-path=\"url(#clip5102)\" style=\"fill:#000000; stroke:none; fill-opacity:1\" cx=\"2261.54\" cy=\"1390.36\" r=\"18\"/>\n",
       "<circle clip-path=\"url(#clip5102)\" style=\"fill:#009af9; stroke:none; fill-opacity:1\" cx=\"2261.54\" cy=\"1390.36\" r=\"14\"/>\n",
       "<circle clip-path=\"url(#clip5102)\" style=\"fill:#000000; stroke:none; fill-opacity:1\" cx=\"2261.54\" cy=\"1390.36\" r=\"18\"/>\n",
       "<circle clip-path=\"url(#clip5102)\" style=\"fill:#009af9; stroke:none; fill-opacity:1\" cx=\"2261.54\" cy=\"1390.36\" r=\"14\"/>\n",
       "<polyline clip-path=\"url(#clip5102)\" style=\"stroke:#e26f46; stroke-width:4; stroke-opacity:1; fill:none\" points=\"\n",
       "  270.729,457.383 370.27,471.101 469.81,507.946 569.35,561.932 668.89,627.714 768.431,700.585 867.971,776.478 967.511,851.967 1067.05,924.263 1166.59,991.219 \n",
       "  1266.13,1051.33 1365.67,1103.71 1465.21,1148.16 1564.75,1185.06 1664.29,1215.47 1763.83,1241.09 1863.37,1264.23 1962.91,1287.87 2062.46,1315.62 2162,1351.72 \n",
       "  2261.54,1401.05 \n",
       "  \"/>\n",
       "<polygon clip-path=\"url(#clip5100)\" points=\"\n",
       "1931.67,312.204 2249.26,312.204 2249.26,130.764 1931.67,130.764 \n",
       "  \" fill=\"#ffffff\" fill-rule=\"evenodd\" fill-opacity=\"1\"/>\n",
       "<polyline clip-path=\"url(#clip5100)\" style=\"stroke:#000000; stroke-width:4; stroke-opacity:1; fill:none\" points=\"\n",
       "  1931.67,312.204 2249.26,312.204 2249.26,130.764 1931.67,130.764 1931.67,312.204 \n",
       "  \"/>\n",
       "<circle clip-path=\"url(#clip5100)\" style=\"fill:#000000; stroke:none; fill-opacity:1\" cx=\"2039.67\" cy=\"191.244\" r=\"25\"/>\n",
       "<circle clip-path=\"url(#clip5100)\" style=\"fill:#009af9; stroke:none; fill-opacity:1\" cx=\"2039.67\" cy=\"191.244\" r=\"21\"/>\n",
       "<g clip-path=\"url(#clip5100)\">\n",
       "<text style=\"fill:#000000; fill-opacity:1; font-family:Arial,Helvetica Neue,Helvetica,sans-serif; font-size:48px; text-anchor:start;\" transform=\"rotate(0, 2123.67, 208.744)\" x=\"2123.67\" y=\"208.744\">obs</text>\n",
       "</g>\n",
       "<polyline clip-path=\"url(#clip5100)\" style=\"stroke:#e26f46; stroke-width:4; stroke-opacity:1; fill:none\" points=\"\n",
       "  1955.67,251.724 2099.67,251.724 \n",
       "  \"/>\n",
       "<g clip-path=\"url(#clip5100)\">\n",
       "<text style=\"fill:#000000; fill-opacity:1; font-family:Arial,Helvetica Neue,Helvetica,sans-serif; font-size:48px; text-anchor:start;\" transform=\"rotate(0, 2123.67, 269.224)\" x=\"2123.67\" y=\"269.224\">fit</text>\n",
       "</g>\n",
       "</svg>\n"
      ]
     },
     "execution_count": 47,
     "metadata": {},
     "output_type": "execute_result"
    }
   ],
   "source": [
    "using Printf\n",
    "eval(:(f(x,β) = $(poly(P.steps[2]))))\n",
    "xdomain = (0.0:0.05:1.0)\n",
    "println(\"ρ\\tf(ρ,β)\\n==============\")\n",
    "xŷ = zip(xdomain, f(xdomain, P.results[end][2].β))\n",
    "z = collect(map(x->(@sprintf(\"%0.2f\", x[1]),\n",
    "                    @sprintf(\"%7.3f\", x[2])),\n",
    "        xŷ))\n",
    "for t in z\n",
    "    println(join(t, \"\\t\"))\n",
    "end\n",
    "\n",
    "using Plots\n",
    "\n",
    "p = scatter(first.(table), last.(table), label=\"obs\")\n",
    "plot!(first.(xŷ), last.(xŷ), label=\"fit\")\n",
    "xlabel!(p, \"Probability of Recovery\")\n",
    "ylabel!(p, \"Deaths\")\n",
    "println(\"β: \", P.results[end][2].β, \"\\n\", string(poly(P.steps[2])))\n",
    "p"
   ]
  },
  {
   "cell_type": "markdown",
   "metadata": {
    "slideshow": {
     "slide_type": "skip"
    }
   },
   "source": [
    "## Conclusions\n",
    "\n",
    "This example shows that the SemanticModels approach to post-hoc modeling frameworks can enable metamodeling which is the combinations of model composed using different technologies into a coherent modeling workflow. Our ModelTools provides the basic building blocks for representing models and transformations in such a way that they transformations can be composed and models can be combined. Composition of transformations respects the combination of models. In this case the Product of transformation respects the Pipeline of models. Such that you can transform the models and then pipeline them, or pipeline them and then transform them.\n",
    "\n",
    "This example combined an agent based model of SIR diseases with a statistical model of polynomial regression to quantify the response of the agent based model with respect to one of its parameters. The input models have to be composed carefully in order to make the software work.\n",
    "\n",
    "As taught by the scientific computing education group [Software Carpentry](https://swcarpentry.github.io/), the best practice for composing scientific models is to have each component write files to disk and then use a workflow tool such as [Make](https://swcarpentry.github.io/make-novice/) to orchestrate the execution of the modeling scripts.\n",
    "\n",
    "An alternative approach is to design modeling frameworks for representing the models. The problem with this avenue becomes apparent when models are composed. The frameworks must be interoperable in order to make combined models. ModelTools avoids this problem by representing the models as code and manipulating the codes. The interoperation of two models is defined by user supplied functions in a fully featured programming language. \n",
    "\n",
    "SemanticModels.jl also provides transformations on these models that are grounded in category theory and abstract algebra. The concepts of category theory such as Functors and Product Categories allow us to build a general framework fit for any modeling task. In the language of category theory, the Pipelining functor on models commutes with the Product functor on transformations.\n",
    "\n",
    "This examples shows that metamodeling is feasible with SemanticModels and that the algebras of model transformations can be preserved when acting on metamodel workflows."
   ]
  },
  {
   "cell_type": "code",
   "execution_count": null,
   "metadata": {},
   "outputs": [],
   "source": []
  }
 ],
 "metadata": {
  "jupytext": {
   "cell_metadata_filter": "-all",
   "encoding": "# -*- coding: utf-8 -*-",
   "main_language": "julia",
   "notebook_metadata_filter": "-all",
   "text_representation": {
    "extension": ".jl",
    "format_name": "light"
   }
  },
  "kernelspec": {
   "display_name": "Julia 1.0.3",
   "language": "julia",
   "name": "julia-1.0"
  },
  "language_info": {
   "file_extension": ".jl",
   "mimetype": "application/julia",
   "name": "julia",
   "version": "1.0.3"
  }
 },
 "nbformat": 4,
 "nbformat_minor": 2
}
