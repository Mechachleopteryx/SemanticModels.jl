{
 "cells": [
  {
   "cell_type": "markdown",
   "metadata": {
    "slideshow": {
     "slide_type": "slide"
    }
   },
   "source": [
    "# Augmenting Model Workflows\n",
    "\n",
    "We can apply our model augmentation framework to models that are compositions of component models."
   ]
  },
  {
   "cell_type": "markdown",
   "metadata": {
    "slideshow": {
     "slide_type": "slide"
    }
   },
   "source": [
    "We are going to use the model augmentation presented in `examples/agentgraft.jl` as a baseline simulation and build a workflow to compose that model with the example in `examples/polynomial_regression.jl`. It is strongly recommended that you understand those examples before following this notebook."
   ]
  },
  {
   "cell_type": "markdown",
   "metadata": {
    "slideshow": {
     "slide_type": "slide"
    }
   },
   "source": [
    "This example combines an agent based model of SIR diseases with a statistical model of polynomial regression to quantify the response of the agent based model with respect to one of its parameters. The input models have to be composed carefully in order to make the software work.\n",
    "\n",
    "As taught by the scientific computing education group [Software Carpentry](https://swcarpentry.github.io/), the best practice for composing scientific models is to have each component write files to disk and then use a workflow tool such as [Make](https://swcarpentry.github.io/make-novice/) to orchestrate the execution of the modeling scripts.\n",
    "\n",
    "An alternative approach is to design modeling frameworks for representing the models. The problem with this avenue becomes apparent when models are composed. The frameworks must be interoperable in order to make combined models. ModelTools avoids this problem by representing the models as code and manipulating the codes. The interoperation of two models is defined by user supplied functions in a fully featured programming language. "
   ]
  },
  {
   "cell_type": "markdown",
   "metadata": {
    "slideshow": {
     "slide_type": "slide"
    }
   },
   "source": [
    "Let $m_1,m_2$ be models, and $t_1,t_2$ be tranformations and define $M_i = t_i(m_i)$. If we denote the creation of pipelines with the function composition symbol $g\\circ f$ then we want to implement everything such that the following diagram commutes.\n",
    "<p><img src=\"../doc/build/img/commutative_pipeline.dot.svg\" alt=\"A diagram showing how pipelining commutes with tranforming models\"></p>\n",
    "\n",
    "This example shows how you can use a pipeline to represent the combination of models and then apply combinations of transformations to that pipeline. Transforming models and composing them into pipelines are two operations that commute, you can transform then compose or compose and then transform."
   ]
  },
  {
   "cell_type": "code",
   "execution_count": 1,
   "metadata": {
    "slideshow": {
     "slide_type": "slide"
    }
   },
   "outputs": [],
   "source": [
    "using SemanticModels.Parsers\n",
    "using SemanticModels.ModelTools\n",
    "using SemanticModels.ModelTools.ExpStateModels\n",
    "import Base: push!\n",
    "import SemanticModels.ModelTools: model, isexpr\n",
    "using Random"
   ]
  },
  {
   "cell_type": "code",
   "execution_count": 2,
   "metadata": {
    "slideshow": {
     "slide_type": "subslide"
    }
   },
   "outputs": [
    {
     "data": {
      "text/plain": [
       "0-element Array{Any,1}"
      ]
     },
     "execution_count": 2,
     "metadata": {},
     "output_type": "execute_result"
    }
   ],
   "source": [
    "samples = 100\n",
    "nsteps = 25\n",
    "finalcounts = Any[]"
   ]
  },
  {
   "cell_type": "code",
   "execution_count": 3,
   "metadata": {
    "lines_to_next_cell": 2,
    "slideshow": {
     "slide_type": "subslide"
    }
   },
   "outputs": [
    {
     "name": "stdout",
     "output_type": "stream",
     "text": [
      "Running Agent Based Simulation Augmentation Demo\n",
      "================================================\n",
      "demo parameters:\n",
      "\tsamples=100\n",
      "\tnsteps=25\n"
     ]
    }
   ],
   "source": [
    "println(\"Running Agent Based Simulation Augmentation Demo\")\n",
    "println(\"================================================\")\n",
    "println(\"demo parameters:\\n\\tsamples=$samples\\n\\tnsteps=$nsteps\")"
   ]
  },
  {
   "cell_type": "markdown",
   "metadata": {
    "slideshow": {
     "slide_type": "slide"
    }
   },
   "source": [
    "## Baseline SIRS model\n",
    "\n",
    "Here is the baseline model, which is read in from a text file. You could instead of using `parsefile` use a `quote/end` block to code up the baseline model in this script. \n",
    "\n",
    "<img src=\"https://docs.google.com/drawings/d/e/2PACX-1vSeA7mAQ-795lLVxCWXzbkFQaFOHMpwtB121psFV_2cSUyXPyKMtvDjssia82JvQRXS08p6FAMr1hj1/pub?w=1031&amp;h=309\">"
   ]
  },
  {
   "cell_type": "code",
   "execution_count": 4,
   "metadata": {
    "lines_to_next_cell": 2,
    "slideshow": {
     "slide_type": "slide"
    }
   },
   "outputs": [
    {
     "data": {
      "text/plain": [
       "ExpStateModel(\n",
       "  states=:([:S, :I, :R]),\n",
       "  agents=Expr[:(a = sm.agents), :(a = fill(:S, n))],\n",
       "  transitions=Expr[:(T = Dict(:S => (x...->begin\n",
       "                      #= none:120 =#\n",
       "                      if rand(Float64) < stateload(x[1], :I)\n",
       "                          :I\n",
       "                      else\n",
       "                          :S\n",
       "                      end\n",
       "                  end), :I => (x...->begin\n",
       "                      #= none:121 =#\n",
       "                      if rand(Float64) < ρ\n",
       "                          :I\n",
       "                      else\n",
       "                          :R\n",
       "                      end\n",
       "                  end), :R => (x...->begin\n",
       "                      #= none:122 =#\n",
       "                      if rand(Float64) < μ\n",
       "                          :R\n",
       "                      else\n",
       "                          :S\n",
       "                      end\n",
       "                  end)))]\n",
       ")"
      ]
     },
     "execution_count": 4,
     "metadata": {},
     "output_type": "execute_result"
    }
   ],
   "source": [
    "expr = parsefile(\"../examples/agentbased.jl\")\n",
    "m = model(ExpStateModel, expr)"
   ]
  },
  {
   "cell_type": "code",
   "execution_count": 5,
   "metadata": {
    "slideshow": {
     "slide_type": "skip"
    }
   },
   "outputs": [
    {
     "data": {
      "text/plain": [
       "3-element Array{Any,1}:\n",
       " :newsam                 \n",
       " :counts                 \n",
       " :((ρ = ρ, μ = μ, n = n))"
      ]
     },
     "execution_count": 5,
     "metadata": {},
     "output_type": "execute_result"
    }
   ],
   "source": [
    "function returns(block::Vector{Any})\n",
    "    filter(x->(head(x)==:return), block)\n",
    "end\n",
    "returntuples = (bodyblock(filter(x->isa(x, Expr), findfunc(m.expr, :main))[end]) \n",
    "    |> returns \n",
    "    .|> x-> x.args[1].args )\n",
    "push!(returntuples[1], :((ρ=ρ, μ=μ, n=n)))"
   ]
  },
  {
   "cell_type": "code",
   "execution_count": 6,
   "metadata": {
    "lines_to_next_cell": 2,
    "slideshow": {
     "slide_type": "slide"
    }
   },
   "outputs": [
    {
     "name": "stdout",
     "output_type": "stream",
     "text": [
      "\n",
      "Running basic model\n",
      "======= . Simulation 1  ========\n",
      "newsam.agents = Symbol[:S, :R, :I, :I, :R, :S, :R, :R, :I, :I, :I, :I, :S, :I, :I, :I, :R, :R, :I, :I]\n",
      "======= . Simulation 2  ========\n",
      "newsam.agents = Symbol[:I, :I, :R, :I, :S, :I, :I, :I, :S, :I, :I, :I, :I, :S, :I, :I, :R, :S, :S, :I]\n",
      "======= . Simulation 3  ========\n",
      "newsam.agents = Symbol[:S, :S, :I, :I, :I, :S, :S, :I, :I, :R, :S, :R, :R, :S, :I, :S, :I, :I, :S, :I]\n",
      "======= . Simulation 4  ========\n",
      "newsam.agents = Symbol[:I, :I, :I, :I, :I, :I, :I, :I, :I, :I, :I, :I, :I, :I, :I, :I, :I, :I, :I, :I]\n",
      "======= . Simulation 5  ========\n",
      "newsam.agents = Symbol[:I, :I, :S, :S, :R, :R, :I, :I, :I, :R, :S, :S, :S, :R, :S, :S, :R, :R, :S, :S]\n",
      "======= . Simulation 6  ========\n",
      "newsam.agents = Symbol[:S, :I, :R, :I, :S, :S, :R, :I, :S, :I, :I, :R, :S, :I, :R, :I, :S, :R, :I, :I]\n",
      "======= . Simulation 7  ========\n",
      "newsam.agents = Symbol[:R, :S, :R, :I, :I, :S, :I, :S, :R, :S, :R, :I, :I, :I, :I, :R, :R, :I, :I, :S]\n",
      "======= . Simulation 8  ========\n",
      "newsam.agents = Symbol[:S, :I, :I, :S, :S, :R, :I, :I, :S, :R, :I, :R, :S, :I, :S, :S, :S, :S, :I, :S]\n",
      "======= . Simulation 9  ========\n",
      "newsam.agents = Symbol[:S, :I, :I, :S, :R, :S, :R, :I, :R, :I, :S, :I, :I, :S, :R, :S, :S, :I, :S, :R]\n",
      "======= . Simulation 10  ========\n",
      "newsam.agents = Symbol[:R, :R, :R, :S, :S, :R, :R, :R, :S, :R, :S, :S, :S, :I, :S, :R, :S, :R, :R, :S]\n",
      "======= . Simulation 11  ========\n",
      "newsam.agents = Symbol[:S, :I, :I, :S, :S, :S, :I, :R, :R, :R, :S, :R, :R, :R, :I, :S, :S, :I, :S, :S]\n",
      "======= . Simulation 12  ========\n",
      "newsam.agents = Symbol[:R, :I, :S, :S, :S, :I, :S, :R, :I, :R, :I, :I, :R, :S, :I, :R, :I, :R, :R, :R]\n",
      "======= . Simulation 13  ========\n",
      "newsam.agents = Symbol[:S, :S, :S, :I, :S, :I, :I, :R, :S, :S, :I, :S, :S, :S, :S, :R, :S, :R, :S, :I]\n",
      "======= . Simulation 14  ========\n",
      "newsam.agents = Symbol[:S, :I, :S, :S, :S, :S, :I, :I, :I, :S, :S, :I, :S, :I, :I, :I, :I, :S, :I, :R]\n",
      "======= . Simulation 15  ========\n",
      "newsam.agents = Symbol[:R, :S, :I, :S, :S, :R, :S, :I, :S, :S, :R, :S, :I, :R, :S, :S, :S, :R, :S, :S]\n",
      "======= . Simulation 16  ========\n",
      "newsam.agents = Symbol[:S, :S, :R, :S, :S, :S, :S, :S, :S, :S, :S, :S, :R, :S, :S, :S, :S, :R, :R, :S]\n",
      "======= . Simulation 17  ========\n",
      "newsam.agents = Symbol[:S, :R, :I, :R, :S, :R, :I, :R, :R, :R, :I, :S, :I, :R, :R, :S, :S, :R, :R, :I]\n",
      "======= . Simulation 18  ========\n",
      "newsam.agents = Symbol[:R, :S, :R, :I, :R, :R, :S, :I, :S, :I, :S, :R, :I, :R, :S, :I, :I, :I, :R, :I]\n",
      "======= . Simulation 19  ========\n",
      "newsam.agents = Symbol[:I, :I, :R, :I, :I, :S, :S, :S, :S, :S, :I, :S, :I, :S, :I, :R, :S, :S, :S, :S]\n",
      "======= . Simulation 20  ========\n",
      "newsam.agents = Symbol[:R, :S, :R, :I, :R, :R, :R, :S, :S, :S, :I, :S, :R, :I, :S, :S, :S, :S, :S, :R]\n",
      "======= . Simulation 21  ========\n",
      "newsam.agents = Symbol[:I, :S, :I, :I, :R, :R, :I, :S, :R, :R, :I, :S, :R, :R, :I, :R, :I, :I, :R, :R]\n",
      "======= . Simulation 22  ========\n",
      "newsam.agents = Symbol[:S, :S, :S, :S, :R, :S, :I, :S, :S, :I, :I, :I, :R, :R, :I, :R, :S, :R, :S, :S]\n",
      "======= . Simulation 23  ========\n",
      "newsam.agents = Symbol[:I, :I, :I, :I, :I, :R, :I, :I, :I, :I, :I, :I, :I, :I, :I, :I, :I, :I, :I, :I]\n",
      "======= . Simulation 24  ========\n",
      "newsam.agents = Symbol[:R, :R, :I, :S, :I, :S, :I, :I, :S, :R, :S, :I, :I, :I, :I, :I, :S, :R, :I, :I]\n",
      "======= . Simulation 25  ========\n",
      "newsam.agents = Symbol[:R, :S, :S, :I, :S, :S, :S, :R, :I, :I, :R, :S, :I, :S, :S, :I, :S, :R, :I, :R]\n",
      "======= . Simulation 26  ========\n",
      "newsam.agents = Symbol[:R, :I, :S, :S, :I, :I, :I, :R, :S, :R, :R, :I, :I, :I, :R, :S, :S, :R, :R, :R]\n",
      "======= . Simulation 27  ========\n",
      "newsam.agents = Symbol[:S, :S, :I, :S, :S, :S, :S, :I, :I, :S, :R, :S, :S, :I, :S, :S, :S, :S, :I, :I]\n",
      "======= . Simulation 28  ========\n",
      "newsam.agents = Symbol[:S, :R, :S, :R, :I, :S, :R, :I, :S, :R, :S, :I, :R, :S, :R, :I, :I, :R, :R, :S]\n",
      "======= . Simulation 29  ========\n",
      "newsam.agents = Symbol[:R, :I, :I, :I, :I, :R, :R, :I, :R, :I, :S, :I, :S, :I, :I, :I, :R, :R, :I, :S]\n",
      "======= . Simulation 30  ========\n",
      "newsam.agents = Symbol[:R, :S, :I, :R, :S, :S, :S, :R, :S, :S, :S, :S, :R, :S, :S, :S, :S, :S, :S, :S]\n",
      "======= . Simulation 31  ========\n",
      "newsam.agents = Symbol[:I, :I, :R, :R, :I, :I, :S, :I, :I, :I, :I, :I, :I, :S, :I, :I, :S, :S, :I, :I]\n",
      "======= . Simulation 32  ========\n",
      "newsam.agents = Symbol[:S, :I, :R, :R, :I, :S, :S, :S, :S, :I, :R, :S, :S, :I, :S, :S, :S, :S, :R, :S]\n",
      "======= . Simulation 33  ========\n",
      "newsam.agents = Symbol[:R, :R, :R, :R, :S, :S, :S, :S, :I, :S, :S, :R, :S, :S, :I, :R, :S, :S, :S, :S]\n",
      "======= . Simulation 34  ========\n",
      "newsam.agents = Symbol[:I, :I, :R, :S, :R, :I, :S, :S, :S, :R, :S, :R, :S, :S, :R, :S, :R, :S, :I, :R]\n",
      "======= . Simulation 35  ========\n",
      "newsam.agents = Symbol[:I, :I, :I, :I, :I, :I, :I, :I, :I, :I, :I, :I, :I, :I, :I, :I, :I, :I, :I, :I]\n",
      "======= . Simulation 36  ========\n",
      "newsam.agents = Symbol[:S, :R, :S, :S, :S, :S, :I, :S, :S, :S, :S, :I, :S, :S, :S, :S, :I, :S, :I, :I]\n",
      "======= . Simulation 37  ========\n",
      "newsam.agents = Symbol[:R, :I, :S, :R, :S, :S, :I, :S, :S, :I, :R, :R, :I, :I, :R, :R, :S, :I, :S, :R]\n",
      "======= . Simulation 38  ========\n",
      "newsam.agents = Symbol[:I, :R, :S, :S, :R, :S, :S, :S, :S, :S, :S, :S, :I, :S, :R, :S, :S, :S, :S, :S]\n",
      "======= . Simulation 39  ========\n",
      "newsam.agents = Symbol[:R, :R, :S, :S, :R, :R, :S, :I, :R, :R, :S, :R, :S, :S, :S, :S, :S, :R, :I, :S]\n",
      "======= . Simulation 40  ========\n",
      "newsam.agents = Symbol[:S, :R, :S, :S, :I, :I, :R, :S, :I, :I, :R, :S, :S, :R, :I, :R, :S, :R, :S, :S]\n",
      "======= . Simulation 41  ========\n",
      "newsam.agents = Symbol[:I, :R, :S, :S, :I, :S, :I, :S, :R, :S, :S, :R, :R, :R, :R, :S, :S, :R, :R, :S]\n",
      "======= . Simulation 42  ========\n",
      "newsam.agents = Symbol[:R, :R, :I, :S, :S, :S, :I, :I, :I, :R, :S, :R, :R, :I, :I, :S, :S, :S, :R, :R]\n",
      "======= . Simulation 43  ========\n",
      "newsam.agents = Symbol[:S, :S, :S, :S, :S, :S, :S, :S, :S, :S, :S, :S, :S, :S, :S, :S, :S, :I, :S, :S]\n",
      "======= . Simulation 44  ========\n",
      "newsam.agents = Symbol[:S, :R, :I, :S, :I, :I, :I, :S, :R, :R, :S, :I, :S, :R, :S, :R, :S, :S, :I, :S]\n",
      "======= . Simulation 45  ========\n",
      "newsam.agents = Symbol[:S, :S, :S, :R, :S, :S, :S, :S, :S, :S, :S, :S, :S, :S, :S, :S, :S, :S, :S, :S]\n",
      "======= . Simulation 46  ========\n",
      "newsam.agents = Symbol[:I, :S, :I, :R, :S, :R, :S, :R, :I, :R, :I, :S, :S, :S, :I, :R, :S, :R, :S, :S]\n",
      "======= . Simulation 47  ========\n",
      "newsam.agents = Symbol[:S, :R, :I, :S, :I, :I, :S, :R, :S, :S, :I, :S, :I, :S, :I, :S, :S, :I, :I, :S]\n",
      "======= . Simulation 48  ========\n",
      "newsam.agents = Symbol[:S, :S, :S, :I, :I, :S, :I, :R, :I, :R, :I, :I, :R, :R, :R, :S, :R, :R, :I, :R]\n",
      "======= . Simulation 49  ========\n",
      "newsam.agents = Symbol[:S, :S, :S, :S, :S, :S, :S, :S, :S, :S, :S, :S, :S, :S, :R, :S, :S, :S, :S, :S]\n",
      "======= . Simulation 50  ========\n",
      "newsam.agents = Symbol[:R, :S, :S, :S, :S, :S, :S, :S, :R, :S, :I, :S, :S, :S, :S, :S, :I, :S, :S, :S]\n",
      "======= . Simulation 51  ========\n",
      "newsam.agents = Symbol[:I, :S, :S, :R, :I, :S, :I, :S, :R, :S, :S, :R, :S, :R, :S, :S, :I, :S, :R, :R]\n",
      "======= . Simulation 52  ========\n",
      "newsam.agents = Symbol[:S, :S, :R, :I, :I, :I, :S, :S, :I, :S, :S, :I, :S, :S, :S, :S, :I, :S, :R, :I]\n",
      "======= . Simulation 53  ========\n",
      "newsam.agents = Symbol[:S, :R, :S, :S, :R, :R, :R, :S, :S, :R, :S, :S, :S, :S, :S, :S, :R, :S, :S, :S]\n",
      "======= . Simulation 54  ========\n",
      "newsam.agents = Symbol[:S, :S, :S, :R, :S, :R, :S, :R, :S, :I, :I, :I, :S, :S, :R, :S, :I, :S, :S, :S]\n",
      "======= . Simulation 55  ========\n",
      "newsam.agents = Symbol[:I, :S, :R, :R, :R, :I, :I, :S, :S, :I, :R, :S, :S, :R, :R, :R, :I, :R, :S, :I]\n",
      "======= . Simulation 56  ========\n",
      "newsam.agents = Symbol[:I, :S, :I, :I, :I, :R, :S, :R, :I, :I, :I, :I, :I, :I, :R, :I, :I, :I, :I, :R]\n",
      "======= . Simulation 57  ========\n",
      "newsam.agents = Symbol[:I, :R, :R, :I, :S, :R, :I, :R, :R, :I, :R, :I, :R, :R, :R, :I, :I, :I, :S, :R]\n",
      "======= . Simulation 58  ========\n",
      "newsam.agents = Symbol[:R, :I, :S, :I, :R, :S, :I, :S, :R, :S, :I, :S, :R, :I, :I, :I, :R, :S, :R, :R]\n",
      "======= . Simulation 59  ========\n",
      "newsam.agents = Symbol[:S, :S, :S, :S, :S, :S, :S, :S, :S, :S, :S, :S, :S, :S, :S, :S, :S, :S, :S, :S]\n",
      "======= . Simulation 60  ========\n",
      "newsam.agents = Symbol[:S, :S, :I, :S, :S, :I, :S, :I, :S, :S, :S, :S, :S, :S, :R, :S, :I, :S, :I, :I]\n",
      "======= . Simulation 61  ========\n",
      "newsam.agents = Symbol[:R, :S, :S, :S, :S, :S, :R, :S, :S, :S, :S, :S, :S, :S, :S, :R, :S, :I, :S, :I]\n",
      "======= . Simulation 62  ========\n",
      "newsam.agents = Symbol[:S, :S, :S, :S, :S, :R, :R, :S, :S, :S, :S, :I, :I, :S, :R, :S, :S, :S, :I, :S]\n",
      "======= . Simulation 63  ========\n",
      "newsam.agents = Symbol[:I, :R, :I, :I, :R, :R, :I, :S, :R, :R, :S, :S, :R, :R, :I, :R, :R, :I, :S, :I]\n",
      "======= . Simulation 64  ========\n",
      "newsam.agents = Symbol[:S, :R, :R, :R, :S, :S, :S, :S, :R, :S, :S, :R, :R, :I, :S, :S, :R, :S, :S, :S]\n",
      "======= . Simulation 65  ========\n",
      "newsam.agents = Symbol[:S, :I, :S, :S, :R, :S, :S, :R, :S, :S, :S, :S, :I, :R, :S, :I, :S, :S, :R, :S]\n",
      "======= . Simulation 66  ========\n",
      "newsam.agents = Symbol[:S, :S, :S, :S, :S, :S, :I, :R, :S, :S, :S, :S, :S, :S, :S, :S, :S, :S, :S, :S]\n",
      "======= . Simulation 67  ========\n",
      "newsam.agents = Symbol[:S, :I, :S, :R, :R, :S, :R, :S, :I, :S, :I, :S, :R, :R, :I, :R, :R, :S, :I, :R]\n",
      "======= . Simulation 68  ========\n",
      "newsam.agents = Symbol[:S, :I, :I, :S, :R, :I, :S, :S, :S, :S, :S, :S, :I, :R, :S, :S, :R, :I, :I, :S]\n",
      "======= . Simulation 69  ========\n",
      "newsam.agents = Symbol[:I, :S, :R, :S, :I, :I, :R, :I, :R, :S, :S, :S, :I, :R, :I, :S, :I, :I, :R, :R]\n",
      "======= . Simulation 70  ========\n",
      "newsam.agents = Symbol[:S, :S, :S, :I, :R, :R, :R, :I, :I, :S, :R, :S, :I, :I, :S, :S, :S, :I, :I, :I]\n",
      "======= . Simulation 71  ========\n",
      "newsam.agents = Symbol[:S, :S, :S, :S, :I, :R, :S, :I, :S, :S, :I, :S, :S, :S, :R, :S, :R, :S, :S, :R]\n",
      "======= . Simulation 72  ========\n",
      "newsam.agents = Symbol[:S, :S, :S, :S, :S, :S, :R, :S, :S, :R, :S, :S, :R, :I, :S, :S, :S, :S, :S, :S]\n",
      "======= . Simulation 73  ========\n",
      "newsam.agents = Symbol[:S, :R, :R, :I, :S, :I, :I, :I, :S, :I, :I, :I, :I, :I, :I, :I, :R, :S, :R, :S]\n",
      "======= . Simulation 74  ========\n",
      "newsam.agents = Symbol[:R, :S, :S, :S, :R, :S, :R, :I, :S, :R, :S, :I, :S, :R, :S, :S, :S, :S, :I, :R]\n",
      "======= . Simulation 75  ========\n",
      "newsam.agents = Symbol[:I, :I, :I, :I, :I, :I, :I, :I, :I, :I, :I, :I, :I, :I, :I, :I, :I, :I, :I, :I]\n",
      "======= . Simulation 76  ========\n",
      "newsam.agents = Symbol[:S, :R, :R, :S, :S, :R, :R, :R, :R, :S, :I, :S, :R, :R, :S, :I, :S, :I, :I, :I]\n",
      "======= . Simulation 77  ========\n",
      "newsam.agents = Symbol[:S, :R, :S, :S, :S, :S, :S, :R, :S, :S, :S, :S, :I, :R, :R, :R, :R, :R, :S, :S]\n",
      "======= . Simulation 78  ========\n",
      "newsam.agents = Symbol[:S, :R, :I, :S, :S, :R, :R, :S, :I, :S, :S, :S, :I, :S, :S, :S, :S, :S, :S, :R]\n",
      "======= . Simulation 79  ========\n",
      "newsam.agents = Symbol[:I, :S, :I, :I, :I, :R, :S, :S, :S, :I, :I, :S, :R, :S, :S, :S, :I, :I, :I, :I]\n",
      "======= . Simulation 80  ========\n",
      "newsam.agents = Symbol[:S, :S, :S, :S, :S, :S, :S, :S, :S, :S, :S, :I, :S, :S, :S, :R, :R, :S, :S, :S]\n",
      "======= . Simulation 81  ========\n",
      "newsam.agents = Symbol[:R, :S, :S, :I, :S, :R, :R, :I, :R, :R, :S, :I, :S, :R, :I, :S, :R, :I, :I, :R]\n",
      "======= . Simulation 82  ========\n",
      "newsam.agents = Symbol[:S, :S, :I, :R, :S, :S, :S, :I, :S, :S, :I, :S, :I, :S, :I, :S, :S, :S, :S, :I]\n",
      "======= . Simulation 83  ========\n",
      "newsam.agents = Symbol[:S, :I, :R, :S, :I, :I, :I, :I, :S, :S, :S, :I, :S, :S, :I, :R, :I, :I, :S, :R]\n",
      "======= . Simulation 84  ========\n",
      "newsam.agents = Symbol[:S, :R, :S, :R, :S, :S, :S, :I, :S, :S, :S, :R, :S, :S, :R, :S, :S, :I, :S, :I]\n",
      "======= . Simulation 85  ========\n",
      "newsam.agents = Symbol[:R, :S, :S, :R, :R, :S, :S, :I, :S, :R, :R, :R, :R, :R, :R, :R, :S, :R, :R, :S]\n",
      "======= . Simulation 86  ========\n",
      "newsam.agents = Symbol[:S, :R, :I, :S, :I, :I, :R, :R, :S, :S, :I, :R, :I, :R, :R, :S, :S, :R, :I, :S]\n",
      "======= . Simulation 87  ========\n",
      "newsam.agents = Symbol[:R, :I, :S, :R, :S, :R, :S, :I, :R, :S, :R, :S, :I, :I, :S, :I, :R, :R, :S, :I]\n",
      "======= . Simulation 88  ========\n",
      "newsam.agents = Symbol[:S, :S, :S, :S, :I, :S, :I, :S, :R, :S, :S, :S, :I, :S, :S, :S, :S, :S, :S, :S]\n",
      "======= . Simulation 89  ========\n",
      "newsam.agents = Symbol[:I, :I, :R, :I, :I, :I, :I, :I, :I, :I, :I, :R, :I, :I, :R, :I, :I, :I, :I, :I]\n",
      "======= . Simulation 90  ========\n",
      "newsam.agents = Symbol[:R, :S, :I, :S, :S, :R, :I, :S, :R, :S, :S, :S, :R, :S, :S, :S, :R, :S, :S, :S]\n",
      "======= . Simulation 91  ========\n",
      "newsam.agents = Symbol[:S, :R, :S, :R, :S, :S, :S, :R, :S, :S, :S, :S, :I, :S, :S, :R, :S, :S, :R, :R]\n",
      "======= . Simulation 92  ========\n",
      "newsam.agents = Symbol[:S, :S, :I, :I, :S, :R, :I, :S, :R, :S, :S, :S, :S, :R, :S, :R, :R, :R, :S, :S]\n",
      "======= . Simulation 93  ========\n",
      "newsam.agents = Symbol[:S, :S, :R, :S, :S, :S, :S, :R, :S, :S, :S, :R, :I, :S, :S, :I, :R, :S, :S, :S]\n",
      "======= . Simulation 94  ========\n",
      "newsam.agents = Symbol[:I, :I, :I, :I, :I, :I, :I, :I, :I, :I, :I, :I, :I, :I, :I, :I, :I, :I, :I, :I]\n",
      "======= . Simulation 95  ========\n",
      "newsam.agents = Symbol[:R, :S, :S, :I, :R, :R, :I, :R, :I, :S, :S, :I, :R, :S, :S, :R, :S, :I, :R, :I]\n",
      "======= . Simulation 96  ========\n",
      "newsam.agents = Symbol[:S, :R, :S, :S, :S, :S, :R, :S, :I, :S, :S, :I, :I, :R, :S, :S, :R, :I, :S, :S]\n",
      "======= . Simulation 97  ========\n",
      "newsam.agents = Symbol[:S, :S, :R, :S, :S, :S, :I, :S, :S, :S, :S, :I, :S, :S, :S, :I, :S, :S, :S, :S]\n",
      "======= . Simulation 98  ========\n",
      "newsam.agents = Symbol[:I, :I, :S, :S, :R, :S, :S, :I, :I, :S, :I, :S, :I, :R, :S, :S, :I, :I, :R, :I]\n",
      "======= . Simulation 99  ========\n",
      "newsam.agents = Symbol[:S, :R, :S, :S, :S, :S, :S, :S, :S, :S, :S, :S, :S, :S, :S, :S, :S, :I, :I, :S]\n",
      "======= . Simulation 100  ========\n",
      "newsam.agents = Symbol[:S, :R, :S, :S, :S, :S, :R, :S, :S, :R, :S, :S, :S, :S, :R, :S, :S, :S, :S, :S]\n"
     ]
    }
   ],
   "source": [
    "magents = m\n",
    "println(\"\\nRunning basic model\")\n",
    "AgentModels = eval(m.expr)\n",
    "for i in 1:samples\n",
    "    println((\"======= . Simulation $i  ========\"))\n",
    "    newsam, counts, params = AgentModels.main(nsteps)\n",
    "    push!(finalcounts, (model=:basic, counts=counts, params=params))\n",
    "end"
   ]
  },
  {
   "cell_type": "code",
   "execution_count": 7,
   "metadata": {
    "slideshow": {
     "slide_type": "subslide"
    }
   },
   "outputs": [
    {
     "name": "stdout",
     "output_type": "stream",
     "text": [
      "length(finalcounts) = 100\n"
     ]
    },
    {
     "data": {
      "text/plain": [
       "100-element Array{Any,1}:\n",
       " (model = :basic, counts = Pair{Symbol,Int64}[:S=>3, :I=>11, :R=>6], params = (ρ = 0.5827511714636062, μ = 0.5, n = 20))   \n",
       " (model = :basic, counts = Pair{Symbol,Int64}[:S=>5, :I=>13, :R=>2], params = (ρ = 0.6651437586610796, μ = 0.5, n = 20))   \n",
       " (model = :basic, counts = Pair{Symbol,Int64}[:S=>8, :I=>9, :R=>3], params = (ρ = 0.6810747215209896, μ = 0.5, n = 20))    \n",
       " (model = :basic, counts = Pair{Symbol,Int64}[:S=>0, :I=>20, :R=>0], params = (ρ = 0.9757897163698899, μ = 0.5, n = 20))   \n",
       " (model = :basic, counts = Pair{Symbol,Int64}[:S=>9, :I=>5, :R=>6], params = (ρ = 0.2991028111098981, μ = 0.5, n = 20))    \n",
       " (model = :basic, counts = Pair{Symbol,Int64}[:S=>6, :I=>9, :R=>5], params = (ρ = 0.7277261034202048, μ = 0.5, n = 20))    \n",
       " (model = :basic, counts = Pair{Symbol,Int64}[:S=>5, :I=>9, :R=>6], params = (ρ = 0.5469754327325271, μ = 0.5, n = 20))    \n",
       " (model = :basic, counts = Pair{Symbol,Int64}[:S=>10, :I=>7, :R=>3], params = (ρ = 0.41838619723659, μ = 0.5, n = 20))     \n",
       " (model = :basic, counts = Pair{Symbol,Int64}[:S=>8, :I=>7, :R=>5], params = (ρ = 0.674644594145217, μ = 0.5, n = 20))     \n",
       " (model = :basic, counts = Pair{Symbol,Int64}[:S=>9, :I=>1, :R=>10], params = (ρ = 0.047396329249088376, μ = 0.5, n = 20)) \n",
       " (model = :basic, counts = Pair{Symbol,Int64}[:S=>9, :I=>5, :R=>6], params = (ρ = 0.17650234014854022, μ = 0.5, n = 20))   \n",
       " (model = :basic, counts = Pair{Symbol,Int64}[:S=>5, :I=>7, :R=>8], params = (ρ = 0.14975719356519507, μ = 0.5, n = 20))   \n",
       " (model = :basic, counts = Pair{Symbol,Int64}[:S=>12, :I=>5, :R=>3], params = (ρ = -0.044844426580383345, μ = 0.5, n = 20))\n",
       " ⋮                                                                                                                         \n",
       " (model = :basic, counts = Pair{Symbol,Int64}[:S=>0, :I=>17, :R=>3], params = (ρ = 0.9078191548700152, μ = 0.5, n = 20))   \n",
       " (model = :basic, counts = Pair{Symbol,Int64}[:S=>13, :I=>2, :R=>5], params = (ρ = 0.2608550389174502, μ = 0.5, n = 20))   \n",
       " (model = :basic, counts = Pair{Symbol,Int64}[:S=>13, :I=>1, :R=>6], params = (ρ = 0.5036823092556812, μ = 0.5, n = 20))   \n",
       " (model = :basic, counts = Pair{Symbol,Int64}[:S=>11, :I=>3, :R=>6], params = (ρ = 0.40643351804334793, μ = 0.5, n = 20))  \n",
       " (model = :basic, counts = Pair{Symbol,Int64}[:S=>14, :I=>2, :R=>4], params = (ρ = -0.07213936016930123, μ = 0.5, n = 20)) \n",
       " (model = :basic, counts = Pair{Symbol,Int64}[:S=>0, :I=>20, :R=>0], params = (ρ = 1.2271305844054545, μ = 0.5, n = 20))   \n",
       " (model = :basic, counts = Pair{Symbol,Int64}[:S=>7, :I=>6, :R=>7], params = (ρ = 0.6946945433103316, μ = 0.5, n = 20))    \n",
       " (model = :basic, counts = Pair{Symbol,Int64}[:S=>12, :I=>4, :R=>4], params = (ρ = 0.4972811614611517, μ = 0.5, n = 20))   \n",
       " (model = :basic, counts = Pair{Symbol,Int64}[:S=>16, :I=>3, :R=>1], params = (ρ = 0.49982934106909654, μ = 0.5, n = 20))  \n",
       " (model = :basic, counts = Pair{Symbol,Int64}[:S=>8, :I=>9, :R=>3], params = (ρ = 0.5008100553581989, μ = 0.5, n = 20))    \n",
       " (model = :basic, counts = Pair{Symbol,Int64}[:S=>17, :I=>2, :R=>1], params = (ρ = 0.16133178799347764, μ = 0.5, n = 20))  \n",
       " (model = :basic, counts = Pair{Symbol,Int64}[:S=>16, :I=>0, :R=>4], params = (ρ = 0.41668268363819516, μ = 0.5, n = 20))  "
      ]
     },
     "execution_count": 7,
     "metadata": {},
     "output_type": "execute_result"
    }
   ],
   "source": [
    "@show length(finalcounts)\n",
    "finalcounts"
   ]
  },
  {
   "cell_type": "code",
   "execution_count": 8,
   "metadata": {
    "slideshow": {
     "slide_type": "subslide"
    }
   },
   "outputs": [
    {
     "name": "stdout",
     "output_type": "stream",
     "text": [
      "newsam.agents = Symbol[:I, :R, :R, :R, :I, :I, :S, :I, :S, :S, :S, :S, :R, :I, :I, :I, :R, :S, :R, :I]\n"
     ]
    },
    {
     "data": {
      "text/plain": [
       "(Pair{Symbol,Int64}[:S=>6, :I=>8, :R=>6], (ρ = 0.7038401006565645, μ = 0.5, n = 20))"
      ]
     },
     "execution_count": 8,
     "metadata": {},
     "output_type": "execute_result"
    }
   ],
   "source": [
    "ModelTools.invoke(magents, 10)[2:end]"
   ]
  },
  {
   "cell_type": "markdown",
   "metadata": {
    "slideshow": {
     "slide_type": "slide"
    }
   },
   "source": [
    "## Statistical Regression Model\n",
    "The following expression defines a univariate polynomial regression model of degree 0, which just computes the average of target variable. This model can be augmented to an polynomial regression model using transformations\n",
    "$T_1,T_x$ which will be defined later."
   ]
  },
  {
   "cell_type": "code",
   "execution_count": 9,
   "metadata": {
    "slideshow": {
     "slide_type": "subslide"
    }
   },
   "outputs": [
    {
     "data": {
      "text/plain": [
       "Main.Regression"
      ]
     },
     "execution_count": 9,
     "metadata": {},
     "output_type": "execute_result"
    }
   ],
   "source": [
    "\n",
    "expr = quote\n",
    "    module Regression\n",
    "    using Random\n",
    "    using LsqFit\n",
    "    using LinearAlgebra\n",
    "\n",
    "    function f(x, β)\n",
    "        # This .+ node is added so that we have something to grab onto\n",
    "        # in the metaprogramming. It is the ∀a .+(a) == a. \n",
    "        return .+(β[1].* x.^0)\n",
    "    end\n",
    "\n",
    "    function sample(g::Function, n)\n",
    "        x = randn(Float64, n)\n",
    "        target = g(x) .+ randn(Float64, n[1])./1600\n",
    "        return x, target\n",
    "    end\n",
    "\n",
    "    function describe(fit)\n",
    "        if !fit.converged\n",
    "            error(\"Did not converge\")\n",
    "        end\n",
    "        return (β = fit.param, r=norm(fit.resid,2), n=length(fit.resid))\n",
    "    end\n",
    "    #setup\n",
    "    a₀ = [1.0]\n",
    "    function main(X, target)\n",
    "        #solving\n",
    "        fit = curve_fit(f, X, target, a₀)#; autodiff=:forwarddiff)\n",
    "        result = describe(fit)\n",
    "        return fit, result\n",
    "    end\n",
    "end\n",
    "end\n",
    "Regression = eval(expr.args[2])"
   ]
  },
  {
   "cell_type": "code",
   "execution_count": 10,
   "metadata": {
    "slideshow": {
     "slide_type": "subslide"
    }
   },
   "outputs": [
    {
     "data": {
      "text/plain": [
       "connector (generic function with 1 method)"
      ]
     },
     "execution_count": 10,
     "metadata": {},
     "output_type": "execute_result"
    }
   ],
   "source": [
    "function connector(finalcounts)\n",
    "    n = length(finalcounts)\n",
    "    Data = zeros(n,length(finalcounts[1].counts))\n",
    "    @show size(Data)\n",
    "    for i in 1:n\n",
    "        c = finalcounts[i].counts\n",
    "        Data[i, : ] = map(last, c)\n",
    "    end\n",
    "    # multivariate regression not yet supported\n",
    "    # X = Data[:, 1:end-2]\n",
    "    # Y = Data[:, end]\n",
    "    # @assert(size(X) == (n,size(Data,2)-2))\n",
    "    # @assert(size(Y) == (n,))\n",
    "    X = Data[:, 1]\n",
    "    Y = Data[:, 2]\n",
    "    @assert size(X,1) == size(Y,1)\n",
    "    return X,Y\n",
    "end"
   ]
  },
  {
   "cell_type": "code",
   "execution_count": 11,
   "metadata": {
    "slideshow": {
     "slide_type": "subslide"
    }
   },
   "outputs": [
    {
     "name": "stdout",
     "output_type": "stream",
     "text": [
      "size(Data) = (100, 3)\n"
     ]
    },
    {
     "data": {
      "text/plain": [
       "100-element Array{Tuple{Float64,Float64},1}:\n",
       " (3.0, 11.0)\n",
       " (5.0, 13.0)\n",
       " (8.0, 9.0) \n",
       " (0.0, 20.0)\n",
       " (9.0, 5.0) \n",
       " (6.0, 9.0) \n",
       " (5.0, 9.0) \n",
       " (10.0, 7.0)\n",
       " (8.0, 7.0) \n",
       " (9.0, 1.0) \n",
       " (9.0, 5.0) \n",
       " (5.0, 7.0) \n",
       " (12.0, 5.0)\n",
       " ⋮          \n",
       " (0.0, 17.0)\n",
       " (13.0, 2.0)\n",
       " (13.0, 1.0)\n",
       " (11.0, 3.0)\n",
       " (14.0, 2.0)\n",
       " (0.0, 20.0)\n",
       " (7.0, 6.0) \n",
       " (12.0, 4.0)\n",
       " (16.0, 3.0)\n",
       " (8.0, 9.0) \n",
       " (17.0, 2.0)\n",
       " (16.0, 0.0)"
      ]
     },
     "execution_count": 11,
     "metadata": {},
     "output_type": "execute_result"
    }
   ],
   "source": [
    "X,Y = connector(finalcounts)\n",
    "collect(zip(X,Y))"
   ]
  },
  {
   "cell_type": "code",
   "execution_count": 12,
   "metadata": {
    "slideshow": {
     "slide_type": "fragment"
    }
   },
   "outputs": [
    {
     "name": "stdout",
     "output_type": "stream",
     "text": [
      "size(Data) = (100, 3)\n"
     ]
    },
    {
     "data": {
      "text/plain": [
       "(β = [5.92], r = 46.83332147093563, n = 100)"
      ]
     },
     "execution_count": 12,
     "metadata": {},
     "output_type": "execute_result"
    }
   ],
   "source": [
    "fit, result = Regression.main(connector(finalcounts)...)\n",
    "result"
   ]
  },
  {
   "cell_type": "code",
   "execution_count": 13,
   "metadata": {
    "lines_to_next_cell": 2,
    "slideshow": {
     "slide_type": "fragment"
    }
   },
   "outputs": [],
   "source": [
    "if sum(fit.resid)/length(fit.resid) > 1e-8\n",
    "    @warn \"Mean residual is large, regression might have failed\"\n",
    "end"
   ]
  },
  {
   "cell_type": "markdown",
   "metadata": {
    "slideshow": {
     "slide_type": "skip"
    }
   },
   "source": [
    "## Implementation Details\n",
    "The following code is the implementation details for representing the models as an `AbstractProblem` and representing the transformations as `Product{Tuple{Pow{Int}, Pow{Int}}}` and applying the transformations onto the models.\n",
    "\n",
    "See the `examples/polynomial_regression.jl` example for details of what this code does."
   ]
  },
  {
   "cell_type": "code",
   "execution_count": 14,
   "metadata": {
    "slideshow": {
     "slide_type": "skip"
    }
   },
   "outputs": [],
   "source": [
    "using LinearAlgebra\n",
    "using SemanticModels\n",
    "using SemanticModels.ModelTools\n",
    "using SemanticModels.ModelTools.Transformations\n",
    "import SemanticModels.ModelTools: model, AbstractModel, isexpr\n",
    "import SemanticModels.Parsers: findfunc, findassign\n",
    "import Base: show"
   ]
  },
  {
   "cell_type": "code",
   "execution_count": 15,
   "metadata": {
    "slideshow": {
     "slide_type": "notes"
    }
   },
   "outputs": [
    {
     "data": {
      "text/plain": [
       "SemanticModels.ModelTools.Transformations.Pow"
      ]
     },
     "execution_count": 15,
     "metadata": {},
     "output_type": "execute_result"
    }
   ],
   "source": [
    "\"\"\"    Lsq\n",
    "\n",
    "\n",
    "A program that solves min_β || f(X,β) - y ||_2\n",
    "\n",
    "Example:\n",
    "\n",
    "`f(X, β) = β[1].*X.^p .+ β[2].*X.^q`\n",
    "\n",
    "See also [`(t::Pow)(m::MultivariateLsq)`](@ref)\n",
    "\"\"\"\n",
    "struct Lsq <: AbstractModel\n",
    "    expr\n",
    "    f\n",
    "    coefficient\n",
    "    p₀\n",
    "end\n",
    "\n",
    "function show(io::IO, m::Lsq)\n",
    "    write(io, \"Lsq(\\n  f=$(repr(m.f)),\\n  coefficient=$(repr(m.coefficient)),\\n  p₀=$(repr(m.p₀))\\n)\")\n",
    "end\n",
    "\n",
    "function model(::Type{Lsq}, expr::Expr)\n",
    "    if expr.head == :block\n",
    "        return model(Lsq, expr.args[2])\n",
    "    end\n",
    "    objective = :l2norm\n",
    "    f = callsites(expr, :curve_fit)[end].args[2]\n",
    "    coeff = callsites(expr, f)[1].args[end]\n",
    "    p₀ = callsites(expr, :curve_fit)[end].args[end]\n",
    "    return Lsq(expr, f, coeff, p₀)\n",
    "end\n",
    "\n",
    "\"\"\"    poly(m::Lsq)::Expr\n",
    "\n",
    "find the part of the model that implements the polynomial model for regression.\n",
    "\"\"\"\n",
    "function poly(m::Lsq)\n",
    "    func = findfunc(m.expr, m.f)[1]\n",
    "    poly = func.args[2].args[end].args[1]\n",
    "    return poly\n",
    "end\n",
    "\n",
    "\"\"\"    (t::Pow)(m::Lsq)\n",
    "\n",
    "Example:\n",
    "\n",
    "If `m` is a program implementing `f(X, β) = β[1]*X^p + β[2]*X^q`\n",
    "\n",
    "a) and `t = Pow(2)` then `t(m)` is the model implementing\n",
    "`f(X, β) = β[1]*X^p+2 + β[2]*X^q+q`.\n",
    "\n",
    "\"\"\"\n",
    "function (t::Pow)(m::Lsq)\n",
    "    p = poly(m)\n",
    "    for i in 2:length(p.args)\n",
    "        slot = p.args[i]\n",
    "        pow = callsites(slot, :(.^))\n",
    "        pow[end].args[3] += t.inc\n",
    "    end\n",
    "    return m\n",
    "end"
   ]
  },
  {
   "cell_type": "code",
   "execution_count": 16,
   "metadata": {
    "slideshow": {
     "slide_type": "notes"
    }
   },
   "outputs": [
    {
     "data": {
      "text/plain": [
       "AddConst"
      ]
     },
     "execution_count": 16,
     "metadata": {},
     "output_type": "execute_result"
    }
   ],
   "source": [
    "struct AddConst <: Transformations.Transformation end\n",
    "\n",
    "\"\"\"    (c::AddConst)(m::MultivariateLsq)\n",
    "\n",
    "Example:\n",
    "\n",
    "If `m` is a program implementing `f(X, β) = β[1]*X^p + β[2]*X^q`\n",
    "\n",
    "a) and `c = AddConst()` then `c(m)` is the model implementing\n",
    "`f(X, β) = β[1]*X^p + β[2]*X^0`.\n",
    "\n",
    "\"\"\"\n",
    "function (c::AddConst)(m::Lsq)\n",
    "    p = poly(m)\n",
    "    ix = map(t->t.args[2].args[2], p.args[2:end])\n",
    "    i = maximum(ix)+1\n",
    "    @show p\n",
    "    push!(p.args, :(β[$i].*x.^0))\n",
    "    assigns = findassign(m.expr, m.p₀)\n",
    "    @show assigns\n",
    "    b = assigns[end].args[2].args\n",
    "    push!(b, 1)\n",
    "    return m\n",
    "end"
   ]
  },
  {
   "cell_type": "markdown",
   "metadata": {
    "slideshow": {
     "slide_type": "slide"
    }
   },
   "source": [
    "## Model Augmentation yields polynomial regression\n",
    "Given our transformations `f(x) -> xf(x)` and `f(x) -> f(x) + beta` we are able to generate all possible polynomial regression using composition of these transformations."
   ]
  },
  {
   "cell_type": "code",
   "execution_count": 17,
   "metadata": {
    "slideshow": {
     "slide_type": "slide"
    }
   },
   "outputs": [
    {
     "name": "stdout",
     "output_type": "stream",
     "text": [
      "m = Lsq(\n",
      "  f=:f,\n",
      "  coefficient=:β,\n",
      "  p₀=:a₀\n",
      ")\n"
     ]
    },
    {
     "data": {
      "text/plain": [
       ":((.+)(β[1] .* x .^ 0))"
      ]
     },
     "execution_count": 17,
     "metadata": {},
     "output_type": "execute_result"
    }
   ],
   "source": [
    "# Let's build an instance of the model object from the code snippet expr\n",
    "m = model(Lsq, deepcopy(expr))\n",
    "mstats = deepcopy(m)\n",
    "@show m\n",
    "poly(m)"
   ]
  },
  {
   "cell_type": "markdown",
   "metadata": {},
   "source": [
    "### Generating the Transformation Group\n",
    "\n",
    "1. $T_x,T_1$ are *generators* for our group of transformations $T = \\langle T_x, T_1 \\rangle$.\n",
    "2. $T_1$ adds a constant to our polynomial \n",
    "3. $T_x$ multiplies by $x$\n",
    "4. Any polynomial can be generated by these two operations cf. Horner's rule."
   ]
  },
  {
   "cell_type": "code",
   "execution_count": 18,
   "metadata": {
    "slideshow": {
     "slide_type": "subslide"
    }
   },
   "outputs": [
    {
     "name": "stdout",
     "output_type": "stream",
     "text": [
      "p = :((.+)(β[1] .* x .^ 1))\n",
      "assigns = Expr[:(a₀ = [1.0])]\n",
      "poly(m) = :((.+)(β[1] .* x .^ 0))\n",
      "poly(m′) = :(β[1] .* x .^ 1 .+ β[2] .* x .^ 0)\n",
      "size(Data) = (100, 3)\n"
     ]
    },
    {
     "name": "stderr",
     "output_type": "stream",
     "text": [
      "WARNING: replacing module Regression.\n"
     ]
    },
    {
     "data": {
      "text/plain": [
       "(β = [-0.809103, 13.6146], r = 25.960147756914687, n = 100)"
      ]
     },
     "execution_count": 18,
     "metadata": {},
     "output_type": "execute_result"
    }
   ],
   "source": [
    "Tₓ = Pow(1)\n",
    "T₁ = AddConst();\n",
    "\n",
    "m′ = deepcopy(m)\n",
    "Tₓ(m′)\n",
    "T₁(m′)\n",
    "@show poly(m)\n",
    "Regression = eval(m′.expr)\n",
    "\n",
    "@show poly(m′)\n",
    "fit′, result′ = Regression.main(connector(finalcounts)...)\n",
    "result′"
   ]
  },
  {
   "cell_type": "code",
   "execution_count": 19,
   "metadata": {
    "slideshow": {
     "slide_type": "subslide"
    }
   },
   "outputs": [
    {
     "name": "stdout",
     "output_type": "stream",
     "text": [
      "p = :(β[1] .* x .^ 3 .+ β[2] .* x .^ 2)\n",
      "assigns = Expr[:(a₀ = [1.0, 1])]\n",
      "poly(m) = :((.+)(β[1] .* x .^ 0))\n",
      "poly(m′) = :(.+(β[1] .* x .^ 3, β[2] .* x .^ 2, β[3] .* x .^ 0))\n",
      "size(Data) = (100, 3)\n"
     ]
    },
    {
     "name": "stderr",
     "output_type": "stream",
     "text": [
      "WARNING: replacing module Regression.\n"
     ]
    },
    {
     "data": {
      "text/plain": [
       "(β = [0.00536803, -0.132282, 12.7922], r = 27.696444985296033, n = 100)"
      ]
     },
     "execution_count": 19,
     "metadata": {},
     "output_type": "execute_result"
    }
   ],
   "source": [
    "Tₓ(m′)\n",
    "Tₓ(m′)\n",
    "T₁(m′)\n",
    "@show poly(m)\n",
    "Regression = eval(m′.expr)\n",
    "\n",
    "@show poly(m′)\n",
    "fit′, result′ = Regression.main(connector(finalcounts)...)\n",
    "result′"
   ]
  },
  {
   "cell_type": "markdown",
   "metadata": {
    "slideshow": {
     "slide_type": "slide"
    }
   },
   "source": [
    "# Model workflows\n",
    "\n",
    "Models can be chained together into workflows, the most basic type is a pipeline where the outputs from model $m_i$ are passed to model $m_{i+1}$. One area where traditional modeling frameworks get in trouble is the fact that the connections between the models can be arbitrarily complex. Thus any modeling framework that supports worflows, must embed a programming language for describing the connectors between the steps of the workflow.\n",
    "\n",
    "Since we are already embedded in Julia, we will use regular Julia functions for the connectors.\n",
    "\n",
    "Mathematically, a pipeline is defined as $r_n = P(m_1,\\dots,m_n, c_1,\\dots,c_n)$ based on the recurrence,\n",
    "\n",
    "$r_0 = m_1(c)$ where $c$ is a constant value, and \n",
    "\n",
    "$r_i = m_i(c_i(r_{i-1}))$\n",
    "\n",
    "\n",
    "We store the values of $r_i$ in the field results so that they can be accessed later by visualization and  analysis programs."
   ]
  },
  {
   "cell_type": "code",
   "execution_count": 20,
   "metadata": {
    "slideshow": {
     "slide_type": "notes"
    }
   },
   "outputs": [
    {
     "data": {
      "text/plain": [
       "Main.Pipelines"
      ]
     },
     "execution_count": 20,
     "metadata": {},
     "output_type": "execute_result"
    }
   ],
   "source": [
    "module Pipelines\n",
    "using SemanticModels.ModelTools\n",
    "using Random\n",
    "struct Pipeline <: AbstractModel\n",
    "    steps\n",
    "    connectors\n",
    "    results\n",
    "end\n",
    "\n",
    "function run!(p::Pipeline)\n",
    "    stages = length(p.steps)\n",
    "    connectors = p.connectors\n",
    "    for s in 1:stages\n",
    "        data = p.results[end]\n",
    "        r = connectors[s](p.steps[s], data...)\n",
    "        push!(p.results, r)\n",
    "    end\n",
    "end\n",
    "\n",
    "function reset!(p::Pipeline)\n",
    "    while length(p.results) > 1\n",
    "        pop!(p.results)\n",
    "    end\n",
    "    return p\n",
    "end\n",
    "end"
   ]
  },
  {
   "cell_type": "markdown",
   "metadata": {},
   "source": [
    "## Running the baseline workflow\n",
    "\n",
    "This workflow connects the two models so that we simulate the agent based model and then perform a regression on the outputs."
   ]
  },
  {
   "cell_type": "code",
   "execution_count": 21,
   "metadata": {
    "slideshow": {
     "slide_type": "subslide"
    }
   },
   "outputs": [
    {
     "data": {
      "text/plain": [
       "Main.Pipelines.Pipeline(AbstractModel[ExpStateModel(\n",
       "  states=:([:S, :I, :R]),\n",
       "  agents=Expr[:(a = sm.agents), :(a = fill(:S, n))],\n",
       "  transitions=Expr[:(T = Dict(:S => (x...->begin\n",
       "                      #= none:120 =#\n",
       "                      if rand(Float64) < stateload(x[1], :I)\n",
       "                          :I\n",
       "                      else\n",
       "                          :S\n",
       "                      end\n",
       "                  end), :I => (x...->begin\n",
       "                      #= none:121 =#\n",
       "                      if rand(Float64) < ρ\n",
       "                          :I\n",
       "                      else\n",
       "                          :R\n",
       "                      end\n",
       "                  end), :R => (x...->begin\n",
       "                      #= none:122 =#\n",
       "                      if rand(Float64) < μ\n",
       "                          :R\n",
       "                      else\n",
       "                          :S\n",
       "                      end\n",
       "                  end)))]\n",
       "), Lsq(\n",
       "  f=:f,\n",
       "  coefficient=:β,\n",
       "  p₀=:a₀\n",
       ")], Function[##11#13(), ##12#14()], Any[10])"
      ]
     },
     "execution_count": 21,
     "metadata": {},
     "output_type": "execute_result"
    }
   ],
   "source": [
    "P = Pipelines.Pipeline(deepcopy.([magents, mstats]),\n",
    "    [(m, args...) -> begin \n",
    "            Random.seed!(42)\n",
    "            results = Any[]\n",
    "            Mod = eval(m.expr)\n",
    "            for i in 1:samples\n",
    "                r = Base.invokelatest(Mod.main, args...)\n",
    "                push!(results, (model=:basic, counts=r[2], params=r[3]))\n",
    "                #push!(results, r)\n",
    "            end\n",
    "            return [results]\n",
    "                end,\n",
    "        (m, results...) -> begin\n",
    "            data = connector(results...)\n",
    "            Mod = eval(m.expr)\n",
    "            Base.invokelatest(Mod.main, data...) end\n",
    "        ],\n",
    "        Any[(10)]\n",
    "        )    "
   ]
  },
  {
   "cell_type": "markdown",
   "metadata": {},
   "source": [
    "Warning: Pipelines can only be run once. Recreate the pipeline and run it again if necessary."
   ]
  },
  {
   "cell_type": "code",
   "execution_count": 22,
   "metadata": {
    "slideshow": {
     "slide_type": "subslide"
    }
   },
   "outputs": [
    {
     "name": "stdout",
     "output_type": "stream",
     "text": [
      "newsam.agents = Symbol[:S, :S, :S, :S, :S, :S, :S, :S, :S, :S, :S, :S, :S, :S, :I, :S, :R, :S, :S, :I]\n",
      "newsam.agents = Symbol[:R, :S, :S, :S, :R, :S, :S, :S, :S, :S, :S, :S, :S, :I, :S, :S, :S, :S, :S, :S]\n",
      "newsam.agents = Symbol[:I, :I, :S, :S, :I, :I, :R, :I, :I, :I, :S, :R, :S, :R, :I, :I, :I, :I, :I, :I]\n",
      "newsam.agents = Symbol[:I, :S, :R, :S, :S, :S, :R, :S, :S, :S, :S, :S, :R, :R, :R, :R, :S, :S, :I, :S]\n",
      "newsam.agents = Symbol[:S, :S, :R, :R, :S, :S, :S, :R, :I, :S, :S, :S, :I, :S, :R, :S, :S, :S, :S, :R]\n",
      "newsam.agents = Symbol[:R, :R, :R, :S, :S, :I, :S, :I, :R, :I, :S, :S, :S, :S, :S, :S, :S, :S, :R, :I]\n",
      "newsam.agents = Symbol[:I, :I, :I, :I, :R, :I, :I, :S, :R, :I, :I, :R, :I, :R, :I, :I, :I, :R, :I, :I]\n",
      "newsam.agents = Symbol[:S, :R, :S, :S, :R, :S, :R, :S, :S, :S, :R, :S, :R, :S, :S, :R, :S, :S, :S, :S]\n",
      "newsam.agents = Symbol[:I, :I, :I, :I, :S, :S, :I, :I, :R, :S, :R, :R, :S, :S, :R, :S, :S, :S, :S, :S]\n",
      "newsam.agents = Symbol[:S, :S, :I, :S, :R, :S, :R, :S, :S, :R, :S, :S, :S, :R, :S, :S, :R, :S, :S, :S]\n",
      "newsam.agents = Symbol[:R, :R, :I, :S, :I, :S, :R, :I, :R, :I, :I, :I, :S, :I, :I, :I, :R, :S, :I, :S]\n",
      "newsam.agents = Symbol[:I, :I, :I, :I, :I, :I, :I, :R, :I, :I, :I, :I, :I, :I, :I, :R, :R, :I, :I, :I]\n",
      "newsam.agents = Symbol[:S, :S, :S, :S, :I, :S, :S, :S, :S, :S, :S, :S, :S, :I, :R, :S, :I, :S, :S, :S]\n",
      "newsam.agents = Symbol[:I, :I, :S, :R, :I, :R, :R, :R, :I, :S, :S, :S, :R, :R, :S, :R, :R, :I, :I, :S]\n",
      "newsam.agents = Symbol[:S, :R, :I, :I, :I, :R, :R, :S, :R, :S, :S, :S, :R, :S, :I, :S, :I, :R, :R, :I]\n",
      "newsam.agents = Symbol[:S, :I, :S, :S, :I, :S, :S, :S, :I, :S, :I, :R, :S, :S, :S, :S, :S, :S, :I, :I]\n",
      "newsam.agents = Symbol[:S, :S, :R, :S, :R, :S, :I, :R, :R, :I, :I, :R, :R, :R, :S, :S, :I, :S, :I, :S]\n",
      "newsam.agents = Symbol[:I, :S, :R, :I, :R, :S, :S, :S, :S, :S, :R, :I, :I, :S, :R, :R, :R, :R, :I, :I]\n",
      "newsam.agents = Symbol[:I, :R, :S, :I, :S, :I, :S, :S, :S, :S, :I, :R, :R, :I, :S, :I, :S, :S, :I, :S]\n",
      "newsam.agents = Symbol[:S, :R, :S, :S, :S, :S, :S, :R, :S, :S, :S, :S, :S, :S, :S, :S, :S, :S, :S, :S]\n",
      "newsam.agents = Symbol[:I, :R, :I, :S, :R, :I, :S, :S, :I, :R, :I, :R, :S, :S, :I, :S, :I, :R, :R, :S]\n",
      "newsam.agents = Symbol[:I, :S, :R, :R, :I, :S, :I, :S, :I, :I, :I, :I, :I, :I, :I, :I, :I, :I, :I, :I]\n",
      "newsam.agents = Symbol[:R, :R, :S, :S, :I, :S, :S, :S, :S, :S, :R, :S, :R, :S, :S, :I, :S, :S, :R, :S]\n",
      "newsam.agents = Symbol[:R, :S, :S, :S, :S, :S, :S, :R, :S, :S, :R, :S, :R, :I, :I, :S, :S, :S, :S, :R]\n",
      "newsam.agents = Symbol[:S, :S, :S, :S, :S, :S, :S, :S, :S, :S, :S, :S, :S, :S, :S, :S, :S, :S, :S, :S]\n",
      "newsam.agents = Symbol[:S, :I, :I, :R, :R, :R, :R, :R, :I, :I, :R, :S, :R, :R, :S, :I, :R, :S, :S, :S]\n",
      "newsam.agents = Symbol[:R, :S, :S, :S, :I, :S, :R, :S, :S, :S, :S, :I, :S, :R, :R, :I, :R, :R, :S, :S]\n",
      "newsam.agents = Symbol[:S, :S, :I, :I, :R, :I, :I, :I, :R, :S, :I, :I, :S, :I, :I, :S, :I, :I, :S, :I]\n",
      "newsam.agents = Symbol[:S, :S, :S, :S, :R, :S, :S, :S, :S, :S, :R, :R, :I, :I, :S, :S, :R, :I, :R, :S]\n",
      "newsam.agents = Symbol[:I, :R, :S, :S, :S, :R, :I, :I, :S, :I, :S, :I, :R, :S, :I, :R, :I, :I, :I, :I]\n",
      "newsam.agents = Symbol[:I, :I, :S, :I, :I, :I, :I, :I, :S, :I, :S, :I, :I, :R, :R, :I, :I, :S, :I, :I]\n",
      "newsam.agents = Symbol[:S, :S, :I, :S, :S, :I, :R, :S, :S, :I, :R, :I, :R, :S, :R, :R, :R, :S, :R, :R]\n",
      "newsam.agents = Symbol[:S, :I, :R, :S, :S, :I, :I, :R, :R, :S, :S, :S, :R, :S, :I, :I, :S, :S, :S, :S]\n",
      "newsam.agents = Symbol[:I, :I, :I, :I, :I, :I, :I, :S, :R, :I, :S, :I, :S, :I, :I, :I, :S, :I, :I, :I]\n",
      "newsam.agents = Symbol[:I, :I, :I, :I, :I, :R, :I, :I, :R, :I, :I, :R, :S, :I, :I, :S, :I, :I, :I, :R]\n",
      "newsam.agents = Symbol[:I, :R, :S, :I, :S, :I, :I, :S, :I, :I, :I, :I, :I, :S, :S, :S, :I, :S, :I, :R]\n",
      "newsam.agents = Symbol[:I, :S, :I, :S, :R, :I, :I, :S, :R, :I, :S, :I, :S, :S, :I, :I, :I, :I, :I, :R]\n",
      "newsam.agents = Symbol[:S, :S, :S, :S, :S, :R, :S, :S, :S, :S, :R, :S, :S, :S, :S, :S, :S, :S, :S, :R]\n",
      "newsam.agents = Symbol[:S, :S, :R, :S, :S, :S, :S, :S, :R, :S, :R, :I, :I, :I, :R, :S, :R, :S, :S, :S]\n",
      "newsam.agents = Symbol[:I, :I, :I, :I, :I, :I, :I, :S, :R, :R, :I, :R, :I, :R, :I, :I, :I, :R, :I, :I]\n",
      "newsam.agents = Symbol[:S, :I, :S, :R, :S, :S, :S, :S, :S, :S, :I, :R, :S, :S, :S, :S, :S, :S, :S, :R]\n",
      "newsam.agents = Symbol[:I, :S, :R, :S, :S, :S, :I, :S, :S, :I, :R, :S, :S, :S, :S, :R, :S, :S, :I, :R]\n",
      "newsam.agents = Symbol[:S, :S, :R, :R, :R, :S, :S, :S, :S, :R, :S, :S, :S, :S, :S, :S, :S, :S, :S, :S]\n",
      "newsam.agents = Symbol[:I, :S, :I, :I, :I, :I, :I, :I, :I, :I, :I, :I, :I, :R, :S, :I, :I, :S, :R, :I]\n",
      "newsam.agents = Symbol[:S, :S, :I, :S, :S, :I, :S, :R, :R, :I, :S, :I, :S, :I, :R, :S, :R, :I, :R, :S]\n",
      "newsam.agents = Symbol[:I, :I, :I, :I, :I, :I, :I, :I, :I, :I, :I, :I, :I, :I, :I, :I, :I, :I, :I, :I]\n",
      "newsam.agents = Symbol[:R, :S, :I, :S, :R, :S, :S, :S, :R, :S, :R, :S, :I, :R, :S, :S, :R, :R, :S, :S]\n",
      "newsam.agents = Symbol[:I, :I, :I, :I, :R, :I, :R, :R, :R, :R, :R, :S, :R, :S, :S, :R, :I, :S, :I, :I]\n",
      "newsam.agents = Symbol[:S, :I, :S, :S, :S, :I, :S, :S, :S, :S, :R, :S, :I, :S, :S, :S, :R, :S, :S, :S]\n",
      "newsam.agents = Symbol[:S, :R, :S, :S, :R, :S, :R, :S, :I, :R, :I, :R, :R, :S, :I, :I, :S, :S, :I, :R]\n",
      "newsam.agents = Symbol[:S, :R, :I, :R, :S, :S, :S, :R, :R, :R, :S, :S, :R, :R, :S, :S, :R, :S, :S, :I]\n",
      "newsam.agents = Symbol[:S, :I, :I, :I, :I, :S, :R, :R, :I, :R, :R, :I, :I, :I, :I, :S, :S, :I, :R, :R]\n",
      "newsam.agents = Symbol[:S, :R, :I, :S, :R, :S, :I, :R, :S, :S, :I, :I, :R, :S, :R, :S, :S, :R, :S, :I]\n",
      "newsam.agents = Symbol[:R, :R, :R, :I, :S, :R, :S, :S, :S, :S, :S, :R, :S, :S, :S, :S, :R, :I, :S, :S]\n",
      "newsam.agents = Symbol[:S, :S, :S, :I, :S, :S, :S, :S, :S, :I, :S, :S, :S, :S, :S, :S, :S, :S, :I, :R]\n",
      "newsam.agents = Symbol[:I, :S, :I, :R, :S, :I, :I, :I, :R, :I, :I, :R, :I, :S, :R, :I, :S, :I, :R, :I]\n",
      "newsam.agents = Symbol[:S, :S, :R, :S, :S, :R, :I, :I, :I, :I, :R, :S, :I, :S, :I, :I, :I, :R, :I, :R]\n",
      "newsam.agents = Symbol[:S, :S, :I, :S, :S, :I, :S, :S, :S, :S, :S, :S, :S, :S, :I, :R, :S, :S, :S, :S]\n",
      "newsam.agents = Symbol[:I, :S, :S, :S, :S, :S, :R, :I, :R, :I, :S, :S, :S, :S, :I, :S, :I, :I, :R, :S]\n",
      "newsam.agents = Symbol[:S, :S, :S, :S, :S, :S, :I, :S, :R, :S, :S, :S, :I, :R, :S, :S, :S, :S, :R, :R]\n",
      "newsam.agents = Symbol[:S, :I, :I, :S, :I, :R, :I, :R, :I, :I, :I, :R, :I, :S, :R, :I, :R, :I, :S, :I]\n",
      "newsam.agents = Symbol[:I, :I, :S, :I, :S, :S, :R, :R, :S, :R, :S, :S, :S, :S, :I, :S, :R, :R, :R, :S]\n",
      "newsam.agents = Symbol[:I, :I, :I, :R, :I, :I, :R, :R, :R, :R, :I, :I, :I, :S, :I, :S, :S, :R, :I, :I]\n",
      "newsam.agents = Symbol[:R, :S, :S, :R, :S, :S, :S, :S, :S, :I, :R, :S, :S, :S, :S, :S, :R, :S, :R, :S]\n",
      "newsam.agents = Symbol[:S, :S, :S, :S, :S, :S, :S, :S, :S, :S, :S, :S, :S, :S, :S, :I, :S, :S, :S, :I]\n",
      "newsam.agents = Symbol[:I, :R, :I, :I, :S, :I, :R, :I, :R, :I, :S, :I, :I, :R, :R, :R, :I, :R, :I, :S]\n",
      "newsam.agents = Symbol[:S, :R, :R, :R, :S, :R, :S, :S, :S, :I, :I, :S, :S, :S, :S, :S, :S, :S, :S, :S]\n",
      "newsam.agents = Symbol[:I, :I, :I, :S, :I, :I, :I, :I, :R, :I, :R, :I, :I, :I, :I, :R, :I, :I, :I, :I]\n",
      "newsam.agents = Symbol[:I, :I, :I, :I, :I, :I, :I, :I, :I, :I, :I, :I, :I, :I, :I, :I, :I, :I, :I, :I]\n",
      "newsam.agents = Symbol[:I, :I, :I, :I, :I, :I, :I, :I, :I, :I, :I, :I, :I, :I, :I, :I, :R, :I, :I, :I]\n",
      "newsam.agents = Symbol[:S, :S, :S, :R, :S, :S, :R, :S, :S, :S, :S, :S, :S, :S, :I, :S, :S, :S, :I, :S]\n",
      "newsam.agents = Symbol[:S, :R, :I, :R, :S, :I, :S, :S, :R, :R, :S, :I, :S, :S, :S, :S, :S, :S, :R, :I]\n",
      "newsam.agents = Symbol[:S, :R, :S, :S, :S, :S, :R, :S, :S, :S, :S, :S, :S, :S, :S, :S, :S, :S, :I, :S]\n",
      "newsam.agents = Symbol[:R, :S, :S, :S, :S, :S, :S, :S, :S, :S, :S, :S, :S, :S, :S, :S, :S, :S, :S, :S]\n",
      "newsam.agents = Symbol[:I, :I, :I, :I, :R, :I, :I, :S, :I, :R, :I, :I, :I, :S, :S, :S, :S, :I, :I, :I]\n",
      "newsam.agents = Symbol[:R, :R, :S, :R, :S, :R, :I, :R, :S, :I, :S, :R, :S, :S, :S, :S, :R, :S, :S, :I]\n",
      "newsam.agents = Symbol[:I, :I, :I, :I, :I, :I, :I, :I, :I, :I, :I, :I, :I, :I, :I, :I, :I, :I, :I, :I]\n",
      "newsam.agents = Symbol[:S, :S, :S, :S, :S, :S, :R, :I, :R, :S, :S, :S, :S, :S, :S, :R, :S, :S, :S, :S]\n",
      "newsam.agents = Symbol[:S, :S, :R, :I, :R, :I, :I, :R, :R, :S, :S, :I, :S, :S, :R, :S, :R, :S, :I, :I]\n",
      "newsam.agents = Symbol[:S, :S, :S, :S, :I, :S, :S, :R, :S, :S, :S, :S, :S, :I, :I, :S, :S, :I, :S, :S]\n",
      "newsam.agents = Symbol[:S, :S, :R, :R, :I, :R, :R, :R, :I, :S, :R, :R, :S, :I, :S, :R, :I, :S, :I, :I]\n",
      "newsam.agents = Symbol[:S, :S, :R, :I, :S, :I, :I, :R, :I, :R, :R, :S, :S, :I, :I, :S, :S, :S, :S, :S]\n",
      "newsam.agents = Symbol[:S, :S, :S, :R, :S, :S, :S, :I, :S, :R, :S, :S, :S, :S, :S, :S, :S, :S, :S, :S]\n",
      "newsam.agents = Symbol[:I, :I, :I, :I, :I, :R, :I, :I, :I, :I, :R, :I, :I, :I, :I, :I, :I, :I, :I, :R]\n",
      "newsam.agents = Symbol[:S, :S, :S, :R, :R, :S, :S, :S, :S, :S, :R, :I, :R, :I, :I, :I, :I, :I, :S, :R]\n",
      "newsam.agents = Symbol[:S, :S, :S, :S, :S, :S, :I, :S, :S, :S, :S, :S, :I, :S, :S, :S, :S, :S, :S, :S]\n",
      "newsam.agents = Symbol[:S, :I, :S, :R, :R, :R, :S, :S, :S, :S, :S, :R, :I, :S, :S, :I, :I, :S, :R, :I]\n",
      "newsam.agents = Symbol[:R, :I, :I, :R, :S, :R, :S, :I, :I, :S, :R, :R, :I, :S, :I, :S, :I, :I, :I, :R]\n",
      "newsam.agents = Symbol[:S, :S, :S, :S, :S, :S, :S, :S, :I, :I, :R, :R, :S, :S, :S, :S, :S, :S, :S, :S]\n",
      "newsam.agents = Symbol[:R, :I, :S, :I, :I, :I, :I, :R, :S, :I, :R, :I, :I, :S, :I, :S, :I, :R, :I, :I]\n",
      "newsam.agents = Symbol[:I, :R, :S, :I, :I, :I, :R, :I, :I, :R, :I, :R, :R, :I, :I, :S, :R, :I, :I, :S]\n",
      "newsam.agents = Symbol[:R, :S, :S, :I, :S, :I, :I, :I, :S, :S, :I, :S, :I, :I, :S, :S, :S, :I, :R, :I]\n",
      "newsam.agents = Symbol[:S, :S, :S, :S, :S, :R, :S, :R, :R, :S, :S, :S, :S, :S, :S, :S, :R, :S, :R, :S]\n",
      "newsam.agents = Symbol[:R, :I, :S, :I, :S, :I, :S, :S, :S, :S, :I, :S, :S, :I, :S, :S, :I, :I, :S, :I]\n",
      "newsam.agents = Symbol[:S, :S, :S, :S, :S, :S, :I, :R, :S, :R, :R, :S, :S, :R, :S, :I, :S, :S, :S, :S]\n",
      "newsam.agents = Symbol[:S, :R, :S, :R, :S, :S, :S, :S, :R, :S, :R, :S, :R, :S, :S, :S, :S, :S, :S, :S]\n",
      "newsam.agents = Symbol[:I, :I, :I, :I, :I, :I, :I, :I, :I, :I, :I, :I, :I, :I, :I, :I, :I, :I, :I, :I]\n",
      "newsam.agents = Symbol[:S, :S, :S, :I, :S, :R, :R, :S, :R, :S, :R, :S, :R, :S, :S, :R, :R, :S, :S, :S]\n",
      "newsam.agents = Symbol[:I, :S, :R, :R, :S, :R, :S, :S, :R, :R, :S, :S, :R, :I, :S, :I, :I, :I, :R, :I]\n",
      "newsam.agents = Symbol[:S, :S, :R, :I, :I, :S, :S, :S, :S, :S, :I, :S, :S, :I, :S, :S, :S, :R, :S, :S]\n"
     ]
    },
    {
     "name": "stderr",
     "output_type": "stream",
     "text": [
      "WARNING: replacing module AgentModels.\n"
     ]
    },
    {
     "name": "stdout",
     "output_type": "stream",
     "text": [
      "size(Data) = (100, 3)\n"
     ]
    },
    {
     "name": "stderr",
     "output_type": "stream",
     "text": [
      "WARNING: replacing module Regression.\n"
     ]
    }
   ],
   "source": [
    "Pipelines.run!(P)"
   ]
  },
  {
   "cell_type": "code",
   "execution_count": 23,
   "metadata": {
    "lines_to_next_cell": 2,
    "slideshow": {
     "slide_type": "subslide"
    }
   },
   "outputs": [
    {
     "data": {
      "text/plain": [
       "(β = [6.56], r = 54.851071092550235, n = 100)"
      ]
     },
     "execution_count": 23,
     "metadata": {},
     "output_type": "execute_result"
    }
   ],
   "source": [
    "r =  P.results[end][end]"
   ]
  },
  {
   "cell_type": "code",
   "execution_count": 24,
   "metadata": {
    "lines_to_next_cell": 2,
    "slideshow": {
     "slide_type": "subslide"
    }
   },
   "outputs": [
    {
     "data": {
      "text/plain": [
       "cross (generic function with 3 methods)"
      ]
     },
     "execution_count": 24,
     "metadata": {},
     "output_type": "execute_result"
    }
   ],
   "source": [
    "# Product = ModelTools.Transformations.Product\n",
    "# Apply the i-th transformation to the i-th step of the pipeline\n",
    "function (t::Product)(m::Pipelines.Pipeline)\n",
    "    for (i, s) in enumerate(m.steps)\n",
    "        t.dims[i](s)\n",
    "    end\n",
    "end\n",
    "import LinearAlgebra: ×\n",
    "×(f,g) = Product((f,g))"
   ]
  },
  {
   "cell_type": "code",
   "execution_count": 25,
   "metadata": {
    "slideshow": {
     "slide_type": "subslide"
    }
   },
   "outputs": [
    {
     "name": "stdout",
     "output_type": "stream",
     "text": [
      "p = :((.+)(β[1] .* x .^ 1))\n",
      "assigns = Expr[:(a₀ = [1.0])]\n",
      "p = :(β[1] .* x .^ 2 .+ β[2] .* x .^ 1)\n",
      "assigns = Expr[:(a₀ = [1.0, 1])]\n"
     ]
    }
   ],
   "source": [
    "(identity × Tₓ)(P)\n",
    "(identity × T₁)(P)\n",
    "(identity × Tₓ)(P)\n",
    "(identity × T₁)(P)"
   ]
  },
  {
   "cell_type": "code",
   "execution_count": 26,
   "metadata": {
    "slideshow": {
     "slide_type": "subslide"
    }
   },
   "outputs": [
    {
     "name": "stdout",
     "output_type": "stream",
     "text": [
      "newsam.agents = Symbol[:S, :S, :S, :S, :S, :S, :S, :S, :S, :S, :S, :S, :S, :S, :I, :S, :R, :S, :S, :I]\n",
      "newsam.agents = Symbol[:R, :S, :S, :S, :R, :S, :S, :S, :S, :S, :S, :S, :S, :I, :S, :S, :S, :S, :S, :S]\n",
      "newsam.agents = Symbol[:I, :I, :S, :S, :I, :I, :R, :I, :I, :I, :S, :R, :S, :R, :I, :I, :I, :I, :I, :I]\n",
      "newsam.agents = Symbol[:I, :S, :R, :S, :S, :S, :R, :S, :S, :S, :S, :S, :R, :R, :R, :R, :S, :S, :I, :S]\n",
      "newsam.agents = Symbol[:S, :S, :R, :R, :S, :S, :S, :R, :I, :S, :S, :S, :I, :S, :R, :S, :S, :S, :S, :R]\n",
      "newsam.agents = Symbol[:R, :R, :R, :S, :S, :I, :S, :I, :R, :I, :S, :S, :S, :S, :S, :S, :S, :S, :R, :I]\n",
      "newsam.agents = Symbol[:I, :I, :I, :I, :R, :I, :I, :S, :R, :I, :I, :R, :I, :R, :I, :I, :I, :R, :I, :I]\n",
      "newsam.agents = Symbol[:S, :R, :S, :S, :R, :S, :R, :S, :S, :S, :R, :S, :R, :S, :S, :R, :S, :S, :S, :S]\n",
      "newsam.agents = Symbol[:I, :I, :I, :I, :S, :S, :I, :I, :R, :S, :R, :R, :S, :S, :R, :S, :S, :S, :S, :S]\n",
      "newsam.agents = Symbol[:S, :S, :I, :S, :R, :S, :R, :S, :S, :R, :S, :S, :S, :R, :S, :S, :R, :S, :S, :S]\n",
      "newsam.agents = Symbol[:R, :R, :I, :S, :I, :S, :R, :I, :R, :I, :I, :I, :S, :I, :I, :I, :R, :S, :I, :S]\n",
      "newsam.agents = Symbol[:I, :I, :I, :I, :I, :I, :I, :R, :I, :I, :I, :I, :I, :I, :I, :R, :R, :I, :I, :I]\n",
      "newsam.agents = Symbol[:S, :S, :S, :S, :I, :S, :S, :S, :S, :S, :S, :S, :S, :I, :R, :S, :I, :S, :S, :S]\n",
      "newsam.agents = Symbol[:I, :I, :S, :R, :I, :R, :R, :R, :I, :S, :S, :S, :R, :R, :S, :R, :R, :I, :I, :S]\n",
      "newsam.agents = Symbol[:S, :R, :I, :I, :I, :R, :R, :S, :R, :S, :S, :S, :R, :S, :I, :S, :I, :R, :R, :I]\n",
      "newsam.agents = Symbol[:S, :I, :S, :S, :I, :S, :S, :S, :I, :S, :I, :R, :S, :S, :S, :S, :S, :S, :I, :I]\n",
      "newsam.agents = Symbol[:S, :S, :R, :S, :R, :S, :I, :R, :R, :I, :I, :R, :R, :R, :S, :S, :I, :S, :I, :S]\n",
      "newsam.agents = Symbol[:I, :S, :R, :I, :R, :S, :S, :S, :S, :S, :R, :I, :I, :S, :R, :R, :R, :R, :I, :I]\n",
      "newsam.agents = Symbol[:I, :R, :S, :I, :S, :I, :S, :S, :S, :S, :I, :R, :R, :I, :S, :I, :S, :S, :I, :S]\n",
      "newsam.agents = Symbol[:S, :R, :S, :S, :S, :S, :S, :R, :S, :S, :S, :S, :S, :S, :S, :S, :S, :S, :S, :S]\n",
      "newsam.agents = Symbol[:I, :R, :I, :S, :R, :I, :S, :S, :I, :R, :I, :R, :S, :S, :I, :S, :I, :R, :R, :S]\n",
      "newsam.agents = Symbol[:I, :S, :R, :R, :I, :S, :I, :S, :I, :I, :I, :I, :I, :I, :I, :I, :I, :I, :I, :I]\n",
      "newsam.agents = Symbol[:R, :R, :S, :S, :I, :S, :S, :S, :S, :S, :R, :S, :R, :S, :S, :I, :S, :S, :R, :S]\n",
      "newsam.agents = Symbol[:R, :S, :S, :S, :S, :S, :S, :R, :S, :S, :R, :S, :R, :I, :I, :S, :S, :S, :S, :R]\n",
      "newsam.agents = Symbol[:S, :S, :S, :S, :S, :S, :S, :S, :S, :S, :S, :S, :S, :S, :S, :S, :S, :S, :S, :S]\n",
      "newsam.agents = Symbol[:S, :I, :I, :R, :R, :R, :R, :R, :I, :I, :R, :S, :R, :R, :S, :I, :R, :S, :S, :S]\n",
      "newsam.agents = Symbol[:R, :S, :S, :S, :I, :S, :R, :S, :S, :S, :S, :I, :S, :R, :R, :I, :R, :R, :S, :S]\n",
      "newsam.agents = Symbol[:S, :S, :I, :I, :R, :I, :I, :I, :R, :S, :I, :I, :S, :I, :I, :S, :I, :I, :S, :I]\n",
      "newsam.agents = Symbol[:S, :S, :S, :S, :R, :S, :S, :S, :S, :S, :R, :R, :I, :I, :S, :S, :R, :I, :R, :S]\n",
      "newsam.agents = Symbol[:I, :R, :S, :S, :S, :R, :I, :I, :S, :I, :S, :I, :R, :S, :I, :R, :I, :I, :I, :I]\n",
      "newsam.agents = Symbol[:I, :I, :S, :I, :I, :I, :I, :I, :S, :I, :S, :I, :I, :R, :R, :I, :I, :S, :I, :I]\n",
      "newsam.agents = Symbol[:S, :S, :I, :S, :S, :I, :R, :S, :S, :I, :R, :I, :R, :S, :R, :R, :R, :S, :R, :R]\n",
      "newsam.agents = Symbol[:S, :I, :R, :S, :S, :I, :I, :R, :R, :S, :S, :S, :R, :S, :I, :I, :S, :S, :S, :S]\n",
      "newsam.agents = Symbol[:I, :I, :I, :I, :I, :I, :I, :S, :R, :I, :S, :I, :S, :I, :I, :I, :S, :I, :I, :I]\n",
      "newsam.agents = Symbol[:I, :I, :I, :I, :I, :R, :I, :I, :R, :I, :I, :R, :S, :I, :I, :S, :I, :I, :I, :R]\n",
      "newsam.agents = Symbol[:I, :R, :S, :I, :S, :I, :I, :S, :I, :I, :I, :I, :I, :S, :S, :S, :I, :S, :I, :R]\n",
      "newsam.agents = Symbol[:I, :S, :I, :S, :R, :I, :I, :S, :R, :I, :S, :I, :S, :S, :I, :I, :I, :I, :I, :R]\n",
      "newsam.agents = Symbol[:S, :S, :S, :S, :S, :R, :S, :S, :S, :S, :R, :S, :S, :S, :S, :S, :S, :S, :S, :R]\n",
      "newsam.agents = Symbol[:S, :S, :R, :S, :S, :S, :S, :S, :R, :S, :R, :I, :I, :I, :R, :S, :R, :S, :S, :S]\n",
      "newsam.agents = Symbol[:I, :I, :I, :I, :I, :I, :I, :S, :R, :R, :I, :R, :I, :R, :I, :I, :I, :R, :I, :I]\n",
      "newsam.agents = Symbol[:S, :I, :S, :R, :S, :S, :S, :S, :S, :S, :I, :R, :S, :S, :S, :S, :S, :S, :S, :R]\n",
      "newsam.agents = Symbol[:I, :S, :R, :S, :S, :S, :I, :S, :S, :I, :R, :S, :S, :S, :S, :R, :S, :S, :I, :R]\n",
      "newsam.agents = Symbol[:S, :S, :R, :R, :R, :S, :S, :S, :S, :R, :S, :S, :S, :S, :S, :S, :S, :S, :S, :S]\n",
      "newsam.agents = Symbol[:I, :S, :I, :I, :I, :I, :I, :I, :I, :I, :I, :I, :I, :R, :S, :I, :I, :S, :R, :I]\n",
      "newsam.agents = Symbol[:S, :S, :I, :S, :S, :I, :S, :R, :R, :I, :S, :I, :S, :I, :R, :S, :R, :I, :R, :S]\n",
      "newsam.agents = Symbol[:I, :I, :I, :I, :I, :I, :I, :I, :I, :I, :I, :I, :I, :I, :I, :I, :I, :I, :I, :I]\n",
      "newsam.agents = Symbol[:R, :S, :I, :S, :R, :S, :S, :S, :R, :S, :R, :S, :I, :R, :S, :S, :R, :R, :S, :S]\n",
      "newsam.agents = Symbol[:I, :I, :I, :I, :R, :I, :R, :R, :R, :R, :R, :S, :R, :S, :S, :R, :I, :S, :I, :I]\n",
      "newsam.agents = Symbol[:S, :I, :S, :S, :S, :I, :S, :S, :S, :S, :R, :S, :I, :S, :S, :S, :R, :S, :S, :S]\n",
      "newsam.agents = Symbol[:S, :R, :S, :S, :R, :S, :R, :S, :I, :R, :I, :R, :R, :S, :I, :I, :S, :S, :I, :R]\n",
      "newsam.agents = Symbol[:S, :R, :I, :R, :S, :S, :S, :R, :R, :R, :S, :S, :R, :R, :S, :S, :R, :S, :S, :I]\n",
      "newsam.agents = Symbol[:S, :I, :I, :I, :I, :S, :R, :R, :I, :R, :R, :I, :I, :I, :I, :S, :S, :I, :R, :R]\n",
      "newsam.agents = Symbol[:S, :R, :I, :S, :R, :S, :I, :R, :S, :S, :I, :I, :R, :S, :R, :S, :S, :R, :S, :I]\n",
      "newsam.agents = Symbol[:R, :R, :R, :I, :S, :R, :S, :S, :S, :S, :S, :R, :S, :S, :S, :S, :R, :I, :S, :S]\n",
      "newsam.agents = Symbol[:S, :S, :S, :I, :S, :S, :S, :S, :S, :I, :S, :S, :S, :S, :S, :S, :S, :S, :I, :R]\n",
      "newsam.agents = Symbol[:I, :S, :I, :R, :S, :I, :I, :I, :R, :I, :I, :R, :I, :S, :R, :I, :S, :I, :R, :I]\n",
      "newsam.agents = Symbol[:S, :S, :R, :S, :S, :R, :I, :I, :I, :I, :R, :S, :I, :S, :I, :I, :I, :R, :I, :R]\n",
      "newsam.agents = Symbol[:S, :S, :I, :S, :S, :I, :S, :S, :S, :S, :S, :S, :S, :S, :I, :R, :S, :S, :S, :S]\n",
      "newsam.agents = Symbol[:I, :S, :S, :S, :S, :S, :R, :I, :R, :I, :S, :S, :S, :S, :I, :S, :I, :I, :R, :S]\n",
      "newsam.agents = Symbol[:S, :S, :S, :S, :S, :S, :I, :S, :R, :S, :S, :S, :I, :R, :S, :S, :S, :S, :R, :R]\n",
      "newsam.agents = Symbol[:S, :I, :I, :S, :I, :R, :I, :R, :I, :I, :I, :R, :I, :S, :R, :I, :R, :I, :S, :I]\n",
      "newsam.agents = Symbol[:I, :I, :S, :I, :S, :S, :R, :R, :S, :R, :S, :S, :S, :S, :I, :S, :R, :R, :R, :S]\n",
      "newsam.agents = Symbol[:I, :I, :I, :R, :I, :I, :R, :R, :R, :R, :I, :I, :I, :S, :I, :S, :S, :R, :I, :I]\n",
      "newsam.agents = Symbol[:R, :S, :S, :R, :S, :S, :S, :S, :S, :I, :R, :S, :S, :S, :S, :S, :R, :S, :R, :S]\n",
      "newsam.agents = Symbol[:S, :S, :S, :S, :S, :S, :S, :S, :S, :S, :S, :S, :S, :S, :S, :I, :S, :S, :S, :I]\n",
      "newsam.agents = Symbol[:I, :R, :I, :I, :S, :I, :R, :I, :R, :I, :S, :I, :I, :R, :R, :R, :I, :R, :I, :S]\n",
      "newsam.agents = Symbol[:S, :R, :R, :R, :S, :R, :S, :S, :S, :I, :I, :S, :S, :S, :S, :S, :S, :S, :S, :S]\n",
      "newsam.agents = Symbol[:I, :I, :I, :S, :I, :I, :I, :I, :R, :I, :R, :I, :I, :I, :I, :R, :I, :I, :I, :I]\n",
      "newsam.agents = Symbol[:I, :I, :I, :I, :I, :I, :I, :I, :I, :I, :I, :I, :I, :I, :I, :I, :I, :I, :I, :I]\n",
      "newsam.agents = Symbol[:I, :I, :I, :I, :I, :I, :I, :I, :I, :I, :I, :I, :I, :I, :I, :I, :R, :I, :I, :I]\n",
      "newsam.agents = Symbol[:S, :S, :S, :R, :S, :S, :R, :S, :S, :S, :S, :S, :S, :S, :I, :S, :S, :S, :I, :S]\n",
      "newsam.agents = Symbol[:S, :R, :I, :R, :S, :I, :S, :S, :R, :R, :S, :I, :S, :S, :S, :S, :S, :S, :R, :I]\n",
      "newsam.agents = Symbol[:S, :R, :S, :S, :S, :S, :R, :S, :S, :S, :S, :S, :S, :S, :S, :S, :S, :S, :I, :S]\n",
      "newsam.agents = Symbol[:R, :S, :S, :S, :S, :S, :S, :S, :S, :S, :S, :S, :S, :S, :S, :S, :S, :S, :S, :S]\n",
      "newsam.agents = Symbol[:I, :I, :I, :I, :R, :I, :I, :S, :I, :R, :I, :I, :I, :S, :S, :S, :S, :I, :I, :I]\n",
      "newsam.agents = Symbol[:R, :R, :S, :R, :S, :R, :I, :R, :S, :I, :S, :R, :S, :S, :S, :S, :R, :S, :S, :I]\n",
      "newsam.agents = Symbol[:I, :I, :I, :I, :I, :I, :I, :I, :I, :I, :I, :I, :I, :I, :I, :I, :I, :I, :I, :I]\n",
      "newsam.agents = Symbol[:S, :S, :S, :S, :S, :S, :R, :I, :R, :S, :S, :S, :S, :S, :S, :R, :S, :S, :S, :S]\n",
      "newsam.agents = Symbol[:S, :S, :R, :I, :R, :I, :I, :R, :R, :S, :S, :I, :S, :S, :R, :S, :R, :S, :I, :I]\n",
      "newsam.agents = Symbol[:S, :S, :S, :S, :I, :S, :S, :R, :S, :S, :S, :S, :S, :I, :I, :S, :S, :I, :S, :S]\n",
      "newsam.agents = Symbol[:S, :S, :R, :R, :I, :R, :R, :R, :I, :S, :R, :R, :S, :I, :S, :R, :I, :S, :I, :I]\n",
      "newsam.agents = Symbol[:S, :S, :R, :I, :S, :I, :I, :R, :I, :R, :R, :S, :S, :I, :I, :S, :S, :S, :S, :S]\n",
      "newsam.agents = Symbol[:S, :S, :S, :R, :S, :S, :S, :I, :S, :R, :S, :S, :S, :S, :S, :S, :S, :S, :S, :S]\n",
      "newsam.agents = Symbol[:I, :I, :I, :I, :I, :R, :I, :I, :I, :I, :R, :I, :I, :I, :I, :I, :I, :I, :I, :R]\n",
      "newsam.agents = Symbol[:S, :S, :S, :R, :R, :S, :S, :S, :S, :S, :R, :I, :R, :I, :I, :I, :I, :I, :S, :R]\n",
      "newsam.agents = Symbol[:S, :S, :S, :S, :S, :S, :I, :S, :S, :S, :S, :S, :I, :S, :S, :S, :S, :S, :S, :S]\n",
      "newsam.agents = Symbol[:S, :I, :S, :R, :R, :R, :S, :S, :S, :S, :S, :R, :I, :S, :S, :I, :I, :S, :R, :I]\n",
      "newsam.agents = Symbol[:R, :I, :I, :R, :S, :R, :S, :I, :I, :S, :R, :R, :I, :S, :I, :S, :I, :I, :I, :R]\n",
      "newsam.agents = Symbol[:S, :S, :S, :S, :S, :S, :S, :S, :I, :I, :R, :R, :S, :S, :S, :S, :S, :S, :S, :S]\n",
      "newsam.agents = Symbol[:R, :I, :S, :I, :I, :I, :I, :R, :S, :I, :R, :I, :I, :S, :I, :S, :I, :R, :I, :I]\n",
      "newsam.agents = Symbol[:I, :R, :S, :I, :I, :I, :R, :I, :I, :R, :I, :R, :R, :I, :I, :S, :R, :I, :I, :S]\n",
      "newsam.agents = Symbol[:R, :S, :S, :I, :S, :I, :I, :I, :S, :S, :I, :S, :I, :I, :S, :S, :S, :I, :R, :I]\n",
      "newsam.agents = Symbol[:S, :S, :S, :S, :S, :R, :S, :R, :R, :S, :S, :S, :S, :S, :S, :S, :R, :S, :R, :S]\n",
      "newsam.agents = Symbol[:R, :I, :S, :I, :S, :I, :S, :S, :S, :S, :I, :S, :S, :I, :S, :S, :I, :I, :S, :I]\n",
      "newsam.agents = Symbol[:S, :S, :S, :S, :S, :S, :I, :R, :S, :R, :R, :S, :S, :R, :S, :I, :S, :S, :S, :S]\n",
      "newsam.agents = Symbol[:S, :R, :S, :R, :S, :S, :S, :S, :R, :S, :R, :S, :R, :S, :S, :S, :S, :S, :S, :S]\n",
      "newsam.agents = Symbol[:I, :I, :I, :I, :I, :I, :I, :I, :I, :I, :I, :I, :I, :I, :I, :I, :I, :I, :I, :I]\n",
      "newsam.agents = Symbol[:S, :S, :S, :I, :S, :R, :R, :S, :R, :S, :R, :S, :R, :S, :S, :R, :R, :S, :S, :S]\n",
      "newsam.agents = Symbol[:I, :S, :R, :R, :S, :R, :S, :S, :R, :R, :S, :S, :R, :I, :S, :I, :I, :I, :R, :I]\n",
      "newsam.agents = Symbol[:S, :S, :R, :I, :I, :S, :S, :S, :S, :S, :I, :S, :S, :I, :S, :S, :S, :R, :S, :S]\n"
     ]
    },
    {
     "name": "stderr",
     "output_type": "stream",
     "text": [
      "WARNING: replacing module AgentModels.\n"
     ]
    },
    {
     "name": "stdout",
     "output_type": "stream",
     "text": [
      "size(Data) = (100, 3)\n"
     ]
    },
    {
     "name": "stderr",
     "output_type": "stream",
     "text": [
      "WARNING: replacing module Regression.\n"
     ]
    },
    {
     "data": {
      "text/plain": [
       "(β = [0.0512554, -1.8639, 18.1003], r = 17.29034597600283, n = 100)"
      ]
     },
     "execution_count": 26,
     "metadata": {},
     "output_type": "execute_result"
    }
   ],
   "source": [
    "Pipelines.reset!(P)\n",
    "Pipelines.run!(P)\n",
    "P.results[end][2]"
   ]
  },
  {
   "cell_type": "markdown",
   "metadata": {
    "slideshow": {
     "slide_type": "skip"
    }
   },
   "source": [
    "1. TODO implement the composition monoid on ExpStateModels\n",
    "2. TODO use Product acting on Pipeline to represent Tuple.coordinates == Pipeline.steps"
   ]
  },
  {
   "cell_type": "markdown",
   "metadata": {
    "slideshow": {
     "slide_type": "slide"
    }
   },
   "source": [
    "## Adding the Dead State\n",
    "\n",
    "<img src=\"https://docs.google.com/drawings/d/e/2PACX-1vRUhrX6GzMzNRWr0GI3pDp9DvSqJVTDVpy9SNNBIB08b7Hyf9vaHobE2knrGPda4My9f_o9gncG34pF/pub?w=1028&amp;h=309\">\n",
    "\n",
    "We are going to add an additional state to the model to represent the infectious disease fatalities. The user must specify what that concept means in terms of the name for the new state and the behavior of that state. `D` is a terminal state for a finite automata."
   ]
  },
  {
   "cell_type": "code",
   "execution_count": 27,
   "metadata": {
    "lines_to_next_cell": 2,
    "slideshow": {
     "slide_type": "subslide"
    }
   },
   "outputs": [
    {
     "data": {
      "text/plain": [
       "addstate! (generic function with 1 method)"
      ]
     },
     "execution_count": 27,
     "metadata": {},
     "output_type": "execute_result"
    }
   ],
   "source": [
    "function addstate!(m::ExpStateModel)\n",
    "    println(\"\\nThe system states are $(m.states.args)\")\n",
    "    println(\"\\nAdding un estado de los muertos\")\n",
    "\n",
    "    put!(m, ExpStateTransition(:D, :((x...)->:D)))\n",
    "\n",
    "    println(\"\\nThe system states are $(m.states.args)\")\n",
    "    # once you are dead, you are dead forever\n",
    "    println(\"\\nThere is no resurrection in this model\")\n",
    "    println(\"\\nInfected individuals recover or die in one step\")\n",
    "\n",
    "    # replace!(m, ExpStateTransition(:I, :((x...)->rand(Bool) ? :D : :I)))\n",
    "    m[:I] = :((x...)->begin\n",
    "            roll = rand()\n",
    "            if roll < ρ\n",
    "                return :R\n",
    "            elseif rand(Bool)\n",
    "                return :D\n",
    "            else\n",
    "                return :I\n",
    "            end\n",
    "        end\n",
    "    )\n",
    "    @show m[:I]\n",
    "    return m\n",
    "end"
   ]
  },
  {
   "cell_type": "markdown",
   "metadata": {},
   "source": [
    "Some utilities for manipulating functions at a higher level than expressions."
   ]
  },
  {
   "cell_type": "code",
   "execution_count": 28,
   "metadata": {
    "slideshow": {
     "slide_type": "notes"
    }
   },
   "outputs": [
    {
     "data": {
      "text/plain": [
       "push! (generic function with 65 methods)"
      ]
     },
     "execution_count": 28,
     "metadata": {},
     "output_type": "execute_result"
    }
   ],
   "source": [
    "\n",
    "struct Func end\n",
    "\n",
    "function push!(::Func, func::Expr, ex::Expr)\n",
    "    push!(bodyblock(func), ex)\n",
    "end"
   ]
  },
  {
   "cell_type": "markdown",
   "metadata": {
    "slideshow": {
     "slide_type": "slide"
    }
   },
   "source": [
    "## Population Growth\n",
    "\n",
    "Another change we can make to our model is the introduction of population growth. Our model for population is that on each timestep, one new suceptible person will be added to the list of agents. We use the `tick!` function as an anchor point for this transformation.\n",
    "\n",
    "<img src=\"https://docs.google.com/drawings/d/e/2PACX-1vRfLcbPPaQq6jmxheWApqidYte8FxK7p0Ebs2EyW2pY3ougNh5YiMjA0NbRMuGAIT5pD02WNEoOfdCd/pub?w=1005&amp;h=247\">"
   ]
  },
  {
   "cell_type": "code",
   "execution_count": 29,
   "metadata": {
    "slideshow": {
     "slide_type": "subslide"
    }
   },
   "outputs": [
    {
     "data": {
      "text/plain": [
       "addgrowth! (generic function with 1 method)"
      ]
     },
     "execution_count": 29,
     "metadata": {},
     "output_type": "execute_result"
    }
   ],
   "source": [
    "function addgrowth!(m::ExpStateModel)\n",
    "    println(\"\\nAdding population growth to this model\")\n",
    "    stepr = filter(x->isa(x,Expr), findfunc(m.expr, :tick!))[1]\n",
    "    @show stepr\n",
    "    push!(Func(), stepr, :(push!(sm.agents, :S)))\n",
    "    println(\"------------------------\")\n",
    "    @show stepr;\n",
    "    return m\n",
    "end"
   ]
  },
  {
   "cell_type": "markdown",
   "metadata": {
    "slideshow": {
     "slide_type": "slide"
    }
   },
   "source": [
    "## Transforming the Pipeline\n",
    "\n",
    "We can apply the tranformations that we defined onto the pipeline. Remember that $T_1\\times T_2$ acts on a pipeline by creating $P(T_1(m_1),T_2(m_2), c_1,c_2)$. The current implementation does not support transforming the connectors, but that would be straightforward to add."
   ]
  },
  {
   "cell_type": "code",
   "execution_count": 30,
   "metadata": {
    "lines_to_next_cell": 2,
    "slideshow": {
     "slide_type": "subslide"
    }
   },
   "outputs": [
    {
     "data": {
      "text/plain": [
       "connector (generic function with 2 methods)"
      ]
     },
     "execution_count": 30,
     "metadata": {},
     "output_type": "execute_result"
    }
   ],
   "source": [
    "function connector(finalcounts, i, j)\n",
    "    n = length(finalcounts)\n",
    "    Data = zeros(n,length(finalcounts[1].counts))\n",
    "    params = zeros(n,length(finalcounts[1].params))\n",
    "    @show size(Data)\n",
    "    for i in 1:n\n",
    "        c = finalcounts[i].counts\n",
    "        Data[i, : ] = map(last, c)\n",
    "        params[i,:] = collect(map(float, finalcounts[i].params))\n",
    "    end\n",
    "    X = params[:, i]\n",
    "    Y = Data[:, j]\n",
    "    @assert size(X,1) == size(Y,1)\n",
    "    return X,Y\n",
    "end"
   ]
  },
  {
   "cell_type": "code",
   "execution_count": 31,
   "metadata": {
    "lines_to_next_cell": 2,
    "slideshow": {
     "slide_type": "subslide"
    }
   },
   "outputs": [
    {
     "data": {
      "text/plain": [
       "Main.Pipelines.Pipeline(AbstractModel[ExpStateModel(\n",
       "  states=:([:S, :I, :R]),\n",
       "  agents=Expr[:(a = sm.agents), :(a = fill(:S, n))],\n",
       "  transitions=Expr[:(T = Dict(:S => (x...->begin\n",
       "                      #= none:120 =#\n",
       "                      if rand(Float64) < stateload(x[1], :I)\n",
       "                          :I\n",
       "                      else\n",
       "                          :S\n",
       "                      end\n",
       "                  end), :I => (x...->begin\n",
       "                      #= none:121 =#\n",
       "                      if rand(Float64) < ρ\n",
       "                          :I\n",
       "                      else\n",
       "                          :R\n",
       "                      end\n",
       "                  end), :R => (x...->begin\n",
       "                      #= none:122 =#\n",
       "                      if rand(Float64) < μ\n",
       "                          :R\n",
       "                      else\n",
       "                          :S\n",
       "                      end\n",
       "                  end)))]\n",
       "), Lsq(\n",
       "  f=:f,\n",
       "  coefficient=:β,\n",
       "  p₀=:a₀\n",
       ")], Function[##17#19(), ##18#20()], Any[10])"
      ]
     },
     "execution_count": 31,
     "metadata": {},
     "output_type": "execute_result"
    }
   ],
   "source": [
    "P = Pipelines.Pipeline(deepcopy.([magents, mstats]),\n",
    "    [(m, args...) -> begin \n",
    "            Random.seed!(42)\n",
    "            results = Any[]\n",
    "            Mod = eval(m.expr)\n",
    "            @show Mod\n",
    "            for i in 1:samples\n",
    "                r = Base.invokelatest(Mod.main, args...)\n",
    "                push!(results, (model=:basic, counts=r[2],params=r[3]))\n",
    "                #push!(results, r)\n",
    "            end\n",
    "            return [results]\n",
    "                end,\n",
    "        (m, results...) -> begin\n",
    "            data = connector(results..., 1, 4)\n",
    "            Mod = eval(m.expr)\n",
    "            Base.invokelatest(Mod.main, data...) \n",
    "        end\n",
    "        ],\n",
    "        Any[(10)]\n",
    "        )"
   ]
  },
  {
   "cell_type": "code",
   "execution_count": 32,
   "metadata": {
    "lines_to_next_cell": 2,
    "slideshow": {
     "slide_type": "subslide"
    }
   },
   "outputs": [
    {
     "name": "stdout",
     "output_type": "stream",
     "text": [
      "\n",
      "Initial Pipeline\n",
      "----------------\n"
     ]
    },
    {
     "data": {
      "text/plain": [
       "(:([:S, :I, :R]), :((.+)(β[1] .* x .^ 0)))"
      ]
     },
     "execution_count": 32,
     "metadata": {},
     "output_type": "execute_result"
    }
   ],
   "source": [
    "println(\"\\nInitial Pipeline\")\n",
    "println(\"----------------\")\n",
    "P.steps[1].states, poly(P.steps[2])"
   ]
  },
  {
   "cell_type": "code",
   "execution_count": 33,
   "metadata": {
    "lines_to_next_cell": 2,
    "slideshow": {
     "slide_type": "subslide"
    }
   },
   "outputs": [
    {
     "name": "stdout",
     "output_type": "stream",
     "text": [
      "\n",
      "\n",
      "Applying the first pair of transformations\n",
      "------------------------------------------\n",
      "\n",
      "The system states are Any[:(:S), :(:I), :(:R)]\n",
      "\n",
      "Adding un estado de los muertos\n",
      "\n",
      "The system states are Any[:(:S), :(:I), :(:R), :(:D)]\n",
      "\n",
      "There is no resurrection in this model\n",
      "\n",
      "Infected individuals recover or die in one step\n",
      "m[:I] = :(x...->begin\n",
      "          #= In[27]:13 =#\n",
      "          #= In[27]:14 =#\n",
      "          roll = rand()\n",
      "          #= In[27]:15 =#\n",
      "          if roll < ρ\n",
      "              #= In[27]:16 =#\n",
      "              return :R\n",
      "          elseif #= In[27]:17 =# rand(Bool)\n",
      "              #= In[27]:18 =#\n",
      "              return :D\n",
      "          else\n",
      "              #= In[27]:20 =#\n",
      "              return :I\n",
      "          end\n",
      "      end)\n"
     ]
    },
    {
     "data": {
      "text/plain": [
       "(:([:S, :I, :R, :D]), :((.+)(β[1] .* x .^ 1)))"
      ]
     },
     "execution_count": 33,
     "metadata": {},
     "output_type": "execute_result"
    }
   ],
   "source": [
    "println(\"\\n\\nApplying the first pair of transformations\")\n",
    "println(     \"------------------------------------------\")\n",
    "(addstate! × one(Pow))(P)\n",
    "P.steps[1].states, poly(P.steps[2])"
   ]
  },
  {
   "cell_type": "code",
   "execution_count": 34,
   "metadata": {
    "lines_to_next_cell": 2,
    "slideshow": {
     "slide_type": "subslide"
    }
   },
   "outputs": [
    {
     "name": "stdout",
     "output_type": "stream",
     "text": [
      "\n",
      "\n",
      "Applying the second pair of transformations\n",
      "-------------------------------------------\n",
      "p = :((.+)(β[1] .* x .^ 1))\n",
      "assigns = Expr[:(a₀ = [1.0])]\n",
      "\n",
      "Adding population growth to this model\n",
      "stepr = :(function tick!(sm::StateModel)\n",
      "      #= none:59 =#\n",
      "      sm.loads = map((s->begin\n",
      "                      #= none:59 =#\n",
      "                      stateload(sm, s)\n",
      "                  end), sm.states)\n",
      "      #= none:60 =#\n",
      "      return sm.loads\n",
      "  end)\n",
      "------------------------\n",
      "stepr = :(function tick!(sm::StateModel)\n",
      "      #= none:59 =#\n",
      "      sm.loads = map((s->begin\n",
      "                      #= none:59 =#\n",
      "                      stateload(sm, s)\n",
      "                  end), sm.states)\n",
      "      #= none:60 =#\n",
      "      return sm.loads\n",
      "      push!(sm.agents, :S)\n",
      "  end)\n",
      "p = :(β[1] .* x .^ 2 .+ β[2] .* x .^ 1)\n",
      "assigns = Expr[:(a₀ = [1.0, 1])]\n",
      "p = :(.+(β[1] .* x .^ 3, β[2] .* x .^ 2, β[3] .* x .^ 1))\n",
      "assigns = Expr[:(a₀ = [1.0, 1, 1])]\n"
     ]
    }
   ],
   "source": [
    "println(\"\\n\\nApplying the second pair of transformations\")\n",
    "println(    \"-------------------------------------------\")\n",
    "(identity   × AddConst())(P)\n",
    "(addgrowth! × one(Pow))(P)\n",
    "(identity   × AddConst())(P)\n",
    "(identity   × one(Pow))(P)\n",
    "(identity   × AddConst())(P)"
   ]
  },
  {
   "cell_type": "code",
   "execution_count": 35,
   "metadata": {
    "lines_to_next_cell": 2,
    "slideshow": {
     "slide_type": "subslide"
    }
   },
   "outputs": [
    {
     "name": "stdout",
     "output_type": "stream",
     "text": [
      "\n",
      "\n",
      "The final model state\n",
      "---------------------\n",
      "function tick!(sm::StateModel)\n",
      "    #= none:59 =#\n",
      "    sm.loads = map((s->begin\n",
      "                    #= none:59 =#\n",
      "                    stateload(sm, s)\n",
      "                end), sm.states)\n",
      "    #= none:60 =#\n",
      "    return sm.loads\n",
      "    push!(sm.agents, :S)\n",
      "end\n",
      "poly(P.steps[2]) = :(.+(β[1] .* x .^ 3, β[2] .* x .^ 2, β[3] .* x .^ 1, β[4] .* x .^ 0))\n"
     ]
    }
   ],
   "source": [
    "println(\"\\n\\nThe final model state\")\n",
    "println(     \"---------------------\")\n",
    "println(filter(isexpr, findfunc(P.steps[1].expr, :tick!))[end])\n",
    "@show poly(P.steps[2]);"
   ]
  },
  {
   "cell_type": "markdown",
   "metadata": {
    "slideshow": {
     "slide_type": "slide"
    }
   },
   "source": [
    "## Running the new pipeline\n",
    "\n",
    "now that we have transformed the pipeline we run it to build the results"
   ]
  },
  {
   "cell_type": "code",
   "execution_count": 36,
   "metadata": {
    "slideshow": {
     "slide_type": "fragment"
    }
   },
   "outputs": [
    {
     "name": "stdout",
     "output_type": "stream",
     "text": [
      "Mod = Main.AgentModels\n",
      "newsam.agents = "
     ]
    },
    {
     "name": "stderr",
     "output_type": "stream",
     "text": [
      "WARNING: replacing module AgentModels.\n"
     ]
    },
    {
     "name": "stdout",
     "output_type": "stream",
     "text": [
      "Symbol[:S, :D, :D, :S, :D, :S, :S, :S, :S, :S, :D, :S, :D, :D, :D, :S, :D, :S, :S, :D]\n",
      "newsam.agents = Symbol[:S, :S, :R, :S, :S, :S, :S, :R, :S, :S, :S, :R, :S, :S, :S, :S, :S, :S, :S, :S]\n",
      "newsam.agents = Symbol[:I, :S, :R, :S, :S, :D, :D, :R, :R, :D, :I, :D, :S, :R, :R, :R, :D, :S, :R, :D]\n",
      "newsam.agents = Symbol[:S, :S, :I, :S, :S, :S, :S, :S, :D, :S, :S, :S, :I, :S, :S, :S, :S, :S, :D, :S]\n",
      "newsam.agents = Symbol[:D, :D, :D, :R, :D, :D, :D, :S, :D, :D, :S, :D, :D, :D, :D, :D, :D, :D, :D, :D]\n",
      "newsam.agents = Symbol[:D, :S, :D, :S, :D, :S, :S, :S, :D, :S, :S, :S, :D, :D, :S, :S, :D, :D, :D, :I]\n",
      "newsam.agents = Symbol[:S, :S, :S, :S, :R, :S, :R, :S, :R, :R, :S, :S, :R, :S, :S, :S, :S, :S, :S, :S]\n",
      "newsam.agents = Symbol[:D, :D, :S, :S, :D, :D, :S, :S, :D, :D, :D, :D, :D, :S, :D, :S, :S, :S, :D, :S]\n",
      "newsam.agents = Symbol[:S, :S, :S, :S, :S, :S, :S, :I, :S, :S, :S, :D, :S, :S, :D, :S, :S, :D, :D, :I]\n",
      "newsam.agents = Symbol[:S, :S, :S, :S, :S, :S, :S, :S, :S, :S, :S, :S, :S, :S, :S, :S, :S, :D, :D, :S]\n",
      "newsam.agents = Symbol[:D, :D, :D, :D, :I, :R, :D, :D, :D, :D, :D, :D, :D, :I, :R, :S, :S, :S, :I, :S]\n",
      "newsam.agents = Symbol[:S, :R, :R, :S, :D, :S, :S, :S, :D, :S, :R, :S, :D, :S, :R, :S, :I, :S, :R, :R]\n",
      "newsam.agents = Symbol[:S, :S, :S, :I, :S, :R, :S, :S, :I, :S, :R, :S, :S, :R, :S, :S, :S, :D, :D, :S]\n",
      "newsam.agents = Symbol[:R, :D, :S, :R, :D, :S, :D, :S, :S, :I, :R, :D, :R, :S, :S, :S, :D, :S, :S, :D]\n",
      "newsam.agents = Symbol[:I, :S, :D, :R, :I, :R, :S, :S, :S, :S, :S, :D, :D, :S, :D, :S, :S, :I, :D, :D]\n",
      "newsam.agents = Symbol[:D, :D, :D, :D, :D, :D, :D, :D, :D, :D, :I, :D, :D, :D, :D, :D, :D, :D, :D, :D]\n",
      "newsam.agents = Symbol[:R, :S, :S, :R, :I, :D, :R, :S, :R, :R, :S, :S, :S, :S, :S, :S, :S, :S, :S, :S]\n",
      "newsam.agents = Symbol[:D, :R, :D, :R, :S, :S, :S, :D, :S, :S, :S, :S, :S, :S, :S, :S, :I, :D, :S, :S]\n",
      "newsam.agents = Symbol[:D, :R, :D, :D, :D, :S, :R, :S, :S, :S, :D, :I, :D, :R, :S, :I, :D, :D, :R, :D]\n",
      "newsam.agents = Symbol[:S, :D, :S, :D, :D, :S, :S, :D, :D, :S, :S, :S, :S, :D, :S, :D, :D, :S, :D, :D]\n",
      "newsam.agents = Symbol[:D, :S, :I, :S, :S, :S, :S, :S, :D, :S, :D, :S, :D, :S, :S, :S, :R, :D, :D, :S]\n",
      "newsam.agents = Symbol[:S, :S, :S, :S, :S, :R, :R, :S, :S, :S, :S, :S, :S, :R, :S, :S, :S, :R, :S, :S]\n",
      "newsam.agents = Symbol[:S, :D, :D, :S, :S, :R, :I, :D, :S, :D, :D, :S, :S, :S, :D, :S, :R, :R, :S, :S]\n",
      "newsam.agents = Symbol[:S, :S, :S, :S, :S, :S, :S, :S, :S, :S, :I, :S, :S, :I, :S, :S, :S, :S, :I, :S]\n",
      "newsam.agents = Symbol[:S, :S, :S, :D, :D, :S, :S, :S, :D, :D, :D, :D, :S, :D, :S, :D, :S, :D, :S, :S]\n",
      "newsam.agents = Symbol[:S, :S, :R, :S, :S, :I, :S, :S, :S, :S, :R, :I, :S, :S, :R, :S, :S, :S, :S, :S]\n",
      "newsam.agents = Symbol[:D, :D, :R, :R, :D, :S, :I, :R, :R, :S, :R, :I, :R, :R, :R, :R, :D, :D, :S, :D]\n",
      "newsam.agents = Symbol[:S, :R, :S, :S, :D, :S, :R, :S, :S, :S, :S, :S, :S, :S, :S, :I, :R, :S, :S, :D]\n",
      "newsam.agents = Symbol[:S, :D, :R, :D, :D, :I, :D, :D, :D, :I, :D, :D, :S, :D, :D, :D, :I, :S, :D, :S]\n",
      "newsam.agents = Symbol[:S, :S, :D, :I, :D, :S, :R, :D, :D, :I, :S, :R, :S, :I, :R, :S, :S, :R, :R, :I]\n",
      "newsam.agents = Symbol[:S, :S, :I, :S, :I, :S, :S, :I, :S, :S, :R, :S, :I, :I, :R, :D, :S, :D, :S, :S]\n",
      "newsam.agents = Symbol[:R, :S, :R, :D, :S, :D, :D, :R, :I, :R, :S, :D, :R, :I, :R, :D, :S, :R, :D, :I]\n",
      "newsam.agents = Symbol[:D, :R, :S, :S, :S, :S, :D, :D, :D, :D, :D, :S, :D, :D, :D, :S, :S, :S, :D, :R]\n",
      "newsam.agents = Symbol[:S, :S, :S, :D, :S, :R, :S, :D, :I, :D, :D, :S, :I, :R, :S, :D, :S, :D, :S, :S]\n",
      "newsam.agents = Symbol[:S, :D, :D, :D, :D, :D, :S, :S, :S, :D, :R, :D, :D, :S, :D, :D, :S, :S, :D, :D]\n",
      "newsam.agents = Symbol[:S, :R, :S, :I, :S, :R, :R, :D, :S, :D, :D, :D, :D, :S, :D, :I, :R, :S, :R, :I]\n",
      "newsam.agents = Symbol[:I, :S, :S, :S, :S, :D, :S, :S, :R, :S, :S, :S, :S, :R, :S, :D, :S, :D, :S, :I]\n",
      "newsam.agents = Symbol[:D, :S, :S, :D, :S, :I, :S, :S, :S, :S, :S, :S, :S, :S, :S, :S, :D, :S, :S, :S]\n",
      "newsam.agents = Symbol[:S, :S, :D, :D, :D, :S, :D, :S, :S, :D, :D, :D, :D, :D, :D, :D, :D, :D, :D, :S]\n",
      "newsam.agents = Symbol[:S, :D, :D, :D, :D, :D, :D, :D, :D, :S, :D, :S, :I, :D, :D, :D, :D, :D, :I, :I]\n",
      "newsam.agents = Symbol[:S, :S, :S, :R, :S, :S, :R, :S, :S, :S, :S, :D, :S, :R, :S, :S, :S, :S, :S, :S]\n",
      "newsam.agents = Symbol[:I, :S, :I, :D, :D, :R, :R, :D, :I, :S, :S, :D, :D, :S, :I, :R, :D, :I, :D, :S]\n",
      "newsam.agents = Symbol[:D, :S, :S, :S, :D, :S, :R, :D, :I, :D, :D, :S, :S, :S, :D, :D, :D, :D, :D, :S]\n",
      "newsam.agents = Symbol[:R, :S, :S, :S, :I, :S, :D, :I, :I, :S, :R, :R, :D, :S, :S, :R, :R, :R, :D, :I]\n",
      "newsam.agents = Symbol[:R, :S, :S, :R, :S, :S, :I, :D, :S, :R, :S, :S, :R, :S, :R, :R, :S, :S, :R, :D]\n",
      "newsam.agents = Symbol[:S, :S, :S, :I, :S, :S, :S, :S, :S, :D, :S, :S, :S, :S, :D, :S, :I, :S, :S, :S]\n",
      "newsam.agents = Symbol[:D, :S, :S, :D, :I, :D, :S, :D, :D, :D, :D, :S, :S, :D, :S, :S, :S, :S, :I, :S]\n",
      "newsam.agents = Symbol[:S, :D, :S, :S, :D, :S, :S, :S, :S, :R, :D, :D, :D, :D, :D, :S, :I, :S, :S, :S]\n",
      "newsam.agents = Symbol[:S, :D, :S, :D, :S, :I, :D, :I, :S, :S, :S, :I, :S, :S, :R, :S, :D, :R, :S, :S]\n",
      "newsam.agents = Symbol[:D, :R, :D, :S, :I, :D, :S, :D, :D, :S, :S, :S, :S, :S, :D, :I, :S, :S, :S, :S]\n",
      "newsam.agents = Symbol[:S, :S, :S, :R, :S, :S, :S, :S, :S, :S, :D, :S, :R, :S, :S, :I, :D, :S, :S, :S]\n",
      "newsam.agents = Symbol[:S, :S, :S, :D, :D, :S, :S, :R, :S, :S, :S, :S, :S, :S, :D, :S, :D, :D, :D, :S]\n",
      "newsam.agents = Symbol[:S, :D, :S, :S, :S, :I, :S, :D, :D, :D, :D, :D, :D, :S, :S, :S, :S, :D, :S, :I]\n",
      "newsam.agents = Symbol[:S, :D, :R, :I, :R, :S, :I, :S, :I, :D, :S, :D, :S, :S, :I, :I, :S, :S, :S, :S]\n",
      "newsam.agents = Symbol[:I, :S, :S, :D, :D, :D, :D, :D, :S, :D, :D, :S, :D, :S, :S, :S, :S, :D, :D, :D]\n",
      "newsam.agents = Symbol[:S, :I, :S, :D, :S, :S, :S, :R, :D, :S, :S, :S, :I, :R, :I, :R, :S, :S, :D, :R]\n",
      "newsam.agents = Symbol[:D, :S, :R, :S, :S, :S, :S, :S, :S, :S, :S, :S, :S, :S, :S, :S, :S, :D, :S, :S]\n",
      "newsam.agents = Symbol[:D, :R, :S, :S, :R, :R, :S, :R, :S, :D, :D, :R, :R, :S, :S, :D, :S, :S, :R, :D]\n",
      "newsam.agents = Symbol[:S, :S, :S, :S, :D, :S, :D, :S, :S, :S, :S, :D, :D, :D, :D, :S, :S, :D, :S, :D]\n",
      "newsam.agents = Symbol[:D, :S, :S, :R, :I, :S, :S, :I, :I, :S, :S, :S, :S, :S, :R, :R, :D, :I, :S, :I]\n",
      "newsam.agents = Symbol[:D, :S, :S, :D, :S, :D, :S, :S, :D, :D, :S, :S, :S, :S, :D, :S, :D, :S, :S, :S]\n",
      "newsam.agents = Symbol[:I, :D, :D, :D, :D, :D, :D, :S, :D, :R, :S, :D, :S, :S, :D, :S, :D, :D, :D, :D]\n",
      "newsam.agents = Symbol[:D, :D, :D, :D, :D, :D, :D, :D, :D, :D, :D, :D, :D, :D, :D, :D, :D, :D, :D, :D]\n",
      "newsam.agents = Symbol[:S, :D, :R, :D, :S, :I, :S, :R, :D, :S, :S, :S, :S, :S, :D, :I, :S, :S, :D, :S]\n",
      "newsam.agents = Symbol[:S, :S, :S, :D, :S, :S, :S, :S, :S, :S, :S, :S, :D, :S, :S, :S, :S, :S, :S, :S]\n",
      "newsam.agents = Symbol[:S, :D, :D, :D, :D, :D, :D, :D, :S, :D, :R, :S, :D, :D, :S, :D, :S, :D, :D, :D]\n",
      "newsam.agents = Symbol[:D, :S, :D, :D, :R, :D, :S, :D, :S, :I, :D, :D, :D, :S, :I, :I, :D, :D, :S, :S]\n",
      "newsam.agents = Symbol[:S, :S, :S, :S, :S, :S, :D, :D, :S, :S, :S, :S, :S, :S, :D, :S, :S, :D, :S, :S]\n",
      "newsam.agents = Symbol[:D, :S, :S, :I, :S, :D, :S, :S, :D, :S, :S, :D, :S, :D, :S, :S, :I, :R, :D, :D]\n",
      "newsam.agents = Symbol[:S, :S, :R, :S, :S, :S, :R, :S, :S, :S, :S, :S, :I, :S, :S, :S, :S, :S, :S, :S]\n",
      "newsam.agents = Symbol[:S, :S, :S, :S, :S, :D, :D, :S, :S, :S, :D, :D, :I, :S, :D, :I, :D, :D, :D, :S]\n",
      "newsam.agents = Symbol[:S, :D, :S, :D, :S, :D, :S, :R, :S, :D, :S, :S, :D, :S, :I, :S, :D, :R, :S, :D]\n",
      "newsam.agents = Symbol[:D, :D, :S, :S, :R, :D, :D, :S, :S, :D, :D, :D, :D, :D, :D, :R, :D, :R, :D, :S]\n",
      "newsam.agents = Symbol[:S, :S, :S, :D, :S, :I, :I, :D, :R, :R, :I, :R, :R, :S, :S, :R, :S, :S, :S, :I]\n",
      "newsam.agents = Symbol[:S, :S, :S, :I, :S, :S, :D, :I, :I, :D, :D, :D, :S, :S, :D, :R, :D, :S, :D, :S]\n",
      "newsam.agents = Symbol[:D, :S, :D, :D, :D, :S, :D, :D, :S, :D, :D, :D, :S, :D, :D, :S, :D, :D, :S, :D]\n",
      "newsam.agents = Symbol[:S, :R, :S, :I, :S, :S, :D, :S, :S, :S, :D, :R, :S, :R, :S, :S, :D, :I, :R, :D]\n",
      "newsam.agents = Symbol[:S, :S, :S, :I, :S, :S, :D, :S, :S, :R, :S, :D, :D, :R, :D, :S, :S, :I, :S, :S]\n",
      "newsam.agents = Symbol[:R, :S, :S, :S, :R, :S, :R, :S, :I, :R, :S, :S, :S, :I, :I, :S, :S, :S, :D, :D]\n",
      "newsam.agents = Symbol[:D, :D, :S, :S, :S, :D, :D, :S, :S, :S, :S, :S, :S, :S, :S, :S, :S, :I, :D, :I]\n",
      "newsam.agents = Symbol[:S, :D, :R, :R, :R, :D, :I, :D, :I, :S, :R, :D, :D, :R, :S, :D, :D, :D, :D, :D]\n",
      "newsam.agents = Symbol[:D, :R, :D, :S, :D, :D, :D, :D, :D, :D, :D, :D, :D, :D, :S, :S, :S, :S, :D, :D]\n",
      "newsam.agents = Symbol[:D, :D, :D, :D, :D, :I, :I, :D, :I, :D, :I, :D, :I, :S, :I, :R, :D, :D, :S, :D]\n",
      "newsam.agents = Symbol[:D, :D, :D, :D, :D, :D, :D, :D, :R, :D, :D, :D, :D, :D, :D, :D, :D, :D, :D, :D]\n",
      "newsam.agents = Symbol[:I, :I, :S, :S, :D, :D, :I, :D, :S, :D, :D, :I, :S, :S, :S, :S, :S, :S, :S, :R]\n",
      "newsam.agents = Symbol[:I, :S, :D, :S, :S, :R, :S, :S, :S, :S, :R, :S, :D, :D, :S, :S, :S, :S, :S, :S]\n",
      "newsam.agents = Symbol[:S, :S, :S, :D, :S, :S, :S, :D, :D, :S, :R, :R, :R, :S, :D, :D, :D, :R, :S, :S]\n",
      "newsam.agents = Symbol[:S, :D, :I, :D, :R, :S, :S, :D, :R, :R, :S, :S, :S, :S, :S, :S, :I, :S, :S, :S]\n",
      "newsam.agents = Symbol[:S, :S, :S, :S, :S, :I, :S, :S, :S, :I, :S, :I, :S, :S, :S, :S, :S, :S, :I, :S]\n",
      "newsam.agents = Symbol[:S, :S, :S, :D, :D, :I, :R, :D, :R, :S, :D, :S, :D, :S, :S, :D, :D, :D, :S, :D]\n",
      "newsam.agents = Symbol[:S, :S, :D, :S, :D, :D, :S, :D, :S, :S, :S, :D, :S, :D, :S, :S, :D, :S, :S, :S]\n",
      "newsam.agents = Symbol[:D, :S, :R, :D, :S, :D, :S, :S, :S, :S, :D, :S, :S, :S, :S, :S, :D, :S, :D, :R]\n",
      "newsam.agents = Symbol[:R, :R, :S, :S, :R, :I, :S, :S, :S, :S, :R, :R, :R, :I, :S, :I, :S, :S, :D, :R]\n",
      "newsam.agents = Symbol[:S, :R, :S, :R, :R, :S, :S, :S, :S, :S, :R, :S, :S, :S, :R, :S, :S, :I, :S, :S]\n",
      "newsam.agents = Symbol[:S, :S, :R, :S, :S, :D, :S, :S, :S, :S, :R, :I, :S, :S, :S, :S, :S, :S, :S, :S]\n",
      "newsam.agents = Symbol[:R, :S, :S, :R, :S, :S, :S, :S, :S, :S, :S, :S, :S, :S, :S, :S, :S, :S, :S, :S]\n",
      "newsam.agents = Symbol[:S, :S, :S, :S, :S, :I, :S, :S, :S, :D, :D, :S, :S, :S, :S, :S, :R, :S, :I, :I]\n",
      "newsam.agents = Symbol[:R, :R, :D, :S, :R, :I, :I, :S, :S, :S, :D, :D, :D, :S, :S, :S, :I, :I, :S, :D]\n",
      "newsam.agents = Symbol[:S, :R, :D, :R, :S, :S, :D, :S, :S, :D, :S, :D, :D, :D, :S, :S, :D, :S, :R, :S]\n",
      "newsam.agents = Symbol[:R, :S, :D, :I, :D, :D, :D, :D, :S, :D, :S, :D, :R, :D, :D, :D, :D, :R, :D, :D]\n",
      "size(Data) = (100, 4)\n"
     ]
    },
    {
     "name": "stderr",
     "output_type": "stream",
     "text": [
      "WARNING: replacing module Regression.\n"
     ]
    },
    {
     "data": {
      "text/plain": [
       "(β = [32.4032, -43.9778, -0.99626, 13.2007], r = 25.657138767118166, n = 100)"
      ]
     },
     "execution_count": 36,
     "metadata": {},
     "output_type": "execute_result"
    }
   ],
   "source": [
    "Pipelines.run!(P)\n",
    "P.results[end][2]"
   ]
  },
  {
   "cell_type": "markdown",
   "metadata": {},
   "source": [
    "Here is the data we observed when running the first stage of the pipeline, stage two fits a polynomial to these observations"
   ]
  },
  {
   "cell_type": "code",
   "execution_count": 37,
   "metadata": {
    "lines_to_next_cell": 2,
    "slideshow": {
     "slide_type": "notes"
    }
   },
   "outputs": [],
   "source": [
    "table = map(x->(round(x.params.ρ, digits=4), last(x.counts[end])), P.results[2][1]) |> sort\n",
    "try \n",
    "    using Plots\n",
    "catch\n",
    "    @warn \"Plotting is not available, make a table\"\n",
    "    for t in table\n",
    "        println(join(t, \"\\t\"))\n",
    "    end\n",
    "end"
   ]
  },
  {
   "cell_type": "markdown",
   "metadata": {
    "slideshow": {
     "slide_type": "slide"
    }
   },
   "source": [
    "## Results\n",
    "\n",
    "The regression model that we have trained based on the simulated data from the SIRD model with population growth can be presented as a polynomial sampled over the domain. We construct this table to show the nonlinear dependence of the model on the recovery parameter $\\rho$. The best fitting polynomial is shown below."
   ]
  },
  {
   "cell_type": "code",
   "execution_count": 38,
   "metadata": {
    "slideshow": {
     "slide_type": "skip"
    }
   },
   "outputs": [
    {
     "name": "stdout",
     "output_type": "stream",
     "text": [
      "ρ\tf(ρ,β)\n",
      "==============\n",
      "0.00\t 13.201\n",
      "0.05\t 13.045\n",
      "0.10\t 12.694\n",
      "0.15\t 12.171\n",
      "0.20\t 11.502\n",
      "0.25\t 10.709\n",
      "0.30\t  9.819\n",
      "0.35\t  8.854\n",
      "0.40\t  7.840\n",
      "0.45\t  6.800\n",
      "0.50\t  5.759\n",
      "0.55\t  4.741\n",
      "0.60\t  3.770\n",
      "0.65\t  2.871\n",
      "0.70\t  2.069\n",
      "0.75\t  1.386\n",
      "0.80\t  0.848\n",
      "0.85\t  0.480\n",
      "0.90\t  0.304\n",
      "0.95\t  0.346\n",
      "1.00\t  0.630\n"
     ]
    }
   ],
   "source": [
    "using Printf\n",
    "eval(:(f(x,β) = $(poly(P.steps[2]))))\n",
    "xdomain = (0.0:0.05:1.0)\n",
    "println(\"ρ\\tf(ρ,β)\\n==============\")\n",
    "xŷ = zip(xdomain, f(xdomain, P.results[end][2].β))\n",
    "z = collect(map(x->(@sprintf(\"%0.2f\", x[1]),\n",
    "                    @sprintf(\"%7.3f\", x[2])),\n",
    "        xŷ))\n",
    "for t in z\n",
    "    println(join(t, \"\\t\"))\n",
    "end"
   ]
  },
  {
   "cell_type": "code",
   "execution_count": 39,
   "metadata": {
    "slideshow": {
     "slide_type": "skip"
    }
   },
   "outputs": [],
   "source": [
    "using Plots"
   ]
  },
  {
   "cell_type": "code",
   "execution_count": 40,
   "metadata": {
    "slideshow": {
     "slide_type": "subslide"
    }
   },
   "outputs": [
    {
     "name": "stdout",
     "output_type": "stream",
     "text": [
      "β: [32.4032, -43.9778, -0.99626, 13.2007]\n",
      ".+(β[1] .* x .^ 3, β[2] .* x .^ 2, β[3] .* x .^ 1, β[4] .* x .^ 0)\n"
     ]
    },
    {
     "data": {
      "image/svg+xml": [
       "<?xml version=\"1.0\" encoding=\"utf-8\"?>\n",
       "<svg xmlns=\"http://www.w3.org/2000/svg\" xmlns:xlink=\"http://www.w3.org/1999/xlink\" width=\"600\" height=\"400\" viewBox=\"0 0 2400 1600\">\n",
       "<defs>\n",
       "  <clipPath id=\"clip2400\">\n",
       "    <rect x=\"0\" y=\"0\" width=\"2000\" height=\"2000\"/>\n",
       "  </clipPath>\n",
       "</defs>\n",
       "<defs>\n",
       "  <clipPath id=\"clip2401\">\n",
       "    <rect x=\"0\" y=\"0\" width=\"2400\" height=\"1600\"/>\n",
       "  </clipPath>\n",
       "</defs>\n",
       "<polygon clip-path=\"url(#clip2401)\" points=\"\n",
       "0,1600 2400,1600 2400,0 0,0 \n",
       "  \" fill=\"#ffffff\" fill-rule=\"evenodd\" fill-opacity=\"1\"/>\n",
       "<defs>\n",
       "  <clipPath id=\"clip2402\">\n",
       "    <rect x=\"480\" y=\"0\" width=\"1681\" height=\"1600\"/>\n",
       "  </clipPath>\n",
       "</defs>\n",
       "<polygon clip-path=\"url(#clip2401)\" points=\"\n",
       "211.005,1440.48 2321.26,1440.48 2321.26,47.2441 211.005,47.2441 \n",
       "  \" fill=\"#ffffff\" fill-rule=\"evenodd\" fill-opacity=\"1\"/>\n",
       "<defs>\n",
       "  <clipPath id=\"clip2403\">\n",
       "    <rect x=\"211\" y=\"47\" width=\"2111\" height=\"1394\"/>\n",
       "  </clipPath>\n",
       "</defs>\n",
       "<polyline clip-path=\"url(#clip2403)\" style=\"stroke:#000000; stroke-width:2; stroke-opacity:0.1; fill:none\" points=\"\n",
       "  626.035,1440.48 626.035,47.2441 \n",
       "  \"/>\n",
       "<polyline clip-path=\"url(#clip2403)\" style=\"stroke:#000000; stroke-width:2; stroke-opacity:0.1; fill:none\" points=\"\n",
       "  1069.06,1440.48 1069.06,47.2441 \n",
       "  \"/>\n",
       "<polyline clip-path=\"url(#clip2403)\" style=\"stroke:#000000; stroke-width:2; stroke-opacity:0.1; fill:none\" points=\"\n",
       "  1512.09,1440.48 1512.09,47.2441 \n",
       "  \"/>\n",
       "<polyline clip-path=\"url(#clip2403)\" style=\"stroke:#000000; stroke-width:2; stroke-opacity:0.1; fill:none\" points=\"\n",
       "  1955.11,1440.48 1955.11,47.2441 \n",
       "  \"/>\n",
       "<polyline clip-path=\"url(#clip2403)\" style=\"stroke:#000000; stroke-width:2; stroke-opacity:0.1; fill:none\" points=\"\n",
       "  211.005,1401.05 2321.26,1401.05 \n",
       "  \"/>\n",
       "<polyline clip-path=\"url(#clip2403)\" style=\"stroke:#000000; stroke-width:2; stroke-opacity:0.1; fill:none\" points=\"\n",
       "  211.005,1072.46 2321.26,1072.46 \n",
       "  \"/>\n",
       "<polyline clip-path=\"url(#clip2403)\" style=\"stroke:#000000; stroke-width:2; stroke-opacity:0.1; fill:none\" points=\"\n",
       "  211.005,743.863 2321.26,743.863 \n",
       "  \"/>\n",
       "<polyline clip-path=\"url(#clip2403)\" style=\"stroke:#000000; stroke-width:2; stroke-opacity:0.1; fill:none\" points=\"\n",
       "  211.005,415.269 2321.26,415.269 \n",
       "  \"/>\n",
       "<polyline clip-path=\"url(#clip2403)\" style=\"stroke:#000000; stroke-width:2; stroke-opacity:0.1; fill:none\" points=\"\n",
       "  211.005,86.6754 2321.26,86.6754 \n",
       "  \"/>\n",
       "<polyline clip-path=\"url(#clip2401)\" style=\"stroke:#000000; stroke-width:4; stroke-opacity:1; fill:none\" points=\"\n",
       "  211.005,1440.48 2321.26,1440.48 \n",
       "  \"/>\n",
       "<polyline clip-path=\"url(#clip2401)\" style=\"stroke:#000000; stroke-width:4; stroke-opacity:1; fill:none\" points=\"\n",
       "  211.005,1440.48 211.005,47.2441 \n",
       "  \"/>\n",
       "<polyline clip-path=\"url(#clip2401)\" style=\"stroke:#000000; stroke-width:4; stroke-opacity:1; fill:none\" points=\"\n",
       "  626.035,1440.48 626.035,1419.58 \n",
       "  \"/>\n",
       "<polyline clip-path=\"url(#clip2401)\" style=\"stroke:#000000; stroke-width:4; stroke-opacity:1; fill:none\" points=\"\n",
       "  1069.06,1440.48 1069.06,1419.58 \n",
       "  \"/>\n",
       "<polyline clip-path=\"url(#clip2401)\" style=\"stroke:#000000; stroke-width:4; stroke-opacity:1; fill:none\" points=\"\n",
       "  1512.09,1440.48 1512.09,1419.58 \n",
       "  \"/>\n",
       "<polyline clip-path=\"url(#clip2401)\" style=\"stroke:#000000; stroke-width:4; stroke-opacity:1; fill:none\" points=\"\n",
       "  1955.11,1440.48 1955.11,1419.58 \n",
       "  \"/>\n",
       "<polyline clip-path=\"url(#clip2401)\" style=\"stroke:#000000; stroke-width:4; stroke-opacity:1; fill:none\" points=\"\n",
       "  211.005,1401.05 242.659,1401.05 \n",
       "  \"/>\n",
       "<polyline clip-path=\"url(#clip2401)\" style=\"stroke:#000000; stroke-width:4; stroke-opacity:1; fill:none\" points=\"\n",
       "  211.005,1072.46 242.659,1072.46 \n",
       "  \"/>\n",
       "<polyline clip-path=\"url(#clip2401)\" style=\"stroke:#000000; stroke-width:4; stroke-opacity:1; fill:none\" points=\"\n",
       "  211.005,743.863 242.659,743.863 \n",
       "  \"/>\n",
       "<polyline clip-path=\"url(#clip2401)\" style=\"stroke:#000000; stroke-width:4; stroke-opacity:1; fill:none\" points=\"\n",
       "  211.005,415.269 242.659,415.269 \n",
       "  \"/>\n",
       "<polyline clip-path=\"url(#clip2401)\" style=\"stroke:#000000; stroke-width:4; stroke-opacity:1; fill:none\" points=\"\n",
       "  211.005,86.6754 242.659,86.6754 \n",
       "  \"/>\n",
       "<g clip-path=\"url(#clip2401)\">\n",
       "<text style=\"fill:#000000; fill-opacity:1; font-family:Arial,Helvetica Neue,Helvetica,sans-serif; font-size:48px; text-anchor:middle;\" transform=\"rotate(0, 626.035, 1494.48)\" x=\"626.035\" y=\"1494.48\">0.0</text>\n",
       "</g>\n",
       "<g clip-path=\"url(#clip2401)\">\n",
       "<text style=\"fill:#000000; fill-opacity:1; font-family:Arial,Helvetica Neue,Helvetica,sans-serif; font-size:48px; text-anchor:middle;\" transform=\"rotate(0, 1069.06, 1494.48)\" x=\"1069.06\" y=\"1494.48\">0.3</text>\n",
       "</g>\n",
       "<g clip-path=\"url(#clip2401)\">\n",
       "<text style=\"fill:#000000; fill-opacity:1; font-family:Arial,Helvetica Neue,Helvetica,sans-serif; font-size:48px; text-anchor:middle;\" transform=\"rotate(0, 1512.09, 1494.48)\" x=\"1512.09\" y=\"1494.48\">0.6</text>\n",
       "</g>\n",
       "<g clip-path=\"url(#clip2401)\">\n",
       "<text style=\"fill:#000000; fill-opacity:1; font-family:Arial,Helvetica Neue,Helvetica,sans-serif; font-size:48px; text-anchor:middle;\" transform=\"rotate(0, 1955.11, 1494.48)\" x=\"1955.11\" y=\"1494.48\">0.9</text>\n",
       "</g>\n",
       "<g clip-path=\"url(#clip2401)\">\n",
       "<text style=\"fill:#000000; fill-opacity:1; font-family:Arial,Helvetica Neue,Helvetica,sans-serif; font-size:48px; text-anchor:end;\" transform=\"rotate(0, 187.005, 1418.55)\" x=\"187.005\" y=\"1418.55\">0</text>\n",
       "</g>\n",
       "<g clip-path=\"url(#clip2401)\">\n",
       "<text style=\"fill:#000000; fill-opacity:1; font-family:Arial,Helvetica Neue,Helvetica,sans-serif; font-size:48px; text-anchor:end;\" transform=\"rotate(0, 187.005, 1089.96)\" x=\"187.005\" y=\"1089.96\">5</text>\n",
       "</g>\n",
       "<g clip-path=\"url(#clip2401)\">\n",
       "<text style=\"fill:#000000; fill-opacity:1; font-family:Arial,Helvetica Neue,Helvetica,sans-serif; font-size:48px; text-anchor:end;\" transform=\"rotate(0, 187.005, 761.363)\" x=\"187.005\" y=\"761.363\">10</text>\n",
       "</g>\n",
       "<g clip-path=\"url(#clip2401)\">\n",
       "<text style=\"fill:#000000; fill-opacity:1; font-family:Arial,Helvetica Neue,Helvetica,sans-serif; font-size:48px; text-anchor:end;\" transform=\"rotate(0, 187.005, 432.769)\" x=\"187.005\" y=\"432.769\">15</text>\n",
       "</g>\n",
       "<g clip-path=\"url(#clip2401)\">\n",
       "<text style=\"fill:#000000; fill-opacity:1; font-family:Arial,Helvetica Neue,Helvetica,sans-serif; font-size:48px; text-anchor:end;\" transform=\"rotate(0, 187.005, 104.175)\" x=\"187.005\" y=\"104.175\">20</text>\n",
       "</g>\n",
       "<g clip-path=\"url(#clip2401)\">\n",
       "<text style=\"fill:#000000; fill-opacity:1; font-family:Arial,Helvetica Neue,Helvetica,sans-serif; font-size:66px; text-anchor:middle;\" transform=\"rotate(0, 1266.13, 1590.4)\" x=\"1266.13\" y=\"1590.4\">Probability of Recovery</text>\n",
       "</g>\n",
       "<g clip-path=\"url(#clip2401)\">\n",
       "<text style=\"fill:#000000; fill-opacity:1; font-family:Arial,Helvetica Neue,Helvetica,sans-serif; font-size:66px; text-anchor:middle;\" transform=\"rotate(-90, 57.6, 743.863)\" x=\"57.6\" y=\"743.863\">Deaths</text>\n",
       "</g>\n",
       "<circle clip-path=\"url(#clip2403)\" style=\"fill:#000000; stroke:none; fill-opacity:1\" cx=\"270.729\" cy=\"1072.46\" r=\"18\"/>\n",
       "<circle clip-path=\"url(#clip2403)\" style=\"fill:#009af9; stroke:none; fill-opacity:1\" cx=\"270.729\" cy=\"1072.46\" r=\"14\"/>\n",
       "<circle clip-path=\"url(#clip2403)\" style=\"fill:#000000; stroke:none; fill-opacity:1\" cx=\"613.778\" cy=\"86.6754\" r=\"18\"/>\n",
       "<circle clip-path=\"url(#clip2403)\" style=\"fill:#009af9; stroke:none; fill-opacity:1\" cx=\"613.778\" cy=\"86.6754\" r=\"14\"/>\n",
       "<circle clip-path=\"url(#clip2403)\" style=\"fill:#000000; stroke:none; fill-opacity:1\" cx=\"661.034\" cy=\"152.394\" r=\"18\"/>\n",
       "<circle clip-path=\"url(#clip2403)\" style=\"fill:#009af9; stroke:none; fill-opacity:1\" cx=\"661.034\" cy=\"152.394\" r=\"14\"/>\n",
       "<circle clip-path=\"url(#clip2403)\" style=\"fill:#000000; stroke:none; fill-opacity:1\" cx=\"764.259\" cy=\"1006.74\" r=\"18\"/>\n",
       "<circle clip-path=\"url(#clip2403)\" style=\"fill:#009af9; stroke:none; fill-opacity:1\" cx=\"764.259\" cy=\"1006.74\" r=\"14\"/>\n",
       "<circle clip-path=\"url(#clip2403)\" style=\"fill:#000000; stroke:none; fill-opacity:1\" cx=\"770.166\" cy=\"480.988\" r=\"18\"/>\n",
       "<circle clip-path=\"url(#clip2403)\" style=\"fill:#009af9; stroke:none; fill-opacity:1\" cx=\"770.166\" cy=\"480.988\" r=\"14\"/>\n",
       "<circle clip-path=\"url(#clip2403)\" style=\"fill:#000000; stroke:none; fill-opacity:1\" cx=\"773.119\" cy=\"152.394\" r=\"18\"/>\n",
       "<circle clip-path=\"url(#clip2403)\" style=\"fill:#009af9; stroke:none; fill-opacity:1\" cx=\"773.119\" cy=\"152.394\" r=\"14\"/>\n",
       "<circle clip-path=\"url(#clip2403)\" style=\"fill:#000000; stroke:none; fill-opacity:1\" cx=\"831.451\" cy=\"546.707\" r=\"18\"/>\n",
       "<circle clip-path=\"url(#clip2403)\" style=\"fill:#009af9; stroke:none; fill-opacity:1\" cx=\"831.451\" cy=\"546.707\" r=\"14\"/>\n",
       "<circle clip-path=\"url(#clip2403)\" style=\"fill:#000000; stroke:none; fill-opacity:1\" cx=\"848.434\" cy=\"480.988\" r=\"18\"/>\n",
       "<circle clip-path=\"url(#clip2403)\" style=\"fill:#009af9; stroke:none; fill-opacity:1\" cx=\"848.434\" cy=\"480.988\" r=\"14\"/>\n",
       "<circle clip-path=\"url(#clip2403)\" style=\"fill:#000000; stroke:none; fill-opacity:1\" cx=\"849.91\" cy=\"480.988\" r=\"18\"/>\n",
       "<circle clip-path=\"url(#clip2403)\" style=\"fill:#009af9; stroke:none; fill-opacity:1\" cx=\"849.91\" cy=\"480.988\" r=\"14\"/>\n",
       "<circle clip-path=\"url(#clip2403)\" style=\"fill:#000000; stroke:none; fill-opacity:1\" cx=\"867.041\" cy=\"283.832\" r=\"18\"/>\n",
       "<circle clip-path=\"url(#clip2403)\" style=\"fill:#009af9; stroke:none; fill-opacity:1\" cx=\"867.041\" cy=\"283.832\" r=\"14\"/>\n",
       "<circle clip-path=\"url(#clip2403)\" style=\"fill:#000000; stroke:none; fill-opacity:1\" cx=\"880.479\" cy=\"1138.18\" r=\"18\"/>\n",
       "<circle clip-path=\"url(#clip2403)\" style=\"fill:#009af9; stroke:none; fill-opacity:1\" cx=\"880.479\" cy=\"1138.18\" r=\"14\"/>\n",
       "<circle clip-path=\"url(#clip2403)\" style=\"fill:#000000; stroke:none; fill-opacity:1\" cx=\"884.762\" cy=\"678.145\" r=\"18\"/>\n",
       "<circle clip-path=\"url(#clip2403)\" style=\"fill:#009af9; stroke:none; fill-opacity:1\" cx=\"884.762\" cy=\"678.145\" r=\"14\"/>\n",
       "<circle clip-path=\"url(#clip2403)\" style=\"fill:#000000; stroke:none; fill-opacity:1\" cx=\"937.629\" cy=\"546.707\" r=\"18\"/>\n",
       "<circle clip-path=\"url(#clip2403)\" style=\"fill:#009af9; stroke:none; fill-opacity:1\" cx=\"937.629\" cy=\"546.707\" r=\"14\"/>\n",
       "<circle clip-path=\"url(#clip2403)\" style=\"fill:#000000; stroke:none; fill-opacity:1\" cx=\"958.452\" cy=\"612.426\" r=\"18\"/>\n",
       "<circle clip-path=\"url(#clip2403)\" style=\"fill:#009af9; stroke:none; fill-opacity:1\" cx=\"958.452\" cy=\"612.426\" r=\"14\"/>\n",
       "<circle clip-path=\"url(#clip2403)\" style=\"fill:#000000; stroke:none; fill-opacity:1\" cx=\"966.721\" cy=\"612.426\" r=\"18\"/>\n",
       "<circle clip-path=\"url(#clip2403)\" style=\"fill:#009af9; stroke:none; fill-opacity:1\" cx=\"966.721\" cy=\"612.426\" r=\"14\"/>\n",
       "<circle clip-path=\"url(#clip2403)\" style=\"fill:#000000; stroke:none; fill-opacity:1\" cx=\"976.911\" cy=\"678.145\" r=\"18\"/>\n",
       "<circle clip-path=\"url(#clip2403)\" style=\"fill:#009af9; stroke:none; fill-opacity:1\" cx=\"976.911\" cy=\"678.145\" r=\"14\"/>\n",
       "<circle clip-path=\"url(#clip2403)\" style=\"fill:#000000; stroke:none; fill-opacity:1\" cx=\"1026.97\" cy=\"480.988\" r=\"18\"/>\n",
       "<circle clip-path=\"url(#clip2403)\" style=\"fill:#009af9; stroke:none; fill-opacity:1\" cx=\"1026.97\" cy=\"480.988\" r=\"14\"/>\n",
       "<circle clip-path=\"url(#clip2403)\" style=\"fill:#000000; stroke:none; fill-opacity:1\" cx=\"1028.45\" cy=\"743.863\" r=\"18\"/>\n",
       "<circle clip-path=\"url(#clip2403)\" style=\"fill:#009af9; stroke:none; fill-opacity:1\" cx=\"1028.45\" cy=\"743.863\" r=\"14\"/>\n",
       "<circle clip-path=\"url(#clip2403)\" style=\"fill:#000000; stroke:none; fill-opacity:1\" cx=\"1037.75\" cy=\"875.301\" r=\"18\"/>\n",
       "<circle clip-path=\"url(#clip2403)\" style=\"fill:#009af9; stroke:none; fill-opacity:1\" cx=\"1037.75\" cy=\"875.301\" r=\"14\"/>\n",
       "<circle clip-path=\"url(#clip2403)\" style=\"fill:#000000; stroke:none; fill-opacity:1\" cx=\"1041.89\" cy=\"875.301\" r=\"18\"/>\n",
       "<circle clip-path=\"url(#clip2403)\" style=\"fill:#009af9; stroke:none; fill-opacity:1\" cx=\"1041.89\" cy=\"875.301\" r=\"14\"/>\n",
       "<circle clip-path=\"url(#clip2403)\" style=\"fill:#000000; stroke:none; fill-opacity:1\" cx=\"1048.83\" cy=\"480.988\" r=\"18\"/>\n",
       "<circle clip-path=\"url(#clip2403)\" style=\"fill:#009af9; stroke:none; fill-opacity:1\" cx=\"1048.83\" cy=\"480.988\" r=\"14\"/>\n",
       "<circle clip-path=\"url(#clip2403)\" style=\"fill:#000000; stroke:none; fill-opacity:1\" cx=\"1049.86\" cy=\"809.582\" r=\"18\"/>\n",
       "<circle clip-path=\"url(#clip2403)\" style=\"fill:#009af9; stroke:none; fill-opacity:1\" cx=\"1049.86\" cy=\"809.582\" r=\"14\"/>\n",
       "<circle clip-path=\"url(#clip2403)\" style=\"fill:#000000; stroke:none; fill-opacity:1\" cx=\"1054\" cy=\"678.145\" r=\"18\"/>\n",
       "<circle clip-path=\"url(#clip2403)\" style=\"fill:#009af9; stroke:none; fill-opacity:1\" cx=\"1054\" cy=\"678.145\" r=\"14\"/>\n",
       "<circle clip-path=\"url(#clip2403)\" style=\"fill:#000000; stroke:none; fill-opacity:1\" cx=\"1064.63\" cy=\"678.145\" r=\"18\"/>\n",
       "<circle clip-path=\"url(#clip2403)\" style=\"fill:#009af9; stroke:none; fill-opacity:1\" cx=\"1064.63\" cy=\"678.145\" r=\"14\"/>\n",
       "<circle clip-path=\"url(#clip2403)\" style=\"fill:#000000; stroke:none; fill-opacity:1\" cx=\"1068.76\" cy=\"875.301\" r=\"18\"/>\n",
       "<circle clip-path=\"url(#clip2403)\" style=\"fill:#009af9; stroke:none; fill-opacity:1\" cx=\"1068.76\" cy=\"875.301\" r=\"14\"/>\n",
       "<circle clip-path=\"url(#clip2403)\" style=\"fill:#000000; stroke:none; fill-opacity:1\" cx=\"1071.87\" cy=\"612.426\" r=\"18\"/>\n",
       "<circle clip-path=\"url(#clip2403)\" style=\"fill:#009af9; stroke:none; fill-opacity:1\" cx=\"1071.87\" cy=\"612.426\" r=\"14\"/>\n",
       "<circle clip-path=\"url(#clip2403)\" style=\"fill:#000000; stroke:none; fill-opacity:1\" cx=\"1075.11\" cy=\"875.301\" r=\"18\"/>\n",
       "<circle clip-path=\"url(#clip2403)\" style=\"fill:#009af9; stroke:none; fill-opacity:1\" cx=\"1075.11\" cy=\"875.301\" r=\"14\"/>\n",
       "<circle clip-path=\"url(#clip2403)\" style=\"fill:#000000; stroke:none; fill-opacity:1\" cx=\"1080.14\" cy=\"809.582\" r=\"18\"/>\n",
       "<circle clip-path=\"url(#clip2403)\" style=\"fill:#009af9; stroke:none; fill-opacity:1\" cx=\"1080.14\" cy=\"809.582\" r=\"14\"/>\n",
       "<circle clip-path=\"url(#clip2403)\" style=\"fill:#000000; stroke:none; fill-opacity:1\" cx=\"1113.95\" cy=\"743.863\" r=\"18\"/>\n",
       "<circle clip-path=\"url(#clip2403)\" style=\"fill:#009af9; stroke:none; fill-opacity:1\" cx=\"1113.95\" cy=\"743.863\" r=\"14\"/>\n",
       "<circle clip-path=\"url(#clip2403)\" style=\"fill:#000000; stroke:none; fill-opacity:1\" cx=\"1129.16\" cy=\"1072.46\" r=\"18\"/>\n",
       "<circle clip-path=\"url(#clip2403)\" style=\"fill:#009af9; stroke:none; fill-opacity:1\" cx=\"1129.16\" cy=\"1072.46\" r=\"14\"/>\n",
       "<circle clip-path=\"url(#clip2403)\" style=\"fill:#000000; stroke:none; fill-opacity:1\" cx=\"1140.24\" cy=\"941.02\" r=\"18\"/>\n",
       "<circle clip-path=\"url(#clip2403)\" style=\"fill:#009af9; stroke:none; fill-opacity:1\" cx=\"1140.24\" cy=\"941.02\" r=\"14\"/>\n",
       "<circle clip-path=\"url(#clip2403)\" style=\"fill:#000000; stroke:none; fill-opacity:1\" cx=\"1151.17\" cy=\"1138.18\" r=\"18\"/>\n",
       "<circle clip-path=\"url(#clip2403)\" style=\"fill:#009af9; stroke:none; fill-opacity:1\" cx=\"1151.17\" cy=\"1138.18\" r=\"14\"/>\n",
       "<circle clip-path=\"url(#clip2403)\" style=\"fill:#000000; stroke:none; fill-opacity:1\" cx=\"1152.5\" cy=\"809.582\" r=\"18\"/>\n",
       "<circle clip-path=\"url(#clip2403)\" style=\"fill:#009af9; stroke:none; fill-opacity:1\" cx=\"1152.5\" cy=\"809.582\" r=\"14\"/>\n",
       "<circle clip-path=\"url(#clip2403)\" style=\"fill:#000000; stroke:none; fill-opacity:1\" cx=\"1159.14\" cy=\"809.582\" r=\"18\"/>\n",
       "<circle clip-path=\"url(#clip2403)\" style=\"fill:#009af9; stroke:none; fill-opacity:1\" cx=\"1159.14\" cy=\"809.582\" r=\"14\"/>\n",
       "<circle clip-path=\"url(#clip2403)\" style=\"fill:#000000; stroke:none; fill-opacity:1\" cx=\"1170.81\" cy=\"1269.61\" r=\"18\"/>\n",
       "<circle clip-path=\"url(#clip2403)\" style=\"fill:#009af9; stroke:none; fill-opacity:1\" cx=\"1170.81\" cy=\"1269.61\" r=\"14\"/>\n",
       "<circle clip-path=\"url(#clip2403)\" style=\"fill:#000000; stroke:none; fill-opacity:1\" cx=\"1172.73\" cy=\"1006.74\" r=\"18\"/>\n",
       "<circle clip-path=\"url(#clip2403)\" style=\"fill:#009af9; stroke:none; fill-opacity:1\" cx=\"1172.73\" cy=\"1006.74\" r=\"14\"/>\n",
       "<circle clip-path=\"url(#clip2403)\" style=\"fill:#000000; stroke:none; fill-opacity:1\" cx=\"1175.39\" cy=\"1006.74\" r=\"18\"/>\n",
       "<circle clip-path=\"url(#clip2403)\" style=\"fill:#009af9; stroke:none; fill-opacity:1\" cx=\"1175.39\" cy=\"1006.74\" r=\"14\"/>\n",
       "<circle clip-path=\"url(#clip2403)\" style=\"fill:#000000; stroke:none; fill-opacity:1\" cx=\"1180.11\" cy=\"1006.74\" r=\"18\"/>\n",
       "<circle clip-path=\"url(#clip2403)\" style=\"fill:#009af9; stroke:none; fill-opacity:1\" cx=\"1180.11\" cy=\"1006.74\" r=\"14\"/>\n",
       "<circle clip-path=\"url(#clip2403)\" style=\"fill:#000000; stroke:none; fill-opacity:1\" cx=\"1191.63\" cy=\"809.582\" r=\"18\"/>\n",
       "<circle clip-path=\"url(#clip2403)\" style=\"fill:#009af9; stroke:none; fill-opacity:1\" cx=\"1191.63\" cy=\"809.582\" r=\"14\"/>\n",
       "<circle clip-path=\"url(#clip2403)\" style=\"fill:#000000; stroke:none; fill-opacity:1\" cx=\"1219.25\" cy=\"1072.46\" r=\"18\"/>\n",
       "<circle clip-path=\"url(#clip2403)\" style=\"fill:#009af9; stroke:none; fill-opacity:1\" cx=\"1219.25\" cy=\"1072.46\" r=\"14\"/>\n",
       "<circle clip-path=\"url(#clip2403)\" style=\"fill:#000000; stroke:none; fill-opacity:1\" cx=\"1263.25\" cy=\"743.863\" r=\"18\"/>\n",
       "<circle clip-path=\"url(#clip2403)\" style=\"fill:#009af9; stroke:none; fill-opacity:1\" cx=\"1263.25\" cy=\"743.863\" r=\"14\"/>\n",
       "<circle clip-path=\"url(#clip2403)\" style=\"fill:#000000; stroke:none; fill-opacity:1\" cx=\"1271.52\" cy=\"941.02\" r=\"18\"/>\n",
       "<circle clip-path=\"url(#clip2403)\" style=\"fill:#009af9; stroke:none; fill-opacity:1\" cx=\"1271.52\" cy=\"941.02\" r=\"14\"/>\n",
       "<circle clip-path=\"url(#clip2403)\" style=\"fill:#000000; stroke:none; fill-opacity:1\" cx=\"1272.26\" cy=\"941.02\" r=\"18\"/>\n",
       "<circle clip-path=\"url(#clip2403)\" style=\"fill:#009af9; stroke:none; fill-opacity:1\" cx=\"1272.26\" cy=\"941.02\" r=\"14\"/>\n",
       "<circle clip-path=\"url(#clip2403)\" style=\"fill:#000000; stroke:none; fill-opacity:1\" cx=\"1289.54\" cy=\"941.02\" r=\"18\"/>\n",
       "<circle clip-path=\"url(#clip2403)\" style=\"fill:#009af9; stroke:none; fill-opacity:1\" cx=\"1289.54\" cy=\"941.02\" r=\"14\"/>\n",
       "<circle clip-path=\"url(#clip2403)\" style=\"fill:#000000; stroke:none; fill-opacity:1\" cx=\"1293.82\" cy=\"743.863\" r=\"18\"/>\n",
       "<circle clip-path=\"url(#clip2403)\" style=\"fill:#009af9; stroke:none; fill-opacity:1\" cx=\"1293.82\" cy=\"743.863\" r=\"14\"/>\n",
       "<circle clip-path=\"url(#clip2403)\" style=\"fill:#000000; stroke:none; fill-opacity:1\" cx=\"1301.35\" cy=\"941.02\" r=\"18\"/>\n",
       "<circle clip-path=\"url(#clip2403)\" style=\"fill:#009af9; stroke:none; fill-opacity:1\" cx=\"1301.35\" cy=\"941.02\" r=\"14\"/>\n",
       "<circle clip-path=\"url(#clip2403)\" style=\"fill:#000000; stroke:none; fill-opacity:1\" cx=\"1302.98\" cy=\"1006.74\" r=\"18\"/>\n",
       "<circle clip-path=\"url(#clip2403)\" style=\"fill:#009af9; stroke:none; fill-opacity:1\" cx=\"1302.98\" cy=\"1006.74\" r=\"14\"/>\n",
       "<circle clip-path=\"url(#clip2403)\" style=\"fill:#000000; stroke:none; fill-opacity:1\" cx=\"1303.72\" cy=\"1006.74\" r=\"18\"/>\n",
       "<circle clip-path=\"url(#clip2403)\" style=\"fill:#009af9; stroke:none; fill-opacity:1\" cx=\"1303.72\" cy=\"1006.74\" r=\"14\"/>\n",
       "<circle clip-path=\"url(#clip2403)\" style=\"fill:#000000; stroke:none; fill-opacity:1\" cx=\"1358.21\" cy=\"1006.74\" r=\"18\"/>\n",
       "<circle clip-path=\"url(#clip2403)\" style=\"fill:#009af9; stroke:none; fill-opacity:1\" cx=\"1358.21\" cy=\"1006.74\" r=\"14\"/>\n",
       "<circle clip-path=\"url(#clip2403)\" style=\"fill:#000000; stroke:none; fill-opacity:1\" cx=\"1369.28\" cy=\"1006.74\" r=\"18\"/>\n",
       "<circle clip-path=\"url(#clip2403)\" style=\"fill:#009af9; stroke:none; fill-opacity:1\" cx=\"1369.28\" cy=\"1006.74\" r=\"14\"/>\n",
       "<circle clip-path=\"url(#clip2403)\" style=\"fill:#000000; stroke:none; fill-opacity:1\" cx=\"1373.27\" cy=\"1006.74\" r=\"18\"/>\n",
       "<circle clip-path=\"url(#clip2403)\" style=\"fill:#009af9; stroke:none; fill-opacity:1\" cx=\"1373.27\" cy=\"1006.74\" r=\"14\"/>\n",
       "<circle clip-path=\"url(#clip2403)\" style=\"fill:#000000; stroke:none; fill-opacity:1\" cx=\"1383.76\" cy=\"1269.61\" r=\"18\"/>\n",
       "<circle clip-path=\"url(#clip2403)\" style=\"fill:#009af9; stroke:none; fill-opacity:1\" cx=\"1383.76\" cy=\"1269.61\" r=\"14\"/>\n",
       "<circle clip-path=\"url(#clip2403)\" style=\"fill:#000000; stroke:none; fill-opacity:1\" cx=\"1384.64\" cy=\"1138.18\" r=\"18\"/>\n",
       "<circle clip-path=\"url(#clip2403)\" style=\"fill:#009af9; stroke:none; fill-opacity:1\" cx=\"1384.64\" cy=\"1138.18\" r=\"14\"/>\n",
       "<circle clip-path=\"url(#clip2403)\" style=\"fill:#000000; stroke:none; fill-opacity:1\" cx=\"1387.15\" cy=\"1006.74\" r=\"18\"/>\n",
       "<circle clip-path=\"url(#clip2403)\" style=\"fill:#009af9; stroke:none; fill-opacity:1\" cx=\"1387.15\" cy=\"1006.74\" r=\"14\"/>\n",
       "<circle clip-path=\"url(#clip2403)\" style=\"fill:#000000; stroke:none; fill-opacity:1\" cx=\"1389.81\" cy=\"941.02\" r=\"18\"/>\n",
       "<circle clip-path=\"url(#clip2403)\" style=\"fill:#009af9; stroke:none; fill-opacity:1\" cx=\"1389.81\" cy=\"941.02\" r=\"14\"/>\n",
       "<circle clip-path=\"url(#clip2403)\" style=\"fill:#000000; stroke:none; fill-opacity:1\" cx=\"1390.11\" cy=\"941.02\" r=\"18\"/>\n",
       "<circle clip-path=\"url(#clip2403)\" style=\"fill:#009af9; stroke:none; fill-opacity:1\" cx=\"1390.11\" cy=\"941.02\" r=\"14\"/>\n",
       "<circle clip-path=\"url(#clip2403)\" style=\"fill:#000000; stroke:none; fill-opacity:1\" cx=\"1406.65\" cy=\"1203.89\" r=\"18\"/>\n",
       "<circle clip-path=\"url(#clip2403)\" style=\"fill:#009af9; stroke:none; fill-opacity:1\" cx=\"1406.65\" cy=\"1203.89\" r=\"14\"/>\n",
       "<circle clip-path=\"url(#clip2403)\" style=\"fill:#000000; stroke:none; fill-opacity:1\" cx=\"1409.45\" cy=\"1006.74\" r=\"18\"/>\n",
       "<circle clip-path=\"url(#clip2403)\" style=\"fill:#009af9; stroke:none; fill-opacity:1\" cx=\"1409.45\" cy=\"1006.74\" r=\"14\"/>\n",
       "<circle clip-path=\"url(#clip2403)\" style=\"fill:#000000; stroke:none; fill-opacity:1\" cx=\"1415.51\" cy=\"743.863\" r=\"18\"/>\n",
       "<circle clip-path=\"url(#clip2403)\" style=\"fill:#009af9; stroke:none; fill-opacity:1\" cx=\"1415.51\" cy=\"743.863\" r=\"14\"/>\n",
       "<circle clip-path=\"url(#clip2403)\" style=\"fill:#000000; stroke:none; fill-opacity:1\" cx=\"1433.52\" cy=\"1203.89\" r=\"18\"/>\n",
       "<circle clip-path=\"url(#clip2403)\" style=\"fill:#009af9; stroke:none; fill-opacity:1\" cx=\"1433.52\" cy=\"1203.89\" r=\"14\"/>\n",
       "<circle clip-path=\"url(#clip2403)\" style=\"fill:#000000; stroke:none; fill-opacity:1\" cx=\"1437.95\" cy=\"1072.46\" r=\"18\"/>\n",
       "<circle clip-path=\"url(#clip2403)\" style=\"fill:#009af9; stroke:none; fill-opacity:1\" cx=\"1437.95\" cy=\"1072.46\" r=\"14\"/>\n",
       "<circle clip-path=\"url(#clip2403)\" style=\"fill:#000000; stroke:none; fill-opacity:1\" cx=\"1452.28\" cy=\"1203.89\" r=\"18\"/>\n",
       "<circle clip-path=\"url(#clip2403)\" style=\"fill:#009af9; stroke:none; fill-opacity:1\" cx=\"1452.28\" cy=\"1203.89\" r=\"14\"/>\n",
       "<circle clip-path=\"url(#clip2403)\" style=\"fill:#000000; stroke:none; fill-opacity:1\" cx=\"1464.53\" cy=\"1269.61\" r=\"18\"/>\n",
       "<circle clip-path=\"url(#clip2403)\" style=\"fill:#009af9; stroke:none; fill-opacity:1\" cx=\"1464.53\" cy=\"1269.61\" r=\"14\"/>\n",
       "<circle clip-path=\"url(#clip2403)\" style=\"fill:#000000; stroke:none; fill-opacity:1\" cx=\"1470.59\" cy=\"1203.89\" r=\"18\"/>\n",
       "<circle clip-path=\"url(#clip2403)\" style=\"fill:#009af9; stroke:none; fill-opacity:1\" cx=\"1470.59\" cy=\"1203.89\" r=\"14\"/>\n",
       "<circle clip-path=\"url(#clip2403)\" style=\"fill:#000000; stroke:none; fill-opacity:1\" cx=\"1471.62\" cy=\"1138.18\" r=\"18\"/>\n",
       "<circle clip-path=\"url(#clip2403)\" style=\"fill:#009af9; stroke:none; fill-opacity:1\" cx=\"1471.62\" cy=\"1138.18\" r=\"14\"/>\n",
       "<circle clip-path=\"url(#clip2403)\" style=\"fill:#000000; stroke:none; fill-opacity:1\" cx=\"1508.39\" cy=\"1006.74\" r=\"18\"/>\n",
       "<circle clip-path=\"url(#clip2403)\" style=\"fill:#009af9; stroke:none; fill-opacity:1\" cx=\"1508.39\" cy=\"1006.74\" r=\"14\"/>\n",
       "<circle clip-path=\"url(#clip2403)\" style=\"fill:#000000; stroke:none; fill-opacity:1\" cx=\"1531.58\" cy=\"1203.89\" r=\"18\"/>\n",
       "<circle clip-path=\"url(#clip2403)\" style=\"fill:#009af9; stroke:none; fill-opacity:1\" cx=\"1531.58\" cy=\"1203.89\" r=\"14\"/>\n",
       "<circle clip-path=\"url(#clip2403)\" style=\"fill:#000000; stroke:none; fill-opacity:1\" cx=\"1537.93\" cy=\"1401.05\" r=\"18\"/>\n",
       "<circle clip-path=\"url(#clip2403)\" style=\"fill:#009af9; stroke:none; fill-opacity:1\" cx=\"1537.93\" cy=\"1401.05\" r=\"14\"/>\n",
       "<circle clip-path=\"url(#clip2403)\" style=\"fill:#000000; stroke:none; fill-opacity:1\" cx=\"1545.02\" cy=\"1203.89\" r=\"18\"/>\n",
       "<circle clip-path=\"url(#clip2403)\" style=\"fill:#009af9; stroke:none; fill-opacity:1\" cx=\"1545.02\" cy=\"1203.89\" r=\"14\"/>\n",
       "<circle clip-path=\"url(#clip2403)\" style=\"fill:#000000; stroke:none; fill-opacity:1\" cx=\"1550.63\" cy=\"1269.61\" r=\"18\"/>\n",
       "<circle clip-path=\"url(#clip2403)\" style=\"fill:#009af9; stroke:none; fill-opacity:1\" cx=\"1550.63\" cy=\"1269.61\" r=\"14\"/>\n",
       "<circle clip-path=\"url(#clip2403)\" style=\"fill:#000000; stroke:none; fill-opacity:1\" cx=\"1551.07\" cy=\"1138.18\" r=\"18\"/>\n",
       "<circle clip-path=\"url(#clip2403)\" style=\"fill:#009af9; stroke:none; fill-opacity:1\" cx=\"1551.07\" cy=\"1138.18\" r=\"14\"/>\n",
       "<circle clip-path=\"url(#clip2403)\" style=\"fill:#000000; stroke:none; fill-opacity:1\" cx=\"1560.97\" cy=\"1269.61\" r=\"18\"/>\n",
       "<circle clip-path=\"url(#clip2403)\" style=\"fill:#009af9; stroke:none; fill-opacity:1\" cx=\"1560.97\" cy=\"1269.61\" r=\"14\"/>\n",
       "<circle clip-path=\"url(#clip2403)\" style=\"fill:#000000; stroke:none; fill-opacity:1\" cx=\"1573.22\" cy=\"1269.61\" r=\"18\"/>\n",
       "<circle clip-path=\"url(#clip2403)\" style=\"fill:#009af9; stroke:none; fill-opacity:1\" cx=\"1573.22\" cy=\"1269.61\" r=\"14\"/>\n",
       "<circle clip-path=\"url(#clip2403)\" style=\"fill:#000000; stroke:none; fill-opacity:1\" cx=\"1586.37\" cy=\"1138.18\" r=\"18\"/>\n",
       "<circle clip-path=\"url(#clip2403)\" style=\"fill:#009af9; stroke:none; fill-opacity:1\" cx=\"1586.37\" cy=\"1138.18\" r=\"14\"/>\n",
       "<circle clip-path=\"url(#clip2403)\" style=\"fill:#000000; stroke:none; fill-opacity:1\" cx=\"1587.84\" cy=\"1269.61\" r=\"18\"/>\n",
       "<circle clip-path=\"url(#clip2403)\" style=\"fill:#009af9; stroke:none; fill-opacity:1\" cx=\"1587.84\" cy=\"1269.61\" r=\"14\"/>\n",
       "<circle clip-path=\"url(#clip2403)\" style=\"fill:#000000; stroke:none; fill-opacity:1\" cx=\"1610.88\" cy=\"1269.61\" r=\"18\"/>\n",
       "<circle clip-path=\"url(#clip2403)\" style=\"fill:#009af9; stroke:none; fill-opacity:1\" cx=\"1610.88\" cy=\"1269.61\" r=\"14\"/>\n",
       "<circle clip-path=\"url(#clip2403)\" style=\"fill:#000000; stroke:none; fill-opacity:1\" cx=\"1648.54\" cy=\"1335.33\" r=\"18\"/>\n",
       "<circle clip-path=\"url(#clip2403)\" style=\"fill:#009af9; stroke:none; fill-opacity:1\" cx=\"1648.54\" cy=\"1335.33\" r=\"14\"/>\n",
       "<circle clip-path=\"url(#clip2403)\" style=\"fill:#000000; stroke:none; fill-opacity:1\" cx=\"1654.44\" cy=\"1401.05\" r=\"18\"/>\n",
       "<circle clip-path=\"url(#clip2403)\" style=\"fill:#009af9; stroke:none; fill-opacity:1\" cx=\"1654.44\" cy=\"1401.05\" r=\"14\"/>\n",
       "<circle clip-path=\"url(#clip2403)\" style=\"fill:#000000; stroke:none; fill-opacity:1\" cx=\"1655.48\" cy=\"941.02\" r=\"18\"/>\n",
       "<circle clip-path=\"url(#clip2403)\" style=\"fill:#009af9; stroke:none; fill-opacity:1\" cx=\"1655.48\" cy=\"941.02\" r=\"14\"/>\n",
       "<circle clip-path=\"url(#clip2403)\" style=\"fill:#000000; stroke:none; fill-opacity:1\" cx=\"1661.24\" cy=\"1138.18\" r=\"18\"/>\n",
       "<circle clip-path=\"url(#clip2403)\" style=\"fill:#009af9; stroke:none; fill-opacity:1\" cx=\"1661.24\" cy=\"1138.18\" r=\"14\"/>\n",
       "<circle clip-path=\"url(#clip2403)\" style=\"fill:#000000; stroke:none; fill-opacity:1\" cx=\"1664.19\" cy=\"1269.61\" r=\"18\"/>\n",
       "<circle clip-path=\"url(#clip2403)\" style=\"fill:#009af9; stroke:none; fill-opacity:1\" cx=\"1664.19\" cy=\"1269.61\" r=\"14\"/>\n",
       "<circle clip-path=\"url(#clip2403)\" style=\"fill:#000000; stroke:none; fill-opacity:1\" cx=\"1682.95\" cy=\"1203.89\" r=\"18\"/>\n",
       "<circle clip-path=\"url(#clip2403)\" style=\"fill:#009af9; stroke:none; fill-opacity:1\" cx=\"1682.95\" cy=\"1203.89\" r=\"14\"/>\n",
       "<circle clip-path=\"url(#clip2403)\" style=\"fill:#000000; stroke:none; fill-opacity:1\" cx=\"1723.85\" cy=\"1203.89\" r=\"18\"/>\n",
       "<circle clip-path=\"url(#clip2403)\" style=\"fill:#009af9; stroke:none; fill-opacity:1\" cx=\"1723.85\" cy=\"1203.89\" r=\"14\"/>\n",
       "<circle clip-path=\"url(#clip2403)\" style=\"fill:#000000; stroke:none; fill-opacity:1\" cx=\"1742.31\" cy=\"1072.46\" r=\"18\"/>\n",
       "<circle clip-path=\"url(#clip2403)\" style=\"fill:#009af9; stroke:none; fill-opacity:1\" cx=\"1742.31\" cy=\"1072.46\" r=\"14\"/>\n",
       "<circle clip-path=\"url(#clip2403)\" style=\"fill:#000000; stroke:none; fill-opacity:1\" cx=\"1751.17\" cy=\"1269.61\" r=\"18\"/>\n",
       "<circle clip-path=\"url(#clip2403)\" style=\"fill:#009af9; stroke:none; fill-opacity:1\" cx=\"1751.17\" cy=\"1269.61\" r=\"14\"/>\n",
       "<circle clip-path=\"url(#clip2403)\" style=\"fill:#000000; stroke:none; fill-opacity:1\" cx=\"1764.61\" cy=\"1335.33\" r=\"18\"/>\n",
       "<circle clip-path=\"url(#clip2403)\" style=\"fill:#009af9; stroke:none; fill-opacity:1\" cx=\"1764.61\" cy=\"1335.33\" r=\"14\"/>\n",
       "<circle clip-path=\"url(#clip2403)\" style=\"fill:#000000; stroke:none; fill-opacity:1\" cx=\"1773.91\" cy=\"1269.61\" r=\"18\"/>\n",
       "<circle clip-path=\"url(#clip2403)\" style=\"fill:#009af9; stroke:none; fill-opacity:1\" cx=\"1773.91\" cy=\"1269.61\" r=\"14\"/>\n",
       "<circle clip-path=\"url(#clip2403)\" style=\"fill:#000000; stroke:none; fill-opacity:1\" cx=\"1774.21\" cy=\"1269.61\" r=\"18\"/>\n",
       "<circle clip-path=\"url(#clip2403)\" style=\"fill:#009af9; stroke:none; fill-opacity:1\" cx=\"1774.21\" cy=\"1269.61\" r=\"14\"/>\n",
       "<circle clip-path=\"url(#clip2403)\" style=\"fill:#000000; stroke:none; fill-opacity:1\" cx=\"1778.2\" cy=\"1006.74\" r=\"18\"/>\n",
       "<circle clip-path=\"url(#clip2403)\" style=\"fill:#009af9; stroke:none; fill-opacity:1\" cx=\"1778.2\" cy=\"1006.74\" r=\"14\"/>\n",
       "<circle clip-path=\"url(#clip2403)\" style=\"fill:#000000; stroke:none; fill-opacity:1\" cx=\"1782.63\" cy=\"1401.05\" r=\"18\"/>\n",
       "<circle clip-path=\"url(#clip2403)\" style=\"fill:#009af9; stroke:none; fill-opacity:1\" cx=\"1782.63\" cy=\"1401.05\" r=\"14\"/>\n",
       "<circle clip-path=\"url(#clip2403)\" style=\"fill:#000000; stroke:none; fill-opacity:1\" cx=\"1790.01\" cy=\"1269.61\" r=\"18\"/>\n",
       "<circle clip-path=\"url(#clip2403)\" style=\"fill:#009af9; stroke:none; fill-opacity:1\" cx=\"1790.01\" cy=\"1269.61\" r=\"14\"/>\n",
       "<circle clip-path=\"url(#clip2403)\" style=\"fill:#000000; stroke:none; fill-opacity:1\" cx=\"1866.36\" cy=\"1269.61\" r=\"18\"/>\n",
       "<circle clip-path=\"url(#clip2403)\" style=\"fill:#009af9; stroke:none; fill-opacity:1\" cx=\"1866.36\" cy=\"1269.61\" r=\"14\"/>\n",
       "<circle clip-path=\"url(#clip2403)\" style=\"fill:#000000; stroke:none; fill-opacity:1\" cx=\"1935.47\" cy=\"1335.33\" r=\"18\"/>\n",
       "<circle clip-path=\"url(#clip2403)\" style=\"fill:#009af9; stroke:none; fill-opacity:1\" cx=\"1935.47\" cy=\"1335.33\" r=\"14\"/>\n",
       "<circle clip-path=\"url(#clip2403)\" style=\"fill:#000000; stroke:none; fill-opacity:1\" cx=\"1950.24\" cy=\"1401.05\" r=\"18\"/>\n",
       "<circle clip-path=\"url(#clip2403)\" style=\"fill:#009af9; stroke:none; fill-opacity:1\" cx=\"1950.24\" cy=\"1401.05\" r=\"14\"/>\n",
       "<circle clip-path=\"url(#clip2403)\" style=\"fill:#000000; stroke:none; fill-opacity:1\" cx=\"2002.81\" cy=\"1401.05\" r=\"18\"/>\n",
       "<circle clip-path=\"url(#clip2403)\" style=\"fill:#009af9; stroke:none; fill-opacity:1\" cx=\"2002.81\" cy=\"1401.05\" r=\"14\"/>\n",
       "<circle clip-path=\"url(#clip2403)\" style=\"fill:#000000; stroke:none; fill-opacity:1\" cx=\"2042.39\" cy=\"1335.33\" r=\"18\"/>\n",
       "<circle clip-path=\"url(#clip2403)\" style=\"fill:#009af9; stroke:none; fill-opacity:1\" cx=\"2042.39\" cy=\"1335.33\" r=\"14\"/>\n",
       "<circle clip-path=\"url(#clip2403)\" style=\"fill:#000000; stroke:none; fill-opacity:1\" cx=\"2072.51\" cy=\"1401.05\" r=\"18\"/>\n",
       "<circle clip-path=\"url(#clip2403)\" style=\"fill:#009af9; stroke:none; fill-opacity:1\" cx=\"2072.51\" cy=\"1401.05\" r=\"14\"/>\n",
       "<circle clip-path=\"url(#clip2403)\" style=\"fill:#000000; stroke:none; fill-opacity:1\" cx=\"2160.08\" cy=\"1401.05\" r=\"18\"/>\n",
       "<circle clip-path=\"url(#clip2403)\" style=\"fill:#009af9; stroke:none; fill-opacity:1\" cx=\"2160.08\" cy=\"1401.05\" r=\"14\"/>\n",
       "<circle clip-path=\"url(#clip2403)\" style=\"fill:#000000; stroke:none; fill-opacity:1\" cx=\"2185.19\" cy=\"1401.05\" r=\"18\"/>\n",
       "<circle clip-path=\"url(#clip2403)\" style=\"fill:#009af9; stroke:none; fill-opacity:1\" cx=\"2185.19\" cy=\"1401.05\" r=\"14\"/>\n",
       "<circle clip-path=\"url(#clip2403)\" style=\"fill:#000000; stroke:none; fill-opacity:1\" cx=\"2261.54\" cy=\"1401.05\" r=\"18\"/>\n",
       "<circle clip-path=\"url(#clip2403)\" style=\"fill:#009af9; stroke:none; fill-opacity:1\" cx=\"2261.54\" cy=\"1401.05\" r=\"14\"/>\n",
       "<polyline clip-path=\"url(#clip2403)\" style=\"stroke:#e26f46; stroke-width:4; stroke-opacity:1; fill:none\" points=\"\n",
       "  626.035,533.515 699.873,543.748 773.71,566.835 847.548,601.178 921.385,645.18 995.223,697.245 1069.06,755.776 1142.9,819.174 1216.74,885.843 1290.57,954.186 \n",
       "  1364.41,1022.61 1438.25,1089.51 1512.09,1153.29 1585.92,1212.35 1659.76,1265.11 1733.6,1309.96 1807.44,1345.3 1881.27,1369.53 1955.11,1381.07 2028.95,1378.31 \n",
       "  2102.79,1359.66 \n",
       "  \"/>\n",
       "<polygon clip-path=\"url(#clip2401)\" points=\"\n",
       "1931.67,312.204 2249.26,312.204 2249.26,130.764 1931.67,130.764 \n",
       "  \" fill=\"#ffffff\" fill-rule=\"evenodd\" fill-opacity=\"1\"/>\n",
       "<polyline clip-path=\"url(#clip2401)\" style=\"stroke:#000000; stroke-width:4; stroke-opacity:1; fill:none\" points=\"\n",
       "  1931.67,312.204 2249.26,312.204 2249.26,130.764 1931.67,130.764 1931.67,312.204 \n",
       "  \"/>\n",
       "<circle clip-path=\"url(#clip2401)\" style=\"fill:#000000; stroke:none; fill-opacity:1\" cx=\"2039.67\" cy=\"191.244\" r=\"25\"/>\n",
       "<circle clip-path=\"url(#clip2401)\" style=\"fill:#009af9; stroke:none; fill-opacity:1\" cx=\"2039.67\" cy=\"191.244\" r=\"21\"/>\n",
       "<g clip-path=\"url(#clip2401)\">\n",
       "<text style=\"fill:#000000; fill-opacity:1; font-family:Arial,Helvetica Neue,Helvetica,sans-serif; font-size:48px; text-anchor:start;\" transform=\"rotate(0, 2123.67, 208.744)\" x=\"2123.67\" y=\"208.744\">obs</text>\n",
       "</g>\n",
       "<polyline clip-path=\"url(#clip2401)\" style=\"stroke:#e26f46; stroke-width:4; stroke-opacity:1; fill:none\" points=\"\n",
       "  1955.67,251.724 2099.67,251.724 \n",
       "  \"/>\n",
       "<g clip-path=\"url(#clip2401)\">\n",
       "<text style=\"fill:#000000; fill-opacity:1; font-family:Arial,Helvetica Neue,Helvetica,sans-serif; font-size:48px; text-anchor:start;\" transform=\"rotate(0, 2123.67, 269.224)\" x=\"2123.67\" y=\"269.224\">fit</text>\n",
       "</g>\n",
       "</svg>\n"
      ]
     },
     "execution_count": 40,
     "metadata": {},
     "output_type": "execute_result"
    }
   ],
   "source": [
    "p = scatter(first.(table), last.(table), label=\"obs\")\n",
    "plot!(first.(xŷ), last.(xŷ), label=\"fit\")\n",
    "xlabel!(p, \"Probability of Recovery\")\n",
    "ylabel!(p, \"Deaths\")\n",
    "println(\"β: \", P.results[end][2].β, \"\\n\", string(poly(P.steps[2])))\n",
    "p"
   ]
  },
  {
   "cell_type": "markdown",
   "metadata": {
    "slideshow": {
     "slide_type": "slide"
    }
   },
   "source": [
    "## Conclusions\n",
    "\n",
    "This example shows that the SemanticModels approach to post-hoc modeling frameworks can enable metamodeling which is the combinations of model composed using different technologies into a coherent modeling workflow. Our ModelTools provides the basic building blocks for representing models and transformations in such a way that they transformations can be composed and models can be combined. Composition of transformations respects the combination of models. In this case the Product of transformation respects the Pipeline of models. Such that you can transform the models and then pipeline them, or pipeline them and then transform them.\n",
    "\n",
    "This example combined an agent based model of SIR diseases with a statistical model of polynomial regression to quantify the response of the agent based model with respect to one of its parameters. The input models have to be composed carefully in order to make the software work.\n",
    "\n",
    "As taught by the scientific computing education group [Software Carpentry](https://swcarpentry.github.io/), the best practice for composing scientific models is to have each component write files to disk and then use a workflow tool such as [Make](https://swcarpentry.github.io/make-novice/) to orchestrate the execution of the modeling scripts.\n",
    "\n",
    "An alternative approach is to design modeling frameworks for representing the models. The problem with this avenue becomes apparent when models are composed. The frameworks must be interoperable in order to make combined models. ModelTools avoids this problem by representing the models as code and manipulating the codes. The interoperation of two models is defined by user supplied functions in a fully featured programming language. \n",
    "\n",
    "SemanticModels.jl also provides transformations on these models that are grounded in category theory and abstract algebra. The concepts of category theory such as Functors and Product Categories allow us to build a general framework fit for any modeling task. In the language of category theory, the Pipelining functor on models commutes with the Product functor on transformations.\n",
    "\n",
    "This examples shows that metamodeling is feasible with SemanticModels and that the algebras of model transformations can be preserved when acting on metamodel workflows."
   ]
  }
 ],
 "metadata": {
  "jupytext": {
   "cell_metadata_filter": "-all",
   "encoding": "# -*- coding: utf-8 -*-",
   "main_language": "julia",
   "notebook_metadata_filter": "-all",
   "text_representation": {
    "extension": ".jl",
    "format_name": "light"
   }
  },
  "kernelspec": {
   "display_name": "Julia 1.0.3",
   "language": "julia",
   "name": "julia-1.0"
  },
  "language_info": {
   "file_extension": ".jl",
   "mimetype": "application/julia",
   "name": "julia",
   "version": "1.0.3"
  }
 },
 "nbformat": 4,
 "nbformat_minor": 2
}
